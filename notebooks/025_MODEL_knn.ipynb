{
 "cells": [
  {
   "cell_type": "markdown",
   "metadata": {},
   "source": [
    "# Notebook 025: KNN Models using final predictor set\n",
    "\n",
    "This notebook contains a KNN crime-type classifier model using an initial set of property-related predictors.\n",
    "\n",
    "The response variable is:\n",
    "\n",
    "       'crime-type'\n",
    "\n",
    "Features used in this initial baseline model include:\n",
    "\n",
    "       'commercial-mix-ratio', 'industrial-mix-ratio', 'owner-occupied-ratio',\n",
    "       'residential-median-value', 'residential-gini-coef',\n",
    "       'industrial-mix-ratio-3yr-cagr', 'commercial-mix-ratio-3yr-cagr',\n",
    "       'owner-occupied-ratio-3yr-cagr', 'residential-median-value-3yr-cagr',\n",
    "       'residential-gini-coef-3yr-cagr', 'Tuesday', 'Wednesday', 'Thursday',\n",
    "       'Friday', 'Saturday', 'Sunday', 'Feb', 'Mar', 'Apr', 'May', 'Jun',\n",
    "       'Jul', 'Aug', 'Sep', 'Oct', 'Nov', 'Dec', 'night'\n",
    "\n",
    "The baseline models tested are Multi-class KNN Models with and without regularization."
   ]
  },
  {
   "cell_type": "code",
   "execution_count": 49,
   "metadata": {},
   "outputs": [],
   "source": [
    "import urllib\n",
    "import os\n",
    "import operator\n",
    "import pathlib\n",
    "import requests\n",
    "import pandas as pd\n",
    "import numpy as np\n",
    "import geopandas as gpd\n",
    "import seaborn as sns\n",
    "from shapely.geometry import Point\n",
    "\n",
    "import statsmodels.api as sm\n",
    "\n",
    "from sklearn.linear_model import LogisticRegression\n",
    "from sklearn.linear_model import LogisticRegressionCV\n",
    "from sklearn.linear_model import LassoCV\n",
    "\n",
    "from sklearn.preprocessing import StandardScaler\n",
    "from sklearn.preprocessing import MinMaxScaler\n",
    "from sklearn.preprocessing import LabelBinarizer\n",
    "\n",
    "from sklearn.metrics import accuracy_score\n",
    "from sklearn.metrics import roc_auc_score\n",
    "from sklearn.metrics import confusion_matrix\n",
    "from sklearn.metrics import r2_score\n",
    "\n",
    "from sklearn.model_selection import KFold\n",
    "from sklearn.model_selection import train_test_split\n",
    "from sklearn.model_selection import cross_val_score\n",
    "\n",
    "from sklearn.neighbors import KNeighborsRegressor\n",
    "from sklearn.neighbors import KNeighborsClassifier\n",
    "\n",
    "import matplotlib\n",
    "import matplotlib.pyplot as plt\n",
    "%matplotlib inline"
   ]
  },
  {
   "cell_type": "code",
   "execution_count": 2,
   "metadata": {},
   "outputs": [
    {
     "name": "stdout",
     "output_type": "stream",
     "text": [
      "readfile paths for datasets used in this notebook are:\n",
      "\t../data/processed\\X_train.csv\n",
      "\t../data/raw\\shapefile/census-tracts/Census_2010_Tracts.shp\n",
      "\t../figures/model-logistic\n",
      "\t../models/logistic\n",
      "\n"
     ]
    }
   ],
   "source": [
    "DATA_ROOT = '../data/'\n",
    "FIGURES_ROOT = '../figures/model-logistic'\n",
    "WRITEDIR_ROOT = '../models/logistic'\n",
    "\n",
    "READDIR_ROOT = os.path.join(DATA_ROOT, 'processed')\n",
    "SHAPEDIR_ROOT = os.path.join(DATA_ROOT, 'raw')\n",
    "\n",
    "readfile_model_X = os.path.join(READDIR_ROOT, 'X_train.csv')\n",
    "readfile_model_X_scaled = os.path.join(READDIR_ROOT, 'X_train_scaled.csv')\n",
    "readfile_model_y = os.path.join(READDIR_ROOT, 'y_train.csv')\n",
    "readfile_model_X_test = os.path.join(READDIR_ROOT, 'X_test.csv')\n",
    "readfile_model_X_test_scaled = os.path.join(READDIR_ROOT, 'X_test_scaled.csv')\n",
    "readfile_model_y_test = os.path.join(READDIR_ROOT, 'y_test.csv')\n",
    "readfile_model_X_scaler = os.path.join(READDIR_ROOT, 'X_scaler.csv')\n",
    "\n",
    "readfile_zipshapes = os.path.join(SHAPEDIR_ROOT, 'shapefile/zipcodes/ZIP_Codes.shp')\n",
    "readfile_cityshape = os.path.join(SHAPEDIR_ROOT, 'shapefile/city-boundary/City_of_Boston_Boundary.shp')\n",
    "readfile_streetshapes = os.path.join(SHAPEDIR_ROOT, 'shapefile/street-segments/Boston_Street_Segments.shp')\n",
    "readfile_tractshapes = os.path.join(SHAPEDIR_ROOT, 'shapefile/census-tracts/Census_2010_Tracts.shp')\n",
    "readfile_hoodshapes = os.path.join(SHAPEDIR_ROOT, 'shapefile/boston-neighborhoods/Boston_Neighborhoods.shp')\n",
    "readfile_zonesubshapes = os.path.join(SHAPEDIR_ROOT, 'shapefile/zoning-subdistricts/Zoning_Subdistricts.shp')\n",
    "readfile_openshapes = os.path.join(SHAPEDIR_ROOT, 'shapefile/open-spaces/Open_Space.shp')\n",
    "\n",
    "print(\n",
    "    'readfile paths for datasets used in this notebook are:\\n\\t{}\\n\\t{}\\n\\t{}\\n\\t{}\\n'.format(\n",
    "        readfile_model_X, readfile_tractshapes, FIGURES_ROOT, WRITEDIR_ROOT\n",
    "    )\n",
    ")"
   ]
  },
  {
   "cell_type": "code",
   "execution_count": 3,
   "metadata": {},
   "outputs": [],
   "source": [
    "# mkdir for saving figures if it doesn't already exist\n",
    "if not os.path.exists(FIGURES_ROOT):\n",
    "    os.mkdir(FIGURES_ROOT)\n",
    "    \n",
    "# mkdir for saving output data if it doesn't already exist\n",
    "if not os.path.exists(WRITEDIR_ROOT):\n",
    "    os.mkdir(WRITEDIR_ROOT)"
   ]
  },
  {
   "cell_type": "markdown",
   "metadata": {},
   "source": [
    "## Read labeled training and TEST data and subset predictors and response variable"
   ]
  },
  {
   "cell_type": "code",
   "execution_count": 4,
   "metadata": {},
   "outputs": [],
   "source": [
    "# read in labeled model data\n",
    "X_train_labels = pd.read_csv(readfile_model_X)\n",
    "X_train_scaled_labels = pd.read_csv(readfile_model_X_scaled)\n",
    "y_train_labels = pd.read_csv(readfile_model_y)\n",
    "\n",
    "X_test_labels = pd.read_csv(readfile_model_X_test)\n",
    "X_test_scaled_labels = pd.read_csv(readfile_model_X_test_scaled)\n",
    "y_test_labels = pd.read_csv(readfile_model_y_test)\n",
    "\n",
    "# read in scaled data scaling parameters to restore scaled values if needed\n",
    "X_scaler = pd.read_csv(readfile_model_X_scaler)"
   ]
  },
  {
   "cell_type": "code",
   "execution_count": 5,
   "metadata": {},
   "outputs": [],
   "source": [
    "# subset X and Y data to include only the columns used for model training\n",
    "predictor_columns = list(X_train_labels.iloc[:,17:].columns)\n",
    "response_column = ['crime-type']\n",
    "\n",
    "X_train = X_train_labels[predictor_columns].copy()\n",
    "X_train_scaled = X_train_scaled_labels[predictor_columns].copy()\n",
    "y_train = y_train_labels[response_column].values.ravel()\n",
    "\n",
    "X_test = X_test_labels[predictor_columns].copy()\n",
    "X_test_scaled = X_test_scaled_labels[predictor_columns].copy()\n",
    "y_test = y_test_labels[response_column].values.ravel()"
   ]
  },
  {
   "cell_type": "code",
   "execution_count": 6,
   "metadata": {
    "scrolled": false
   },
   "outputs": [
    {
     "name": "stdout",
     "output_type": "stream",
     "text": [
      "Y TRAIN DATA WITH ADDITIONAL LABELS\n",
      "\n",
      "<class 'pandas.core.frame.DataFrame'>\n",
      "RangeIndex: 128352 entries, 0 to 128351\n",
      "Data columns (total 4 columns):\n",
      "crime-type             128352 non-null int64\n",
      "crime-type-cat         128352 non-null object\n",
      "OFFENSE_DESCRIPTION    128352 non-null object\n",
      "INCIDENT_NUMBER        128352 non-null object\n",
      "dtypes: int64(1), object(3)\n",
      "memory usage: 3.9+ MB\n",
      "\n",
      "\n",
      "X TRAIN DATA WITH ADDITIONAL LABELS\n",
      "\n",
      "<class 'pandas.core.frame.DataFrame'>\n",
      "RangeIndex: 128352 entries, 0 to 128351\n",
      "Data columns (total 60 columns):\n",
      "date                                 128352 non-null object\n",
      "year                                 128352 non-null int64\n",
      "month                                128352 non-null int64\n",
      "hour                                 128352 non-null int64\n",
      "time                                 128352 non-null int64\n",
      "ZIP5                                 128352 non-null int64\n",
      "ZIP5_area                            128352 non-null float64\n",
      "Name                                 128352 non-null object\n",
      "Neighborhood_area                    128352 non-null float64\n",
      "Neighborhood_area_2                  128352 non-null float64\n",
      "TRACTCE10                            128352 non-null int64\n",
      "TRACTCE10_area                       128352 non-null float64\n",
      "TRACTCE10_area_2                     128352 non-null float64\n",
      "weathercodes                         62450 non-null object\n",
      "college-distance                     128352 non-null float64\n",
      "highschool-distance                  128352 non-null float64\n",
      "streetlights                         128352 non-null int64\n",
      "streetlights-night                   128352 non-null int64\n",
      "lat                                  128352 non-null float64\n",
      "lon                                  128352 non-null float64\n",
      "night                                128352 non-null int64\n",
      "tempavg                              128352 non-null float64\n",
      "windavg                              128352 non-null float64\n",
      "precip                               128352 non-null float64\n",
      "snowfall                             128352 non-null float64\n",
      "Tuesday                              128352 non-null int64\n",
      "Wednesday                            128352 non-null int64\n",
      "Thursday                             128352 non-null int64\n",
      "Friday                               128352 non-null int64\n",
      "Saturday                             128352 non-null int64\n",
      "Sunday                               128352 non-null int64\n",
      "Feb                                  128352 non-null int64\n",
      "Mar                                  128352 non-null int64\n",
      "Apr                                  128352 non-null int64\n",
      "May                                  128352 non-null int64\n",
      "Jun                                  128352 non-null int64\n",
      "Jul                                  128352 non-null int64\n",
      "Aug                                  128352 non-null int64\n",
      "Sep                                  128352 non-null int64\n",
      "Oct                                  128352 non-null int64\n",
      "Nov                                  128352 non-null int64\n",
      "Dec                                  128352 non-null int64\n",
      "college-near                         128352 non-null int64\n",
      "highschool-near                      128352 non-null int64\n",
      "median-age                           128352 non-null float64\n",
      "median-income                        128352 non-null float64\n",
      "poverty-rate                         128352 non-null float64\n",
      "less-than-high-school-perc           128352 non-null float64\n",
      "bachelor-degree-or-more-perc         128352 non-null float64\n",
      "enrolled-college-perc                128352 non-null float64\n",
      "commercial-mix-ratio                 128352 non-null float64\n",
      "industrial-mix-ratio                 128352 non-null float64\n",
      "owner-occupied-ratio                 128352 non-null float64\n",
      "residential-median-value             128352 non-null float64\n",
      "residential-gini-coef                128352 non-null float64\n",
      "commercial-mix-ratio-3yr-cagr        128352 non-null float64\n",
      "industrial-mix-ratio-3yr-cagr        128352 non-null float64\n",
      "owner-occupied-ratio-3yr-cagr        128352 non-null float64\n",
      "residential-gini-coef-3yr-cagr       128352 non-null float64\n",
      "residential-median-value-3yr-cagr    128352 non-null float64\n",
      "dtypes: float64(29), int64(28), object(3)\n",
      "memory usage: 58.8+ MB\n",
      "\n",
      "\n",
      "X TRAIN PREDICTORS (WITH LABEL COLUMNS EXCLUDED)\n",
      "\n",
      "['streetlights-night', 'lat', 'lon', 'night', 'tempavg', 'windavg', 'precip', 'snowfall', 'Tuesday', 'Wednesday', 'Thursday', 'Friday', 'Saturday', 'Sunday', 'Feb', 'Mar', 'Apr', 'May', 'Jun', 'Jul', 'Aug', 'Sep', 'Oct', 'Nov', 'Dec', 'college-near', 'highschool-near', 'median-age', 'median-income', 'poverty-rate', 'less-than-high-school-perc', 'bachelor-degree-or-more-perc', 'enrolled-college-perc', 'commercial-mix-ratio', 'industrial-mix-ratio', 'owner-occupied-ratio', 'residential-median-value', 'residential-gini-coef', 'commercial-mix-ratio-3yr-cagr', 'industrial-mix-ratio-3yr-cagr', 'owner-occupied-ratio-3yr-cagr', 'residential-gini-coef-3yr-cagr', 'residential-median-value-3yr-cagr']\n",
      "\n",
      "\n",
      "THE SHAPE OF THE X AND Y TRAIN FRAMES WITH PREDICTORS ONLY\n",
      "\n",
      "(128352, 43)\n",
      "(128352, 43)\n",
      "(128352,)\n",
      "\n",
      "\n",
      "X SCALER DATA INFO\n",
      "\n",
      "<class 'pandas.core.frame.DataFrame'>\n",
      "RangeIndex: 26 entries, 0 to 25\n",
      "Data columns (total 3 columns):\n",
      "scaled-feature    26 non-null object\n",
      "std               26 non-null float64\n",
      "mean              26 non-null float64\n",
      "dtypes: float64(2), object(1)\n",
      "memory usage: 752.0+ bytes\n",
      "\n",
      "\n",
      "THE X SCALER DATA CONTAINS MEANS AND STDS FOR THE FOLLOWING STANDARDIZED (i.e. SCALED) PREDICTORS\n",
      "\n",
      "['bachelor-degree-or-more-perc' 'college-distance' 'commercial-mix-ratio'\n",
      " 'commercial-mix-ratio-3yr-cagr' 'enrolled-college-perc'\n",
      " 'highschool-distance' 'industrial-mix-ratio'\n",
      " 'industrial-mix-ratio-3yr-cagr' 'lat' 'less-than-high-school-perc' 'lon'\n",
      " 'median-age' 'median-income' 'owner-occupied-ratio'\n",
      " 'owner-occupied-ratio-3yr-cagr' 'poverty-rate' 'precip'\n",
      " 'residential-gini-coef' 'residential-gini-coef-3yr-cagr'\n",
      " 'residential-median-value' 'residential-median-value-3yr-cagr' 'snowfall'\n",
      " 'streetlights' 'tempavg' 'windavg' 'streetlights-night']\n"
     ]
    }
   ],
   "source": [
    "# summarize dataframe info\n",
    "print('Y TRAIN DATA WITH ADDITIONAL LABELS\\n')\n",
    "y_train_labels.info()\n",
    "print('\\n\\nX TRAIN DATA WITH ADDITIONAL LABELS\\n')\n",
    "X_train_labels.info()\n",
    "print('\\n\\nX TRAIN PREDICTORS (WITH LABEL COLUMNS EXCLUDED)\\n')\n",
    "print(predictor_columns)\n",
    "print('\\n\\nTHE SHAPE OF THE X AND Y TRAIN FRAMES WITH PREDICTORS ONLY\\n')\n",
    "print(X_train.shape)\n",
    "print(X_train_scaled.shape)\n",
    "print(y_train.shape)\n",
    "print('\\n\\nX SCALER DATA INFO\\n')\n",
    "X_scaler.info()\n",
    "print(\n",
    "    '\\n\\nTHE X SCALER DATA CONTAINS MEANS AND STDS FOR THE FOLLOWING STANDARDIZED '\\\n",
    "    '(i.e. SCALED) PREDICTORS\\n\\n{}'.format(X_scaler['scaled-feature'].values)\n",
    ")"
   ]
  },
  {
   "cell_type": "code",
   "execution_count": 7,
   "metadata": {},
   "outputs": [
    {
     "name": "stdout",
     "output_type": "stream",
     "text": [
      "Binary predictors in the X training data are:\n",
      "\n",
      "['night', 'Tuesday', 'Wednesday', 'Thursday', 'Friday', 'Saturday', 'Sunday', 'Feb', 'Mar', 'Apr', 'May', 'Jun', 'Jul', 'Aug', 'Sep', 'Oct', 'Nov', 'Dec', 'college-near', 'highschool-near']\n",
      "\n",
      "\n",
      "Non-binary predictors are:\n",
      "\n",
      "['streetlights-night', 'lat', 'lon', 'tempavg', 'windavg', 'precip', 'snowfall', 'median-age', 'median-income', 'poverty-rate', 'less-than-high-school-perc', 'bachelor-degree-or-more-perc', 'enrolled-college-perc', 'commercial-mix-ratio', 'industrial-mix-ratio', 'owner-occupied-ratio', 'residential-median-value', 'residential-gini-coef', 'commercial-mix-ratio-3yr-cagr', 'industrial-mix-ratio-3yr-cagr', 'owner-occupied-ratio-3yr-cagr', 'residential-gini-coef-3yr-cagr', 'residential-median-value-3yr-cagr']\n",
      "\n",
      "\n",
      "Of the non-binary, the following are discrete:\n",
      "\n",
      "['streetlights-night', 'median-age']\n",
      "\n",
      "\n",
      "And these remaining are continuous:\n",
      "\n",
      "['lat', 'lon', 'tempavg', 'windavg', 'precip', 'snowfall', 'median-income', 'poverty-rate', 'less-than-high-school-perc', 'bachelor-degree-or-more-perc', 'enrolled-college-perc', 'commercial-mix-ratio', 'industrial-mix-ratio', 'owner-occupied-ratio', 'residential-median-value', 'residential-gini-coef', 'commercial-mix-ratio-3yr-cagr', 'industrial-mix-ratio-3yr-cagr', 'owner-occupied-ratio-3yr-cagr', 'residential-gini-coef-3yr-cagr', 'residential-median-value-3yr-cagr']\n",
      "\n"
     ]
    }
   ],
   "source": [
    "# create lists of predictors based on numeric type for easier treatment of specific types\n",
    "predictors_binary = [\n",
    "    'night', 'Tuesday', 'Wednesday', 'Thursday', 'Friday', 'Saturday', 'Sunday',\n",
    "    'Feb', 'Mar', 'Apr', 'May', 'Jun', 'Jul', 'Aug', 'Sep', 'Oct', 'Nov', 'Dec', \n",
    "    'college-near', 'highschool-near'\n",
    "]\n",
    "predictors_nonbinary = [col for col in X_train.columns if col not in predictors_binary]\n",
    "predictors_discrete = [\n",
    "    'streetlights-night',\n",
    "    'median-age',\n",
    "]\n",
    "predictors_continuous = [col for col in predictors_nonbinary if col not in predictors_discrete]\n",
    "\n",
    "print(\n",
    "    'Binary predictors in the X training data are:\\n\\n{}\\n\\n\\n'\\\n",
    "    'Non-binary predictors are:\\n\\n{}\\n\\n\\n'\\\n",
    "    'Of the non-binary, the following are discrete:\\n\\n{}\\n\\n\\n'\\\n",
    "    'And these remaining are continuous:\\n\\n{}\\n'.format(\n",
    "        predictors_binary,\n",
    "        predictors_nonbinary,\n",
    "        predictors_discrete,\n",
    "        predictors_continuous\n",
    "    )\n",
    ")"
   ]
  },
  {
   "cell_type": "markdown",
   "metadata": {},
   "source": [
    "## Create value count summary tables by crime-type for later reference"
   ]
  },
  {
   "cell_type": "code",
   "execution_count": 8,
   "metadata": {},
   "outputs": [],
   "source": [
    "agg_dict = {'INCIDENT_NUMBER': 'count'}\n",
    "\n",
    "crime_types_train = y_train_labels.groupby(\n",
    "    ['crime-type', 'crime-type-cat']\n",
    ").agg(agg_dict).rename(columns=agg_dict)\n",
    "\n",
    "crime_types_train['proportion'] = crime_types_train / crime_types_train.sum()\n",
    "\n",
    "crime_types_test = y_test_labels.groupby(\n",
    "    ['crime-type', 'crime-type-cat']\n",
    ").agg(agg_dict).rename(columns=agg_dict)\n",
    "\n",
    "crime_types_test['proportion'] = crime_types_test / crime_types_test.sum()"
   ]
  },
  {
   "cell_type": "code",
   "execution_count": 9,
   "metadata": {},
   "outputs": [
    {
     "name": "stdout",
     "output_type": "stream",
     "text": [
      "The number of observed crime type classes in both the training and test set are:\n",
      "\n",
      "TRAINING\n",
      "                                   count  proportion\n",
      "crime-type crime-type-cat                           \n",
      "0          other                    6321    0.049247\n",
      "1          burglary                 5664    0.044129\n",
      "2          drugs-substances        13082    0.101923\n",
      "3          fraud                    9587    0.074693\n",
      "4          harassment-disturbance  20767    0.161797\n",
      "5          robbery                  3423    0.026669\n",
      "6          theft                   34555    0.269221\n",
      "7          vandalism-property      13710    0.106816\n",
      "8          violence-aggression     21243    0.165506\n",
      "\n",
      "\n",
      "TEST\n",
      "                                   count  proportion\n",
      "crime-type crime-type-cat                           \n",
      "0          other                    1580    0.049240\n",
      "1          burglary                 1416    0.044129\n",
      "2          drugs-substances         3271    0.101938\n",
      "3          fraud                    2397    0.074701\n",
      "4          harassment-disturbance   5192    0.161805\n",
      "5          robbery                   856    0.026677\n",
      "6          theft                    8639    0.269228\n",
      "7          vandalism-property       3427    0.106800\n",
      "8          violence-aggression      5310    0.165482\n",
      "\n"
     ]
    }
   ],
   "source": [
    "print(\n",
    "    'The number of observed crime type classes in both the training and test set are:\\n\\n'\\\n",
    "    'TRAINING\\n{}\\n\\n\\nTEST\\n{}\\n'.format(\n",
    "        crime_types_train,\n",
    "        crime_types_test\n",
    "    )\n",
    ")"
   ]
  },
  {
   "cell_type": "markdown",
   "metadata": {},
   "source": [
    "### Copy original data and create a small random sample of the data to speed up model tuning"
   ]
  },
  {
   "cell_type": "code",
   "execution_count": 10,
   "metadata": {},
   "outputs": [],
   "source": [
    "# copy original data before sampling\n",
    "X_train_orig = X_train.copy()\n",
    "X_train_scaled_orig = X_train_scaled.copy()\n",
    "y_train_orig = y_train.copy()\n",
    "\n",
    "X_test_orig = X_test.copy()\n",
    "X_test_scaled_orig = X_test_scaled.copy()\n",
    "y_test_orig = y_test.copy()"
   ]
  },
  {
   "cell_type": "code",
   "execution_count": 11,
   "metadata": {},
   "outputs": [
    {
     "name": "stdout",
     "output_type": "stream",
     "text": [
      "\n",
      "THE SHAPE OF THE X AND Y TRAIN FRAMES WITH PREDICTORS ONLY\n",
      "(12835, 43)\n",
      "(12835, 43)\n",
      "(12835,)\n",
      "\n",
      "THE SHAPE OF THE X AND Y TEST FRAMES WITH PREDICTORS ONLY\n",
      "(3209, 43)\n",
      "(3209, 43)\n",
      "(3209,)\n"
     ]
    }
   ],
   "source": [
    "# take a random sample of the data\n",
    "data_fraction = 0.1\n",
    "random_val = 709\n",
    "\n",
    "X_train = X_train.sample(frac=data_fraction, random_state=random_val)\n",
    "X_train_scaled = X_train_scaled.sample(frac=data_fraction, random_state=random_val)\n",
    "y_train = y_train_labels[response_column].sample(frac=data_fraction, random_state=random_val)  #y_train_labels is dataframe\n",
    "y_train = y_train.values.ravel()\n",
    "\n",
    "X_test = X_test.sample(frac=data_fraction, random_state=random_val)\n",
    "X_test_scaled = X_test_scaled.sample(frac=data_fraction, random_state=random_val)\n",
    "y_test = y_test_labels[response_column].sample(frac=data_fraction, random_state=random_val)  #y_test_labels is dataframe\n",
    "y_test = y_test.values.ravel()\n",
    "\n",
    "# confirm shape of new dataframes\n",
    "print('\\nTHE SHAPE OF THE X AND Y TRAIN FRAMES WITH PREDICTORS ONLY')\n",
    "print(X_train.shape)\n",
    "print(X_train_scaled.shape)\n",
    "print(y_train.shape)\n",
    "print('\\nTHE SHAPE OF THE X AND Y TEST FRAMES WITH PREDICTORS ONLY')\n",
    "print(X_test.shape)\n",
    "print(X_test_scaled.shape)\n",
    "print(y_test.shape)"
   ]
  },
  {
   "cell_type": "markdown",
   "metadata": {},
   "source": [
    "## MODEL 1: Default parameters for the KNN Classifier"
   ]
  },
  {
   "cell_type": "code",
   "execution_count": 12,
   "metadata": {},
   "outputs": [
    {
     "data": {
      "text/plain": [
       "{3: KNeighborsClassifier(algorithm='auto', leaf_size=30, metric='minkowski',\n",
       "                      metric_params=None, n_jobs=-1, n_neighbors=3, p=2,\n",
       "                      weights='uniform'),\n",
       " 5: KNeighborsClassifier(algorithm='auto', leaf_size=30, metric='minkowski',\n",
       "                      metric_params=None, n_jobs=-1, n_neighbors=5, p=2,\n",
       "                      weights='uniform'),\n",
       " 9: KNeighborsClassifier(algorithm='auto', leaf_size=30, metric='minkowski',\n",
       "                      metric_params=None, n_jobs=-1, n_neighbors=9, p=2,\n",
       "                      weights='uniform'),\n",
       " 13: KNeighborsClassifier(algorithm='auto', leaf_size=30, metric='minkowski',\n",
       "                      metric_params=None, n_jobs=-1, n_neighbors=13, p=2,\n",
       "                      weights='uniform'),\n",
       " 17: KNeighborsClassifier(algorithm='auto', leaf_size=30, metric='minkowski',\n",
       "                      metric_params=None, n_jobs=-1, n_neighbors=17, p=2,\n",
       "                      weights='uniform'),\n",
       " 21: KNeighborsClassifier(algorithm='auto', leaf_size=30, metric='minkowski',\n",
       "                      metric_params=None, n_jobs=-1, n_neighbors=21, p=2,\n",
       "                      weights='uniform'),\n",
       " 23: KNeighborsClassifier(algorithm='auto', leaf_size=30, metric='minkowski',\n",
       "                      metric_params=None, n_jobs=-1, n_neighbors=23, p=2,\n",
       "                      weights='uniform'),\n",
       " 25: KNeighborsClassifier(algorithm='auto', leaf_size=30, metric='minkowski',\n",
       "                      metric_params=None, n_jobs=-1, n_neighbors=25, p=2,\n",
       "                      weights='uniform'),\n",
       " 27: KNeighborsClassifier(algorithm='auto', leaf_size=30, metric='minkowski',\n",
       "                      metric_params=None, n_jobs=-1, n_neighbors=27, p=2,\n",
       "                      weights='uniform'),\n",
       " 29: KNeighborsClassifier(algorithm='auto', leaf_size=30, metric='minkowski',\n",
       "                      metric_params=None, n_jobs=-1, n_neighbors=29, p=2,\n",
       "                      weights='uniform'),\n",
       " 31: KNeighborsClassifier(algorithm='auto', leaf_size=30, metric='minkowski',\n",
       "                      metric_params=None, n_jobs=-1, n_neighbors=31, p=2,\n",
       "                      weights='uniform'),\n",
       " 37: KNeighborsClassifier(algorithm='auto', leaf_size=30, metric='minkowski',\n",
       "                      metric_params=None, n_jobs=-1, n_neighbors=37, p=2,\n",
       "                      weights='uniform'),\n",
       " 55: KNeighborsClassifier(algorithm='auto', leaf_size=30, metric='minkowski',\n",
       "                      metric_params=None, n_jobs=-1, n_neighbors=55, p=2,\n",
       "                      weights='uniform'),\n",
       " 85: KNeighborsClassifier(algorithm='auto', leaf_size=30, metric='minkowski',\n",
       "                      metric_params=None, n_jobs=-1, n_neighbors=85, p=2,\n",
       "                      weights='uniform'),\n",
       " 145: KNeighborsClassifier(algorithm='auto', leaf_size=30, metric='minkowski',\n",
       "                      metric_params=None, n_jobs=-1, n_neighbors=145, p=2,\n",
       "                      weights='uniform'),\n",
       " 205: KNeighborsClassifier(algorithm='auto', leaf_size=30, metric='minkowski',\n",
       "                      metric_params=None, n_jobs=-1, n_neighbors=205, p=2,\n",
       "                      weights='uniform')}"
      ]
     },
     "execution_count": 12,
     "metadata": {},
     "output_type": "execute_result"
    }
   ],
   "source": [
    "KNNModels_1 = {}  # dictionary for KNN models\n",
    "\n",
    "k_values = [3,5,9,13,17,21,23,25,27,29,31,37,55,85,145,205]  # values of k we want to run models for\n",
    "\n",
    "# run KNN for each value of k in k_values\n",
    "for k in k_values:\n",
    "    knn = KNeighborsClassifier(n_neighbors=k, n_jobs=-1)\n",
    "    knn.fit(X_train_scaled, y_train)\n",
    "    KNNModels_1[k] = knn\n",
    "\n",
    "KNNModels_1"
   ]
  },
  {
   "cell_type": "code",
   "execution_count": 13,
   "metadata": {},
   "outputs": [
    {
     "data": {
      "text/plain": [
       "[0.5206077132839891,\n",
       " 0.4637319828593689,\n",
       " 0.40389559797428903,\n",
       " 0.37919750681729647,\n",
       " 0.3657966497857421,\n",
       " 0.353019088430074,\n",
       " 0.3495130502532139,\n",
       " 0.34242306194000777,\n",
       " 0.3421114141020647,\n",
       " 0.33852746396571876,\n",
       " 0.33354109855862873,\n",
       " 0.3302687962602259,\n",
       " 0.3206856252434749,\n",
       " 0.3095442150370082,\n",
       " 0.3037008180755746,\n",
       " 0.30151928320997273]"
      ]
     },
     "metadata": {},
     "output_type": "display_data"
    },
    {
     "name": "stdout",
     "output_type": "stream",
     "text": [
      "Wall time: 1min 13s\n"
     ]
    }
   ],
   "source": [
    "%%time\n",
    "\n",
    "r2_train_scores_1 = [] # R2 scores\n",
    "\n",
    "for k, model in KNNModels_1.items():  # use the pre-trained models stored in the KNNModels dictionary\n",
    "    r2 = model.score(X_train_scaled, y_train) \n",
    "    r2_train_scores_1.append(r2)\n",
    "\n",
    "display(r2_train_scores_1)"
   ]
  },
  {
   "cell_type": "code",
   "execution_count": 14,
   "metadata": {},
   "outputs": [
    {
     "data": {
      "text/plain": [
       "[0.19725771268307885,\n",
       " 0.2343409161732627,\n",
       " 0.25677781240261766,\n",
       " 0.2729822374571518,\n",
       " 0.282330944219383,\n",
       " 0.29136802742287315,\n",
       " 0.29230289809909626,\n",
       " 0.2963540043627298,\n",
       " 0.2938610158928015,\n",
       " 0.297600498597694,\n",
       " 0.29604238080398876,\n",
       " 0.29884699283265814,\n",
       " 0.2991586163913992,\n",
       " 0.30663758180118417,\n",
       " 0.3172327827983796,\n",
       " 0.3153630414459333]"
      ]
     },
     "metadata": {},
     "output_type": "display_data"
    },
    {
     "name": "stdout",
     "output_type": "stream",
     "text": [
      "Wall time: 23 s\n"
     ]
    }
   ],
   "source": [
    "%%time\n",
    "\n",
    "r2_test_scores_1 = [] # R2 scores\n",
    "\n",
    "for k, model in KNNModels_1.items():  # use the pre-trained models stored in the KNNModels dictionary\n",
    "    r2 = model.score(X_test_scaled, y_test) \n",
    "    r2_test_scores_1.append(r2)\n",
    "\n",
    "display(r2_test_scores_1)"
   ]
  },
  {
   "cell_type": "code",
   "execution_count": 15,
   "metadata": {
    "scrolled": false
   },
   "outputs": [
    {
     "data": {
      "text/html": [
       "<div>\n",
       "<style scoped>\n",
       "    .dataframe tbody tr th:only-of-type {\n",
       "        vertical-align: middle;\n",
       "    }\n",
       "\n",
       "    .dataframe tbody tr th {\n",
       "        vertical-align: top;\n",
       "    }\n",
       "\n",
       "    .dataframe thead th {\n",
       "        text-align: right;\n",
       "    }\n",
       "</style>\n",
       "<table border=\"1\" class=\"dataframe\">\n",
       "  <thead>\n",
       "    <tr style=\"text-align: right;\">\n",
       "      <th></th>\n",
       "      <th>KNN</th>\n",
       "      <th>Train_R2</th>\n",
       "      <th>Test_R2</th>\n",
       "    </tr>\n",
       "  </thead>\n",
       "  <tbody>\n",
       "    <tr>\n",
       "      <th>0</th>\n",
       "      <td>3</td>\n",
       "      <td>0.520608</td>\n",
       "      <td>0.197258</td>\n",
       "    </tr>\n",
       "    <tr>\n",
       "      <th>1</th>\n",
       "      <td>5</td>\n",
       "      <td>0.463732</td>\n",
       "      <td>0.234341</td>\n",
       "    </tr>\n",
       "    <tr>\n",
       "      <th>2</th>\n",
       "      <td>9</td>\n",
       "      <td>0.403896</td>\n",
       "      <td>0.256778</td>\n",
       "    </tr>\n",
       "    <tr>\n",
       "      <th>3</th>\n",
       "      <td>13</td>\n",
       "      <td>0.379198</td>\n",
       "      <td>0.272982</td>\n",
       "    </tr>\n",
       "    <tr>\n",
       "      <th>4</th>\n",
       "      <td>17</td>\n",
       "      <td>0.365797</td>\n",
       "      <td>0.282331</td>\n",
       "    </tr>\n",
       "    <tr>\n",
       "      <th>5</th>\n",
       "      <td>21</td>\n",
       "      <td>0.353019</td>\n",
       "      <td>0.291368</td>\n",
       "    </tr>\n",
       "    <tr>\n",
       "      <th>6</th>\n",
       "      <td>23</td>\n",
       "      <td>0.349513</td>\n",
       "      <td>0.292303</td>\n",
       "    </tr>\n",
       "    <tr>\n",
       "      <th>7</th>\n",
       "      <td>25</td>\n",
       "      <td>0.342423</td>\n",
       "      <td>0.296354</td>\n",
       "    </tr>\n",
       "    <tr>\n",
       "      <th>8</th>\n",
       "      <td>27</td>\n",
       "      <td>0.342111</td>\n",
       "      <td>0.293861</td>\n",
       "    </tr>\n",
       "    <tr>\n",
       "      <th>9</th>\n",
       "      <td>29</td>\n",
       "      <td>0.338527</td>\n",
       "      <td>0.297600</td>\n",
       "    </tr>\n",
       "    <tr>\n",
       "      <th>10</th>\n",
       "      <td>31</td>\n",
       "      <td>0.333541</td>\n",
       "      <td>0.296042</td>\n",
       "    </tr>\n",
       "    <tr>\n",
       "      <th>11</th>\n",
       "      <td>37</td>\n",
       "      <td>0.330269</td>\n",
       "      <td>0.298847</td>\n",
       "    </tr>\n",
       "    <tr>\n",
       "      <th>12</th>\n",
       "      <td>55</td>\n",
       "      <td>0.320686</td>\n",
       "      <td>0.299159</td>\n",
       "    </tr>\n",
       "    <tr>\n",
       "      <th>13</th>\n",
       "      <td>85</td>\n",
       "      <td>0.309544</td>\n",
       "      <td>0.306638</td>\n",
       "    </tr>\n",
       "    <tr>\n",
       "      <th>14</th>\n",
       "      <td>145</td>\n",
       "      <td>0.303701</td>\n",
       "      <td>0.317233</td>\n",
       "    </tr>\n",
       "    <tr>\n",
       "      <th>15</th>\n",
       "      <td>205</td>\n",
       "      <td>0.301519</td>\n",
       "      <td>0.315363</td>\n",
       "    </tr>\n",
       "  </tbody>\n",
       "</table>\n",
       "</div>"
      ],
      "text/plain": [
       "    KNN  Train_R2   Test_R2\n",
       "0     3  0.520608  0.197258\n",
       "1     5  0.463732  0.234341\n",
       "2     9  0.403896  0.256778\n",
       "3    13  0.379198  0.272982\n",
       "4    17  0.365797  0.282331\n",
       "5    21  0.353019  0.291368\n",
       "6    23  0.349513  0.292303\n",
       "7    25  0.342423  0.296354\n",
       "8    27  0.342111  0.293861\n",
       "9    29  0.338527  0.297600\n",
       "10   31  0.333541  0.296042\n",
       "11   37  0.330269  0.298847\n",
       "12   55  0.320686  0.299159\n",
       "13   85  0.309544  0.306638\n",
       "14  145  0.303701  0.317233\n",
       "15  205  0.301519  0.315363"
      ]
     },
     "metadata": {},
     "output_type": "display_data"
    }
   ],
   "source": [
    "# combine multiple lists into dataframe (https://stackoverflow.com/questions/30522724)\n",
    "df_r2_1 = pd.DataFrame({'KNN':k_values, 'Train_R2':r2_train_scores_1, 'Test_R2':r2_test_scores_1})\n",
    "\n",
    "display(df_r2_1)"
   ]
  },
  {
   "cell_type": "code",
   "execution_count": 16,
   "metadata": {},
   "outputs": [
    {
     "data": {
      "image/png": "[encoded data removed]",
      "text/plain": [
       "<Figure size 1008x576 with 1 Axes>"
      ]
     },
     "metadata": {
      "needs_background": "light"
     },
     "output_type": "display_data"
    }
   ],
   "source": [
    "fig, ax = plt.subplots(1,1, figsize=(14,8))\n",
    "ax.plot(df_r2_1['KNN'], df_r2_1['Train_R2'], label='Training Data', linewidth=2, marker='o', color='green')\n",
    "ax.plot(df_r2_1['KNN'], df_r2_1['Test_R2'], label='Testing Data', linewidth=2, marker='o', color='red')\n",
    "\n",
    "ax.set_xlabel('k Value')\n",
    "ax.set_ylabel('R2 Score')\n",
    "ax.set_title('R2 Score for Training and Testing Data for Various K Values')\n",
    "\n",
    "ax.legend()\n",
    "plt.show()"
   ]
  },
  {
   "cell_type": "markdown",
   "metadata": {},
   "source": [
    "## MODEL 2: KNN Classifier (manhattan distance)"
   ]
  },
  {
   "cell_type": "code",
   "execution_count": 17,
   "metadata": {},
   "outputs": [
    {
     "data": {
      "text/plain": [
       "{3: KNeighborsClassifier(algorithm='auto', leaf_size=30, metric='minkowski',\n",
       "                      metric_params=None, n_jobs=-1, n_neighbors=3, p=1,\n",
       "                      weights='uniform'),\n",
       " 5: KNeighborsClassifier(algorithm='auto', leaf_size=30, metric='minkowski',\n",
       "                      metric_params=None, n_jobs=-1, n_neighbors=5, p=1,\n",
       "                      weights='uniform'),\n",
       " 9: KNeighborsClassifier(algorithm='auto', leaf_size=30, metric='minkowski',\n",
       "                      metric_params=None, n_jobs=-1, n_neighbors=9, p=1,\n",
       "                      weights='uniform'),\n",
       " 13: KNeighborsClassifier(algorithm='auto', leaf_size=30, metric='minkowski',\n",
       "                      metric_params=None, n_jobs=-1, n_neighbors=13, p=1,\n",
       "                      weights='uniform'),\n",
       " 17: KNeighborsClassifier(algorithm='auto', leaf_size=30, metric='minkowski',\n",
       "                      metric_params=None, n_jobs=-1, n_neighbors=17, p=1,\n",
       "                      weights='uniform'),\n",
       " 21: KNeighborsClassifier(algorithm='auto', leaf_size=30, metric='minkowski',\n",
       "                      metric_params=None, n_jobs=-1, n_neighbors=21, p=1,\n",
       "                      weights='uniform'),\n",
       " 23: KNeighborsClassifier(algorithm='auto', leaf_size=30, metric='minkowski',\n",
       "                      metric_params=None, n_jobs=-1, n_neighbors=23, p=1,\n",
       "                      weights='uniform'),\n",
       " 25: KNeighborsClassifier(algorithm='auto', leaf_size=30, metric='minkowski',\n",
       "                      metric_params=None, n_jobs=-1, n_neighbors=25, p=1,\n",
       "                      weights='uniform'),\n",
       " 27: KNeighborsClassifier(algorithm='auto', leaf_size=30, metric='minkowski',\n",
       "                      metric_params=None, n_jobs=-1, n_neighbors=27, p=1,\n",
       "                      weights='uniform'),\n",
       " 29: KNeighborsClassifier(algorithm='auto', leaf_size=30, metric='minkowski',\n",
       "                      metric_params=None, n_jobs=-1, n_neighbors=29, p=1,\n",
       "                      weights='uniform'),\n",
       " 31: KNeighborsClassifier(algorithm='auto', leaf_size=30, metric='minkowski',\n",
       "                      metric_params=None, n_jobs=-1, n_neighbors=31, p=1,\n",
       "                      weights='uniform'),\n",
       " 37: KNeighborsClassifier(algorithm='auto', leaf_size=30, metric='minkowski',\n",
       "                      metric_params=None, n_jobs=-1, n_neighbors=37, p=1,\n",
       "                      weights='uniform'),\n",
       " 55: KNeighborsClassifier(algorithm='auto', leaf_size=30, metric='minkowski',\n",
       "                      metric_params=None, n_jobs=-1, n_neighbors=55, p=1,\n",
       "                      weights='uniform'),\n",
       " 85: KNeighborsClassifier(algorithm='auto', leaf_size=30, metric='minkowski',\n",
       "                      metric_params=None, n_jobs=-1, n_neighbors=85, p=1,\n",
       "                      weights='uniform'),\n",
       " 145: KNeighborsClassifier(algorithm='auto', leaf_size=30, metric='minkowski',\n",
       "                      metric_params=None, n_jobs=-1, n_neighbors=145, p=1,\n",
       "                      weights='uniform'),\n",
       " 205: KNeighborsClassifier(algorithm='auto', leaf_size=30, metric='minkowski',\n",
       "                      metric_params=None, n_jobs=-1, n_neighbors=205, p=1,\n",
       "                      weights='uniform')}"
      ]
     },
     "execution_count": 17,
     "metadata": {},
     "output_type": "execute_result"
    }
   ],
   "source": [
    "KNNModels_2 = {}  # dictionary for KNN models\n",
    "\n",
    "k_values = [3,5,9,13,17,21,23,25,27,29,31,37,55,85,145,205]  # values of k we want to run models for\n",
    "\n",
    "# run KNN for each value of k in k_values\n",
    "for k in k_values:\n",
    "    knn = KNeighborsClassifier(n_neighbors=k, p=1, n_jobs=-1)  #p=1 manhattan distance is 0.02 better\n",
    "    knn.fit(X_train_scaled, y_train)\n",
    "    KNNModels_2[k] = knn\n",
    "\n",
    "KNNModels_2"
   ]
  },
  {
   "cell_type": "code",
   "execution_count": 18,
   "metadata": {},
   "outputs": [
    {
     "data": {
      "text/plain": [
       "[0.5213089209193611,\n",
       " 0.46848461238800154,\n",
       " 0.4054538371640047,\n",
       " 0.38044409816906893,\n",
       " 0.36813400857031553,\n",
       " 0.3599532528243085,\n",
       " 0.3547331515387612,\n",
       " 0.35294117647058826,\n",
       " 0.3520841449162446,\n",
       " 0.3474094273470978,\n",
       " 0.3457732761978964,\n",
       " 0.3414102064666926,\n",
       " 0.32621737436696535,\n",
       " 0.31546552395792754,\n",
       " 0.3012855473315154,\n",
       " 0.3019088430074016]"
      ]
     },
     "metadata": {},
     "output_type": "display_data"
    },
    {
     "name": "stdout",
     "output_type": "stream",
     "text": [
      "Wall time: 1min 18s\n"
     ]
    }
   ],
   "source": [
    "%%time\n",
    "\n",
    "r2_train_scores_2 = [] # R2 scores\n",
    "\n",
    "for k, model in KNNModels_2.items():  # use the pre-trained models stored in the KNNModels dictionary\n",
    "    r2 = model.score(X_train_scaled, y_train) \n",
    "    r2_train_scores_2.append(r2)\n",
    "\n",
    "display(r2_train_scores_2)"
   ]
  },
  {
   "cell_type": "code",
   "execution_count": 19,
   "metadata": {},
   "outputs": [
    {
     "data": {
      "text/plain": [
       "[0.20722966656279215,\n",
       " 0.24181988158304768,\n",
       " 0.2645684013711437,\n",
       " 0.28887503895294486,\n",
       " 0.2985353692739171,\n",
       " 0.2966656279214709,\n",
       " 0.29822374571517607,\n",
       " 0.3032097226550327,\n",
       " 0.3078840760361483,\n",
       " 0.305079464007479,\n",
       " 0.3088189467123715,\n",
       " 0.3038329697725148,\n",
       " 0.31100031162355873,\n",
       " 0.3159862885634154,\n",
       " 0.3134933000934871,\n",
       " 0.31505141788719226]"
      ]
     },
     "metadata": {},
     "output_type": "display_data"
    },
    {
     "name": "stdout",
     "output_type": "stream",
     "text": [
      "Wall time: 22.3 s\n"
     ]
    }
   ],
   "source": [
    "%%time\n",
    "\n",
    "r2_test_scores_2 = [] # R2 scores\n",
    "\n",
    "for k, model in KNNModels_2.items():  # use the pre-trained models stored in the KNNModels dictionary\n",
    "    r2 = model.score(X_test_scaled, y_test) \n",
    "    r2_test_scores_2.append(r2)\n",
    "\n",
    "display(r2_test_scores_2)"
   ]
  },
  {
   "cell_type": "code",
   "execution_count": 20,
   "metadata": {
    "scrolled": false
   },
   "outputs": [
    {
     "data": {
      "text/html": [
       "<div>\n",
       "<style scoped>\n",
       "    .dataframe tbody tr th:only-of-type {\n",
       "        vertical-align: middle;\n",
       "    }\n",
       "\n",
       "    .dataframe tbody tr th {\n",
       "        vertical-align: top;\n",
       "    }\n",
       "\n",
       "    .dataframe thead th {\n",
       "        text-align: right;\n",
       "    }\n",
       "</style>\n",
       "<table border=\"1\" class=\"dataframe\">\n",
       "  <thead>\n",
       "    <tr style=\"text-align: right;\">\n",
       "      <th></th>\n",
       "      <th>KNN</th>\n",
       "      <th>Train_R2</th>\n",
       "      <th>Test_R2</th>\n",
       "    </tr>\n",
       "  </thead>\n",
       "  <tbody>\n",
       "    <tr>\n",
       "      <th>0</th>\n",
       "      <td>3</td>\n",
       "      <td>0.521309</td>\n",
       "      <td>0.207230</td>\n",
       "    </tr>\n",
       "    <tr>\n",
       "      <th>1</th>\n",
       "      <td>5</td>\n",
       "      <td>0.468485</td>\n",
       "      <td>0.241820</td>\n",
       "    </tr>\n",
       "    <tr>\n",
       "      <th>2</th>\n",
       "      <td>9</td>\n",
       "      <td>0.405454</td>\n",
       "      <td>0.264568</td>\n",
       "    </tr>\n",
       "    <tr>\n",
       "      <th>3</th>\n",
       "      <td>13</td>\n",
       "      <td>0.380444</td>\n",
       "      <td>0.288875</td>\n",
       "    </tr>\n",
       "    <tr>\n",
       "      <th>4</th>\n",
       "      <td>17</td>\n",
       "      <td>0.368134</td>\n",
       "      <td>0.298535</td>\n",
       "    </tr>\n",
       "    <tr>\n",
       "      <th>5</th>\n",
       "      <td>21</td>\n",
       "      <td>0.359953</td>\n",
       "      <td>0.296666</td>\n",
       "    </tr>\n",
       "    <tr>\n",
       "      <th>6</th>\n",
       "      <td>23</td>\n",
       "      <td>0.354733</td>\n",
       "      <td>0.298224</td>\n",
       "    </tr>\n",
       "    <tr>\n",
       "      <th>7</th>\n",
       "      <td>25</td>\n",
       "      <td>0.352941</td>\n",
       "      <td>0.303210</td>\n",
       "    </tr>\n",
       "    <tr>\n",
       "      <th>8</th>\n",
       "      <td>27</td>\n",
       "      <td>0.352084</td>\n",
       "      <td>0.307884</td>\n",
       "    </tr>\n",
       "    <tr>\n",
       "      <th>9</th>\n",
       "      <td>29</td>\n",
       "      <td>0.347409</td>\n",
       "      <td>0.305079</td>\n",
       "    </tr>\n",
       "    <tr>\n",
       "      <th>10</th>\n",
       "      <td>31</td>\n",
       "      <td>0.345773</td>\n",
       "      <td>0.308819</td>\n",
       "    </tr>\n",
       "    <tr>\n",
       "      <th>11</th>\n",
       "      <td>37</td>\n",
       "      <td>0.341410</td>\n",
       "      <td>0.303833</td>\n",
       "    </tr>\n",
       "    <tr>\n",
       "      <th>12</th>\n",
       "      <td>55</td>\n",
       "      <td>0.326217</td>\n",
       "      <td>0.311000</td>\n",
       "    </tr>\n",
       "    <tr>\n",
       "      <th>13</th>\n",
       "      <td>85</td>\n",
       "      <td>0.315466</td>\n",
       "      <td>0.315986</td>\n",
       "    </tr>\n",
       "    <tr>\n",
       "      <th>14</th>\n",
       "      <td>145</td>\n",
       "      <td>0.301286</td>\n",
       "      <td>0.313493</td>\n",
       "    </tr>\n",
       "    <tr>\n",
       "      <th>15</th>\n",
       "      <td>205</td>\n",
       "      <td>0.301909</td>\n",
       "      <td>0.315051</td>\n",
       "    </tr>\n",
       "  </tbody>\n",
       "</table>\n",
       "</div>"
      ],
      "text/plain": [
       "    KNN  Train_R2   Test_R2\n",
       "0     3  0.521309  0.207230\n",
       "1     5  0.468485  0.241820\n",
       "2     9  0.405454  0.264568\n",
       "3    13  0.380444  0.288875\n",
       "4    17  0.368134  0.298535\n",
       "5    21  0.359953  0.296666\n",
       "6    23  0.354733  0.298224\n",
       "7    25  0.352941  0.303210\n",
       "8    27  0.352084  0.307884\n",
       "9    29  0.347409  0.305079\n",
       "10   31  0.345773  0.308819\n",
       "11   37  0.341410  0.303833\n",
       "12   55  0.326217  0.311000\n",
       "13   85  0.315466  0.315986\n",
       "14  145  0.301286  0.313493\n",
       "15  205  0.301909  0.315051"
      ]
     },
     "metadata": {},
     "output_type": "display_data"
    }
   ],
   "source": [
    "# combine multiple lists into dataframe (https://stackoverflow.com/questions/30522724)\n",
    "df_r2_2 = pd.DataFrame({'KNN':k_values, 'Train_R2':r2_train_scores_2, 'Test_R2':r2_test_scores_2})\n",
    "\n",
    "display(df_r2_2)"
   ]
  },
  {
   "cell_type": "code",
   "execution_count": 21,
   "metadata": {},
   "outputs": [
    {
     "data": {
      "image/png": "[encoded data removed]",
      "text/plain": [
       "<Figure size 1008x576 with 1 Axes>"
      ]
     },
     "metadata": {
      "needs_background": "light"
     },
     "output_type": "display_data"
    }
   ],
   "source": [
    "fig, ax = plt.subplots(1,1, figsize=(14,8))\n",
    "ax.plot(df_r2_2['KNN'], df_r2_2['Train_R2'], label='Training Data', linewidth=2, marker='o', color='green')\n",
    "ax.plot(df_r2_2['KNN'], df_r2_2['Test_R2'], label='Testing Data', linewidth=2, marker='o', color='red')\n",
    "\n",
    "ax.set_xlabel('k Value')\n",
    "ax.set_ylabel('R2 Score')\n",
    "ax.set_title('R2 Score for Training and Testing Data for Various K Values')\n",
    "\n",
    "ax.legend()\n",
    "plt.show()"
   ]
  },
  {
   "cell_type": "markdown",
   "metadata": {},
   "source": [
    "## MODEL 3: KNN Classifier (manhattan distance and distance weights)"
   ]
  },
  {
   "cell_type": "code",
   "execution_count": 22,
   "metadata": {},
   "outputs": [
    {
     "data": {
      "text/plain": [
       "{3: KNeighborsClassifier(algorithm='auto', leaf_size=30, metric='minkowski',\n",
       "                      metric_params=None, n_jobs=-1, n_neighbors=3, p=1,\n",
       "                      weights='distance'),\n",
       " 5: KNeighborsClassifier(algorithm='auto', leaf_size=30, metric='minkowski',\n",
       "                      metric_params=None, n_jobs=-1, n_neighbors=5, p=1,\n",
       "                      weights='distance'),\n",
       " 9: KNeighborsClassifier(algorithm='auto', leaf_size=30, metric='minkowski',\n",
       "                      metric_params=None, n_jobs=-1, n_neighbors=9, p=1,\n",
       "                      weights='distance'),\n",
       " 13: KNeighborsClassifier(algorithm='auto', leaf_size=30, metric='minkowski',\n",
       "                      metric_params=None, n_jobs=-1, n_neighbors=13, p=1,\n",
       "                      weights='distance'),\n",
       " 17: KNeighborsClassifier(algorithm='auto', leaf_size=30, metric='minkowski',\n",
       "                      metric_params=None, n_jobs=-1, n_neighbors=17, p=1,\n",
       "                      weights='distance'),\n",
       " 21: KNeighborsClassifier(algorithm='auto', leaf_size=30, metric='minkowski',\n",
       "                      metric_params=None, n_jobs=-1, n_neighbors=21, p=1,\n",
       "                      weights='distance'),\n",
       " 23: KNeighborsClassifier(algorithm='auto', leaf_size=30, metric='minkowski',\n",
       "                      metric_params=None, n_jobs=-1, n_neighbors=23, p=1,\n",
       "                      weights='distance'),\n",
       " 25: KNeighborsClassifier(algorithm='auto', leaf_size=30, metric='minkowski',\n",
       "                      metric_params=None, n_jobs=-1, n_neighbors=25, p=1,\n",
       "                      weights='distance'),\n",
       " 27: KNeighborsClassifier(algorithm='auto', leaf_size=30, metric='minkowski',\n",
       "                      metric_params=None, n_jobs=-1, n_neighbors=27, p=1,\n",
       "                      weights='distance'),\n",
       " 29: KNeighborsClassifier(algorithm='auto', leaf_size=30, metric='minkowski',\n",
       "                      metric_params=None, n_jobs=-1, n_neighbors=29, p=1,\n",
       "                      weights='distance'),\n",
       " 31: KNeighborsClassifier(algorithm='auto', leaf_size=30, metric='minkowski',\n",
       "                      metric_params=None, n_jobs=-1, n_neighbors=31, p=1,\n",
       "                      weights='distance'),\n",
       " 37: KNeighborsClassifier(algorithm='auto', leaf_size=30, metric='minkowski',\n",
       "                      metric_params=None, n_jobs=-1, n_neighbors=37, p=1,\n",
       "                      weights='distance'),\n",
       " 55: KNeighborsClassifier(algorithm='auto', leaf_size=30, metric='minkowski',\n",
       "                      metric_params=None, n_jobs=-1, n_neighbors=55, p=1,\n",
       "                      weights='distance'),\n",
       " 85: KNeighborsClassifier(algorithm='auto', leaf_size=30, metric='minkowski',\n",
       "                      metric_params=None, n_jobs=-1, n_neighbors=85, p=1,\n",
       "                      weights='distance'),\n",
       " 145: KNeighborsClassifier(algorithm='auto', leaf_size=30, metric='minkowski',\n",
       "                      metric_params=None, n_jobs=-1, n_neighbors=145, p=1,\n",
       "                      weights='distance'),\n",
       " 205: KNeighborsClassifier(algorithm='auto', leaf_size=30, metric='minkowski',\n",
       "                      metric_params=None, n_jobs=-1, n_neighbors=205, p=1,\n",
       "                      weights='distance')}"
      ]
     },
     "execution_count": 22,
     "metadata": {},
     "output_type": "execute_result"
    }
   ],
   "source": [
    "KNNModels_3 = {}  # dictionary for KNN models\n",
    "\n",
    "k_values = [3,5,9,13,17,21,23,25,27,29,31,37,55,85,145,205]  # values of k we want to run models for\n",
    "\n",
    "# run KNN for each value of k in k_values\n",
    "for k in k_values:\n",
    "    knn = KNeighborsClassifier(n_neighbors=k, weights='distance', p=1, n_jobs=-1)  #p=1 manhattan distance is 0.02 better\n",
    "    knn.fit(X_train_scaled, y_train)\n",
    "    KNNModels_3[k] = knn\n",
    "\n",
    "KNNModels_3"
   ]
  },
  {
   "cell_type": "code",
   "execution_count": 23,
   "metadata": {},
   "outputs": [
    {
     "data": {
      "text/plain": [
       "[0.993922867160109,\n",
       " 0.993922867160109,\n",
       " 0.993922867160109,\n",
       " 0.993922867160109,\n",
       " 0.993922867160109,\n",
       " 0.993922867160109,\n",
       " 0.993922867160109,\n",
       " 0.993922867160109,\n",
       " 0.993922867160109,\n",
       " 0.993922867160109,\n",
       " 0.993922867160109,\n",
       " 0.993922867160109,\n",
       " 0.993922867160109,\n",
       " 0.993922867160109,\n",
       " 0.993922867160109,\n",
       " 0.993922867160109]"
      ]
     },
     "metadata": {},
     "output_type": "display_data"
    },
    {
     "name": "stdout",
     "output_type": "stream",
     "text": [
      "Wall time: 1min 21s\n"
     ]
    }
   ],
   "source": [
    "%%time\n",
    "\n",
    "r2_train_scores_3 = [] # R2 scores\n",
    "\n",
    "for k, model in KNNModels_3.items():  # use the pre-trained models stored in the KNNModels dictionary\n",
    "    r2 = model.score(X_train_scaled, y_train) \n",
    "    r2_train_scores_3.append(r2)\n",
    "\n",
    "display(r2_train_scores_3)"
   ]
  },
  {
   "cell_type": "code",
   "execution_count": 24,
   "metadata": {},
   "outputs": [
    {
     "data": {
      "text/plain": [
       "[0.22249922094110314,\n",
       " 0.2411966344655656,\n",
       " 0.26893113119351825,\n",
       " 0.2860704269242755,\n",
       " 0.29354939233406047,\n",
       " 0.2957307572452477,\n",
       " 0.29978186350888125,\n",
       " 0.3004051106263634,\n",
       " 0.3060143346837021,\n",
       " 0.3038329697725148,\n",
       " 0.30726082891866624,\n",
       " 0.31193518229978184,\n",
       " 0.3100654409473356,\n",
       " 0.31131193518229977,\n",
       " 0.31567466500467434,\n",
       " 0.3172327827983796]"
      ]
     },
     "metadata": {},
     "output_type": "display_data"
    },
    {
     "name": "stdout",
     "output_type": "stream",
     "text": [
      "Wall time: 19.7 s\n"
     ]
    }
   ],
   "source": [
    "%%time\n",
    "\n",
    "r2_test_scores_3 = [] # R2 scores\n",
    "\n",
    "for k, model in KNNModels_3.items():  # use the pre-trained models stored in the KNNModels dictionary\n",
    "    r2 = model.score(X_test_scaled, y_test) \n",
    "    r2_test_scores_3.append(r2)\n",
    "\n",
    "display(r2_test_scores_3)"
   ]
  },
  {
   "cell_type": "code",
   "execution_count": 25,
   "metadata": {
    "scrolled": false
   },
   "outputs": [
    {
     "data": {
      "text/html": [
       "<div>\n",
       "<style scoped>\n",
       "    .dataframe tbody tr th:only-of-type {\n",
       "        vertical-align: middle;\n",
       "    }\n",
       "\n",
       "    .dataframe tbody tr th {\n",
       "        vertical-align: top;\n",
       "    }\n",
       "\n",
       "    .dataframe thead th {\n",
       "        text-align: right;\n",
       "    }\n",
       "</style>\n",
       "<table border=\"1\" class=\"dataframe\">\n",
       "  <thead>\n",
       "    <tr style=\"text-align: right;\">\n",
       "      <th></th>\n",
       "      <th>KNN</th>\n",
       "      <th>Train_R2</th>\n",
       "      <th>Test_R2</th>\n",
       "    </tr>\n",
       "  </thead>\n",
       "  <tbody>\n",
       "    <tr>\n",
       "      <th>0</th>\n",
       "      <td>3</td>\n",
       "      <td>0.993923</td>\n",
       "      <td>0.222499</td>\n",
       "    </tr>\n",
       "    <tr>\n",
       "      <th>1</th>\n",
       "      <td>5</td>\n",
       "      <td>0.993923</td>\n",
       "      <td>0.241197</td>\n",
       "    </tr>\n",
       "    <tr>\n",
       "      <th>2</th>\n",
       "      <td>9</td>\n",
       "      <td>0.993923</td>\n",
       "      <td>0.268931</td>\n",
       "    </tr>\n",
       "    <tr>\n",
       "      <th>3</th>\n",
       "      <td>13</td>\n",
       "      <td>0.993923</td>\n",
       "      <td>0.286070</td>\n",
       "    </tr>\n",
       "    <tr>\n",
       "      <th>4</th>\n",
       "      <td>17</td>\n",
       "      <td>0.993923</td>\n",
       "      <td>0.293549</td>\n",
       "    </tr>\n",
       "    <tr>\n",
       "      <th>5</th>\n",
       "      <td>21</td>\n",
       "      <td>0.993923</td>\n",
       "      <td>0.295731</td>\n",
       "    </tr>\n",
       "    <tr>\n",
       "      <th>6</th>\n",
       "      <td>23</td>\n",
       "      <td>0.993923</td>\n",
       "      <td>0.299782</td>\n",
       "    </tr>\n",
       "    <tr>\n",
       "      <th>7</th>\n",
       "      <td>25</td>\n",
       "      <td>0.993923</td>\n",
       "      <td>0.300405</td>\n",
       "    </tr>\n",
       "    <tr>\n",
       "      <th>8</th>\n",
       "      <td>27</td>\n",
       "      <td>0.993923</td>\n",
       "      <td>0.306014</td>\n",
       "    </tr>\n",
       "    <tr>\n",
       "      <th>9</th>\n",
       "      <td>29</td>\n",
       "      <td>0.993923</td>\n",
       "      <td>0.303833</td>\n",
       "    </tr>\n",
       "    <tr>\n",
       "      <th>10</th>\n",
       "      <td>31</td>\n",
       "      <td>0.993923</td>\n",
       "      <td>0.307261</td>\n",
       "    </tr>\n",
       "    <tr>\n",
       "      <th>11</th>\n",
       "      <td>37</td>\n",
       "      <td>0.993923</td>\n",
       "      <td>0.311935</td>\n",
       "    </tr>\n",
       "    <tr>\n",
       "      <th>12</th>\n",
       "      <td>55</td>\n",
       "      <td>0.993923</td>\n",
       "      <td>0.310065</td>\n",
       "    </tr>\n",
       "    <tr>\n",
       "      <th>13</th>\n",
       "      <td>85</td>\n",
       "      <td>0.993923</td>\n",
       "      <td>0.311312</td>\n",
       "    </tr>\n",
       "    <tr>\n",
       "      <th>14</th>\n",
       "      <td>145</td>\n",
       "      <td>0.993923</td>\n",
       "      <td>0.315675</td>\n",
       "    </tr>\n",
       "    <tr>\n",
       "      <th>15</th>\n",
       "      <td>205</td>\n",
       "      <td>0.993923</td>\n",
       "      <td>0.317233</td>\n",
       "    </tr>\n",
       "  </tbody>\n",
       "</table>\n",
       "</div>"
      ],
      "text/plain": [
       "    KNN  Train_R2   Test_R2\n",
       "0     3  0.993923  0.222499\n",
       "1     5  0.993923  0.241197\n",
       "2     9  0.993923  0.268931\n",
       "3    13  0.993923  0.286070\n",
       "4    17  0.993923  0.293549\n",
       "5    21  0.993923  0.295731\n",
       "6    23  0.993923  0.299782\n",
       "7    25  0.993923  0.300405\n",
       "8    27  0.993923  0.306014\n",
       "9    29  0.993923  0.303833\n",
       "10   31  0.993923  0.307261\n",
       "11   37  0.993923  0.311935\n",
       "12   55  0.993923  0.310065\n",
       "13   85  0.993923  0.311312\n",
       "14  145  0.993923  0.315675\n",
       "15  205  0.993923  0.317233"
      ]
     },
     "metadata": {},
     "output_type": "display_data"
    }
   ],
   "source": [
    "# combine multiple lists into dataframe (https://stackoverflow.com/questions/30522724)\n",
    "df_r2_3 = pd.DataFrame({'KNN':k_values, 'Train_R2':r2_train_scores_3, 'Test_R2':r2_test_scores_3})\n",
    "\n",
    "display(df_r2_3)"
   ]
  },
  {
   "cell_type": "code",
   "execution_count": 26,
   "metadata": {},
   "outputs": [
    {
     "data": {
      "image/png": "[encoded data removed]",
      "text/plain": [
       "<Figure size 1008x576 with 1 Axes>"
      ]
     },
     "metadata": {
      "needs_background": "light"
     },
     "output_type": "display_data"
    }
   ],
   "source": [
    "fig, ax = plt.subplots(1,1, figsize=(14,8))\n",
    "ax.plot(df_r2_3['KNN'], df_r2_3['Train_R2'], label='Training Data', linewidth=2, marker='o', color='green')\n",
    "ax.plot(df_r2_3['KNN'], df_r2_3['Test_R2'], label='Testing Data', linewidth=2, marker='o', color='red')\n",
    "\n",
    "ax.set_xlabel('k Value')\n",
    "ax.set_ylabel('R2 Score')\n",
    "ax.set_title('R2 Score for Training and Testing Data for Various K Values')\n",
    "\n",
    "ax.legend()\n",
    "plt.show()"
   ]
  },
  {
   "cell_type": "markdown",
   "metadata": {},
   "source": [
    "### Restore original data and run tuned model on full data"
   ]
  },
  {
   "cell_type": "code",
   "execution_count": 27,
   "metadata": {},
   "outputs": [
    {
     "name": "stdout",
     "output_type": "stream",
     "text": [
      "\n",
      "THE SHAPE OF THE X AND Y TRAIN FRAMES WITH PREDICTORS ONLY\n",
      "(128352, 43)\n",
      "(128352, 43)\n",
      "(128352,)\n",
      "\n",
      "THE SHAPE OF THE X AND Y TEST FRAMES WITH PREDICTORS ONLY\n",
      "(32088, 43)\n",
      "(32088, 43)\n",
      "(32088,)\n"
     ]
    }
   ],
   "source": [
    "# Restore back to original dataframes once model working as expected\n",
    "X_train = X_train_orig\n",
    "X_train_scaled = X_train_scaled_orig\n",
    "y_train = y_train_orig\n",
    "\n",
    "X_test = X_test_orig\n",
    "X_test_scaled = X_test_scaled_orig\n",
    "y_test = y_test_orig\n",
    "\n",
    "# confirm shape of new dataframes\n",
    "print('\\nTHE SHAPE OF THE X AND Y TRAIN FRAMES WITH PREDICTORS ONLY')\n",
    "print(X_train.shape)\n",
    "print(X_train_scaled.shape)\n",
    "print(y_train.shape)\n",
    "print('\\nTHE SHAPE OF THE X AND Y TEST FRAMES WITH PREDICTORS ONLY')\n",
    "print(X_test.shape)\n",
    "print(X_test_scaled.shape)\n",
    "print(y_test.shape)"
   ]
  },
  {
   "cell_type": "markdown",
   "metadata": {},
   "source": [
    "## Use Insights from Sampled Data on Full Data"
   ]
  },
  {
   "cell_type": "code",
   "execution_count": 33,
   "metadata": {},
   "outputs": [
    {
     "data": {
      "text/plain": [
       "{3: KNeighborsClassifier(algorithm='auto', leaf_size=30, metric='minkowski',\n",
       "                      metric_params=None, n_jobs=-1, n_neighbors=3, p=1,\n",
       "                      weights='distance'),\n",
       " 9: KNeighborsClassifier(algorithm='auto', leaf_size=30, metric='minkowski',\n",
       "                      metric_params=None, n_jobs=-1, n_neighbors=9, p=1,\n",
       "                      weights='distance'),\n",
       " 15: KNeighborsClassifier(algorithm='auto', leaf_size=30, metric='minkowski',\n",
       "                      metric_params=None, n_jobs=-1, n_neighbors=15, p=1,\n",
       "                      weights='distance'),\n",
       " 23: KNeighborsClassifier(algorithm='auto', leaf_size=30, metric='minkowski',\n",
       "                      metric_params=None, n_jobs=-1, n_neighbors=23, p=1,\n",
       "                      weights='distance'),\n",
       " 35: KNeighborsClassifier(algorithm='auto', leaf_size=30, metric='minkowski',\n",
       "                      metric_params=None, n_jobs=-1, n_neighbors=35, p=1,\n",
       "                      weights='distance'),\n",
       " 53: KNeighborsClassifier(algorithm='auto', leaf_size=30, metric='minkowski',\n",
       "                      metric_params=None, n_jobs=-1, n_neighbors=53, p=1,\n",
       "                      weights='distance'),\n",
       " 75: KNeighborsClassifier(algorithm='auto', leaf_size=30, metric='minkowski',\n",
       "                      metric_params=None, n_jobs=-1, n_neighbors=75, p=1,\n",
       "                      weights='distance'),\n",
       " 97: KNeighborsClassifier(algorithm='auto', leaf_size=30, metric='minkowski',\n",
       "                      metric_params=None, n_jobs=-1, n_neighbors=97, p=1,\n",
       "                      weights='distance'),\n",
       " 135: KNeighborsClassifier(algorithm='auto', leaf_size=30, metric='minkowski',\n",
       "                      metric_params=None, n_jobs=-1, n_neighbors=135, p=1,\n",
       "                      weights='distance'),\n",
       " 205: KNeighborsClassifier(algorithm='auto', leaf_size=30, metric='minkowski',\n",
       "                      metric_params=None, n_jobs=-1, n_neighbors=205, p=1,\n",
       "                      weights='distance'),\n",
       " 405: KNeighborsClassifier(algorithm='auto', leaf_size=30, metric='minkowski',\n",
       "                      metric_params=None, n_jobs=-1, n_neighbors=405, p=1,\n",
       "                      weights='distance'),\n",
       " 605: KNeighborsClassifier(algorithm='auto', leaf_size=30, metric='minkowski',\n",
       "                      metric_params=None, n_jobs=-1, n_neighbors=605, p=1,\n",
       "                      weights='distance')}"
      ]
     },
     "execution_count": 33,
     "metadata": {},
     "output_type": "execute_result"
    }
   ],
   "source": [
    "KNNModels = {}  # dictionary for KNN models\n",
    "\n",
    "k_values = [3,9,15,23,35,53,75,97,135,205,405,605]  # values of k we want to run models for\n",
    "\n",
    "# run KNN for each value of k in k_values\n",
    "for k in k_values:\n",
    "    knn = KNeighborsClassifier(n_neighbors=k, weights='distance', p=1, n_jobs=-1)  #p=1 manhattan distance is 0.02 better\n",
    "    knn.fit(X_train_scaled, y_train)\n",
    "    KNNModels[k] = knn\n",
    "\n",
    "KNNModels"
   ]
  },
  {
   "cell_type": "code",
   "execution_count": 34,
   "metadata": {},
   "outputs": [
    {
     "data": {
      "text/plain": [
       "[0.27455746696584393,\n",
       " 0.2988967838444278,\n",
       " 0.30924333084018946,\n",
       " 0.3166915981052107,\n",
       " 0.3230491149339317,\n",
       " 0.3271316379955123,\n",
       " 0.3335514834205934,\n",
       " 0.33797681376215405,\n",
       " 0.3410620792819746,\n",
       " 0.3459548740962354,\n",
       " 0.35019321864871605,\n",
       " 0.3519695836449763]"
      ]
     },
     "metadata": {},
     "output_type": "display_data"
    },
    {
     "name": "stdout",
     "output_type": "stream",
     "text": [
      "Wall time: 15min 30s\n"
     ]
    }
   ],
   "source": [
    "%%time\n",
    "\n",
    "r2_test_scores = [] # R2 scores\n",
    "\n",
    "for k, model in KNNModels.items():  # use the pre-trained models stored in the KNNModels dictionary\n",
    "    r2 = model.score(X_test_scaled, y_test) \n",
    "    r2_test_scores.append(r2)\n",
    "\n",
    "display(r2_test_scores)"
   ]
  },
  {
   "cell_type": "code",
   "execution_count": 35,
   "metadata": {},
   "outputs": [
    {
     "data": {
      "text/html": [
       "<div>\n",
       "<style scoped>\n",
       "    .dataframe tbody tr th:only-of-type {\n",
       "        vertical-align: middle;\n",
       "    }\n",
       "\n",
       "    .dataframe tbody tr th {\n",
       "        vertical-align: top;\n",
       "    }\n",
       "\n",
       "    .dataframe thead th {\n",
       "        text-align: right;\n",
       "    }\n",
       "</style>\n",
       "<table border=\"1\" class=\"dataframe\">\n",
       "  <thead>\n",
       "    <tr style=\"text-align: right;\">\n",
       "      <th></th>\n",
       "      <th>KNN</th>\n",
       "      <th>Test_R2</th>\n",
       "    </tr>\n",
       "  </thead>\n",
       "  <tbody>\n",
       "    <tr>\n",
       "      <th>0</th>\n",
       "      <td>3</td>\n",
       "      <td>0.274557</td>\n",
       "    </tr>\n",
       "    <tr>\n",
       "      <th>1</th>\n",
       "      <td>9</td>\n",
       "      <td>0.298897</td>\n",
       "    </tr>\n",
       "    <tr>\n",
       "      <th>2</th>\n",
       "      <td>15</td>\n",
       "      <td>0.309243</td>\n",
       "    </tr>\n",
       "    <tr>\n",
       "      <th>3</th>\n",
       "      <td>23</td>\n",
       "      <td>0.316692</td>\n",
       "    </tr>\n",
       "    <tr>\n",
       "      <th>4</th>\n",
       "      <td>35</td>\n",
       "      <td>0.323049</td>\n",
       "    </tr>\n",
       "    <tr>\n",
       "      <th>5</th>\n",
       "      <td>53</td>\n",
       "      <td>0.327132</td>\n",
       "    </tr>\n",
       "    <tr>\n",
       "      <th>6</th>\n",
       "      <td>75</td>\n",
       "      <td>0.333551</td>\n",
       "    </tr>\n",
       "    <tr>\n",
       "      <th>7</th>\n",
       "      <td>97</td>\n",
       "      <td>0.337977</td>\n",
       "    </tr>\n",
       "    <tr>\n",
       "      <th>8</th>\n",
       "      <td>135</td>\n",
       "      <td>0.341062</td>\n",
       "    </tr>\n",
       "    <tr>\n",
       "      <th>9</th>\n",
       "      <td>205</td>\n",
       "      <td>0.345955</td>\n",
       "    </tr>\n",
       "    <tr>\n",
       "      <th>10</th>\n",
       "      <td>405</td>\n",
       "      <td>0.350193</td>\n",
       "    </tr>\n",
       "    <tr>\n",
       "      <th>11</th>\n",
       "      <td>605</td>\n",
       "      <td>0.351970</td>\n",
       "    </tr>\n",
       "  </tbody>\n",
       "</table>\n",
       "</div>"
      ],
      "text/plain": [
       "    KNN   Test_R2\n",
       "0     3  0.274557\n",
       "1     9  0.298897\n",
       "2    15  0.309243\n",
       "3    23  0.316692\n",
       "4    35  0.323049\n",
       "5    53  0.327132\n",
       "6    75  0.333551\n",
       "7    97  0.337977\n",
       "8   135  0.341062\n",
       "9   205  0.345955\n",
       "10  405  0.350193\n",
       "11  605  0.351970"
      ]
     },
     "metadata": {},
     "output_type": "display_data"
    }
   ],
   "source": [
    "# combine multiple lists into dataframe (https://stackoverflow.com/questions/30522724)\n",
    "df_r2 = pd.DataFrame({'KNN':k_values, 'Test_R2':r2_test_scores})\n",
    "\n",
    "display(df_r2)"
   ]
  },
  {
   "cell_type": "code",
   "execution_count": 36,
   "metadata": {},
   "outputs": [
    {
     "data": {
      "image/png": "[encoded data removed]",
      "text/plain": [
       "<Figure size 1008x576 with 1 Axes>"
      ]
     },
     "metadata": {
      "needs_background": "light"
     },
     "output_type": "display_data"
    }
   ],
   "source": [
    "fig, ax = plt.subplots(1,1, figsize=(14,8))\n",
    "ax.plot(df_r2['KNN'], df_r2['Test_R2'], label='Testing Data', linewidth=2, marker='o', color='red')\n",
    "\n",
    "ax.set_xlabel('k Value')\n",
    "ax.set_ylabel('R2 Score')\n",
    "ax.set_title('R2 Score for Testing Data for Various K Values')\n",
    "\n",
    "ax.legend()\n",
    "plt.show()"
   ]
  },
  {
   "cell_type": "markdown",
   "metadata": {},
   "source": [
    "**The curve flattens out as k increases with an asymptote around 0.355.  The elbow of the curve is around a k value of 100.  And the curve really flattens out beyond a k value of around 200.**\n",
    "\n",
    "**To maximize predictability we will use a k value of 205 below.**"
   ]
  },
  {
   "cell_type": "markdown",
   "metadata": {},
   "source": [
    "## Score and Confusion Matrix for Selected Model"
   ]
  },
  {
   "cell_type": "code",
   "execution_count": 38,
   "metadata": {},
   "outputs": [
    {
     "data": {
      "text/plain": [
       "KNeighborsClassifier(algorithm='auto', leaf_size=30, metric='minkowski',\n",
       "                     metric_params=None, n_jobs=-1, n_neighbors=205, p=1,\n",
       "                     weights='distance')"
      ]
     },
     "execution_count": 38,
     "metadata": {},
     "output_type": "execute_result"
    }
   ],
   "source": [
    "knn = KNeighborsClassifier(n_neighbors=205, weights='distance', p=1, n_jobs=-1)\n",
    "knn.fit(X_train_scaled, y_train)"
   ]
  },
  {
   "cell_type": "code",
   "execution_count": 40,
   "metadata": {},
   "outputs": [
    {
     "name": "stdout",
     "output_type": "stream",
     "text": [
      "Wall time: 2min 7s\n"
     ]
    }
   ],
   "source": [
    "%%time\n",
    "\n",
    "knn_predictions = knn.predict(X_test_scaled)"
   ]
  },
  {
   "cell_type": "code",
   "execution_count": 46,
   "metadata": {},
   "outputs": [],
   "source": [
    "# roc_auc_score(y_test, knn_predictions)  # does not support multiclass formats\n",
    "\n",
    "# copied directly from (https://medium.com/@plog397/auc-roc-curve-scoring-function-for-multi-class-classification-9822871a6659)\n",
    "def multiclass_roc_auc_score(y_test, y_pred, average=\"macro\"):\n",
    "    lb = LabelBinarizer()\n",
    "    lb.fit(y_test)\n",
    "        \n",
    "    y_test = lb.transform(y_test)\n",
    "    y_pred = lb.transform(y_pred)\n",
    "        \n",
    "    return roc_auc_score(y_test, y_pred, average=average)"
   ]
  },
  {
   "cell_type": "code",
   "execution_count": 48,
   "metadata": {},
   "outputs": [
    {
     "name": "stdout",
     "output_type": "stream",
     "text": [
      "KNN Model AUC Score (Testing): 0.574517118846288\n"
     ]
    }
   ],
   "source": [
    "print('KNN Model AUC Score (Testing):', multiclass_roc_auc_score(y_test, knn_predictions))"
   ]
  },
  {
   "cell_type": "code",
   "execution_count": 51,
   "metadata": {},
   "outputs": [
    {
     "name": "stdout",
     "output_type": "stream",
     "text": [
      "Confusion Matrix for KNN with k = 205 (Testing):\n",
      "\n",
      "[[ 279    8  162   20  272   13  583   25  218]\n",
      " [  11  100   80    8  339    3  715   55  105]\n",
      " [ 136   11 1757   25  375    7  730   34  196]\n",
      " [  28    9  128  112  500    8 1407   27  178]\n",
      " [  82   28  261   42 2239   12 1672  144  712]\n",
      " [  23    2   60    4  158   34  360   20  195]\n",
      " [  79   99  501  163 1346   46 5484  281  640]\n",
      " [  41   61  200   18  938   11 1575  152  431]\n",
      " [ 180   29  375   37 1469  140 1943  193  944]]\n"
     ]
    }
   ],
   "source": [
    "print('Confusion Matrix for KNN with k = 205 (Testing):\\n')\n",
    "print(confusion_matrix(y_test, knn_predictions))"
   ]
  },
  {
   "cell_type": "markdown",
   "metadata": {},
   "source": [
    "**KNN does not allow for the determination of feature importance but we'll used linear/logistic regression and decision trees to derive importances.**"
   ]
  },
  {
   "cell_type": "code",
   "execution_count": null,
   "metadata": {},
   "outputs": [],
   "source": []
  }
 ],
 "metadata": {
  "kernelspec": {
   "display_name": "Python 3",
   "language": "python",
   "name": "python3"
  },
  "language_info": {
   "codemirror_mode": {
    "name": "ipython",
    "version": 3
   },
   "file_extension": ".py",
   "mimetype": "text/x-python",
   "name": "python",
   "nbconvert_exporter": "python",
   "pygments_lexer": "ipython3",
   "version": "3.7.5"
  }
 },
 "nbformat": 4,
 "nbformat_minor": 2
}
