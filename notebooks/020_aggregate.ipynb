{
 "cells": [
  {
   "cell_type": "code",
   "execution_count": 230,
   "metadata": {
    "ExecuteTime": {
     "end_time": "2019-11-18T19:26:58.400881Z",
     "start_time": "2019-11-18T19:26:58.393798Z"
    }
   },
   "outputs": [],
   "source": [
    "import os\n",
    "import pandas as pd\n",
    "import numpy as np\n",
    "import matplotlib.pyplot as plt\n",
    "import geopandas as gpd\n",
    "%matplotlib inline\n",
    "\n",
    "# import interactive shell to display multiple outputs per cell\n",
    "from IPython.core.interactiveshell import InteractiveShell\n",
    "InteractiveShell.ast_node_interactivity = \"all\""
   ]
  },
  {
   "cell_type": "code",
   "execution_count": 231,
   "metadata": {
    "ExecuteTime": {
     "end_time": "2019-11-18T19:26:58.598362Z",
     "start_time": "2019-11-18T19:26:58.592830Z"
    }
   },
   "outputs": [],
   "source": [
    "from shapely.geometry import Point\n",
    "crs = {'init': 'epsg:4326'}"
   ]
  },
  {
   "cell_type": "markdown",
   "metadata": {},
   "source": [
    "# Read data"
   ]
  },
  {
   "cell_type": "code",
   "execution_count": 232,
   "metadata": {
    "ExecuteTime": {
     "end_time": "2019-11-18T19:26:58.932230Z",
     "start_time": "2019-11-18T19:26:58.871843Z"
    }
   },
   "outputs": [],
   "source": [
    "DATA_ROOT = '../data/'\n",
    "FIGURES_ROOT = '../figures/property'\n",
    "\n",
    "READDIR_ROOT = os.path.join(DATA_ROOT, 'interim')\n",
    "WRITEDIR_ROOT = os.path.join(DATA_ROOT, 'processed')\n",
    "\n",
    "# Shapes to be considered\n",
    "#  Changing this allows to match other shapes as well\n",
    "readfile_tractshapes = os.path.join('../data/raw/shapefile/census-tracts/Census_2010_Tracts.shp')\n",
    "gdf_tracts = gpd.read_file(readfile_tractshapes)\n",
    "\n",
    "output_df = gdf_tracts[['geometry']].copy()\n",
    "output_df['OBJECTID'] = gdf_tracts['OBJECTID']\n",
    "output_df['area'] = gdf_tracts['Shape__Are']\n",
    "output_df = output_df[['OBJECTID', 'area', 'geometry']]"
   ]
  },
  {
   "cell_type": "code",
   "execution_count": 233,
   "metadata": {
    "ExecuteTime": {
     "end_time": "2019-11-18T19:27:06.392150Z",
     "start_time": "2019-11-18T19:26:59.024122Z"
    }
   },
   "outputs": [
    {
     "name": "stderr",
     "output_type": "stream",
     "text": [
      "/Applications/miniconda3/lib/python3.7/site-packages/IPython/core/interactiveshell.py:3049: DtypeWarning: Columns (16,61,64) have mixed types. Specify dtype option on import or set low_memory=False.\n",
      "  interactivity=interactivity, compiler=compiler, result=result)\n",
      "/Applications/miniconda3/lib/python3.7/site-packages/IPython/core/interactiveshell.py:3049: DtypeWarning: Columns (26,40,41,42) have mixed types. Specify dtype option on import or set low_memory=False.\n",
      "  interactivity=interactivity, compiler=compiler, result=result)\n"
     ]
    }
   ],
   "source": [
    "# Dataframes to be included\n",
    "prop_df_2018 = pd.read_csv(READDIR_ROOT + '/prop_df_2018.csv')\n",
    "df_crime = pd.read_csv(READDIR_ROOT + '/crime/df_crime.csv')\n",
    "df_schools = pd.read_csv(DATA_ROOT + '/raw/boston/public-k12-schools.csv')\n",
    "df_streetlight = pd.read_csv(DATA_ROOT + 'raw/boston/streetlights.csv')\n",
    "df_liquor = pd.read_csv(DATA_ROOT + '/processed/liquor_processed_final.csv')\n",
    "df_violations = pd.read_csv(DATA_ROOT + 'raw/boston/property-violations.csv')"
   ]
  },
  {
   "cell_type": "markdown",
   "metadata": {},
   "source": [
    "# Utils"
   ]
  },
  {
   "cell_type": "code",
   "execution_count": 234,
   "metadata": {
    "ExecuteTime": {
     "end_time": "2019-11-18T19:27:06.412396Z",
     "start_time": "2019-11-18T19:27:06.395947Z"
    }
   },
   "outputs": [],
   "source": [
    "def match_shapes(df, lat_label='LATITUDE', lon_label='LONGITUDE', obj_label='OBJECTID', useful_cols=None):\n",
    "    '''Returns the df with additional columns with shape matches info'''\n",
    "    \n",
    "    points = [Point(coord[1], coord[0]) for coord in df[[lat_label, lon_label]].values]\n",
    "    gdf_prop_2018 = gpd.GeoDataFrame(df, crs=crs, geometry=points)\n",
    "    m = gpd.sjoin(gdf_prop_2018, gdf_tracts, how='left',op=\"within\")\n",
    "    print(m.columns)\n",
    "    print(\"Matched\", m[obj_label].value_counts().sum(), \"out of\", df.shape[0])\n",
    "    \n",
    "    if useful_cols:\n",
    "        return m[[obj_label] + useful_cols]\n",
    "    return m"
   ]
  },
  {
   "cell_type": "code",
   "execution_count": 235,
   "metadata": {
    "ExecuteTime": {
     "end_time": "2019-11-18T19:27:06.428316Z",
     "start_time": "2019-11-18T19:27:06.419224Z"
    }
   },
   "outputs": [],
   "source": [
    "traits = range(1, len(gdf_tracts) + 1)\n",
    "\n",
    "def agg(df, f, col_label=None, id_label='OBJECTID'):\n",
    "    '''Returns a new column with one row per tract, obtained by\n",
    "    applying the function f to pd.Series obtained by taking rows with given OBJECTID\n",
    "    '''\n",
    "    \n",
    "    l = []\n",
    "    for t in traits:\n",
    "        if col_label:\n",
    "            my_df = (df[df[id_label] == t])[col_label]\n",
    "        else:\n",
    "            my_df = (df[df[id_label] == t])\n",
    "            \n",
    "        if isinstance(f, str):\n",
    "            val = my_df.__getattribute__(f)()\n",
    "        else:\n",
    "            val = f(my_df)\n",
    "        l.append(val)\n",
    "    return pd.Series(l)"
   ]
  },
  {
   "cell_type": "markdown",
   "metadata": {},
   "source": [
    "# Process data"
   ]
  },
  {
   "cell_type": "markdown",
   "metadata": {},
   "source": [
    "## Property"
   ]
  },
  {
   "cell_type": "code",
   "execution_count": 236,
   "metadata": {
    "ExecuteTime": {
     "end_time": "2019-11-18T19:27:22.945269Z",
     "start_time": "2019-11-18T19:27:06.435535Z"
    }
   },
   "outputs": [
    {
     "name": "stdout",
     "output_type": "stream",
     "text": [
      "Index(['Unnamed: 0', 'PID', 'CM_ID', 'GIS_ID', 'ST_NUM', 'ST_NAME',\n",
      "       'ST_NAME_SUF', 'UNIT_NUM', 'ZIPCODE', 'PTYPE',\n",
      "       ...\n",
      "       'MTFCC10', 'FUNCSTAT10', 'ALAND10', 'AWATER10', 'INTPTLAT10',\n",
      "       'INTPTLON10', 'Shape_STAr', 'Shape_STLe', 'Shape__Are', 'Shape__Len'],\n",
      "      dtype='object', length=105)\n",
      "Matched 169648 out of 172841\n"
     ]
    }
   ],
   "source": [
    "# Sample usage: build a new df out of a dataset by matching shapes\n",
    "#  optionally, select which columns will be useful to reduce runtime\n",
    "useful = ['OWN_OCC', 'AV_LAND', 'AV_BLDG', 'GROSS_TAX', \n",
    "          'LAND_SF', 'YR_BUILT', 'LIVING_AREA', 'NUM_FLOORS']\n",
    "\n",
    "new_prop = match_shapes(prop_df_2018, useful_cols=useful)"
   ]
  },
  {
   "cell_type": "code",
   "execution_count": 237,
   "metadata": {
    "ExecuteTime": {
     "end_time": "2019-11-18T19:27:25.524286Z",
     "start_time": "2019-11-18T19:27:22.948711Z"
    }
   },
   "outputs": [],
   "source": [
    "# Applies the function given as a second argument to agg to\n",
    "#  pd.Series object formed by selecting items in a tract separately\n",
    "\n",
    "output_df['prop_count'] = agg(new_prop, len) # Counts number of items\n",
    "output_df['prop_tax_mean'] = agg(new_prop, 'mean', col_label='GROSS_TAX') # Counts number of items\n",
    "output_df['prop_tax_std'] = agg(new_prop, 'std', col_label='GROSS_TAX')\n",
    "output_df['prop_living_area_mean'] = agg(new_prop, 'mean', col_label='LIVING_AREA')\n",
    "output_df['prop_floor_mean'] = agg(new_prop, 'mean', col_label='NUM_FLOORS')\n",
    "output_df['prop_land_mean'] = agg(new_prop, 'mean', col_label='LAND_SF')\n",
    "output_df['prop_land_value_pct'] = agg(new_prop, 'sum', col_label='AV_LAND') /\\\n",
    "    (agg(new_prop, 'sum', col_label='AV_BLDG') + agg(new_prop, 'sum', col_label='AV_LAND'))\n",
    "\n",
    "def pct_occ(s: pd.Series):\n",
    "    '''Return the percentage of own occupancy'''\n",
    "    try:\n",
    "        return s.value_counts()['Y'] / len(s)\n",
    "    except:\n",
    "        return 0 # no own occupancy\n",
    "output_df['prop_pct_own_occ'] = agg(new_prop, pct_occ, col_label='OWN_OCC')\n",
    "\n",
    "def avg_year(s: pd.Series):\n",
    "    return s.replace(0, s.median()).mean()\n",
    "output_df['prop_avg_year_built'] = agg(new_prop, avg_year, col_label='YR_BUILT')\n"
   ]
  },
  {
   "cell_type": "markdown",
   "metadata": {},
   "source": [
    "## Schools"
   ]
  },
  {
   "cell_type": "code",
   "execution_count": 238,
   "metadata": {
    "ExecuteTime": {
     "end_time": "2019-11-18T19:27:26.140534Z",
     "start_time": "2019-11-18T19:27:25.526304Z"
    }
   },
   "outputs": [
    {
     "name": "stdout",
     "output_type": "stream",
     "text": [
      "Index(['X', 'Y', 'OBJECTID_1', 'OBJECTID_left', 'BLDG_ID', 'BLDG_NAME',\n",
      "       'ADDRESS', 'CITY', 'ZIPCODE', 'CSP_SCH_ID', 'SCH_ID', 'SCH_NAME',\n",
      "       'SCH_LABEL', 'SCH_TYPE', 'SHARED', 'COMPLEX', 'POINT_X', 'POINT_Y',\n",
      "       'geometry', 'index_right', 'FID', 'OBJECTID_right', 'STATEFP10',\n",
      "       'COUNTYFP10', 'TRACTCE10', 'GEOID10', 'NAME10', 'NAMELSAD10', 'MTFCC10',\n",
      "       'FUNCSTAT10', 'ALAND10', 'AWATER10', 'INTPTLAT10', 'INTPTLON10',\n",
      "       'Shape_STAr', 'Shape_STLe', 'Shape__Are', 'Shape__Len'],\n",
      "      dtype='object')\n",
      "Matched 131 out of 131\n"
     ]
    }
   ],
   "source": [
    "new_schools = match_shapes(df_schools, lat_label='Y', lon_label='X', obj_label='OBJECTID_right')\n",
    "output_df['school_count'] = agg(new_schools, len, id_label='OBJECTID_right') # Counts number of items\n"
   ]
  },
  {
   "cell_type": "markdown",
   "metadata": {},
   "source": [
    "## Streetlight"
   ]
  },
  {
   "cell_type": "code",
   "execution_count": 239,
   "metadata": {
    "ExecuteTime": {
     "end_time": "2019-11-18T19:27:36.919958Z",
     "start_time": "2019-11-18T19:27:26.143541Z"
    }
   },
   "outputs": [
    {
     "name": "stdout",
     "output_type": "stream",
     "text": [
      "Index(['the_geom', 'OBJECTID_left', 'TYPE', 'Lat', 'Long', 'geometry',\n",
      "       'index_right', 'FID', 'OBJECTID_right', 'STATEFP10', 'COUNTYFP10',\n",
      "       'TRACTCE10', 'GEOID10', 'NAME10', 'NAMELSAD10', 'MTFCC10', 'FUNCSTAT10',\n",
      "       'ALAND10', 'AWATER10', 'INTPTLAT10', 'INTPTLON10', 'Shape_STAr',\n",
      "       'Shape_STLe', 'Shape__Are', 'Shape__Len'],\n",
      "      dtype='object')\n",
      "Matched 74065 out of 74065\n"
     ]
    }
   ],
   "source": [
    "new_streetlight = match_shapes(df_streetlight, lat_label='Lat', lon_label='Long', obj_label='OBJECTID_left')\n",
    "output_df['streetlight_count'] = agg(new_streetlight, len, id_label='OBJECTID_left') # Counts number of items\n"
   ]
  },
  {
   "cell_type": "markdown",
   "metadata": {},
   "source": [
    "## Liquor"
   ]
  },
  {
   "cell_type": "code",
   "execution_count": 240,
   "metadata": {
    "ExecuteTime": {
     "end_time": "2019-11-18T19:27:37.985663Z",
     "start_time": "2019-11-18T19:27:36.941266Z"
    },
    "scrolled": true
   },
   "outputs": [
    {
     "name": "stdout",
     "output_type": "stream",
     "text": [
      "Index(['Unnamed: 0', 'Unnamed: 0.1', 'LICENSENO', 'LICSTATUS', 'LICCAT',\n",
      "       'LICCATDESC', 'Address_Complete', 'Location_Complete', 'Latitude',\n",
      "       'Longitude', 'geometry', 'index_right', 'FID', 'OBJECTID', 'STATEFP10',\n",
      "       'COUNTYFP10', 'TRACTCE10', 'GEOID10', 'NAME10', 'NAMELSAD10', 'MTFCC10',\n",
      "       'FUNCSTAT10', 'ALAND10', 'AWATER10', 'INTPTLAT10', 'INTPTLON10',\n",
      "       'Shape_STAr', 'Shape_STLe', 'Shape__Are', 'Shape__Len'],\n",
      "      dtype='object')\n",
      "Matched 1048 out of 1103\n"
     ]
    }
   ],
   "source": [
    "new_liquor = match_shapes(df_liquor, lat_label='Latitude', lon_label='Longitude')\n",
    "output_df['liquor_count'] = agg(new_liquor, len) # Counts number of items\n"
   ]
  },
  {
   "cell_type": "markdown",
   "metadata": {},
   "source": [
    "## Violations"
   ]
  },
  {
   "cell_type": "code",
   "execution_count": 241,
   "metadata": {
    "ExecuteTime": {
     "end_time": "2019-11-18T19:27:40.679130Z",
     "start_time": "2019-11-18T19:27:37.988251Z"
    }
   },
   "outputs": [
    {
     "name": "stdout",
     "output_type": "stream",
     "text": [
      "Index(['ticket_no', 'status_dttm', 'status', 'code', 'value', 'description',\n",
      "       'stno', 'sthigh', 'street', 'suffix', 'city', 'state', 'zip', 'sam_id',\n",
      "       'latitude', 'longitude', 'location', 'geometry', 'index_right', 'FID',\n",
      "       'OBJECTID', 'STATEFP10', 'COUNTYFP10', 'TRACTCE10', 'GEOID10', 'NAME10',\n",
      "       'NAMELSAD10', 'MTFCC10', 'FUNCSTAT10', 'ALAND10', 'AWATER10',\n",
      "       'INTPTLAT10', 'INTPTLON10', 'Shape_STAr', 'Shape_STLe', 'Shape__Are',\n",
      "       'Shape__Len'],\n",
      "      dtype='object')\n",
      "Matched 18605 out of 18607\n"
     ]
    }
   ],
   "source": [
    "new_violations = match_shapes(df_violations, lat_label='latitude', lon_label='longitude')\n",
    "output_df['violation_count'] = agg(new_violations, len) # Counts number of items\n"
   ]
  },
  {
   "cell_type": "markdown",
   "metadata": {},
   "source": [
    "## Crime"
   ]
  },
  {
   "cell_type": "code",
   "execution_count": 252,
   "metadata": {
    "ExecuteTime": {
     "end_time": "2019-11-18T19:30:32.777359Z",
     "start_time": "2019-11-18T19:30:31.980906Z"
    }
   },
   "outputs": [],
   "source": [
    "# For now, just record the total number of crimes\n",
    "#   More y-s to be added upon discussion\n",
    "\n",
    "output_df['crime_count'] = agg(df_crime, len, id_label='OBJECTID_censustract') # Counts number of items\n"
   ]
  },
  {
   "cell_type": "markdown",
   "metadata": {},
   "source": [
    "# Write to file"
   ]
  },
  {
   "cell_type": "code",
   "execution_count": 254,
   "metadata": {
    "ExecuteTime": {
     "end_time": "2019-11-18T19:30:46.444076Z",
     "start_time": "2019-11-18T19:30:46.323200Z"
    }
   },
   "outputs": [],
   "source": [
    "output_df.to_csv(WRITEDIR_ROOT + '/aggregate.csv')"
   ]
  },
  {
   "cell_type": "code",
   "execution_count": null,
   "metadata": {},
   "outputs": [],
   "source": []
  }
 ],
 "metadata": {
  "kernelspec": {
   "display_name": "Python 3",
   "language": "python",
   "name": "python3"
  },
  "language_info": {
   "codemirror_mode": {
    "name": "ipython",
    "version": 3
   },
   "file_extension": ".py",
   "mimetype": "text/x-python",
   "name": "python",
   "nbconvert_exporter": "python",
   "pygments_lexer": "ipython3",
   "version": "3.7.3"
  },
  "toc": {
   "base_numbering": 1,
   "nav_menu": {},
   "number_sections": true,
   "sideBar": true,
   "skip_h1_title": false,
   "title_cell": "Table of Contents",
   "title_sidebar": "Contents",
   "toc_cell": false,
   "toc_position": {},
   "toc_section_display": true,
   "toc_window_display": false
  }
 },
 "nbformat": 4,
 "nbformat_minor": 2
}
