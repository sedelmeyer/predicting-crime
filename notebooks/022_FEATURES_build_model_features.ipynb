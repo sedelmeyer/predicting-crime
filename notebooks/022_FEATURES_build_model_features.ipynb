{
 "cells": [
  {
   "cell_type": "markdown",
   "metadata": {},
   "source": [
    "# Notebook 022: Build Model Features\n",
    "\n",
    "This notebook combines features from the cleansed crime incidents dataset as well as a number of other datasets to append each crime incident record with the additional engineered features used in our analysis"
   ]
  },
  {
   "cell_type": "code",
   "execution_count": 1,
   "metadata": {},
   "outputs": [],
   "source": [
    "import urllib\n",
    "import os\n",
    "import operator\n",
    "import pathlib\n",
    "import requests\n",
    "import pandas as pd\n",
    "import numpy as np\n",
    "import matplotlib.pyplot as plt\n",
    "import seaborn as sns\n",
    "%matplotlib inline"
   ]
  },
  {
   "cell_type": "code",
   "execution_count": 74,
   "metadata": {},
   "outputs": [
    {
     "name": "stdout",
     "output_type": "stream",
     "text": [
      "readfile paths for datasets used in this notebook are:\n",
      "\t../data/processed/crime-records-for-model-no-features-added.csv\n",
      "\t../data/processed/property-assessment-features-2013-2019.csv\n",
      "\t../data/processed/boston-daily-weather-20140101-20190831.csv\n"
     ]
    }
   ],
   "source": [
    "DATA_ROOT = '../data/'\n",
    "FIGURES_ROOT = '../figures/crime'\n",
    "\n",
    "READDIR_ROOT = os.path.join(DATA_ROOT, 'raw')\n",
    "WRITEDIR_ROOT = os.path.join(DATA_ROOT, 'interim/crime')\n",
    "FEATURES_ROOT = os.path.join(DATA_ROOT, 'processed')\n",
    "\n",
    "readfile_crime = os.path.join(FEATURES_ROOT, 'crime-records-for-model-no-features-added.csv')\n",
    "readfile_property = os.path.join(FEATURES_ROOT, 'property-assessment-features-2013-2019.csv')\n",
    "readfile_weather = os.path.join(FEATURES_ROOT, 'boston-daily-weather-20140101-20190831.csv')\n",
    "readfile_streetlights = os.path.join(READDIR_ROOT, 'boston/streetlights.csv')\n",
    "# readfile_demographics = \n",
    "# readfile_colleges = \n",
    "# readfile_schools = \n",
    "# readfile_violations = \n",
    "\n",
    "readfile_zipshapes = os.path.join(READDIR_ROOT, 'shapefile/zipcodes/ZIP_Codes.shp')\n",
    "readfile_cityshape = os.path.join(READDIR_ROOT, 'shapefile/city-boundary/City_of_Boston_Boundary.shp')\n",
    "readfile_streetshapes = os.path.join(READDIR_ROOT, 'shapefile/street-segments/Boston_Street_Segments.shp')\n",
    "readfile_tractshapes = os.path.join(READDIR_ROOT, 'shapefile/census-tracts/Census_2010_Tracts.shp')\n",
    "readfile_hoodshapes = os.path.join(READDIR_ROOT, 'shapefile/boston-neighborhoods/Boston_Neighborhoods.shp')\n",
    "readfile_zonesubshapes = os.path.join(READDIR_ROOT, 'shapefile/zoning-subdistricts/Zoning_Subdistricts.shp')\n",
    "readfile_openshapes = os.path.join(READDIR_ROOT, 'shapefile/open-spaces/Open_Space.shp')\n",
    "\n",
    "print(\n",
    "    'readfile paths for datasets used in this notebook are:\\n\\t{}\\n\\t{}\\n\\t{}'.format(\n",
    "        readfile_crime, readfile_property, readfile_weather, readfile_zipshapes, WRITEDIR_ROOT\n",
    "    )\n",
    ")"
   ]
  },
  {
   "cell_type": "markdown",
   "metadata": {},
   "source": [
    "## Read in datasources for merging"
   ]
  },
  {
   "cell_type": "code",
   "execution_count": 137,
   "metadata": {},
   "outputs": [],
   "source": [
    "df_crime = pd.read_csv(readfile_crime, dtype=str)\n",
    "df_property = pd.read_csv(readfile_property, dtype={'shape-id': str, 'fiscal-year': int})\n",
    "df_weather = pd.read_csv(readfile_weather)\n",
    "\n",
    "df_crime['lat'] = df_crime['lat'].astype(float)\n",
    "df_crime['lon'] = df_crime['lon'].astype(float)"
   ]
  },
  {
   "cell_type": "code",
   "execution_count": 138,
   "metadata": {
    "scrolled": false
   },
   "outputs": [
    {
     "name": "stdout",
     "output_type": "stream",
     "text": [
      "CRIME DATAFRAME\n",
      "\n",
      "<class 'pandas.core.frame.DataFrame'>\n",
      "RangeIndex: 151072 entries, 0 to 151071\n",
      "Data columns (total 18 columns):\n",
      "crime-type             151072 non-null object\n",
      "INCIDENT_NUMBER        151072 non-null object\n",
      "OFFENSE_DESCRIPTION    151072 non-null object\n",
      "timestamp              151072 non-null object\n",
      "lat                    151072 non-null float64\n",
      "lon                    151072 non-null float64\n",
      "year                   151072 non-null object\n",
      "month                  151072 non-null object\n",
      "day-of-week            151072 non-null object\n",
      "hour                   151072 non-null object\n",
      "ZIP5                   151044 non-null object\n",
      "ZIP5_area              151044 non-null object\n",
      "Name                   151002 non-null object\n",
      "Neighborhood_area      151002 non-null object\n",
      "Neighborhood_area_2    151002 non-null object\n",
      "TRACTCE10              151072 non-null object\n",
      "TRACTCE10_area         151072 non-null object\n",
      "TRACTCE10_area_2       151072 non-null object\n",
      "dtypes: float64(2), object(16)\n",
      "memory usage: 20.7+ MB\n"
     ]
    },
    {
     "data": {
      "text/html": [
       "<div>\n",
       "<style scoped>\n",
       "    .dataframe tbody tr th:only-of-type {\n",
       "        vertical-align: middle;\n",
       "    }\n",
       "\n",
       "    .dataframe tbody tr th {\n",
       "        vertical-align: top;\n",
       "    }\n",
       "\n",
       "    .dataframe thead th {\n",
       "        text-align: right;\n",
       "    }\n",
       "</style>\n",
       "<table border=\"1\" class=\"dataframe\">\n",
       "  <thead>\n",
       "    <tr style=\"text-align: right;\">\n",
       "      <th></th>\n",
       "      <th>crime-type</th>\n",
       "      <th>INCIDENT_NUMBER</th>\n",
       "      <th>OFFENSE_DESCRIPTION</th>\n",
       "      <th>timestamp</th>\n",
       "      <th>lat</th>\n",
       "      <th>lon</th>\n",
       "      <th>year</th>\n",
       "      <th>month</th>\n",
       "      <th>day-of-week</th>\n",
       "      <th>hour</th>\n",
       "      <th>ZIP5</th>\n",
       "      <th>ZIP5_area</th>\n",
       "      <th>Name</th>\n",
       "      <th>Neighborhood_area</th>\n",
       "      <th>Neighborhood_area_2</th>\n",
       "      <th>TRACTCE10</th>\n",
       "      <th>TRACTCE10_area</th>\n",
       "      <th>TRACTCE10_area_2</th>\n",
       "    </tr>\n",
       "  </thead>\n",
       "  <tbody>\n",
       "    <tr>\n",
       "      <th>0</th>\n",
       "      <td>fraud</td>\n",
       "      <td>I192078177</td>\n",
       "      <td>forgery / counterfeiting</td>\n",
       "      <td>2019-08-01 17:46:00</td>\n",
       "      <td>42.304922</td>\n",
       "      <td>-71.102981</td>\n",
       "      <td>2019</td>\n",
       "      <td>8</td>\n",
       "      <td>Thursday</td>\n",
       "      <td>17</td>\n",
       "      <td>02130</td>\n",
       "      <td>105221153.02392578</td>\n",
       "      <td>Roxbury</td>\n",
       "      <td>91844545.97481573</td>\n",
       "      <td>3.29</td>\n",
       "      <td>980300</td>\n",
       "      <td>22640579.7627</td>\n",
       "      <td>3847996.3515625</td>\n",
       "    </tr>\n",
       "    <tr>\n",
       "      <th>1</th>\n",
       "      <td>harassment-disturbance</td>\n",
       "      <td>I192078061</td>\n",
       "      <td>harassment</td>\n",
       "      <td>2019-06-12 21:00:00</td>\n",
       "      <td>42.355553</td>\n",
       "      <td>-71.152747</td>\n",
       "      <td>2019</td>\n",
       "      <td>6</td>\n",
       "      <td>Wednesday</td>\n",
       "      <td>21</td>\n",
       "      <td>02135</td>\n",
       "      <td>78620825.92480469</td>\n",
       "      <td>Brighton</td>\n",
       "      <td>80167877.560494</td>\n",
       "      <td>2.88</td>\n",
       "      <td>000202</td>\n",
       "      <td>6475526.5708</td>\n",
       "      <td>1102312.71484375</td>\n",
       "    </tr>\n",
       "    <tr>\n",
       "      <th>2</th>\n",
       "      <td>theft</td>\n",
       "      <td>I192078038</td>\n",
       "      <td>larceny theft of mv parts &amp; accessories</td>\n",
       "      <td>2019-03-10 08:00:00</td>\n",
       "      <td>42.345625</td>\n",
       "      <td>-71.041291</td>\n",
       "      <td>2019</td>\n",
       "      <td>3</td>\n",
       "      <td>Sunday</td>\n",
       "      <td>8</td>\n",
       "      <td>02210</td>\n",
       "      <td>32373210.07080078</td>\n",
       "      <td>South Boston Waterfront</td>\n",
       "      <td>27087395.391558826</td>\n",
       "      <td>0.97</td>\n",
       "      <td>060600</td>\n",
       "      <td>20379799.0356</td>\n",
       "      <td>3468813.69921875</td>\n",
       "    </tr>\n",
       "    <tr>\n",
       "      <th>3</th>\n",
       "      <td>theft</td>\n",
       "      <td>I192078015</td>\n",
       "      <td>larceny all others</td>\n",
       "      <td>2019-07-08 10:29:00</td>\n",
       "      <td>42.339304</td>\n",
       "      <td>-71.051604</td>\n",
       "      <td>2019</td>\n",
       "      <td>7</td>\n",
       "      <td>Monday</td>\n",
       "      <td>10</td>\n",
       "      <td>02127</td>\n",
       "      <td>67536142.7421875</td>\n",
       "      <td>South Boston</td>\n",
       "      <td>62721306.143917084</td>\n",
       "      <td>2.25</td>\n",
       "      <td>060700</td>\n",
       "      <td>1380119.5437</td>\n",
       "      <td>234830.15234375</td>\n",
       "    </tr>\n",
       "    <tr>\n",
       "      <th>4</th>\n",
       "      <td>theft</td>\n",
       "      <td>I192077997</td>\n",
       "      <td>auto theft - leased/rented vehicle</td>\n",
       "      <td>2019-04-13 08:00:00</td>\n",
       "      <td>42.328564</td>\n",
       "      <td>-71.068353</td>\n",
       "      <td>2019</td>\n",
       "      <td>4</td>\n",
       "      <td>Saturday</td>\n",
       "      <td>8</td>\n",
       "      <td>02119</td>\n",
       "      <td>44511498.52441406</td>\n",
       "      <td>Roxbury</td>\n",
       "      <td>91844545.97481573</td>\n",
       "      <td>3.29</td>\n",
       "      <td>080100</td>\n",
       "      <td>11047170.5891</td>\n",
       "      <td>1879154.8203125</td>\n",
       "    </tr>\n",
       "  </tbody>\n",
       "</table>\n",
       "</div>"
      ],
      "text/plain": [
       "               crime-type INCIDENT_NUMBER  \\\n",
       "0                   fraud      I192078177   \n",
       "1  harassment-disturbance      I192078061   \n",
       "2                   theft      I192078038   \n",
       "3                   theft      I192078015   \n",
       "4                   theft      I192077997   \n",
       "\n",
       "                       OFFENSE_DESCRIPTION            timestamp        lat  \\\n",
       "0                 forgery / counterfeiting  2019-08-01 17:46:00  42.304922   \n",
       "1                               harassment  2019-06-12 21:00:00  42.355553   \n",
       "2  larceny theft of mv parts & accessories  2019-03-10 08:00:00  42.345625   \n",
       "3                       larceny all others  2019-07-08 10:29:00  42.339304   \n",
       "4       auto theft - leased/rented vehicle  2019-04-13 08:00:00  42.328564   \n",
       "\n",
       "         lon  year month day-of-week hour   ZIP5           ZIP5_area  \\\n",
       "0 -71.102981  2019     8    Thursday   17  02130  105221153.02392578   \n",
       "1 -71.152747  2019     6   Wednesday   21  02135   78620825.92480469   \n",
       "2 -71.041291  2019     3      Sunday    8  02210   32373210.07080078   \n",
       "3 -71.051604  2019     7      Monday   10  02127    67536142.7421875   \n",
       "4 -71.068353  2019     4    Saturday    8  02119   44511498.52441406   \n",
       "\n",
       "                      Name   Neighborhood_area Neighborhood_area_2 TRACTCE10  \\\n",
       "0                  Roxbury   91844545.97481573                3.29    980300   \n",
       "1                 Brighton     80167877.560494                2.88    000202   \n",
       "2  South Boston Waterfront  27087395.391558826                0.97    060600   \n",
       "3             South Boston  62721306.143917084                2.25    060700   \n",
       "4                  Roxbury   91844545.97481573                3.29    080100   \n",
       "\n",
       "  TRACTCE10_area  TRACTCE10_area_2  \n",
       "0  22640579.7627   3847996.3515625  \n",
       "1   6475526.5708  1102312.71484375  \n",
       "2  20379799.0356  3468813.69921875  \n",
       "3   1380119.5437   234830.15234375  \n",
       "4  11047170.5891   1879154.8203125  "
      ]
     },
     "metadata": {},
     "output_type": "display_data"
    },
    {
     "name": "stdout",
     "output_type": "stream",
     "text": [
      "\n",
      "\n",
      "PROPERTY ASSESSMENT FEATURES DATAFRAME\n",
      "\n",
      "<class 'pandas.core.frame.DataFrame'>\n",
      "RangeIndex: 13002 entries, 0 to 13001\n",
      "Data columns (total 5 columns):\n",
      "shape-id       13002 non-null object\n",
      "fiscal-year    13002 non-null int64\n",
      "value          12927 non-null float64\n",
      "shape-type     13002 non-null object\n",
      "metric         13002 non-null object\n",
      "dtypes: float64(1), int64(1), object(3)\n",
      "memory usage: 508.0+ KB\n"
     ]
    },
    {
     "data": {
      "text/html": [
       "<div>\n",
       "<style scoped>\n",
       "    .dataframe tbody tr th:only-of-type {\n",
       "        vertical-align: middle;\n",
       "    }\n",
       "\n",
       "    .dataframe tbody tr th {\n",
       "        vertical-align: top;\n",
       "    }\n",
       "\n",
       "    .dataframe thead th {\n",
       "        text-align: right;\n",
       "    }\n",
       "</style>\n",
       "<table border=\"1\" class=\"dataframe\">\n",
       "  <thead>\n",
       "    <tr style=\"text-align: right;\">\n",
       "      <th></th>\n",
       "      <th>shape-id</th>\n",
       "      <th>fiscal-year</th>\n",
       "      <th>value</th>\n",
       "      <th>shape-type</th>\n",
       "      <th>metric</th>\n",
       "    </tr>\n",
       "  </thead>\n",
       "  <tbody>\n",
       "    <tr>\n",
       "      <th>0</th>\n",
       "      <td>00000</td>\n",
       "      <td>2013</td>\n",
       "      <td>37000.0</td>\n",
       "      <td>zipcode</td>\n",
       "      <td>residential-median-value</td>\n",
       "    </tr>\n",
       "    <tr>\n",
       "      <th>1</th>\n",
       "      <td>02026</td>\n",
       "      <td>2013</td>\n",
       "      <td>NaN</td>\n",
       "      <td>zipcode</td>\n",
       "      <td>residential-median-value</td>\n",
       "    </tr>\n",
       "    <tr>\n",
       "      <th>2</th>\n",
       "      <td>02108</td>\n",
       "      <td>2013</td>\n",
       "      <td>691300.0</td>\n",
       "      <td>zipcode</td>\n",
       "      <td>residential-median-value</td>\n",
       "    </tr>\n",
       "    <tr>\n",
       "      <th>3</th>\n",
       "      <td>02109</td>\n",
       "      <td>2013</td>\n",
       "      <td>456950.0</td>\n",
       "      <td>zipcode</td>\n",
       "      <td>residential-median-value</td>\n",
       "    </tr>\n",
       "    <tr>\n",
       "      <th>4</th>\n",
       "      <td>02110</td>\n",
       "      <td>2013</td>\n",
       "      <td>566512.5</td>\n",
       "      <td>zipcode</td>\n",
       "      <td>residential-median-value</td>\n",
       "    </tr>\n",
       "  </tbody>\n",
       "</table>\n",
       "</div>"
      ],
      "text/plain": [
       "  shape-id  fiscal-year     value shape-type                    metric\n",
       "0    00000         2013   37000.0    zipcode  residential-median-value\n",
       "1    02026         2013       NaN    zipcode  residential-median-value\n",
       "2    02108         2013  691300.0    zipcode  residential-median-value\n",
       "3    02109         2013  456950.0    zipcode  residential-median-value\n",
       "4    02110         2013  566512.5    zipcode  residential-median-value"
      ]
     },
     "metadata": {},
     "output_type": "display_data"
    },
    {
     "name": "stdout",
     "output_type": "stream",
     "text": [
      "\n",
      "\n",
      "WEATHER FEATURES DATAFRAME\n",
      "\n",
      "<class 'pandas.core.frame.DataFrame'>\n",
      "RangeIndex: 1339 entries, 0 to 1338\n",
      "Data columns (total 13 columns):\n",
      "date            1339 non-null object\n",
      "weathercodes    660 non-null object\n",
      "sunrise         1339 non-null int64\n",
      "sunset          1339 non-null int64\n",
      "tempavg         1339 non-null float64\n",
      "tempmax         1339 non-null float64\n",
      "tempmin         1339 non-null float64\n",
      "humavg          1338 non-null float64\n",
      "windavg         1339 non-null float64\n",
      "windsustain     1339 non-null int64\n",
      "windmax         1339 non-null int64\n",
      "precip          1339 non-null float64\n",
      "snowfall        1339 non-null float64\n",
      "dtypes: float64(7), int64(4), object(2)\n",
      "memory usage: 136.1+ KB\n"
     ]
    },
    {
     "data": {
      "text/html": [
       "<div>\n",
       "<style scoped>\n",
       "    .dataframe tbody tr th:only-of-type {\n",
       "        vertical-align: middle;\n",
       "    }\n",
       "\n",
       "    .dataframe tbody tr th {\n",
       "        vertical-align: top;\n",
       "    }\n",
       "\n",
       "    .dataframe thead th {\n",
       "        text-align: right;\n",
       "    }\n",
       "</style>\n",
       "<table border=\"1\" class=\"dataframe\">\n",
       "  <thead>\n",
       "    <tr style=\"text-align: right;\">\n",
       "      <th></th>\n",
       "      <th>date</th>\n",
       "      <th>weathercodes</th>\n",
       "      <th>sunrise</th>\n",
       "      <th>sunset</th>\n",
       "      <th>tempavg</th>\n",
       "      <th>tempmax</th>\n",
       "      <th>tempmin</th>\n",
       "      <th>humavg</th>\n",
       "      <th>windavg</th>\n",
       "      <th>windsustain</th>\n",
       "      <th>windmax</th>\n",
       "      <th>precip</th>\n",
       "      <th>snowfall</th>\n",
       "    </tr>\n",
       "  </thead>\n",
       "  <tbody>\n",
       "    <tr>\n",
       "      <th>0</th>\n",
       "      <td>2016-01-01</td>\n",
       "      <td>NaN</td>\n",
       "      <td>713</td>\n",
       "      <td>1622</td>\n",
       "      <td>2.8</td>\n",
       "      <td>5.0</td>\n",
       "      <td>0.6</td>\n",
       "      <td>58.0</td>\n",
       "      <td>12.7</td>\n",
       "      <td>23</td>\n",
       "      <td>32</td>\n",
       "      <td>0.0</td>\n",
       "      <td>0.0</td>\n",
       "    </tr>\n",
       "    <tr>\n",
       "      <th>1</th>\n",
       "      <td>2016-01-02</td>\n",
       "      <td>NaN</td>\n",
       "      <td>714</td>\n",
       "      <td>1623</td>\n",
       "      <td>2.2</td>\n",
       "      <td>4.4</td>\n",
       "      <td>-0.6</td>\n",
       "      <td>53.0</td>\n",
       "      <td>13.3</td>\n",
       "      <td>22</td>\n",
       "      <td>28</td>\n",
       "      <td>0.0</td>\n",
       "      <td>0.0</td>\n",
       "    </tr>\n",
       "    <tr>\n",
       "      <th>2</th>\n",
       "      <td>2016-01-03</td>\n",
       "      <td>NaN</td>\n",
       "      <td>714</td>\n",
       "      <td>1624</td>\n",
       "      <td>3.3</td>\n",
       "      <td>6.7</td>\n",
       "      <td>-0.6</td>\n",
       "      <td>57.0</td>\n",
       "      <td>11.7</td>\n",
       "      <td>21</td>\n",
       "      <td>28</td>\n",
       "      <td>0.0</td>\n",
       "      <td>0.0</td>\n",
       "    </tr>\n",
       "    <tr>\n",
       "      <th>3</th>\n",
       "      <td>2016-01-04</td>\n",
       "      <td>SN</td>\n",
       "      <td>714</td>\n",
       "      <td>1625</td>\n",
       "      <td>-3.9</td>\n",
       "      <td>2.2</td>\n",
       "      <td>-10.0</td>\n",
       "      <td>59.0</td>\n",
       "      <td>12.4</td>\n",
       "      <td>21</td>\n",
       "      <td>28</td>\n",
       "      <td>0.0</td>\n",
       "      <td>0.0</td>\n",
       "    </tr>\n",
       "    <tr>\n",
       "      <th>4</th>\n",
       "      <td>2016-01-05</td>\n",
       "      <td>NaN</td>\n",
       "      <td>714</td>\n",
       "      <td>1626</td>\n",
       "      <td>-8.3</td>\n",
       "      <td>-3.3</td>\n",
       "      <td>-13.3</td>\n",
       "      <td>41.0</td>\n",
       "      <td>10.0</td>\n",
       "      <td>18</td>\n",
       "      <td>23</td>\n",
       "      <td>0.0</td>\n",
       "      <td>0.0</td>\n",
       "    </tr>\n",
       "  </tbody>\n",
       "</table>\n",
       "</div>"
      ],
      "text/plain": [
       "         date weathercodes  sunrise  sunset  tempavg  tempmax  tempmin  \\\n",
       "0  2016-01-01          NaN      713    1622      2.8      5.0      0.6   \n",
       "1  2016-01-02          NaN      714    1623      2.2      4.4     -0.6   \n",
       "2  2016-01-03          NaN      714    1624      3.3      6.7     -0.6   \n",
       "3  2016-01-04           SN      714    1625     -3.9      2.2    -10.0   \n",
       "4  2016-01-05          NaN      714    1626     -8.3     -3.3    -13.3   \n",
       "\n",
       "   humavg  windavg  windsustain  windmax  precip  snowfall  \n",
       "0    58.0     12.7           23       32     0.0       0.0  \n",
       "1    53.0     13.3           22       28     0.0       0.0  \n",
       "2    57.0     11.7           21       28     0.0       0.0  \n",
       "3    59.0     12.4           21       28     0.0       0.0  \n",
       "4    41.0     10.0           18       23     0.0       0.0  "
      ]
     },
     "metadata": {},
     "output_type": "display_data"
    }
   ],
   "source": [
    "# print info for each dataframe\n",
    "print('CRIME DATAFRAME\\n')\n",
    "df_crime.info()\n",
    "display(df_crime.head())\n",
    "print('\\n\\nPROPERTY ASSESSMENT FEATURES DATAFRAME\\n')\n",
    "df_property.info()\n",
    "display(df_property.head())\n",
    "print('\\n\\nWEATHER FEATURES DATAFRAME\\n')\n",
    "df_weather.info()\n",
    "display(df_weather.head())"
   ]
  },
  {
   "cell_type": "markdown",
   "metadata": {},
   "source": [
    "## Merge property assessment features"
   ]
  },
  {
   "cell_type": "code",
   "execution_count": 139,
   "metadata": {},
   "outputs": [
    {
     "data": {
      "text/plain": [
       "(9570, 5)"
      ]
     },
     "execution_count": 139,
     "metadata": {},
     "output_type": "execute_result"
    }
   ],
   "source": [
    "# subset property features data to contain only census-tract level metrics\n",
    "df_property = df_property.loc[df_property['shape-type']=='census tract']\n",
    "df_property.shape"
   ]
  },
  {
   "cell_type": "code",
   "execution_count": 140,
   "metadata": {},
   "outputs": [
    {
     "name": "stdout",
     "output_type": "stream",
     "text": [
      "commercial-mix-ratio                 1267\n",
      "industrial-mix-ratio                 1267\n",
      "owner-occupied-ratio                 1190\n",
      "residential-gini-coef                1183\n",
      "residential-median-value             1183\n",
      "industrial-mix-ratio-3yr-cagr         724\n",
      "commercial-mix-ratio-3yr-cagr         724\n",
      "owner-occupied-ratio-3yr-cagr         680\n",
      "residential-median-value-3yr-cagr     676\n",
      "residential-gini-coef-3yr-cagr        676\n",
      "Name: metric, dtype: int64\n",
      "\n",
      "['commercial-mix-ratio', 'industrial-mix-ratio', 'owner-occupied-ratio', 'residential-gini-coef', 'residential-median-value', 'industrial-mix-ratio-3yr-cagr', 'commercial-mix-ratio-3yr-cagr', 'owner-occupied-ratio-3yr-cagr', 'residential-median-value-3yr-cagr', 'residential-gini-coef-3yr-cagr']\n"
     ]
    }
   ],
   "source": [
    "# make list of metrics for matching\n",
    "print(df_property['metric'].value_counts())\n",
    "\n",
    "prop_metrics_list = list(df_property['metric'].value_counts().index)\n",
    "\n",
    "print()\n",
    "print(prop_metrics_list)"
   ]
  },
  {
   "cell_type": "code",
   "execution_count": 141,
   "metadata": {},
   "outputs": [
    {
     "data": {
      "text/plain": [
       "0    9803002019\n",
       "1    0002022019\n",
       "2    0606002019\n",
       "3    0607002019\n",
       "4    0801002019\n",
       "Name: tract-match-key, dtype: object"
      ]
     },
     "execution_count": 141,
     "metadata": {},
     "output_type": "execute_result"
    }
   ],
   "source": [
    "# create temporary match-key column for crime dataset record matching\n",
    "df_crime['tract-match-key'] = (df_crime['TRACTCE10'].astype(str) + df_crime['year'].astype(str)).values\n",
    "\n",
    "df_crime['tract-match-key'].head()"
   ]
  },
  {
   "cell_type": "code",
   "execution_count": 142,
   "metadata": {},
   "outputs": [],
   "source": [
    "# Start list of \"temporary match\" column names for dropping before saving final dataframe\n",
    "\n",
    "temp_drop_list = ['tract-match-key']"
   ]
  },
  {
   "cell_type": "code",
   "execution_count": 143,
   "metadata": {},
   "outputs": [
    {
     "data": {
      "text/html": [
       "<div>\n",
       "<style scoped>\n",
       "    .dataframe tbody tr th:only-of-type {\n",
       "        vertical-align: middle;\n",
       "    }\n",
       "\n",
       "    .dataframe tbody tr th {\n",
       "        vertical-align: top;\n",
       "    }\n",
       "\n",
       "    .dataframe thead th {\n",
       "        text-align: right;\n",
       "    }\n",
       "</style>\n",
       "<table border=\"1\" class=\"dataframe\">\n",
       "  <thead>\n",
       "    <tr style=\"text-align: right;\">\n",
       "      <th></th>\n",
       "      <th>shape-id</th>\n",
       "      <th>fiscal-year</th>\n",
       "      <th>value</th>\n",
       "      <th>shape-type</th>\n",
       "      <th>metric</th>\n",
       "      <th>shape_match</th>\n",
       "    </tr>\n",
       "  </thead>\n",
       "  <tbody>\n",
       "    <tr>\n",
       "      <th>420</th>\n",
       "      <td>000100</td>\n",
       "      <td>2013</td>\n",
       "      <td>402150.0</td>\n",
       "      <td>census tract</td>\n",
       "      <td>residential-median-value</td>\n",
       "      <td>0001002013</td>\n",
       "    </tr>\n",
       "    <tr>\n",
       "      <th>421</th>\n",
       "      <td>000201</td>\n",
       "      <td>2013</td>\n",
       "      <td>444900.0</td>\n",
       "      <td>census tract</td>\n",
       "      <td>residential-median-value</td>\n",
       "      <td>0002012013</td>\n",
       "    </tr>\n",
       "    <tr>\n",
       "      <th>422</th>\n",
       "      <td>000202</td>\n",
       "      <td>2013</td>\n",
       "      <td>447581.0</td>\n",
       "      <td>census tract</td>\n",
       "      <td>residential-median-value</td>\n",
       "      <td>0002022013</td>\n",
       "    </tr>\n",
       "    <tr>\n",
       "      <th>423</th>\n",
       "      <td>000301</td>\n",
       "      <td>2013</td>\n",
       "      <td>412700.0</td>\n",
       "      <td>census tract</td>\n",
       "      <td>residential-median-value</td>\n",
       "      <td>0003012013</td>\n",
       "    </tr>\n",
       "    <tr>\n",
       "      <th>424</th>\n",
       "      <td>000302</td>\n",
       "      <td>2013</td>\n",
       "      <td>326650.0</td>\n",
       "      <td>census tract</td>\n",
       "      <td>residential-median-value</td>\n",
       "      <td>0003022013</td>\n",
       "    </tr>\n",
       "  </tbody>\n",
       "</table>\n",
       "</div>"
      ],
      "text/plain": [
       "    shape-id  fiscal-year     value    shape-type                    metric  \\\n",
       "420   000100         2013  402150.0  census tract  residential-median-value   \n",
       "421   000201         2013  444900.0  census tract  residential-median-value   \n",
       "422   000202         2013  447581.0  census tract  residential-median-value   \n",
       "423   000301         2013  412700.0  census tract  residential-median-value   \n",
       "424   000302         2013  326650.0  census tract  residential-median-value   \n",
       "\n",
       "    shape_match  \n",
       "420  0001002013  \n",
       "421  0002012013  \n",
       "422  0002022013  \n",
       "423  0003012013  \n",
       "424  0003022013  "
      ]
     },
     "execution_count": 143,
     "metadata": {},
     "output_type": "execute_result"
    }
   ],
   "source": [
    "# create equivalent match-key column for property metrics dataframe\n",
    "df_property['shape_match'] = (df_property['shape-id'].astype(str) + df_property['fiscal-year'].astype(str)).values\n",
    "df_property.head()"
   ]
  },
  {
   "cell_type": "code",
   "execution_count": 144,
   "metadata": {},
   "outputs": [],
   "source": [
    "############################################\n",
    "# Merge property features to crime dataframe\n",
    "############################################\n",
    "\n",
    "for metric in prop_metrics_list:\n",
    "    temp_match_dict = dict(\n",
    "        zip(\n",
    "            df_property.loc[df_property['metric']==metric][['value', 'shape_match']].values[:,1],\n",
    "            df_property.loc[df_property['metric']==metric][['value', 'shape_match']].values[:,0]\n",
    "        )\n",
    "    )\n",
    "    df_crime[metric] = df_crime['tract-match-key'].copy().map(temp_match_dict)"
   ]
  },
  {
   "cell_type": "code",
   "execution_count": 145,
   "metadata": {},
   "outputs": [
    {
     "name": "stdout",
     "output_type": "stream",
     "text": [
      "<class 'pandas.core.frame.DataFrame'>\n",
      "RangeIndex: 151072 entries, 0 to 151071\n",
      "Data columns (total 29 columns):\n",
      "crime-type                           151072 non-null object\n",
      "INCIDENT_NUMBER                      151072 non-null object\n",
      "OFFENSE_DESCRIPTION                  151072 non-null object\n",
      "timestamp                            151072 non-null object\n",
      "lat                                  151072 non-null float64\n",
      "lon                                  151072 non-null float64\n",
      "year                                 151072 non-null object\n",
      "month                                151072 non-null object\n",
      "day-of-week                          151072 non-null object\n",
      "hour                                 151072 non-null object\n",
      "ZIP5                                 151044 non-null object\n",
      "ZIP5_area                            151044 non-null object\n",
      "Name                                 151002 non-null object\n",
      "Neighborhood_area                    151002 non-null object\n",
      "Neighborhood_area_2                  151002 non-null object\n",
      "TRACTCE10                            151072 non-null object\n",
      "TRACTCE10_area                       151072 non-null object\n",
      "TRACTCE10_area_2                     151072 non-null object\n",
      "tract-match-key                      151072 non-null object\n",
      "commercial-mix-ratio                 151072 non-null float64\n",
      "industrial-mix-ratio                 151072 non-null float64\n",
      "owner-occupied-ratio                 149699 non-null float64\n",
      "residential-gini-coef                149203 non-null float64\n",
      "residential-median-value             149203 non-null float64\n",
      "industrial-mix-ratio-3yr-cagr        151072 non-null float64\n",
      "commercial-mix-ratio-3yr-cagr        151072 non-null float64\n",
      "owner-occupied-ratio-3yr-cagr        149699 non-null float64\n",
      "residential-median-value-3yr-cagr    149327 non-null float64\n",
      "residential-gini-coef-3yr-cagr       149327 non-null float64\n",
      "dtypes: float64(12), object(17)\n",
      "memory usage: 33.4+ MB\n",
      "None\n"
     ]
    },
    {
     "data": {
      "text/html": [
       "<div>\n",
       "<style scoped>\n",
       "    .dataframe tbody tr th:only-of-type {\n",
       "        vertical-align: middle;\n",
       "    }\n",
       "\n",
       "    .dataframe tbody tr th {\n",
       "        vertical-align: top;\n",
       "    }\n",
       "\n",
       "    .dataframe thead th {\n",
       "        text-align: right;\n",
       "    }\n",
       "</style>\n",
       "<table border=\"1\" class=\"dataframe\">\n",
       "  <thead>\n",
       "    <tr style=\"text-align: right;\">\n",
       "      <th></th>\n",
       "      <th>crime-type</th>\n",
       "      <th>INCIDENT_NUMBER</th>\n",
       "      <th>OFFENSE_DESCRIPTION</th>\n",
       "      <th>timestamp</th>\n",
       "      <th>lat</th>\n",
       "      <th>lon</th>\n",
       "      <th>year</th>\n",
       "      <th>month</th>\n",
       "      <th>day-of-week</th>\n",
       "      <th>hour</th>\n",
       "      <th>...</th>\n",
       "      <th>commercial-mix-ratio</th>\n",
       "      <th>industrial-mix-ratio</th>\n",
       "      <th>owner-occupied-ratio</th>\n",
       "      <th>residential-gini-coef</th>\n",
       "      <th>residential-median-value</th>\n",
       "      <th>industrial-mix-ratio-3yr-cagr</th>\n",
       "      <th>commercial-mix-ratio-3yr-cagr</th>\n",
       "      <th>owner-occupied-ratio-3yr-cagr</th>\n",
       "      <th>residential-median-value-3yr-cagr</th>\n",
       "      <th>residential-gini-coef-3yr-cagr</th>\n",
       "    </tr>\n",
       "  </thead>\n",
       "  <tbody>\n",
       "    <tr>\n",
       "      <th>0</th>\n",
       "      <td>fraud</td>\n",
       "      <td>I192078177</td>\n",
       "      <td>forgery / counterfeiting</td>\n",
       "      <td>2019-08-01 17:46:00</td>\n",
       "      <td>42.304922</td>\n",
       "      <td>-71.102981</td>\n",
       "      <td>2019</td>\n",
       "      <td>8</td>\n",
       "      <td>Thursday</td>\n",
       "      <td>17</td>\n",
       "      <td>...</td>\n",
       "      <td>0.000000</td>\n",
       "      <td>0.000294</td>\n",
       "      <td>0.000000</td>\n",
       "      <td>0.000000</td>\n",
       "      <td>756500.0</td>\n",
       "      <td>-0.034814</td>\n",
       "      <td>0.000000</td>\n",
       "      <td>0.000000</td>\n",
       "      <td>0.024264</td>\n",
       "      <td>0.000000</td>\n",
       "    </tr>\n",
       "    <tr>\n",
       "      <th>1</th>\n",
       "      <td>harassment-disturbance</td>\n",
       "      <td>I192078061</td>\n",
       "      <td>harassment</td>\n",
       "      <td>2019-06-12 21:00:00</td>\n",
       "      <td>42.355553</td>\n",
       "      <td>-71.152747</td>\n",
       "      <td>2019</td>\n",
       "      <td>6</td>\n",
       "      <td>Wednesday</td>\n",
       "      <td>21</td>\n",
       "      <td>...</td>\n",
       "      <td>0.069416</td>\n",
       "      <td>0.000000</td>\n",
       "      <td>0.550355</td>\n",
       "      <td>0.199606</td>\n",
       "      <td>745950.0</td>\n",
       "      <td>0.000000</td>\n",
       "      <td>-0.010424</td>\n",
       "      <td>-0.028224</td>\n",
       "      <td>0.068142</td>\n",
       "      <td>0.011166</td>\n",
       "    </tr>\n",
       "    <tr>\n",
       "      <th>2</th>\n",
       "      <td>theft</td>\n",
       "      <td>I192078038</td>\n",
       "      <td>larceny theft of mv parts &amp; accessories</td>\n",
       "      <td>2019-03-10 08:00:00</td>\n",
       "      <td>42.345625</td>\n",
       "      <td>-71.041291</td>\n",
       "      <td>2019</td>\n",
       "      <td>3</td>\n",
       "      <td>Sunday</td>\n",
       "      <td>8</td>\n",
       "      <td>...</td>\n",
       "      <td>0.478130</td>\n",
       "      <td>0.000938</td>\n",
       "      <td>0.456287</td>\n",
       "      <td>0.228793</td>\n",
       "      <td>538500.0</td>\n",
       "      <td>-0.084828</td>\n",
       "      <td>0.010549</td>\n",
       "      <td>-0.014131</td>\n",
       "      <td>0.060340</td>\n",
       "      <td>0.018436</td>\n",
       "    </tr>\n",
       "    <tr>\n",
       "      <th>3</th>\n",
       "      <td>theft</td>\n",
       "      <td>I192078015</td>\n",
       "      <td>larceny all others</td>\n",
       "      <td>2019-07-08 10:29:00</td>\n",
       "      <td>42.339304</td>\n",
       "      <td>-71.051604</td>\n",
       "      <td>2019</td>\n",
       "      <td>7</td>\n",
       "      <td>Monday</td>\n",
       "      <td>10</td>\n",
       "      <td>...</td>\n",
       "      <td>0.000000</td>\n",
       "      <td>0.000000</td>\n",
       "      <td>NaN</td>\n",
       "      <td>NaN</td>\n",
       "      <td>NaN</td>\n",
       "      <td>0.000000</td>\n",
       "      <td>0.000000</td>\n",
       "      <td>NaN</td>\n",
       "      <td>NaN</td>\n",
       "      <td>NaN</td>\n",
       "    </tr>\n",
       "    <tr>\n",
       "      <th>4</th>\n",
       "      <td>theft</td>\n",
       "      <td>I192077997</td>\n",
       "      <td>auto theft - leased/rented vehicle</td>\n",
       "      <td>2019-04-13 08:00:00</td>\n",
       "      <td>42.328564</td>\n",
       "      <td>-71.068353</td>\n",
       "      <td>2019</td>\n",
       "      <td>4</td>\n",
       "      <td>Saturday</td>\n",
       "      <td>8</td>\n",
       "      <td>...</td>\n",
       "      <td>0.375058</td>\n",
       "      <td>0.076862</td>\n",
       "      <td>0.460751</td>\n",
       "      <td>0.172898</td>\n",
       "      <td>355500.0</td>\n",
       "      <td>0.060168</td>\n",
       "      <td>-0.007779</td>\n",
       "      <td>-0.023444</td>\n",
       "      <td>0.082123</td>\n",
       "      <td>0.025972</td>\n",
       "    </tr>\n",
       "  </tbody>\n",
       "</table>\n",
       "<p>5 rows × 29 columns</p>\n",
       "</div>"
      ],
      "text/plain": [
       "               crime-type INCIDENT_NUMBER  \\\n",
       "0                   fraud      I192078177   \n",
       "1  harassment-disturbance      I192078061   \n",
       "2                   theft      I192078038   \n",
       "3                   theft      I192078015   \n",
       "4                   theft      I192077997   \n",
       "\n",
       "                       OFFENSE_DESCRIPTION            timestamp        lat  \\\n",
       "0                 forgery / counterfeiting  2019-08-01 17:46:00  42.304922   \n",
       "1                               harassment  2019-06-12 21:00:00  42.355553   \n",
       "2  larceny theft of mv parts & accessories  2019-03-10 08:00:00  42.345625   \n",
       "3                       larceny all others  2019-07-08 10:29:00  42.339304   \n",
       "4       auto theft - leased/rented vehicle  2019-04-13 08:00:00  42.328564   \n",
       "\n",
       "         lon  year month day-of-week hour  ... commercial-mix-ratio  \\\n",
       "0 -71.102981  2019     8    Thursday   17  ...             0.000000   \n",
       "1 -71.152747  2019     6   Wednesday   21  ...             0.069416   \n",
       "2 -71.041291  2019     3      Sunday    8  ...             0.478130   \n",
       "3 -71.051604  2019     7      Monday   10  ...             0.000000   \n",
       "4 -71.068353  2019     4    Saturday    8  ...             0.375058   \n",
       "\n",
       "  industrial-mix-ratio owner-occupied-ratio residential-gini-coef  \\\n",
       "0             0.000294             0.000000              0.000000   \n",
       "1             0.000000             0.550355              0.199606   \n",
       "2             0.000938             0.456287              0.228793   \n",
       "3             0.000000                  NaN                   NaN   \n",
       "4             0.076862             0.460751              0.172898   \n",
       "\n",
       "  residential-median-value industrial-mix-ratio-3yr-cagr  \\\n",
       "0                 756500.0                     -0.034814   \n",
       "1                 745950.0                      0.000000   \n",
       "2                 538500.0                     -0.084828   \n",
       "3                      NaN                      0.000000   \n",
       "4                 355500.0                      0.060168   \n",
       "\n",
       "  commercial-mix-ratio-3yr-cagr owner-occupied-ratio-3yr-cagr  \\\n",
       "0                      0.000000                      0.000000   \n",
       "1                     -0.010424                     -0.028224   \n",
       "2                      0.010549                     -0.014131   \n",
       "3                      0.000000                           NaN   \n",
       "4                     -0.007779                     -0.023444   \n",
       "\n",
       "  residential-median-value-3yr-cagr  residential-gini-coef-3yr-cagr  \n",
       "0                          0.024264                        0.000000  \n",
       "1                          0.068142                        0.011166  \n",
       "2                          0.060340                        0.018436  \n",
       "3                               NaN                             NaN  \n",
       "4                          0.082123                        0.025972  \n",
       "\n",
       "[5 rows x 29 columns]"
      ]
     },
     "execution_count": 145,
     "metadata": {},
     "output_type": "execute_result"
    }
   ],
   "source": [
    "# view resulting dataframe with added property features\n",
    "print(df_crime.info())\n",
    "df_crime.head()"
   ]
  },
  {
   "cell_type": "markdown",
   "metadata": {},
   "source": [
    "## Merge weather data features"
   ]
  },
  {
   "cell_type": "code",
   "execution_count": 146,
   "metadata": {},
   "outputs": [],
   "source": [
    "# create temporary date match column and add to drop list\n",
    "temp_drop_list = temp_drop_list + ['date']\n",
    "\n",
    "df_crime['date'] = df_crime['timestamp'].str[:10]"
   ]
  },
  {
   "cell_type": "code",
   "execution_count": 147,
   "metadata": {},
   "outputs": [
    {
     "data": {
      "text/plain": [
       "Index(['date', 'weathercodes', 'sunrise', 'sunset', 'tempavg', 'tempmax',\n",
       "       'tempmin', 'humavg', 'windavg', 'windsustain', 'windmax', 'precip',\n",
       "       'snowfall'],\n",
       "      dtype='object')"
      ]
     },
     "execution_count": 147,
     "metadata": {},
     "output_type": "execute_result"
    }
   ],
   "source": [
    "# create list of weather-related column names for later manipulation\n",
    "weather_match_cols = df_weather.columns\n",
    "\n",
    "weather_match_cols"
   ]
  },
  {
   "cell_type": "code",
   "execution_count": 148,
   "metadata": {},
   "outputs": [
    {
     "name": "stdout",
     "output_type": "stream",
     "text": [
      "<class 'pandas.core.frame.DataFrame'>\n",
      "Int64Index: 151072 entries, 0 to 151071\n",
      "Data columns (total 42 columns):\n",
      "crime-type                           151072 non-null object\n",
      "INCIDENT_NUMBER                      151072 non-null object\n",
      "OFFENSE_DESCRIPTION                  151072 non-null object\n",
      "timestamp                            151072 non-null object\n",
      "lat                                  151072 non-null float64\n",
      "lon                                  151072 non-null float64\n",
      "year                                 151072 non-null object\n",
      "month                                151072 non-null object\n",
      "day-of-week                          151072 non-null object\n",
      "hour                                 151072 non-null object\n",
      "ZIP5                                 151044 non-null object\n",
      "ZIP5_area                            151044 non-null object\n",
      "Name                                 151002 non-null object\n",
      "Neighborhood_area                    151002 non-null object\n",
      "Neighborhood_area_2                  151002 non-null object\n",
      "TRACTCE10                            151072 non-null object\n",
      "TRACTCE10_area                       151072 non-null object\n",
      "TRACTCE10_area_2                     151072 non-null object\n",
      "tract-match-key                      151072 non-null object\n",
      "commercial-mix-ratio                 151072 non-null float64\n",
      "industrial-mix-ratio                 151072 non-null float64\n",
      "owner-occupied-ratio                 149699 non-null float64\n",
      "residential-gini-coef                149203 non-null float64\n",
      "residential-median-value             149203 non-null float64\n",
      "industrial-mix-ratio-3yr-cagr        151072 non-null float64\n",
      "commercial-mix-ratio-3yr-cagr        151072 non-null float64\n",
      "owner-occupied-ratio-3yr-cagr        149699 non-null float64\n",
      "residential-median-value-3yr-cagr    149327 non-null float64\n",
      "residential-gini-coef-3yr-cagr       149327 non-null float64\n",
      "date                                 151072 non-null object\n",
      "weathercodes                         73451 non-null object\n",
      "sunrise                              151072 non-null int64\n",
      "sunset                               151072 non-null int64\n",
      "tempavg                              151072 non-null float64\n",
      "tempmax                              151072 non-null float64\n",
      "tempmin                              151072 non-null float64\n",
      "humavg                               150960 non-null float64\n",
      "windavg                              151072 non-null float64\n",
      "windsustain                          151072 non-null int64\n",
      "windmax                              151072 non-null int64\n",
      "precip                               151072 non-null float64\n",
      "snowfall                             151072 non-null float64\n",
      "dtypes: float64(19), int64(4), object(19)\n",
      "memory usage: 49.6+ MB\n"
     ]
    }
   ],
   "source": [
    "# merge weather values to crime data \n",
    "df_crime = df_crime.merge(df_weather, how='left', on='date')\n",
    "\n",
    "# print results\n",
    "df_crime.info()"
   ]
  },
  {
   "cell_type": "markdown",
   "metadata": {},
   "source": [
    "## Create night time feature using sunrise and sunset data from weather merge"
   ]
  },
  {
   "cell_type": "code",
   "execution_count": 149,
   "metadata": {},
   "outputs": [],
   "source": [
    "# convert timestamp to datetime data type for ease of use\n",
    "df_crime['timestamp'] = pd.to_datetime(df_crime['timestamp'])\n",
    "\n",
    "# create time values for each record in minutes\n",
    "df_crime['time'] = (df_crime['timestamp'].dt.hour * 60) + df_crime['timestamp'].dt.minute"
   ]
  },
  {
   "cell_type": "code",
   "execution_count": 150,
   "metadata": {},
   "outputs": [],
   "source": [
    "# create night time indicator feature\n",
    "df_crime['night'] = (\n",
    "    (df_crime['time'] < df_crime['sunrise']) | (df_crime['time'] > df_crime['sunset'])\n",
    ").astype(int)"
   ]
  },
  {
   "cell_type": "code",
   "execution_count": 151,
   "metadata": {},
   "outputs": [
    {
     "data": {
      "text/html": [
       "<div>\n",
       "<style scoped>\n",
       "    .dataframe tbody tr th:only-of-type {\n",
       "        vertical-align: middle;\n",
       "    }\n",
       "\n",
       "    .dataframe tbody tr th {\n",
       "        vertical-align: top;\n",
       "    }\n",
       "\n",
       "    .dataframe thead th {\n",
       "        text-align: right;\n",
       "    }\n",
       "</style>\n",
       "<table border=\"1\" class=\"dataframe\">\n",
       "  <thead>\n",
       "    <tr style=\"text-align: right;\">\n",
       "      <th></th>\n",
       "      <th>timestamp</th>\n",
       "      <th>year</th>\n",
       "      <th>month</th>\n",
       "      <th>hour</th>\n",
       "      <th>time</th>\n",
       "      <th>sunrise</th>\n",
       "      <th>sunset</th>\n",
       "      <th>night</th>\n",
       "    </tr>\n",
       "  </thead>\n",
       "  <tbody>\n",
       "    <tr>\n",
       "      <th>0</th>\n",
       "      <td>2019-08-01 17:46:00</td>\n",
       "      <td>2019</td>\n",
       "      <td>8</td>\n",
       "      <td>17</td>\n",
       "      <td>1066</td>\n",
       "      <td>436</td>\n",
       "      <td>1904</td>\n",
       "      <td>0</td>\n",
       "    </tr>\n",
       "    <tr>\n",
       "      <th>1</th>\n",
       "      <td>2019-06-12 21:00:00</td>\n",
       "      <td>2019</td>\n",
       "      <td>6</td>\n",
       "      <td>21</td>\n",
       "      <td>1260</td>\n",
       "      <td>407</td>\n",
       "      <td>1921</td>\n",
       "      <td>0</td>\n",
       "    </tr>\n",
       "    <tr>\n",
       "      <th>2</th>\n",
       "      <td>2019-03-10 08:00:00</td>\n",
       "      <td>2019</td>\n",
       "      <td>3</td>\n",
       "      <td>8</td>\n",
       "      <td>480</td>\n",
       "      <td>605</td>\n",
       "      <td>1744</td>\n",
       "      <td>1</td>\n",
       "    </tr>\n",
       "    <tr>\n",
       "      <th>3</th>\n",
       "      <td>2019-07-08 10:29:00</td>\n",
       "      <td>2019</td>\n",
       "      <td>7</td>\n",
       "      <td>10</td>\n",
       "      <td>629</td>\n",
       "      <td>415</td>\n",
       "      <td>1923</td>\n",
       "      <td>0</td>\n",
       "    </tr>\n",
       "    <tr>\n",
       "      <th>4</th>\n",
       "      <td>2019-04-13 08:00:00</td>\n",
       "      <td>2019</td>\n",
       "      <td>4</td>\n",
       "      <td>8</td>\n",
       "      <td>480</td>\n",
       "      <td>507</td>\n",
       "      <td>1823</td>\n",
       "      <td>1</td>\n",
       "    </tr>\n",
       "  </tbody>\n",
       "</table>\n",
       "</div>"
      ],
      "text/plain": [
       "            timestamp  year month hour  time  sunrise  sunset  night\n",
       "0 2019-08-01 17:46:00  2019     8   17  1066      436    1904      0\n",
       "1 2019-06-12 21:00:00  2019     6   21  1260      407    1921      0\n",
       "2 2019-03-10 08:00:00  2019     3    8   480      605    1744      1\n",
       "3 2019-07-08 10:29:00  2019     7   10   629      415    1923      0\n",
       "4 2019-04-13 08:00:00  2019     4    8   480      507    1823      1"
      ]
     },
     "execution_count": 151,
     "metadata": {},
     "output_type": "execute_result"
    }
   ],
   "source": [
    "# check results\n",
    "df_crime[['timestamp', 'year', 'month', 'hour', 'time', 'sunrise', 'sunset', 'night']].head()"
   ]
  },
  {
   "cell_type": "code",
   "execution_count": 152,
   "metadata": {},
   "outputs": [],
   "source": [
    "# add additional columns to drop prior to saving\n",
    "temp_drop_list = temp_drop_list + ['time', 'sunrise', 'sunset']"
   ]
  },
  {
   "cell_type": "markdown",
   "metadata": {},
   "source": [
    "## Create streetlight density feature"
   ]
  },
  {
   "cell_type": "code",
   "execution_count": 153,
   "metadata": {},
   "outputs": [],
   "source": [
    "df_lights = pd.read_csv(readfile_streetlights)"
   ]
  },
  {
   "cell_type": "code",
   "execution_count": 179,
   "metadata": {},
   "outputs": [],
   "source": [
    "def distance(locs1, locs2, r=6371, meters=True):\n",
    "    \"\"\"\n",
    "    Converts distances between lat/lon points to meters using the Haversine\n",
    "    formula for measuring distance on a sphere\n",
    "\n",
    "    If the desire is to measure pairwise distances between two coordinate\n",
    "    arrays of equal length, or between two single sets of coordinates, this\n",
    "    function can simply be called as `distance(locs1, locs2)`\n",
    "\n",
    "    If the desire is to measure the distances of each coordinate in array 1\n",
    "    all coordinates in array 2, the function needs to be called in this\n",
    "    manner `distance(locs1[:, None], locs2)`\n",
    "    \n",
    "    locs1: np.array or list of lat/lon points\n",
    "    locs2: np.array or list of lat/lon points\n",
    "    r: float, default=3958.75, great sphere approximated radius of the earth\n",
    "       in kilometers\n",
    "    meters: boolean, default=True, specifies the output\n",
    "            units of the distances returned by this function, meters if True,\n",
    "            and kilometers if False\n",
    "    \n",
    "    returns: np.array of the distances between coordinates in either meters\n",
    "             or kilometers\n",
    "    \"\"\"\n",
    "    if meters:\n",
    "        r = r * 1000\n",
    "    \n",
    "    # convert lat/lon coordinates to radians\n",
    "    locs1 = locs1 * np.pi / 180\n",
    "    locs2 = locs2 * np.pi / 180\n",
    "    \n",
    "    cos_lat1 = np.cos(locs1[..., 0])\n",
    "    cos_lat2 = np.cos(locs2[..., 0])\n",
    "    \n",
    "    cos_lat_d = np.cos(locs1[..., 0] - locs2[..., 0])\n",
    "    cos_lon_d = np.cos(locs1[..., 1] - locs2[..., 1])\n",
    "    \n",
    "    a = (1 - cos_lat_d)/2 + cos_lat1 * cos_lat2 * (1 - cos_lon_d)/2\n",
    "    \n",
    "    return 2 * r * np.arcsin(np.sqrt(a))"
   ]
  },
  {
   "cell_type": "code",
   "execution_count": 122,
   "metadata": {},
   "outputs": [
    {
     "data": {
      "text/plain": [
       "6371.0"
      ]
     },
     "execution_count": 122,
     "metadata": {},
     "output_type": "execute_result"
    }
   ],
   "source": [
    "12742 / 2"
   ]
  },
  {
   "cell_type": "code",
   "execution_count": 154,
   "metadata": {},
   "outputs": [],
   "source": [
    "def distance(locs1, locs2, r=6371, meters=True):\n",
    "    \"\"\"\n",
    "    Converts distances between lat/lon points to meters using the Haversine\n",
    "    formula for measuring distance on a sphere\n",
    "\n",
    "    If the desire is to measure pairwise distances between two coordinate\n",
    "    arrays of equal length, or between two single sets of coordinates, this\n",
    "    function can simply be called as `distance(locs1, locs2)`\n",
    "\n",
    "    If the desire is to measure the distances of each coordinate in array 1\n",
    "    all coordinates in array 2, the function needs to be called in this\n",
    "    manner `distance(locs1[:, None], locs2)`\n",
    "    \n",
    "    locs1: np.array or list of lat/lon points\n",
    "    locs2: np.array or list of lat/lon points\n",
    "    r: float, default=3958.75, great sphere approximated radius of the earth\n",
    "       in kilometers\n",
    "    meters: boolean, default=True, specifies the output\n",
    "            units of the distances returned by this function, meters if True,\n",
    "            and kilometers if False\n",
    "    \n",
    "    returns: np.array of the distances between coordinates in either meters\n",
    "             or kilometers\n",
    "    \"\"\"\n",
    "    if meters:\n",
    "        r = r * 1000\n",
    "    \n",
    "    # convert lat/lon coordinates to radians\n",
    "    locs1 = locs1 * np.pi / 180\n",
    "    locs2 = locs2 * np.pi / 180\n",
    "    \n",
    "    cos_lat1 = np.cos(locs1[..., 0])\n",
    "    cos_lat2 = np.cos(locs2[..., 0])\n",
    "    \n",
    "    cos_lat_d = np.cos(locs1[..., 0] - locs2[..., 0])\n",
    "    cos_lon_d = np.cos(locs1[..., 1] - locs2[..., 1])\n",
    "    \n",
    "    return r * np.arccos(cos_lat_d - cos_lat1 * cos_lat2 * (1 - cos_lon_d))\n"
   ]
  },
  {
   "cell_type": "code",
   "execution_count": 129,
   "metadata": {},
   "outputs": [],
   "source": [
    "test_1 = np.array((42.373392, -71.116507))\n",
    "test_2 = np.array((42.360126, -71.059320))"
   ]
  },
  {
   "cell_type": "code",
   "execution_count": 130,
   "metadata": {},
   "outputs": [
    {
     "data": {
      "text/plain": [
       "4924.382348045576"
      ]
     },
     "execution_count": 130,
     "metadata": {},
     "output_type": "execute_result"
    }
   ],
   "source": [
    "distance(test_2, test_1)"
   ]
  },
  {
   "cell_type": "code",
   "execution_count": 134,
   "metadata": {},
   "outputs": [
    {
     "data": {
      "text/plain": [
       "array([[ 42.35315925, -71.07604438],\n",
       "       [ 42.35334777, -71.07538171],\n",
       "       [ 42.35352052, -71.07477488],\n",
       "       ...,\n",
       "       [ 42.3012646 , -71.10732776],\n",
       "       [ 42.30134124, -71.10744922],\n",
       "       [ 42.30139403, -71.10756441]])"
      ]
     },
     "execution_count": 134,
     "metadata": {},
     "output_type": "execute_result"
    }
   ],
   "source": []
  },
  {
   "cell_type": "code",
   "execution_count": 155,
   "metadata": {},
   "outputs": [],
   "source": [
    "crime_locs = df_crime[['lat','lon']].values\n",
    "light_locs = df_lights[['Lat', 'Long']].values"
   ]
  },
  {
   "cell_type": "code",
   "execution_count": 185,
   "metadata": {},
   "outputs": [
    {
     "name": "stdout",
     "output_type": "stream",
     "text": [
      "CPU times: user 1.03 s, sys: 244 ms, total: 1.27 s\n",
      "Wall time: 1.3 s\n"
     ]
    }
   ],
   "source": [
    "%%time\n",
    "\n",
    "test_dist = distance(crime_locs[:1000, None], light_locs)"
   ]
  },
  {
   "cell_type": "code",
   "execution_count": 223,
   "metadata": {},
   "outputs": [
    {
     "data": {
      "text/plain": [
       "array([[ 7],\n",
       "       [ 8],\n",
       "       [26],\n",
       "       ...,\n",
       "       [ 0],\n",
       "       [30],\n",
       "       [10]])"
      ]
     },
     "execution_count": 223,
     "metadata": {},
     "output_type": "execute_result"
    }
   ],
   "source": [
    "\n",
    "np.vstack(\n",
    "    [np.sum((test_dist<100).astype(int), axis=1).reshape(-1,1),\n",
    "     np.sum((test_dist<100).astype(int), axis=1).reshape(-1,1)]\n",
    ")[:-10]"
   ]
  },
  {
   "cell_type": "code",
   "execution_count": 218,
   "metadata": {},
   "outputs": [
    {
     "data": {
      "text/plain": [
       "974.658064516129"
      ]
     },
     "execution_count": 218,
     "metadata": {},
     "output_type": "execute_result"
    }
   ],
   "source": [
    "len(df_crime)/155"
   ]
  },
  {
   "cell_type": "code",
   "execution_count": 220,
   "metadata": {},
   "outputs": [
    {
     "name": "stdout",
     "output_type": "stream",
     "text": [
      "CPU times: user 3.22 s, sys: 906 ms, total: 4.13 s\n",
      "Wall time: 4.13 s\n"
     ]
    }
   ],
   "source": [
    "%%time\n",
    "threshold = 100\n",
    "n_splits = 155 # because the kernel will crash if more than 1K are processed at a time\n",
    "splits = np.array_split(crime_locs, n_splits)\n",
    "\n",
    "\n",
    "for i, split in enumerate(splits):\n",
    "    distances = distance(split[:, None], light_locs)\n",
    "    densities = np.sum((distances<100).astype(int), axis=1).reshape(-1,1)\n",
    "    if i == 0:\n",
    "        streetlights = densities.copy()\n",
    "    else:\n",
    "        streetlights = np.vstack([streetlights.copy(), densities.copy()])"
   ]
  },
  {
   "cell_type": "code",
   "execution_count": 221,
   "metadata": {},
   "outputs": [
    {
     "data": {
      "text/plain": [
       "(2925, 1)"
      ]
     },
     "execution_count": 221,
     "metadata": {},
     "output_type": "execute_result"
    }
   ],
   "source": [
    "streetlights.shape"
   ]
  },
  {
   "cell_type": "code",
   "execution_count": 224,
   "metadata": {},
   "outputs": [
    {
     "data": {
      "text/plain": [
       "(array([543., 695., 738., 477., 295., 122.,  29.,  23.,   2.,   1.]),\n",
       " array([  0. ,  14.4,  28.8,  43.2,  57.6,  72. ,  86.4, 100.8, 115.2,\n",
       "        129.6, 144. ]),\n",
       " <a list of 10 Patch objects>)"
      ]
     },
     "execution_count": 224,
     "metadata": {},
     "output_type": "execute_result"
    },
    {
     "data": {
      "image/png": "[encoded data removed]",
      "text/plain": [
       "<Figure size 432x288 with 1 Axes>"
      ]
     },
     "metadata": {
      "needs_background": "light"
     },
     "output_type": "display_data"
    }
   ],
   "source": [
    "plt.hist(streetlights)"
   ]
  },
  {
   "cell_type": "code",
   "execution_count": 211,
   "metadata": {},
   "outputs": [
    {
     "data": {
      "text/plain": [
       "(945, 2)"
      ]
     },
     "execution_count": 211,
     "metadata": {},
     "output_type": "execute_result"
    }
   ],
   "source": [
    "np.array(splits)[0].shape"
   ]
  },
  {
   "cell_type": "code",
   "execution_count": null,
   "metadata": {},
   "outputs": [],
   "source": []
  }
 ],
 "metadata": {
  "kernelspec": {
   "display_name": "Python 3",
   "language": "python",
   "name": "python3"
  },
  "language_info": {
   "codemirror_mode": {
    "name": "ipython",
    "version": 3
   },
   "file_extension": ".py",
   "mimetype": "text/x-python",
   "name": "python",
   "nbconvert_exporter": "python",
   "pygments_lexer": "ipython3",
   "version": "3.7.5"
  }
 },
 "nbformat": 4,
 "nbformat_minor": 2
}
