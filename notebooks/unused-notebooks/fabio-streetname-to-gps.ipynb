{
 "cells": [
  {
   "cell_type": "code",
   "execution_count": 2,
   "metadata": {
    "ExecuteTime": {
     "end_time": "2019-10-17T02:23:56.943979Z",
     "start_time": "2019-10-17T02:23:56.185307Z"
    }
   },
   "outputs": [],
   "source": [
    "from geopy.geocoders import Nominatim\n",
    "from geopy import geocoders\n",
    "import pandas as pd\n",
    "import numpy as np"
   ]
  },
  {
   "cell_type": "code",
   "execution_count": 3,
   "metadata": {
    "ExecuteTime": {
     "end_time": "2019-10-17T02:23:56.956322Z",
     "start_time": "2019-10-17T02:23:56.946370Z"
    }
   },
   "outputs": [],
   "source": [
    "def lat_long_from_address(add: str):\n",
    "    try:\n",
    "        g = geocoders.DataBC()\n",
    "        place, (lat, lng) = g.geocode(add)\n",
    "        return lat, lng\n",
    "    except:\n",
    "        return None"
   ]
  },
  {
   "cell_type": "code",
   "execution_count": 27,
   "metadata": {
    "ExecuteTime": {
     "end_time": "2019-10-17T02:26:57.002987Z",
     "start_time": "2019-10-17T02:26:54.657960Z"
    }
   },
   "outputs": [
    {
     "name": "stderr",
     "output_type": "stream",
     "text": [
      "/Applications/miniconda3/lib/python3.7/site-packages/IPython/core/interactiveshell.py:3049: DtypeWarning: Columns (15,60) have mixed types. Specify dtype option on import or set low_memory=False.\n",
      "  interactivity=interactivity, compiler=compiler, result=result)\n"
     ]
    }
   ],
   "source": [
    "# 2015 has 168115 - 11073\n",
    "# 2016 has 169000 - 67357\n",
    "df = pd.read_csv(\"../data/raw/property-2019.csv\")\n"
   ]
  },
  {
   "cell_type": "code",
   "execution_count": 28,
   "metadata": {
    "ExecuteTime": {
     "end_time": "2019-10-17T02:26:57.389342Z",
     "start_time": "2019-10-17T02:26:57.376051Z"
    }
   },
   "outputs": [
    {
     "data": {
      "text/plain": [
       "174668"
      ]
     },
     "execution_count": 28,
     "metadata": {},
     "output_type": "execute_result"
    }
   ],
   "source": [
    "len(df)"
   ]
  },
  {
   "cell_type": "code",
   "execution_count": null,
   "metadata": {
    "ExecuteTime": {
     "start_time": "2019-10-17T02:19:31.304Z"
    }
   },
   "outputs": [
    {
     "name": "stdout",
     "output_type": "stream",
     "text": [
      "Fail\n",
      "Fail\n",
      "Fail\n",
      "Fail\n",
      "Fail\n",
      "Fail\n",
      "Fail\n",
      "Fail\n",
      "Fail\n",
      "Fail\n",
      "Fail\n"
     ]
    }
   ],
   "source": [
    "df = pd.read_csv(\"../data/raw/property-2015.csv\")\n",
    "df['LATITUDE'] = 0.0\n",
    "df['LONGITUDE'] = 0.0\n",
    "to_remove = []\n",
    "for idx, row in df.head(1000).iterrows():\n",
    "    if type(row['Location']) == str and row['Location'] != '0':\n",
    "        df.at[idx, 'LATITUDE'] = float(row['Location'].split('|')[0][1:])\n",
    "        df.at[idx, 'LONGITUDE'] = float(row['Location'].split('|')[1][:-1])\n",
    "    if row['LATITUDE'] == 0.0:\n",
    "        q = row['OWNER_MAIL_ADDRESS'] + \" \" + row['OWNER_MAIL_CS'] + \" \" + \\\n",
    "            row['OWNER_MAIL_ZIPCODE'][:-1]\n",
    "        try:\n",
    "            lat, long = lat_long_from_address(q)\n",
    "            df.at[idx, 'LATITUDE'] = float(lat)\n",
    "            df.at[idx, 'LONGITUDE'] = float(long)\n",
    "        except:\n",
    "            print(\"Fail\")\n",
    "            to_remove.append(idx)\n",
    "        #print(q, lat, long)\n",
    "        \n",
    "df.drop('Location', axis=1)\n",
    "for i in to_remove:\n",
    "    df.drop(i, axis=0)"
   ]
  },
  {
   "cell_type": "code",
   "execution_count": null,
   "metadata": {
    "ExecuteTime": {
     "start_time": "2019-10-17T02:06:33.321Z"
    }
   },
   "outputs": [],
   "source": [
    "df['LATITUDE'].max(), df['LATITUDE'].min()"
   ]
  },
  {
   "cell_type": "code",
   "execution_count": 81,
   "metadata": {
    "ExecuteTime": {
     "end_time": "2019-10-17T01:58:35.309503Z",
     "start_time": "2019-10-17T01:58:35.292011Z"
    }
   },
   "outputs": [
    {
     "data": {
      "text/plain": [
       "PID                                   1804490048_\n",
       "CM_ID                                 1804490000_\n",
       "ST_NUM                                          8\n",
       "ST_NAME                                 KITTREDGE\n",
       "ST_NAME_SUF                                    ST\n",
       "UNIT_NUM                                        8\n",
       "ZIPCODE                                    02131_\n",
       "full_address                   8   KITTREDGE ST 8\n",
       "PTYPE                                         102\n",
       "LU                                             CD\n",
       "OWN_OCC                                         N\n",
       "OWNER                 BERKSHIRE INVESTMENTS   LLC\n",
       "OWNER_MAIL_ADDRESS              11 WALNUT HILL RD\n",
       "OWNER_MAIL_CS                       BROOKLINE  MA\n",
       "OWNER_MAIL_ZIPCODE                         00000_\n",
       "AV_LAND                                      2146\n",
       "AV_BLDG                                         0\n",
       "AV_TOTAL                                   145300\n",
       "GROSS_TAX                                  145300\n",
       "LAND_SF                                      1759\n",
       "YR_BUILT                                      867\n",
       "YR_REMOD                                     1930\n",
       "GROSS_AREA                                   1983\n",
       "LIVING_AREA                                   867\n",
       "NUM_FLOORS                                    867\n",
       "STRUCTURE_CLASS                                 1\n",
       "R_BLDG_STYL                                   NaN\n",
       "R_ROOF_TYP                                    NaN\n",
       "R_EXT_FIN                                     NaN\n",
       "R_TOTAL_RMS                                   NaN\n",
       "R_BDRMS                                       NaN\n",
       "R_FULL_BTH                                    NaN\n",
       "R_HALF_BTH                                    NaN\n",
       "R_KITCH                                       NaN\n",
       "R_HEAT_TYP                                    NaN\n",
       "R_AC                                          NaN\n",
       "R_FPLACE                                      NaN\n",
       "S_NUM_BLDG                                    NaN\n",
       "S_BLDG_STYL                                   NaN\n",
       "S_UNIT_RES                                    NaN\n",
       "S_UNIT_COM                                    NaN\n",
       "S_UNIT_RC                                     NaN\n",
       "S_EXT_FIN                                     NaN\n",
       "U_BASE_FLOOR                                  NaN\n",
       "U_NUM_PARK                                      1\n",
       "U_CORNER                                        0\n",
       "U_ORIENT                                        N\n",
       "U_TOT_RMS                                     NaN\n",
       "U_BDRMS                                         4\n",
       "U_FULL_BTH                                      2\n",
       "U_HALF_BTH                                      1\n",
       "U_KIT_TYPE                                      0\n",
       "U_HEAT_TYP                                      F\n",
       "U_AC                                            E\n",
       "U_FPLACE                                      NaN\n",
       "Location                                        0\n",
       "LATITUDE                                        0\n",
       "LONGITUDE                                       0\n",
       "Name: 139407, dtype: object"
      ]
     },
     "execution_count": 81,
     "metadata": {},
     "output_type": "execute_result"
    }
   ],
   "source": [
    "df.iloc[139407, :]"
   ]
  },
  {
   "cell_type": "code",
   "execution_count": null,
   "metadata": {},
   "outputs": [],
   "source": [
    "LATITUDE, LONGITUDE"
   ]
  }
 ],
 "metadata": {
  "kernelspec": {
   "display_name": "Python 3",
   "language": "python",
   "name": "python3"
  },
  "language_info": {
   "codemirror_mode": {
    "name": "ipython",
    "version": 3
   },
   "file_extension": ".py",
   "mimetype": "text/x-python",
   "name": "python",
   "nbconvert_exporter": "python",
   "pygments_lexer": "ipython3",
   "version": "3.7.3"
  },
  "toc": {
   "base_numbering": 1,
   "nav_menu": {},
   "number_sections": true,
   "sideBar": true,
   "skip_h1_title": false,
   "title_cell": "Table of Contents",
   "title_sidebar": "Contents",
   "toc_cell": false,
   "toc_position": {},
   "toc_section_display": true,
   "toc_window_display": false
  }
 },
 "nbformat": 4,
 "nbformat_minor": 2
}
