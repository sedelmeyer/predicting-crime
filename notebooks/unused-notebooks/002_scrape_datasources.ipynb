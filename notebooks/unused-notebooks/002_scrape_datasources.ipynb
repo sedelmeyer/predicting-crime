{
 "cells": [
  {
   "cell_type": "markdown",
   "metadata": {},
   "source": [
    "# Notebook 001: Scrape Datasources\n",
    "\n",
    "This notebook creates data sources listed in the `../data-inventory.csv` that require web-scraping activities in order to generate the data.\n",
    "\n",
    "Similar to \"Notebook 000: Download Datasources\", consolidated data created by running this notebook will be saved programatically to the appropriate sub-directory in the project's `../data/raw/` data store.\n",
    "\n",
    "### Please DO NOT yet run this notebook.\n",
    "\n",
    "**This notebook is not yet competed. The master branch will be updated with a finished version of this notebook once it is complete**"
   ]
  },
  {
   "cell_type": "code",
   "execution_count": 177,
   "metadata": {},
   "outputs": [],
   "source": [
    "import os\n",
    "import urllib\n",
    "import requests\n",
    "import zipfile\n",
    "from pathlib import PurePath\n",
    "\n",
    "from bs4 import BeautifulSoup\n",
    "import pandas as pd\n",
    "import numpy as np"
   ]
  },
  {
   "cell_type": "code",
   "execution_count": 186,
   "metadata": {},
   "outputs": [],
   "source": [
    "# set path variables\n",
    "DATA_ROOT = '../data'\n",
    "parent_dir = os.path.join(DATA_ROOT, 'raw')\n",
    "inventory_filepath = os.path.join(DATA_ROOT, 'data-inventory.csv')"
   ]
  },
  {
   "cell_type": "code",
   "execution_count": 187,
   "metadata": {},
   "outputs": [],
   "source": [
    "# read data inventory to dataframe\n",
    "inventory_df = pd.read_csv(inventory_filepath)"
   ]
  },
  {
   "cell_type": "code",
   "execution_count": 190,
   "metadata": {},
   "outputs": [
    {
     "name": "stdout",
     "output_type": "stream",
     "text": [
      "<class 'pandas.core.frame.DataFrame'>\n",
      "RangeIndex: 47 entries, 0 to 46\n",
      "Data columns (total 13 columns):\n",
      "id                  47 non-null int64\n",
      "category            47 non-null object\n",
      "access              47 non-null object\n",
      "source              44 non-null object\n",
      "directory           47 non-null object\n",
      "sub-directory       47 non-null object\n",
      "filename            44 non-null object\n",
      "zipfile             37 non-null float64\n",
      "page-url            47 non-null object\n",
      "data-url            44 non-null object\n",
      "reference           32 non-null object\n",
      "description         44 non-null object\n",
      "access-confirmed    44 non-null object\n",
      "dtypes: float64(1), int64(1), object(11)\n",
      "memory usage: 4.9+ KB\n",
      "None\n"
     ]
    },
    {
     "data": {
      "text/html": [
       "<div>\n",
       "<style scoped>\n",
       "    .dataframe tbody tr th:only-of-type {\n",
       "        vertical-align: middle;\n",
       "    }\n",
       "\n",
       "    .dataframe tbody tr th {\n",
       "        vertical-align: top;\n",
       "    }\n",
       "\n",
       "    .dataframe thead th {\n",
       "        text-align: right;\n",
       "    }\n",
       "</style>\n",
       "<table border=\"1\" class=\"dataframe\">\n",
       "  <thead>\n",
       "    <tr style=\"text-align: right;\">\n",
       "      <th></th>\n",
       "      <th>id</th>\n",
       "      <th>category</th>\n",
       "      <th>access</th>\n",
       "      <th>source</th>\n",
       "      <th>directory</th>\n",
       "      <th>sub-directory</th>\n",
       "      <th>filename</th>\n",
       "      <th>zipfile</th>\n",
       "      <th>page-url</th>\n",
       "      <th>data-url</th>\n",
       "      <th>reference</th>\n",
       "      <th>description</th>\n",
       "      <th>access-confirmed</th>\n",
       "    </tr>\n",
       "  </thead>\n",
       "  <tbody>\n",
       "    <tr>\n",
       "      <th>0</th>\n",
       "      <td>1</td>\n",
       "      <td>boston property assessments</td>\n",
       "      <td>download</td>\n",
       "      <td>data</td>\n",
       "      <td>raw</td>\n",
       "      <td>property</td>\n",
       "      <td>fy19-assessments</td>\n",
       "      <td>0.0</td>\n",
       "      <td>https://data.boston.gov/dataset/property-asses...</td>\n",
       "      <td>https://data.boston.gov/dataset/e02c44d2-3c64-...</td>\n",
       "      <td>, https://data.boston.gov/dataset/e02c44d2-3c6...</td>\n",
       "      <td>Gives property, or parcel, ownership together ...</td>\n",
       "      <td>2019-11-07</td>\n",
       "    </tr>\n",
       "  </tbody>\n",
       "</table>\n",
       "</div>"
      ],
      "text/plain": [
       "   id                     category    access source directory sub-directory  \\\n",
       "0   1  boston property assessments  download   data       raw      property   \n",
       "\n",
       "           filename  zipfile  \\\n",
       "0  fy19-assessments      0.0   \n",
       "\n",
       "                                            page-url  \\\n",
       "0  https://data.boston.gov/dataset/property-asses...   \n",
       "\n",
       "                                            data-url  \\\n",
       "0  https://data.boston.gov/dataset/e02c44d2-3c64-...   \n",
       "\n",
       "                                           reference  \\\n",
       "0  , https://data.boston.gov/dataset/e02c44d2-3c6...   \n",
       "\n",
       "                                         description access-confirmed  \n",
       "0  Gives property, or parcel, ownership together ...       2019-11-07  "
      ]
     },
     "execution_count": 190,
     "metadata": {},
     "output_type": "execute_result"
    }
   ],
   "source": [
    "# view summary of data inventory\n",
    "print(inventory_df.info())\n",
    "inventory_df.head(1)"
   ]
  },
  {
   "cell_type": "code",
   "execution_count": 136,
   "metadata": {},
   "outputs": [],
   "source": [
    "# subset data inventory to include just 'downloads'\n",
    "cols = ['sub-directory', 'filename', 'zipfile', 'data-url', 'source']\n",
    "download_df = inventory_df.loc[inventory_df['access']=='download'][cols]"
   ]
  },
  {
   "cell_type": "code",
   "execution_count": 183,
   "metadata": {},
   "outputs": [],
   "source": [
    "# define functions for performing data downloads\n",
    "\n",
    "def make_download_dict(inventory, parent):\n",
    "    \"\"\"\n",
    "    \"\"\"\n",
    "    subdirs = list(set(inventory['sub-directory']))\n",
    "    inventory['file-type'] = download_df['data-url'].apply(\n",
    "        lambda x: os.path.join(*PurePath(x).suffixes)\n",
    "    )\n",
    "    \n",
    "    download_dict = {\n",
    "        subdir: {\n",
    "            filename: {\n",
    "                'url': url,\n",
    "                'filepath': os.path.join(parent, subdir, ''.join([filename, suffix])),\n",
    "                'is_zip': is_zip\n",
    "            }\n",
    "            for filename, url, suffix, is_zip in zip(\n",
    "                inventory.loc[inventory_df['sub-directory'] == subdir]['filename'],\n",
    "                inventory.loc[inventory_df['sub-directory'] == subdir]['data-url'],\n",
    "                inventory.loc[inventory_df['sub-directory'] == subdir]['file-type'],\n",
    "                inventory.loc[inventory_df['sub-directory'] == subdir]['zipfile'],\n",
    "            )\n",
    "        } for subdir in subdirs\n",
    "    }\n",
    "    \n",
    "    return download_dict\n",
    "\n",
    "\n",
    "def make_subdirs(download_dict, parent, verbose=True):\n",
    "    \"\"\"\n",
    "    \"\"\"\n",
    "    # create list of current top-level files and directories\n",
    "    existing = os.listdir(parent)\n",
    "\n",
    "    # check for ./data/ dir and create if it doesn't exist\n",
    "    [\n",
    "        os.mkdir(os.path.join(parent, subdir))\n",
    "        for subdir in download_dict.keys() if not subdir in existing \n",
    "    ]\n",
    "    \n",
    "    # save new list of files and directories, as well is difference\n",
    "    new_existing = os.listdir(parent)\n",
    "    new_added = list(set(new_existing) - set(existing))\n",
    "    \n",
    "    # print summary results\n",
    "    if verbose:\n",
    "        if len(new_added) > 0:\n",
    "            print('The following sub-directories were added to {}:'.format(parent))\n",
    "            for subdir in new_added:\n",
    "                print(subdir)\n",
    "            print()\n",
    "        else:\n",
    "            print(\n",
    "                'No directories have been created. All target directories already '\\\n",
    "                'exist locally\\n'\n",
    "            )\n",
    "    \n",
    "    return new_existing, new_added\n",
    "\n",
    "\n",
    "def download_datafiles(download_dict, parent, exclude_subdir='shapefile', verbose=True):\n",
    "    \"\"\"\n",
    "    \"\"\"\n",
    "    subdirs = [\n",
    "        subdir for subdir in list(download_dict.keys())\n",
    "        if subdir not in exclude_subdir\n",
    "    ]\n",
    "    downloaded = dict()\n",
    "    \n",
    "    for subdir in subdirs:\n",
    "        for filename, download in download_dict[subdir].items():\n",
    "            if not os.path.exists(download['filepath']):\n",
    "                if verbose:\n",
    "                    print(\n",
    "                        'Downloading {0} data to {1}'.format(filename, download['filepath'])\n",
    "                    )                \n",
    "                downloaded[filename] = [\n",
    "                    urllib.request.urlretrieve(\n",
    "                        download['url'],\n",
    "                        download['filepath'],\n",
    "                    )\n",
    "                ]\n",
    "    \n",
    "    if verbose:\n",
    "        if len(downloaded)==0:\n",
    "            print(\n",
    "                'No datafiles have been downloaded. All target files already exist locally.\\n'\n",
    "            )\n",
    "        else:\n",
    "            print(\n",
    "                '{0} data files have been downloaded and stored locally.\\n'.format(\n",
    "                    len(downloaded)\n",
    "                )\n",
    "            )\n",
    "    \n",
    "    return downloaded\n",
    "\n",
    "\n",
    "def download_shapefiles(download_dict, parent, target_subdir='shapefile', verbose=True):\n",
    "    \"\"\"\n",
    "    \"\"\"\n",
    "    downloaded = dict()\n",
    "    \n",
    "    for filename, download in download_dict[target_subdir].items():\n",
    "        if not os.path.exists(download['filepath']):\n",
    "            if verbose:\n",
    "                print(\n",
    "                    'Downloading {0} shapefile to {1}'.format(filename, download['filepath'])\n",
    "                )                \n",
    "            \n",
    "            # download shape zipfile to directory\n",
    "            downloaded[filename] = [\n",
    "                urllib.request.urlretrieve(\n",
    "                    download['url'],\n",
    "                    download['filepath'],\n",
    "                )\n",
    "            ]\n",
    "            \n",
    "            # create target sub-directory for extracting zipfile\n",
    "            shapedir = os.path.join(os.path.dirname(download['filepath']), filename)\n",
    "            if not os.path.exists(shapedir):\n",
    "                os.mkdir(shapedir)\n",
    "            \n",
    "            # extract zipfile to target sub-directory\n",
    "            with zipfile.ZipFile(download['filepath'], 'r') as zipobj:\n",
    "\n",
    "                if verbose:\n",
    "                    print(\n",
    "                        '\\t...extracting shapefile zip archive to {0}'.format(shapedir)\n",
    "                    )                \n",
    "\n",
    "                # extract all files\n",
    "                zipobj.extractall(shapedir)\n",
    "\n",
    "    if verbose:\n",
    "        if len(downloaded)==0:\n",
    "            print(\n",
    "                'No shapefiles have been downloaded. All target files already exist locally.\\n'\n",
    "            )\n",
    "        else:\n",
    "            print(\n",
    "                '{0} shapefiles have been downloaded and extracted locally.\\n'.format(\n",
    "                    len(downloaded)\n",
    "                )\n",
    "            )\n",
    "            \n",
    "    return downloaded"
   ]
  },
  {
   "cell_type": "code",
   "execution_count": null,
   "metadata": {},
   "outputs": [],
   "source": [
    "def make_source_inventory():\n",
    "    \"\"\"\"\"\"\n",
    "    raise NotImplementedError\n",
    "\n",
    "def make_local_inventory():\n",
    "    \"\"\"\"\"\"\n",
    "    raise NotImplementedError\n",
    "\n",
    "def make_local_directory():\n",
    "    \"\"\"\"\"\"\n",
    "    raise NotImplementedError\n",
    "\n",
    "def check_local_data():\n",
    "    \"\"\"\"\"\"\n",
    "    raise NotImplementedError\n",
    "    \n",
    "def download_source_data():\n",
    "    \"\"\"\"\"\"\n",
    "    raise NotImplementedError\n",
    "\n",
    "def check_additional_sources():\n",
    "    \"\"\"\"\"\""
   ]
  },
  {
   "cell_type": "code",
   "execution_count": 17,
   "metadata": {},
   "outputs": [],
   "source": [
    "url = 'https://data.boston.gov/dataset/property-assessment'\n",
    "my_page = requests.get(url)"
   ]
  },
  {
   "cell_type": "code",
   "execution_count": 18,
   "metadata": {},
   "outputs": [
    {
     "data": {
      "text/plain": [
       "200"
      ]
     },
     "execution_count": 18,
     "metadata": {},
     "output_type": "execute_result"
    }
   ],
   "source": [
    "my_page.status_code"
   ]
  },
  {
   "cell_type": "code",
   "execution_count": 19,
   "metadata": {},
   "outputs": [],
   "source": [
    "soup = BeautifulSoup(my_page.content, 'html.parser')"
   ]
  },
  {
   "cell_type": "code",
   "execution_count": 22,
   "metadata": {},
   "outputs": [
    {
     "data": {
      "text/plain": [
       "'<!DOCTYPE html>\\n<!--[if IE 7]> <html lang=\"en\" class=\"ie ie7\"> <![endif]-->\\n<!--[if IE 8]> <html lang=\"en\" class=\"ie ie8\"> <![endif]-->\\n<!--[if IE 9]> <html lang=\"en\" class=\"ie9\"> <![endif]-->\\n<!--[if gt IE 8]><!-->\\n<html lang=\"en\">\\n <!--<![endif]-->\\n <head>\\n  <!--[if lte ie 8]><script type=\"text/javascript\" src=\"/fanstatic/vendor/:version:2019-08-09T21:00:46/html5.min.js\"></script><![endif]-->\\n  <link href=\"/fanstatic/vendor/:version:2019-08-09T21:00:46/select2/select2.css\" rel=\"stylesheet\" typ'"
      ]
     },
     "execution_count": 22,
     "metadata": {},
     "output_type": "execute_result"
    }
   ],
   "source": [
    "soup.prettify()[:500]"
   ]
  },
  {
   "cell_type": "code",
   "execution_count": 31,
   "metadata": {},
   "outputs": [],
   "source": [
    "dataset_resources = soup.find('section', attrs={'id':'dataset-resources'})"
   ]
  },
  {
   "cell_type": "code",
   "execution_count": 32,
   "metadata": {},
   "outputs": [],
   "source": [
    "resources = dataset_resources.find_all('li', attrs={'class': 'resource-item'})"
   ]
  },
  {
   "cell_type": "code",
   "execution_count": 38,
   "metadata": {},
   "outputs": [],
   "source": [
    "resource_names = [resource.find('a', attrs={'class': 'heading'}).get('title') for resource in resources]"
   ]
  },
  {
   "cell_type": "code",
   "execution_count": 40,
   "metadata": {},
   "outputs": [],
   "source": [
    "resource_urls = [resource.find('a', attrs={'btn btn-primary'}).get('href') for resource in resources]"
   ]
  },
  {
   "cell_type": "code",
   "execution_count": 53,
   "metadata": {},
   "outputs": [],
   "source": [
    "resource_exts  = [os.path.splitext(resource_url)[1] for resource_url in resource_urls]"
   ]
  },
  {
   "cell_type": "code",
   "execution_count": 59,
   "metadata": {},
   "outputs": [],
   "source": [
    "resource_types = ['data' if resource_ext in ['.csv', '.txt'] else 'key' for resource_ext in resource_exts]"
   ]
  },
  {
   "cell_type": "code",
   "execution_count": 56,
   "metadata": {},
   "outputs": [],
   "source": [
    "resource_filenames = [\n",
    "    ''.join([resource.lower().replace(' ', '-'), resource_ext])\n",
    "    for resource, resource_ext\n",
    "    in zip(resource_names, resource_exts)\n",
    "]"
   ]
  },
  {
   "cell_type": "code",
   "execution_count": 61,
   "metadata": {},
   "outputs": [],
   "source": [
    "inventory_dict = {\n",
    "    'resource': resource_names,\n",
    "    'filename': resource_filenames,\n",
    "    'filetype': resource_types,\n",
    "    'url': resource_urls,\n",
    "}"
   ]
  },
  {
   "cell_type": "code",
   "execution_count": 63,
   "metadata": {},
   "outputs": [],
   "source": [
    "inventory_df = pd.DataFrame(inventory_dict)"
   ]
  },
  {
   "cell_type": "code",
   "execution_count": 27,
   "metadata": {},
   "outputs": [
    {
     "data": {
      "text/plain": [
       "['https://data.boston.gov/dataset/e02c44d2-3c64-459c-8fe2-e1ce5f38a035/resource/d6c1268c-cd83-4dc3-a914-bba1ed59da6d/download/propertyoccupancycodes.pdf',\n",
       " 'https://data.boston.gov/dataset/e02c44d2-3c64-459c-8fe2-e1ce5f38a035/resource/695a8596-5458-442b-a017-7cd72471aade/download/fy19fullpropassess.csv',\n",
       " 'https://data.boston.gov/dataset/e02c44d2-3c64-459c-8fe2-e1ce5f38a035/resource/bac18ae6-b8fd-4cd3-a61c-c5e1a11f716c/download/property-assessment-fy2019-data-key.pdf',\n",
       " 'https://data.boston.gov/dataset/e02c44d2-3c64-459c-8fe2-e1ce5f38a035/resource/fd351943-c2c6-4630-992d-3f895360febd/download/ast2018full.csv',\n",
       " 'https://data.boston.gov/dataset/e02c44d2-3c64-459c-8fe2-e1ce5f38a035/resource/b8e32ddf-671f-4a35-b99f-c060bae958e5/download/property-assessment-fy2018-data-key.pdf',\n",
       " 'https://data.boston.gov/dataset/e02c44d2-3c64-459c-8fe2-e1ce5f38a035/resource/062fc6fa-b5ff-4270-86cf-202225e40858/download/property-assessment-fy2017.csv',\n",
       " 'https://data.boston.gov/dataset/e02c44d2-3c64-459c-8fe2-e1ce5f38a035/resource/d195dc47-56f6-437c-80a8-7acbb8a2aa6d/download/property-assessment-fy2017-data-key.pdf',\n",
       " 'https://data.boston.gov/dataset/e02c44d2-3c64-459c-8fe2-e1ce5f38a035/resource/cecdf003-9348-4ddb-94e1-673b63940bb8/download/property-assessment-fy2016.csv',\n",
       " 'https://data.boston.gov/dataset/e02c44d2-3c64-459c-8fe2-e1ce5f38a035/resource/dbdc1bd8-60af-4913-a788-5f91cb68541b/download/assessing-property-data-key-2016.pdf',\n",
       " 'https://data.boston.gov/dataset/e02c44d2-3c64-459c-8fe2-e1ce5f38a035/resource/bdb17c2b-e9ab-44e4-a070-bf804a0e1a7f/download/property-assessment-fy2015.csv',\n",
       " 'https://data.boston.gov/dataset/e02c44d2-3c64-459c-8fe2-e1ce5f38a035/resource/ddd1d6fa-6cdd-493b-85b5-b4b91a1de553/download/assessingpropertydatakey-7.pdf',\n",
       " 'https://data.boston.gov/dataset/e02c44d2-3c64-459c-8fe2-e1ce5f38a035/resource/7190b0a4-30c4-44c5-911d-c34f60b22181/download/property-assessment-fy2014.csv',\n",
       " 'https://data.boston.gov/dataset/e02c44d2-3c64-459c-8fe2-e1ce5f38a035/resource/4e389dbd-3cc4-4268-ac57-759d91e574a9/download/fy14assessingdataguideandoccupancycodes.pdf',\n",
       " 'https://data.boston.gov/dataset/e02c44d2-3c64-459c-8fe2-e1ce5f38a035/resource/425fd527-e26b-49c9-853c-1c4d3d2bdd97/download/property-assessment-fy13.csv',\n",
       " 'https://data.boston.gov/dataset/e02c44d2-3c64-459c-8fe2-e1ce5f38a035/resource/4326ca95-09ec-42e0-8cee-f048e00e6728/download/property-assessment-fy12.csv',\n",
       " 'https://data.boston.gov/dataset/e02c44d2-3c64-459c-8fe2-e1ce5f38a035/resource/110e8ded-d7cd-40d2-a72c-e4f3c7e9c541/download/property-assessment-fy11.csv',\n",
       " 'https://data.boston.gov/dataset/e02c44d2-3c64-459c-8fe2-e1ce5f38a035/resource/738ece37-5ae0-4f04-bf69-eca3ae1940b2/download/property-assessment-fy10.csv',\n",
       " 'https://data.boston.gov/dataset/e02c44d2-3c64-459c-8fe2-e1ce5f38a035/resource/1a374bd0-1ff9-4d1a-8727-ddfc201254fe/download/property-assessment-fy09.csv',\n",
       " 'https://data.boston.gov/dataset/e02c44d2-3c64-459c-8fe2-e1ce5f38a035/resource/81f34da8-ec6d-45f6-8d6c-65c57e71023e/download/property-assessment-fy08.csv',\n",
       " 'https://data.boston.gov/dataset/e02c44d2-3c64-459c-8fe2-e1ce5f38a035/resource/b3862082-216b-4a24-9f31-f47782079c3c/download/data2007-lite.txt',\n",
       " 'https://data.boston.gov/dataset/e02c44d2-3c64-459c-8fe2-e1ce5f38a035/resource/abab36a5-3e34-4262-8264-5f006e73ba6b/download/fy-07-lite-version.pdf',\n",
       " 'https://data.boston.gov/dataset/e02c44d2-3c64-459c-8fe2-e1ce5f38a035/resource/327af2fd-e386-4822-8a7f-aaab6d4d2c62/download/data2006lite.txt',\n",
       " 'https://data.boston.gov/dataset/e02c44d2-3c64-459c-8fe2-e1ce5f38a035/resource/cc02fad6-b0c6-4878-95b0-2f8ec4600683/download/2006-cdrom-lite-version.doc',\n",
       " 'https://data.boston.gov/dataset/e02c44d2-3c64-459c-8fe2-e1ce5f38a035/resource/5bfe4ca0-71c0-4751-bdcf-dad4d58445e0/download/data2005-lite.txt',\n",
       " 'https://data.boston.gov/dataset/e02c44d2-3c64-459c-8fe2-e1ce5f38a035/resource/8d4656e0-7ce0-49a6-8635-a9e9099559ac/download/2005-cdrom-lite-version.doc',\n",
       " 'https://data.boston.gov/dataset/e02c44d2-3c64-459c-8fe2-e1ce5f38a035/resource/d3be93ad-7939-4425-8b3b-73b69a747fa4/download/data2004-lite.txt',\n",
       " 'https://data.boston.gov/dataset/e02c44d2-3c64-459c-8fe2-e1ce5f38a035/resource/c50c981f-a512-47ab-b8d4-af95ce90948a/download/2004-cdrom-lite-version.doc']"
      ]
     },
     "execution_count": 27,
     "metadata": {},
     "output_type": "execute_result"
    }
   ],
   "source": [
    "[a.get('href') for a in soup.find_all('a', attrs={'btn btn-primary'})]"
   ]
  }
 ],
 "metadata": {
  "kernelspec": {
   "display_name": "Python 3",
   "language": "python",
   "name": "python3"
  },
  "language_info": {
   "codemirror_mode": {
    "name": "ipython",
    "version": 3
   },
   "file_extension": ".py",
   "mimetype": "text/x-python",
   "name": "python",
   "nbconvert_exporter": "python",
   "pygments_lexer": "ipython3",
   "version": "3.7.5"
  }
 },
 "nbformat": 4,
 "nbformat_minor": 2
}
