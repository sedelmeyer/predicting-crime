{
 "cells": [
  {
   "cell_type": "code",
   "execution_count": 97,
   "metadata": {},
   "outputs": [],
   "source": [
    "import itertools\n",
    "import os\n",
    "import pandas as pd\n",
    "import numpy as np\n",
    "import geopandas as gpd\n",
    "import matplotlib.pyplot as plt\n",
    "import matplotlib.patches as mpatches\n",
    "%matplotlib inline\n",
    "from geopy.distance import geodesic\n",
    "from geopy.geocoders import Nominatim\n",
    "import time"
   ]
  },
  {
   "cell_type": "code",
   "execution_count": 98,
   "metadata": {},
   "outputs": [],
   "source": [
    "DATA_ROOT = '../data/'\n",
    "DATA_DIR = os.path.join(DATA_ROOT, 'raw/boston')"
   ]
  },
  {
   "cell_type": "code",
   "execution_count": 99,
   "metadata": {},
   "outputs": [],
   "source": [
    "readfile_liquor = os.path.join(DATA_DIR, 'liquor-licenses.csv')"
   ]
  },
  {
   "cell_type": "code",
   "execution_count": 100,
   "metadata": {},
   "outputs": [
    {
     "data": {
      "text/html": [
       "<div>\n",
       "<style scoped>\n",
       "    .dataframe tbody tr th:only-of-type {\n",
       "        vertical-align: middle;\n",
       "    }\n",
       "\n",
       "    .dataframe tbody tr th {\n",
       "        vertical-align: top;\n",
       "    }\n",
       "\n",
       "    .dataframe thead th {\n",
       "        text-align: right;\n",
       "    }\n",
       "</style>\n",
       "<table border=\"1\" class=\"dataframe\">\n",
       "  <thead>\n",
       "    <tr style=\"text-align: right;\">\n",
       "      <th></th>\n",
       "      <th>LICENSENO</th>\n",
       "      <th>BUSINESSNAME</th>\n",
       "      <th>DBANAME</th>\n",
       "      <th>COMMENTS</th>\n",
       "      <th>LOCATIONCOMMENTS</th>\n",
       "      <th>ISSDTTM</th>\n",
       "      <th>EXPDTTM</th>\n",
       "      <th>LICSTATUS</th>\n",
       "      <th>LICCAT</th>\n",
       "      <th>LICCATDESC</th>\n",
       "      <th>...</th>\n",
       "      <th>CAPACITY</th>\n",
       "      <th>PRIMAPPLICANT</th>\n",
       "      <th>PHONE</th>\n",
       "      <th>STNO</th>\n",
       "      <th>STNOHI</th>\n",
       "      <th>Address</th>\n",
       "      <th>CITY</th>\n",
       "      <th>STATE</th>\n",
       "      <th>ZIP</th>\n",
       "      <th>Location</th>\n",
       "    </tr>\n",
       "  </thead>\n",
       "  <tbody>\n",
       "    <tr>\n",
       "      <th>0</th>\n",
       "      <td>LB-101572</td>\n",
       "      <td>NEW ENGLAND AQUARIUM CORP.</td>\n",
       "      <td>NaN</td>\n",
       "      <td>Outdoor Patio opening hours are 12:00 P.M. to ...</td>\n",
       "      <td>IN WHOLE OF MAIN EXHIBIT BUILDING  IN WHOLE OF...</td>\n",
       "      <td>11/27/2013 12:00:00 AM</td>\n",
       "      <td>12/31/2016 12:00:00 AM</td>\n",
       "      <td>Active</td>\n",
       "      <td>GOPAL</td>\n",
       "      <td>GOP All Alc.</td>\n",
       "      <td>...</td>\n",
       "      <td>2400</td>\n",
       "      <td>NEW ENGLAND AQUARIUM CORP.</td>\n",
       "      <td>NaN</td>\n",
       "      <td>NaN</td>\n",
       "      <td>NaN</td>\n",
       "      <td>Central Wharf</td>\n",
       "      <td>Boston</td>\n",
       "      <td>MA</td>\n",
       "      <td>2110</td>\n",
       "      <td>(0.0, 0.0)</td>\n",
       "    </tr>\n",
       "    <tr>\n",
       "      <th>1</th>\n",
       "      <td>LB-101576</td>\n",
       "      <td>SPEAK EASY CONCEPTS, LLC</td>\n",
       "      <td>NaN</td>\n",
       "      <td>PATIO HOURS: 12 NOON - 2:00 A.M. PATIO CONDITI...</td>\n",
       "      <td>ENTRANCE AND EXIT AT 120-124 BOYLSTON PLACE; I...</td>\n",
       "      <td>11/27/2013 12:00:00 AM</td>\n",
       "      <td>12/31/2016 12:00:00 AM</td>\n",
       "      <td>Active</td>\n",
       "      <td>GOPAL</td>\n",
       "      <td>GOP All Alc.</td>\n",
       "      <td>...</td>\n",
       "      <td>520</td>\n",
       "      <td>SPEAKEASY CONCEPTS, LLC</td>\n",
       "      <td>NaN</td>\n",
       "      <td>25.0</td>\n",
       "      <td>NaN</td>\n",
       "      <td>Boylston PL</td>\n",
       "      <td>Boston</td>\n",
       "      <td>MA</td>\n",
       "      <td>2116</td>\n",
       "      <td>(42.351899, -71.065829)</td>\n",
       "    </tr>\n",
       "    <tr>\n",
       "      <th>2</th>\n",
       "      <td>LB-101577</td>\n",
       "      <td>FROST GROUP, LLC</td>\n",
       "      <td>NaN</td>\n",
       "      <td>NONE</td>\n",
       "      <td>In two rooms on third level with main entrance...</td>\n",
       "      <td>11/20/2013 12:00:00 AM</td>\n",
       "      <td>12/31/2016 12:00:00 AM</td>\n",
       "      <td>Active</td>\n",
       "      <td>GOPAL</td>\n",
       "      <td>GOP All Alc.</td>\n",
       "      <td>...</td>\n",
       "      <td>240</td>\n",
       "      <td>FROST GROUP, LLC</td>\n",
       "      <td>NaN</td>\n",
       "      <td>200.0</td>\n",
       "      <td>NaN</td>\n",
       "      <td>State ST</td>\n",
       "      <td>Boston</td>\n",
       "      <td>MA</td>\n",
       "      <td>2109</td>\n",
       "      <td>(42.36003, -71.05319)</td>\n",
       "    </tr>\n",
       "  </tbody>\n",
       "</table>\n",
       "<p>3 rows × 23 columns</p>\n",
       "</div>"
      ],
      "text/plain": [
       "   LICENSENO                BUSINESSNAME DBANAME  \\\n",
       "0  LB-101572  NEW ENGLAND AQUARIUM CORP.     NaN   \n",
       "1  LB-101576    SPEAK EASY CONCEPTS, LLC     NaN   \n",
       "2  LB-101577            FROST GROUP, LLC     NaN   \n",
       "\n",
       "                                            COMMENTS  \\\n",
       "0  Outdoor Patio opening hours are 12:00 P.M. to ...   \n",
       "1  PATIO HOURS: 12 NOON - 2:00 A.M. PATIO CONDITI...   \n",
       "2                                               NONE   \n",
       "\n",
       "                                    LOCATIONCOMMENTS                 ISSDTTM  \\\n",
       "0  IN WHOLE OF MAIN EXHIBIT BUILDING  IN WHOLE OF...  11/27/2013 12:00:00 AM   \n",
       "1  ENTRANCE AND EXIT AT 120-124 BOYLSTON PLACE; I...  11/27/2013 12:00:00 AM   \n",
       "2  In two rooms on third level with main entrance...  11/20/2013 12:00:00 AM   \n",
       "\n",
       "                  EXPDTTM LICSTATUS LICCAT    LICCATDESC  ... CAPACITY  \\\n",
       "0  12/31/2016 12:00:00 AM    Active  GOPAL  GOP All Alc.  ...     2400   \n",
       "1  12/31/2016 12:00:00 AM    Active  GOPAL  GOP All Alc.  ...      520   \n",
       "2  12/31/2016 12:00:00 AM    Active  GOPAL  GOP All Alc.  ...      240   \n",
       "\n",
       "                PRIMAPPLICANT PHONE   STNO STNOHI            Address    CITY  \\\n",
       "0  NEW ENGLAND AQUARIUM CORP.   NaN    NaN    NaN    Central Wharf    Boston   \n",
       "1     SPEAKEASY CONCEPTS, LLC   NaN   25.0    NaN        Boylston PL  Boston   \n",
       "2            FROST GROUP, LLC   NaN  200.0    NaN           State ST  Boston   \n",
       "\n",
       "   STATE   ZIP                 Location  \n",
       "0     MA  2110               (0.0, 0.0)  \n",
       "1     MA  2116  (42.351899, -71.065829)  \n",
       "2     MA  2109    (42.36003, -71.05319)  \n",
       "\n",
       "[3 rows x 23 columns]"
      ]
     },
     "execution_count": 100,
     "metadata": {},
     "output_type": "execute_result"
    }
   ],
   "source": [
    "df_liquor = pd.read_csv(readfile_liquor)\n",
    "df_liquor.head(3)"
   ]
  },
  {
   "cell_type": "code",
   "execution_count": 101,
   "metadata": {},
   "outputs": [
    {
     "name": "stdout",
     "output_type": "stream",
     "text": [
      "Total Records:  1109\n"
     ]
    },
    {
     "data": {
      "text/plain": [
       "(0.0, 0.0)                 423\n",
       "(42.347296, -71.081457)      5\n",
       "(42.35927, -71.05643)        3\n",
       "(42.36629, -71.0622)         3\n",
       "(42.346219, -71.043099)      3\n",
       "(42.348545, -71.077314)      2\n",
       "(42.348075, -71.039263)      2\n",
       "(42.352166, -71.11768)       2\n",
       "(42.314637, -71.104489)      2\n",
       "(42.34716, -71.08251)        2\n",
       "Name: Location, dtype: int64"
      ]
     },
     "execution_count": 101,
     "metadata": {},
     "output_type": "execute_result"
    }
   ],
   "source": [
    "#row count\n",
    "count_row = df_liquor.shape[0]\n",
    "print(\"Total Records: \",count_row)\n",
    "\n",
    "df_liquor['Location'].value_counts().nlargest(10)\n",
    "\n",
    "#Seeing that 423 of our 1109 records are missing lat/lon coordinates \n",
    "#need to transform address into lat/lon for impacted records"
   ]
  },
  {
   "cell_type": "code",
   "execution_count": 102,
   "metadata": {},
   "outputs": [
    {
     "name": "stdout",
     "output_type": "stream",
     "text": [
      "Central Wharf (New England Aquarium), Boston HarborWalk, Waterfront, Financial District, Boston, Suffolk County, Massachusetts, MA 02109, United States\n",
      "(42.35909945, -71.0495668203563)\n"
     ]
    }
   ],
   "source": [
    "#Example of geolocating an address\n",
    "\n",
    "geolocator = Nominatim(user_agent=\"predictCrime\")\n",
    "locationTest = geolocator.geocode(\"Central Wharf Boston, MA\")\n",
    "\n",
    "print(locationTest.address)\n",
    "print((locationTest.latitude, locationTest.longitude))"
   ]
  },
  {
   "cell_type": "code",
   "execution_count": 103,
   "metadata": {},
   "outputs": [
    {
     "data": {
      "text/html": [
       "<div>\n",
       "<style scoped>\n",
       "    .dataframe tbody tr th:only-of-type {\n",
       "        vertical-align: middle;\n",
       "    }\n",
       "\n",
       "    .dataframe tbody tr th {\n",
       "        vertical-align: top;\n",
       "    }\n",
       "\n",
       "    .dataframe thead th {\n",
       "        text-align: right;\n",
       "    }\n",
       "</style>\n",
       "<table border=\"1\" class=\"dataframe\">\n",
       "  <thead>\n",
       "    <tr style=\"text-align: right;\">\n",
       "      <th></th>\n",
       "      <th>LICENSENO</th>\n",
       "      <th>BUSINESSNAME</th>\n",
       "      <th>DBANAME</th>\n",
       "      <th>COMMENTS</th>\n",
       "      <th>LOCATIONCOMMENTS</th>\n",
       "      <th>ISSDTTM</th>\n",
       "      <th>EXPDTTM</th>\n",
       "      <th>LICSTATUS</th>\n",
       "      <th>LICCAT</th>\n",
       "      <th>LICCATDESC</th>\n",
       "      <th>...</th>\n",
       "      <th>PRIMAPPLICANT</th>\n",
       "      <th>PHONE</th>\n",
       "      <th>STNO</th>\n",
       "      <th>STNOHI</th>\n",
       "      <th>Address</th>\n",
       "      <th>CITY</th>\n",
       "      <th>STATE</th>\n",
       "      <th>ZIP</th>\n",
       "      <th>Location</th>\n",
       "      <th>Address_Complete</th>\n",
       "    </tr>\n",
       "  </thead>\n",
       "  <tbody>\n",
       "    <tr>\n",
       "      <th>0</th>\n",
       "      <td>LB-101572</td>\n",
       "      <td>NEW ENGLAND AQUARIUM CORP.</td>\n",
       "      <td>NaN</td>\n",
       "      <td>Outdoor Patio opening hours are 12:00 P.M. to ...</td>\n",
       "      <td>IN WHOLE OF MAIN EXHIBIT BUILDING  IN WHOLE OF...</td>\n",
       "      <td>11/27/2013 12:00:00 AM</td>\n",
       "      <td>12/31/2016 12:00:00 AM</td>\n",
       "      <td>Active</td>\n",
       "      <td>GOPAL</td>\n",
       "      <td>GOP All Alc.</td>\n",
       "      <td>...</td>\n",
       "      <td>NEW ENGLAND AQUARIUM CORP.</td>\n",
       "      <td>NaN</td>\n",
       "      <td>NaN</td>\n",
       "      <td>NaN</td>\n",
       "      <td>Central Wharf</td>\n",
       "      <td>Boston</td>\n",
       "      <td>MA</td>\n",
       "      <td>2110</td>\n",
       "      <td>(0.0, 0.0)</td>\n",
       "      <td>Central Wharf Boston, MA</td>\n",
       "    </tr>\n",
       "    <tr>\n",
       "      <th>1</th>\n",
       "      <td>LB-101576</td>\n",
       "      <td>SPEAK EASY CONCEPTS, LLC</td>\n",
       "      <td>NaN</td>\n",
       "      <td>PATIO HOURS: 12 NOON - 2:00 A.M. PATIO CONDITI...</td>\n",
       "      <td>ENTRANCE AND EXIT AT 120-124 BOYLSTON PLACE; I...</td>\n",
       "      <td>11/27/2013 12:00:00 AM</td>\n",
       "      <td>12/31/2016 12:00:00 AM</td>\n",
       "      <td>Active</td>\n",
       "      <td>GOPAL</td>\n",
       "      <td>GOP All Alc.</td>\n",
       "      <td>...</td>\n",
       "      <td>SPEAKEASY CONCEPTS, LLC</td>\n",
       "      <td>NaN</td>\n",
       "      <td>25.0</td>\n",
       "      <td>NaN</td>\n",
       "      <td>Boylston PL</td>\n",
       "      <td>Boston</td>\n",
       "      <td>MA</td>\n",
       "      <td>2116</td>\n",
       "      <td>(42.351899, -71.065829)</td>\n",
       "      <td>Boylston PL Boston, MA</td>\n",
       "    </tr>\n",
       "    <tr>\n",
       "      <th>2</th>\n",
       "      <td>LB-101577</td>\n",
       "      <td>FROST GROUP, LLC</td>\n",
       "      <td>NaN</td>\n",
       "      <td>NONE</td>\n",
       "      <td>In two rooms on third level with main entrance...</td>\n",
       "      <td>11/20/2013 12:00:00 AM</td>\n",
       "      <td>12/31/2016 12:00:00 AM</td>\n",
       "      <td>Active</td>\n",
       "      <td>GOPAL</td>\n",
       "      <td>GOP All Alc.</td>\n",
       "      <td>...</td>\n",
       "      <td>FROST GROUP, LLC</td>\n",
       "      <td>NaN</td>\n",
       "      <td>200.0</td>\n",
       "      <td>NaN</td>\n",
       "      <td>State ST</td>\n",
       "      <td>Boston</td>\n",
       "      <td>MA</td>\n",
       "      <td>2109</td>\n",
       "      <td>(42.36003, -71.05319)</td>\n",
       "      <td>State ST Boston, MA</td>\n",
       "    </tr>\n",
       "  </tbody>\n",
       "</table>\n",
       "<p>3 rows × 24 columns</p>\n",
       "</div>"
      ],
      "text/plain": [
       "   LICENSENO                BUSINESSNAME DBANAME  \\\n",
       "0  LB-101572  NEW ENGLAND AQUARIUM CORP.     NaN   \n",
       "1  LB-101576    SPEAK EASY CONCEPTS, LLC     NaN   \n",
       "2  LB-101577            FROST GROUP, LLC     NaN   \n",
       "\n",
       "                                            COMMENTS  \\\n",
       "0  Outdoor Patio opening hours are 12:00 P.M. to ...   \n",
       "1  PATIO HOURS: 12 NOON - 2:00 A.M. PATIO CONDITI...   \n",
       "2                                               NONE   \n",
       "\n",
       "                                    LOCATIONCOMMENTS                 ISSDTTM  \\\n",
       "0  IN WHOLE OF MAIN EXHIBIT BUILDING  IN WHOLE OF...  11/27/2013 12:00:00 AM   \n",
       "1  ENTRANCE AND EXIT AT 120-124 BOYLSTON PLACE; I...  11/27/2013 12:00:00 AM   \n",
       "2  In two rooms on third level with main entrance...  11/20/2013 12:00:00 AM   \n",
       "\n",
       "                  EXPDTTM LICSTATUS LICCAT    LICCATDESC  ...  \\\n",
       "0  12/31/2016 12:00:00 AM    Active  GOPAL  GOP All Alc.  ...   \n",
       "1  12/31/2016 12:00:00 AM    Active  GOPAL  GOP All Alc.  ...   \n",
       "2  12/31/2016 12:00:00 AM    Active  GOPAL  GOP All Alc.  ...   \n",
       "\n",
       "                PRIMAPPLICANT PHONE   STNO  STNOHI            Address    CITY  \\\n",
       "0  NEW ENGLAND AQUARIUM CORP.   NaN    NaN     NaN    Central Wharf    Boston   \n",
       "1     SPEAKEASY CONCEPTS, LLC   NaN   25.0     NaN        Boylston PL  Boston   \n",
       "2            FROST GROUP, LLC   NaN  200.0     NaN           State ST  Boston   \n",
       "\n",
       "   STATE   ZIP                 Location          Address_Complete  \n",
       "0     MA  2110               (0.0, 0.0)  Central Wharf Boston, MA  \n",
       "1     MA  2116  (42.351899, -71.065829)    Boylston PL Boston, MA  \n",
       "2     MA  2109    (42.36003, -71.05319)       State ST Boston, MA  \n",
       "\n",
       "[3 rows x 24 columns]"
      ]
     },
     "execution_count": 103,
     "metadata": {},
     "output_type": "execute_result"
    }
   ],
   "source": [
    "#Adding a helper column \"Address_Complete\" to make finding our missing coordinates easier\n",
    "df_liquor['Address_Complete'] = df_liquor[\"Address\"].str.strip() + ' ' + df_liquor[\"CITY\"].str.strip() + \", \" + df_liquor[\"STATE\"].str.strip()\n",
    "df_liquor.head(3)"
   ]
  },
  {
   "cell_type": "code",
   "execution_count": 104,
   "metadata": {},
   "outputs": [],
   "source": [
    "#Testing new address field with geolocator function\n",
    "#Found the following issues with our geolocator API calls and the current format of our addresses: \n",
    "    #1.) Remove \",\" from \"Address\" field (only impacts certain Logan Airport)\n",
    "    #2.) Convert \"BL\" to \"Blvd\"\n",
    "    #3.) Convert \"CI\" to \"Cir\"\n",
    "    #4.) Convert \"WH\" to \"Wharf\"\n",
    "    #5-End.) Specific to each entry, update address to be more specific\n",
    "    \n",
    "#Fix # 1\n",
    "df_liquor['Address_Complete'] = df_liquor['Address_Complete'].str.replace(',', '')\n",
    "\n",
    "#Fix #2\n",
    "df_liquor['Address_Complete'] = df_liquor['Address_Complete'].str.replace(' BL ', ' Blvd ')\n",
    "\n",
    "#Fix #3\n",
    "df_liquor['Address_Complete'] = df_liquor['Address_Complete'].str.replace(' CI ', ' Cir ')\n",
    "\n",
    "#Fix #4\n",
    "df_liquor['Address_Complete'] = df_liquor['Address_Complete'].str.replace(' Wh ', ' Wharf ')\n",
    "\n",
    "#Fix #4.1\n",
    "df_liquor['Address_Complete'] = df_liquor['Address_Complete'].str.replace(' Pz ', ' Plaza ')\n",
    "df_liquor['Address_Complete'] = df_liquor['Address_Complete'].str.replace(' PZ ', ' Plaza ')\n",
    "\n",
    "#Fix #5\n",
    "df_liquor['Address_Complete'] = df_liquor['Address_Complete'].str.replace('Allstate RD Dorchester MA', '11A Allstate Rd Boston MA')\n",
    "df_liquor['Address_Complete'] = df_liquor['Address_Complete'].str.replace('Allstate Rd Dorchester MA', '11A Allstate Rd Boston MA')\n",
    "\n",
    "\n",
    "#Fix #6\n",
    "df_liquor['Address_Complete'] = df_liquor['Address_Complete'].str.replace('Battery WH Boston MA', '3 Battery Wharf Boston MA')\n",
    "\n",
    "#Fix #7\n",
    "df_liquor['Address_Complete'] = df_liquor['Address_Complete'].str.replace('VFW PW Boston MA', '683 Vfw Pkwy Boston MA')\n",
    "df_liquor['Address_Complete'] = df_liquor['Address_Complete'].str.replace('VFW PW West Roxbury MA', '1430 VFW Pkwy West Roxbury MA')\n",
    "df_liquor['Address_Complete'] = df_liquor['Address_Complete'].str.replace('VFW Pw West Roxbury MA', '1430 VFW Pkwy West Roxbury MA')\n",
    "\n",
    "\n",
    "\n",
    "#Fix #8\n",
    "df_liquor['Address_Complete'] = df_liquor['Address_Complete'].str.replace('Merchants Ro Boston MA', 'Merchants Row Boston MA')\n",
    "df_liquor['Address_Complete'] = df_liquor['Address_Complete'].str.replace('Merchants RO Boston MA', 'Merchants Row Boston MA')\n",
    "\n",
    "#Fix #9\n",
    "df_liquor['Address_Complete'] = df_liquor['Address_Complete'].str.replace('International PL Boston MA', 'One International Place Boston MA')\n",
    "\n",
    "#Fix #10\n",
    "df_liquor['Address_Complete'] = df_liquor['Address_Complete'].str.replace('Norfolk AV Roxbury MA', '257 Norfolk Avenue Boston MA')\n",
    "\n",
    "#Fix #11\n",
    "df_liquor['Address_Complete'] = df_liquor['Address_Complete'].str.replace('W Howell ST Dorchester MA', '33 W Howell ST Boston MA')\n",
    "\n",
    "#Fix #12\n",
    "df_liquor['Address_Complete'] = df_liquor['Address_Complete'].str.replace('Logan Airport F-2 Terminal A East Boston MA', 'Logan Airport Terminal A East Boston MA')\n",
    "\n",
    "#Fix #13\n",
    "df_liquor['Address_Complete'] = df_liquor['Address_Complete'].str.replace('Mechanic CT Boston MA', '44 Mechanic Street Boston MA')\n",
    "\n",
    "#Fix #14\n",
    "df_liquor['Address_Complete'] = df_liquor['Address_Complete'].str.replace('William F McClellan Hw East Boston MA', 'Courtyard by Marriott Boston Logan Airport Boston MA')\n",
    "\n",
    "#Fix #15\n",
    "df_liquor['Address_Complete'] = df_liquor['Address_Complete'].str.replace('Logan Airport 200 Terminal B East Boston MA', 'Logan Airport Terminal B East Boston MA')\n",
    "\n",
    "#Fix #16\n",
    "df_liquor['Address_Complete'] = df_liquor['Address_Complete'].str.replace('Block C Seaport SQ Boston MA', '60 Seaport Blvd #315 Boston MA')\n",
    "\n",
    "#Fix #17\n",
    "df_liquor['Address_Complete'] = df_liquor['Address_Complete'].str.replace('W Dedham St Roxbury MA', '57 W Dedham St Boston MA')\n",
    "\n",
    "#Fix #18\n",
    "df_liquor['Address_Complete'] = df_liquor['Address_Complete'].str.replace('Dry Dock Av Boston MA', 'Dry Dock Av, Boston MA')\n",
    "\n",
    "#Fix #19\n",
    "df_liquor['Address_Complete'] = df_liquor['Address_Complete'].str.replace('W Broadway ST South Boston MA', '80 W Broadway Boston MA')"
   ]
  },
  {
   "cell_type": "code",
   "execution_count": 127,
   "metadata": {},
   "outputs": [
    {
     "name": "stdout",
     "output_type": "stream",
     "text": [
      "45\n"
     ]
    }
   ],
   "source": [
    "#Due to API limitations, 50-75 calls appear to be my current max. We're doing 45 at a time to be safe with a 45 second\n",
    "#wait time between calls. Even with the wait time I would not recommend rushing through these cells. \n",
    "#Output data file and plots are available separately so running this notebook is not necessary. \n",
    "#See /processed/liquor_processed.csv for final .csv output\n",
    "\n",
    "newCoordinates = []\n",
    "addresses = []\n",
    "for val in df_liquor['Address_Complete'][0:45]: \n",
    "    geo = geolocator.geocode(val)\n",
    "    addresses.append(val)\n",
    "    newCoordinates.append((geo.latitude,geo.longitude))\n",
    "    #print(val,(geo.latitude, geo.longitude))\n",
    "    \n",
    "print(len(newCoordinates))\n",
    "#print(addresses)"
   ]
  },
  {
   "cell_type": "code",
   "execution_count": 128,
   "metadata": {},
   "outputs": [
    {
     "name": "stdout",
     "output_type": "stream",
     "text": [
      "90\n"
     ]
    }
   ],
   "source": [
    "time.sleep(45)#Need to briefly wait to avoid timeout\n",
    "for val in df_liquor['Address_Complete'][45:90]:\n",
    "    geo = geolocator.geocode(val)\n",
    "    addresses.append(val)\n",
    "    newCoordinates.append((geo.latitude,geo.longitude))\n",
    "    #print(val,(geo.latitude, geo.longitude))\n",
    "print(len(newCoordinates))"
   ]
  },
  {
   "cell_type": "code",
   "execution_count": 129,
   "metadata": {},
   "outputs": [
    {
     "name": "stdout",
     "output_type": "stream",
     "text": [
      "135\n"
     ]
    }
   ],
   "source": [
    "time.sleep(45)\n",
    "for val in df_liquor['Address_Complete'][90:135]:\n",
    "    geo = geolocator.geocode(val)\n",
    "    addresses.append(val)\n",
    "    newCoordinates.append((geo.latitude,geo.longitude))\n",
    "    #print(val,(geo.latitude, geo.longitude)) \n",
    "print(len(newCoordinates))"
   ]
  },
  {
   "cell_type": "code",
   "execution_count": 130,
   "metadata": {},
   "outputs": [
    {
     "name": "stdout",
     "output_type": "stream",
     "text": [
      "180\n"
     ]
    }
   ],
   "source": [
    "time.sleep(45)\n",
    "for val in df_liquor['Address_Complete'][135:180]:\n",
    "    geo = geolocator.geocode(val)\n",
    "    addresses.append(val)\n",
    "    newCoordinates.append((geo.latitude,geo.longitude))\n",
    "    #print(val,(geo.latitude, geo.longitude)) \n",
    "print(len(newCoordinates))"
   ]
  },
  {
   "cell_type": "code",
   "execution_count": 131,
   "metadata": {},
   "outputs": [
    {
     "name": "stdout",
     "output_type": "stream",
     "text": [
      "225\n"
     ]
    }
   ],
   "source": [
    "time.sleep(45)\n",
    "for val in df_liquor['Address_Complete'][180:225]:\n",
    "    geo = geolocator.geocode(val)\n",
    "    addresses.append(val)\n",
    "    newCoordinates.append((geo.latitude,geo.longitude))\n",
    "    #print(val,(geo.latitude, geo.longitude))     \n",
    "    \n",
    "print(len(newCoordinates))"
   ]
  },
  {
   "cell_type": "code",
   "execution_count": 132,
   "metadata": {},
   "outputs": [
    {
     "name": "stdout",
     "output_type": "stream",
     "text": [
      "270\n"
     ]
    }
   ],
   "source": [
    "time.sleep(45)\n",
    "for val in df_liquor['Address_Complete'][225:270]:\n",
    "    geo = geolocator.geocode(val)\n",
    "    addresses.append(val)\n",
    "    newCoordinates.append((geo.latitude,geo.longitude))\n",
    "    #print(val,(geo.latitude, geo.longitude))\n",
    "\n",
    "print(len(newCoordinates))"
   ]
  },
  {
   "cell_type": "code",
   "execution_count": 133,
   "metadata": {},
   "outputs": [
    {
     "name": "stdout",
     "output_type": "stream",
     "text": [
      "315\n"
     ]
    }
   ],
   "source": [
    "time.sleep(45)\n",
    "for val in df_liquor['Address_Complete'][270:315]:\n",
    "    geo = geolocator.geocode(val)\n",
    "    addresses.append(val)\n",
    "    newCoordinates.append((geo.latitude,geo.longitude))\n",
    "    #print(val,(geo.latitude, geo.longitude)) \n",
    "\n",
    "print(len(newCoordinates))"
   ]
  },
  {
   "cell_type": "code",
   "execution_count": 134,
   "metadata": {},
   "outputs": [
    {
     "name": "stdout",
     "output_type": "stream",
     "text": [
      "360\n"
     ]
    }
   ],
   "source": [
    "time.sleep(45)\n",
    "for val in df_liquor['Address_Complete'][315:360]:\n",
    "    geo = geolocator.geocode(val)\n",
    "    addresses.append(val)\n",
    "    newCoordinates.append((geo.latitude,geo.longitude))\n",
    "    #print(val,(geo.latitude, geo.longitude)) \n",
    "\n",
    "print(len(newCoordinates))"
   ]
  },
  {
   "cell_type": "code",
   "execution_count": 135,
   "metadata": {},
   "outputs": [
    {
     "name": "stdout",
     "output_type": "stream",
     "text": [
      "405\n"
     ]
    }
   ],
   "source": [
    "time.sleep(45)\n",
    "for val in df_liquor['Address_Complete'][360:405]:\n",
    "    geo = geolocator.geocode(val)\n",
    "    addresses.append(val)\n",
    "    newCoordinates.append((geo.latitude,geo.longitude))\n",
    "    #print(val,(geo.latitude, geo.longitude)) \n",
    "\n",
    "print(len(newCoordinates))"
   ]
  },
  {
   "cell_type": "code",
   "execution_count": 136,
   "metadata": {},
   "outputs": [
    {
     "name": "stdout",
     "output_type": "stream",
     "text": [
      "450\n"
     ]
    }
   ],
   "source": [
    "time.sleep(45)\n",
    "for val in df_liquor['Address_Complete'][405:450]:\n",
    "    geo = geolocator.geocode(val)\n",
    "    addresses.append(val)\n",
    "    newCoordinates.append((geo.latitude,geo.longitude))\n",
    "    #print(val,(geo.latitude, geo.longitude)) \n",
    "    \n",
    "print(len(newCoordinates))"
   ]
  },
  {
   "cell_type": "code",
   "execution_count": 137,
   "metadata": {},
   "outputs": [
    {
     "name": "stdout",
     "output_type": "stream",
     "text": [
      "495\n"
     ]
    }
   ],
   "source": [
    "time.sleep(45)\n",
    "for val in df_liquor['Address_Complete'][450:495]:\n",
    "    geo = geolocator.geocode(val)\n",
    "    addresses.append(val)\n",
    "    newCoordinates.append((geo.latitude,geo.longitude))\n",
    "    #print(val,(geo.latitude, geo.longitude)) \n",
    "\n",
    "print(len(newCoordinates))"
   ]
  },
  {
   "cell_type": "code",
   "execution_count": 138,
   "metadata": {},
   "outputs": [
    {
     "name": "stdout",
     "output_type": "stream",
     "text": [
      "540\n"
     ]
    }
   ],
   "source": [
    "time.sleep(45)\n",
    "for val in df_liquor['Address_Complete'][495:540]:\n",
    "    geo = geolocator.geocode(val)\n",
    "    addresses.append(val)\n",
    "    newCoordinates.append((geo.latitude,geo.longitude))\n",
    "    #print(val,(geo.latitude, geo.longitude))\n",
    "\n",
    "print(len(newCoordinates))"
   ]
  },
  {
   "cell_type": "code",
   "execution_count": 141,
   "metadata": {},
   "outputs": [
    {
     "name": "stdout",
     "output_type": "stream",
     "text": [
      "585\n"
     ]
    }
   ],
   "source": [
    "time.sleep(45)\n",
    "for val in df_liquor['Address_Complete'][540:585]:\n",
    "    geo = geolocator.geocode(val)\n",
    "    addresses.append(val)\n",
    "    newCoordinates.append((geo.latitude,geo.longitude))\n",
    "    #print(val,(geo.latitude, geo.longitude))\n",
    "\n",
    "print(len(newCoordinates))"
   ]
  },
  {
   "cell_type": "code",
   "execution_count": 142,
   "metadata": {},
   "outputs": [
    {
     "name": "stdout",
     "output_type": "stream",
     "text": [
      "630\n"
     ]
    }
   ],
   "source": [
    "time.sleep(45)\n",
    "for val in df_liquor['Address_Complete'][585:630]:\n",
    "    geo = geolocator.geocode(val)\n",
    "    addresses.append(val)\n",
    "    newCoordinates.append((geo.latitude,geo.longitude))\n",
    "    #print(val,(geo.latitude, geo.longitude))\n",
    "\n",
    "print(len(newCoordinates))"
   ]
  },
  {
   "cell_type": "code",
   "execution_count": 143,
   "metadata": {},
   "outputs": [
    {
     "name": "stdout",
     "output_type": "stream",
     "text": [
      "675\n"
     ]
    }
   ],
   "source": [
    "time.sleep(45)\n",
    "for val in df_liquor['Address_Complete'][630:675]:\n",
    "    geo = geolocator.geocode(val)\n",
    "    addresses.append(val)\n",
    "    newCoordinates.append((geo.latitude,geo.longitude))\n",
    "    #print(val,(geo.latitude, geo.longitude))\n",
    "\n",
    "print(len(newCoordinates))"
   ]
  },
  {
   "cell_type": "code",
   "execution_count": 146,
   "metadata": {},
   "outputs": [
    {
     "name": "stdout",
     "output_type": "stream",
     "text": [
      "720\n"
     ]
    }
   ],
   "source": [
    "time.sleep(45)\n",
    "for val in df_liquor['Address_Complete'][675:720]:\n",
    "    geo = geolocator.geocode(val)\n",
    "    addresses.append(val)\n",
    "    newCoordinates.append((geo.latitude,geo.longitude))\n",
    "    #print(val,(geo.latitude, geo.longitude))\n",
    "\n",
    "print(len(newCoordinates))"
   ]
  },
  {
   "cell_type": "code",
   "execution_count": 147,
   "metadata": {},
   "outputs": [
    {
     "name": "stdout",
     "output_type": "stream",
     "text": [
      "765\n"
     ]
    }
   ],
   "source": [
    "time.sleep(45)\n",
    "for val in df_liquor['Address_Complete'][720:765]:\n",
    "    geo = geolocator.geocode(val)\n",
    "    addresses.append(val)\n",
    "    newCoordinates.append((geo.latitude,geo.longitude))\n",
    "    #print(val,(geo.latitude, geo.longitude))\n",
    "\n",
    "print(len(newCoordinates))"
   ]
  },
  {
   "cell_type": "code",
   "execution_count": 150,
   "metadata": {},
   "outputs": [
    {
     "name": "stdout",
     "output_type": "stream",
     "text": [
      "810\n"
     ]
    }
   ],
   "source": [
    "time.sleep(45)\n",
    "for val in df_liquor['Address_Complete'][765:810]:\n",
    "    geo = geolocator.geocode(val)\n",
    "    addresses.append(val)\n",
    "    newCoordinates.append((geo.latitude,geo.longitude))\n",
    "    #print(val,(geo.latitude, geo.longitude))\n",
    "\n",
    "print(len(newCoordinates))"
   ]
  },
  {
   "cell_type": "code",
   "execution_count": 151,
   "metadata": {},
   "outputs": [
    {
     "name": "stdout",
     "output_type": "stream",
     "text": [
      "855\n"
     ]
    }
   ],
   "source": [
    "time.sleep(45)\n",
    "for val in df_liquor['Address_Complete'][810:855]:\n",
    "    geo = geolocator.geocode(val)\n",
    "    addresses.append(val)\n",
    "    newCoordinates.append((geo.latitude,geo.longitude))\n",
    "    #print(val,(geo.latitude, geo.longitude))\n",
    "\n",
    "print(len(newCoordinates))"
   ]
  },
  {
   "cell_type": "code",
   "execution_count": 152,
   "metadata": {},
   "outputs": [
    {
     "name": "stdout",
     "output_type": "stream",
     "text": [
      "900\n"
     ]
    }
   ],
   "source": [
    "time.sleep(45)\n",
    "for val in df_liquor['Address_Complete'][855:900]:\n",
    "    geo = geolocator.geocode(val)\n",
    "    addresses.append(val)\n",
    "    newCoordinates.append((geo.latitude,geo.longitude))\n",
    "    #print(val,(geo.latitude, geo.longitude))\n",
    "\n",
    "print(len(newCoordinates))"
   ]
  },
  {
   "cell_type": "code",
   "execution_count": 153,
   "metadata": {},
   "outputs": [
    {
     "name": "stdout",
     "output_type": "stream",
     "text": [
      "945\n"
     ]
    }
   ],
   "source": [
    "time.sleep(45)\n",
    "for val in df_liquor['Address_Complete'][900:945]:\n",
    "    geo = geolocator.geocode(val)\n",
    "    addresses.append(val)\n",
    "    newCoordinates.append((geo.latitude,geo.longitude))\n",
    "    #print(val,(geo.latitude, geo.longitude))\n",
    "\n",
    "print(len(newCoordinates))"
   ]
  },
  {
   "cell_type": "code",
   "execution_count": 154,
   "metadata": {},
   "outputs": [
    {
     "name": "stdout",
     "output_type": "stream",
     "text": [
      "990\n"
     ]
    }
   ],
   "source": [
    "time.sleep(45)\n",
    "for val in df_liquor['Address_Complete'][945:990]:\n",
    "    geo = geolocator.geocode(val)\n",
    "    addresses.append(val)\n",
    "    newCoordinates.append((geo.latitude,geo.longitude))\n",
    "    #print(val,(geo.latitude, geo.longitude))\n",
    "\n",
    "print(len(newCoordinates))"
   ]
  },
  {
   "cell_type": "code",
   "execution_count": 155,
   "metadata": {},
   "outputs": [],
   "source": [
    "time.sleep(45)\n",
    "for val in df_liquor['Address_Complete'][990:1035]:\n",
    "    geo = geolocator.geocode(val)\n",
    "    addresses.append(val)\n",
    "    newCoordinates.append((geo.latitude,geo.longitude))\n",
    "    #print(val,(geo.latitude, geo.longitude))\n",
    "\n",
    "print(len(newCoordinates))"
   ]
  },
  {
   "cell_type": "code",
   "execution_count": 158,
   "metadata": {},
   "outputs": [
    {
     "name": "stdout",
     "output_type": "stream",
     "text": [
      "1080\n"
     ]
    }
   ],
   "source": [
    "time.sleep(45)\n",
    "for val in df_liquor['Address_Complete'][1035:1080]:\n",
    "    geo = geolocator.geocode(val)\n",
    "    addresses.append(val)\n",
    "    newCoordinates.append((geo.latitude,geo.longitude))\n",
    "    #print(val,(geo.latitude, geo.longitude))\n",
    "print(len(newCoordinates))"
   ]
  },
  {
   "cell_type": "code",
   "execution_count": 159,
   "metadata": {},
   "outputs": [
    {
     "name": "stdout",
     "output_type": "stream",
     "text": [
      "1109\n"
     ]
    }
   ],
   "source": [
    "time.sleep(45)\n",
    "for val in df_liquor['Address_Complete'][1080:1125]:\n",
    "    geo = geolocator.geocode(val)\n",
    "    addresses.append(val)\n",
    "    newCoordinates.append((geo.latitude,geo.longitude))\n",
    "    #print(val,(geo.latitude, geo.longitude))\n",
    "\n",
    "print(len(newCoordinates))"
   ]
  },
  {
   "cell_type": "code",
   "execution_count": 437,
   "metadata": {},
   "outputs": [],
   "source": [
    "#=============Testing Problematic Addresses=========================\n",
    "#locationTest3 = geolocator.geocode(\"80 W Broadway Boston MA\")\n",
    "#print(locationTest3.address)\n",
    "\n",
    "#df_liquor['Address_Complete'][0:10]\n",
    "#df_liquor['Address_Complete'][100:150]"
   ]
  },
  {
   "cell_type": "code",
   "execution_count": 160,
   "metadata": {},
   "outputs": [
    {
     "name": "stdout",
     "output_type": "stream",
     "text": [
      "1109 1109\n"
     ]
    }
   ],
   "source": [
    "#Making sure our new lists match in length\n",
    "print(len(addresses),len(newCoordinates))"
   ]
  },
  {
   "cell_type": "code",
   "execution_count": 161,
   "metadata": {},
   "outputs": [
    {
     "data": {
      "text/html": [
       "<div>\n",
       "<style scoped>\n",
       "    .dataframe tbody tr th:only-of-type {\n",
       "        vertical-align: middle;\n",
       "    }\n",
       "\n",
       "    .dataframe tbody tr th {\n",
       "        vertical-align: top;\n",
       "    }\n",
       "\n",
       "    .dataframe thead th {\n",
       "        text-align: right;\n",
       "    }\n",
       "</style>\n",
       "<table border=\"1\" class=\"dataframe\">\n",
       "  <thead>\n",
       "    <tr style=\"text-align: right;\">\n",
       "      <th></th>\n",
       "      <th>LICENSENO</th>\n",
       "      <th>BUSINESSNAME</th>\n",
       "      <th>DBANAME</th>\n",
       "      <th>COMMENTS</th>\n",
       "      <th>LOCATIONCOMMENTS</th>\n",
       "      <th>ISSDTTM</th>\n",
       "      <th>EXPDTTM</th>\n",
       "      <th>LICSTATUS</th>\n",
       "      <th>LICCAT</th>\n",
       "      <th>LICCATDESC</th>\n",
       "      <th>...</th>\n",
       "      <th>PHONE</th>\n",
       "      <th>STNO</th>\n",
       "      <th>STNOHI</th>\n",
       "      <th>Address</th>\n",
       "      <th>CITY</th>\n",
       "      <th>STATE</th>\n",
       "      <th>ZIP</th>\n",
       "      <th>Location</th>\n",
       "      <th>Address_Complete</th>\n",
       "      <th>Location_Complete</th>\n",
       "    </tr>\n",
       "  </thead>\n",
       "  <tbody>\n",
       "    <tr>\n",
       "      <th>0</th>\n",
       "      <td>LB-101572</td>\n",
       "      <td>NEW ENGLAND AQUARIUM CORP.</td>\n",
       "      <td>NaN</td>\n",
       "      <td>Outdoor Patio opening hours are 12:00 P.M. to ...</td>\n",
       "      <td>IN WHOLE OF MAIN EXHIBIT BUILDING  IN WHOLE OF...</td>\n",
       "      <td>11/27/2013 12:00:00 AM</td>\n",
       "      <td>12/31/2016 12:00:00 AM</td>\n",
       "      <td>Active</td>\n",
       "      <td>GOPAL</td>\n",
       "      <td>GOP All Alc.</td>\n",
       "      <td>...</td>\n",
       "      <td>NaN</td>\n",
       "      <td>NaN</td>\n",
       "      <td>NaN</td>\n",
       "      <td>Central Wharf</td>\n",
       "      <td>Boston</td>\n",
       "      <td>MA</td>\n",
       "      <td>2110</td>\n",
       "      <td>(0.0, 0.0)</td>\n",
       "      <td>Central Wharf Boston MA</td>\n",
       "      <td>(42.35909945, -71.0495668203563)</td>\n",
       "    </tr>\n",
       "    <tr>\n",
       "      <th>1</th>\n",
       "      <td>LB-101576</td>\n",
       "      <td>SPEAK EASY CONCEPTS, LLC</td>\n",
       "      <td>NaN</td>\n",
       "      <td>PATIO HOURS: 12 NOON - 2:00 A.M. PATIO CONDITI...</td>\n",
       "      <td>ENTRANCE AND EXIT AT 120-124 BOYLSTON PLACE; I...</td>\n",
       "      <td>11/27/2013 12:00:00 AM</td>\n",
       "      <td>12/31/2016 12:00:00 AM</td>\n",
       "      <td>Active</td>\n",
       "      <td>GOPAL</td>\n",
       "      <td>GOP All Alc.</td>\n",
       "      <td>...</td>\n",
       "      <td>NaN</td>\n",
       "      <td>25.0</td>\n",
       "      <td>NaN</td>\n",
       "      <td>Boylston PL</td>\n",
       "      <td>Boston</td>\n",
       "      <td>MA</td>\n",
       "      <td>2116</td>\n",
       "      <td>(42.351899, -71.065829)</td>\n",
       "      <td>Boylston PL Boston MA</td>\n",
       "      <td>(42.316157, -71.102592)</td>\n",
       "    </tr>\n",
       "    <tr>\n",
       "      <th>2</th>\n",
       "      <td>LB-101577</td>\n",
       "      <td>FROST GROUP, LLC</td>\n",
       "      <td>NaN</td>\n",
       "      <td>NONE</td>\n",
       "      <td>In two rooms on third level with main entrance...</td>\n",
       "      <td>11/20/2013 12:00:00 AM</td>\n",
       "      <td>12/31/2016 12:00:00 AM</td>\n",
       "      <td>Active</td>\n",
       "      <td>GOPAL</td>\n",
       "      <td>GOP All Alc.</td>\n",
       "      <td>...</td>\n",
       "      <td>NaN</td>\n",
       "      <td>200.0</td>\n",
       "      <td>NaN</td>\n",
       "      <td>State ST</td>\n",
       "      <td>Boston</td>\n",
       "      <td>MA</td>\n",
       "      <td>2109</td>\n",
       "      <td>(42.36003, -71.05319)</td>\n",
       "      <td>State ST Boston MA</td>\n",
       "      <td>(42.3588444, -71.0572152)</td>\n",
       "    </tr>\n",
       "  </tbody>\n",
       "</table>\n",
       "<p>3 rows × 25 columns</p>\n",
       "</div>"
      ],
      "text/plain": [
       "   LICENSENO                BUSINESSNAME DBANAME  \\\n",
       "0  LB-101572  NEW ENGLAND AQUARIUM CORP.     NaN   \n",
       "1  LB-101576    SPEAK EASY CONCEPTS, LLC     NaN   \n",
       "2  LB-101577            FROST GROUP, LLC     NaN   \n",
       "\n",
       "                                            COMMENTS  \\\n",
       "0  Outdoor Patio opening hours are 12:00 P.M. to ...   \n",
       "1  PATIO HOURS: 12 NOON - 2:00 A.M. PATIO CONDITI...   \n",
       "2                                               NONE   \n",
       "\n",
       "                                    LOCATIONCOMMENTS                 ISSDTTM  \\\n",
       "0  IN WHOLE OF MAIN EXHIBIT BUILDING  IN WHOLE OF...  11/27/2013 12:00:00 AM   \n",
       "1  ENTRANCE AND EXIT AT 120-124 BOYLSTON PLACE; I...  11/27/2013 12:00:00 AM   \n",
       "2  In two rooms on third level with main entrance...  11/20/2013 12:00:00 AM   \n",
       "\n",
       "                  EXPDTTM LICSTATUS LICCAT    LICCATDESC  ... PHONE   STNO  \\\n",
       "0  12/31/2016 12:00:00 AM    Active  GOPAL  GOP All Alc.  ...   NaN    NaN   \n",
       "1  12/31/2016 12:00:00 AM    Active  GOPAL  GOP All Alc.  ...   NaN   25.0   \n",
       "2  12/31/2016 12:00:00 AM    Active  GOPAL  GOP All Alc.  ...   NaN  200.0   \n",
       "\n",
       "  STNOHI            Address    CITY STATE   ZIP                 Location  \\\n",
       "0    NaN    Central Wharf    Boston    MA  2110               (0.0, 0.0)   \n",
       "1    NaN        Boylston PL  Boston    MA  2116  (42.351899, -71.065829)   \n",
       "2    NaN           State ST  Boston    MA  2109    (42.36003, -71.05319)   \n",
       "\n",
       "          Address_Complete                 Location_Complete  \n",
       "0  Central Wharf Boston MA  (42.35909945, -71.0495668203563)  \n",
       "1    Boylston PL Boston MA           (42.316157, -71.102592)  \n",
       "2       State ST Boston MA         (42.3588444, -71.0572152)  \n",
       "\n",
       "[3 rows x 25 columns]"
      ]
     },
     "execution_count": 161,
     "metadata": {},
     "output_type": "execute_result"
    }
   ],
   "source": [
    "#Adding in \"Location_Complete\" for a more robust lat/lon column\n",
    "df_liquor['Location_Complete'] = newCoordinates\n",
    "df_liquor.head(3)\n",
    "#df_liquor.tail(3)"
   ]
  },
  {
   "cell_type": "code",
   "execution_count": 163,
   "metadata": {},
   "outputs": [],
   "source": [
    "#Creating processed dataframe including only 'potentially' valuable data points\n",
    "df_liquor_processed = df_liquor[['LICENSENO','LICSTATUS','LICCAT','LICCATDESC','Address_Complete','Location_Complete']]"
   ]
  },
  {
   "cell_type": "code",
   "execution_count": 164,
   "metadata": {},
   "outputs": [
    {
     "data": {
      "text/html": [
       "<div>\n",
       "<style scoped>\n",
       "    .dataframe tbody tr th:only-of-type {\n",
       "        vertical-align: middle;\n",
       "    }\n",
       "\n",
       "    .dataframe tbody tr th {\n",
       "        vertical-align: top;\n",
       "    }\n",
       "\n",
       "    .dataframe thead th {\n",
       "        text-align: right;\n",
       "    }\n",
       "</style>\n",
       "<table border=\"1\" class=\"dataframe\">\n",
       "  <thead>\n",
       "    <tr style=\"text-align: right;\">\n",
       "      <th></th>\n",
       "      <th>LICENSENO</th>\n",
       "      <th>LICSTATUS</th>\n",
       "      <th>LICCAT</th>\n",
       "      <th>LICCATDESC</th>\n",
       "      <th>Address_Complete</th>\n",
       "      <th>Location_Complete</th>\n",
       "    </tr>\n",
       "  </thead>\n",
       "  <tbody>\n",
       "    <tr>\n",
       "      <th>0</th>\n",
       "      <td>LB-101572</td>\n",
       "      <td>Active</td>\n",
       "      <td>GOPAL</td>\n",
       "      <td>GOP All Alc.</td>\n",
       "      <td>Central Wharf Boston MA</td>\n",
       "      <td>(42.35909945, -71.0495668203563)</td>\n",
       "    </tr>\n",
       "    <tr>\n",
       "      <th>1</th>\n",
       "      <td>LB-101576</td>\n",
       "      <td>Active</td>\n",
       "      <td>GOPAL</td>\n",
       "      <td>GOP All Alc.</td>\n",
       "      <td>Boylston PL Boston MA</td>\n",
       "      <td>(42.316157, -71.102592)</td>\n",
       "    </tr>\n",
       "    <tr>\n",
       "      <th>2</th>\n",
       "      <td>LB-101577</td>\n",
       "      <td>Active</td>\n",
       "      <td>GOPAL</td>\n",
       "      <td>GOP All Alc.</td>\n",
       "      <td>State ST Boston MA</td>\n",
       "      <td>(42.3588444, -71.0572152)</td>\n",
       "    </tr>\n",
       "  </tbody>\n",
       "</table>\n",
       "</div>"
      ],
      "text/plain": [
       "   LICENSENO LICSTATUS LICCAT    LICCATDESC         Address_Complete  \\\n",
       "0  LB-101572    Active  GOPAL  GOP All Alc.  Central Wharf Boston MA   \n",
       "1  LB-101576    Active  GOPAL  GOP All Alc.    Boylston PL Boston MA   \n",
       "2  LB-101577    Active  GOPAL  GOP All Alc.       State ST Boston MA   \n",
       "\n",
       "                  Location_Complete  \n",
       "0  (42.35909945, -71.0495668203563)  \n",
       "1           (42.316157, -71.102592)  \n",
       "2         (42.3588444, -71.0572152)  "
      ]
     },
     "execution_count": 164,
     "metadata": {},
     "output_type": "execute_result"
    }
   ],
   "source": [
    "df_liquor_processed.head(3) #Inspect for missing data"
   ]
  },
  {
   "cell_type": "code",
   "execution_count": 165,
   "metadata": {},
   "outputs": [
    {
     "data": {
      "text/plain": [
       "1109"
      ]
     },
     "execution_count": 165,
     "metadata": {},
     "output_type": "execute_result"
    }
   ],
   "source": [
    "len(df_liquor_processed) #Should match 1109 records."
   ]
  },
  {
   "cell_type": "code",
   "execution_count": 167,
   "metadata": {},
   "outputs": [],
   "source": [
    "#Saving processed dataframe to file\n",
    "df_liquor_processed.to_csv('../data/processed/liquor_processed.csv', sep=',')"
   ]
  },
  {
   "cell_type": "code",
   "execution_count": null,
   "metadata": {},
   "outputs": [],
   "source": []
  }
 ],
 "metadata": {
  "kernelspec": {
   "display_name": "Python 3",
   "language": "python",
   "name": "python3"
  },
  "language_info": {
   "codemirror_mode": {
    "name": "ipython",
    "version": 3
   },
   "file_extension": ".py",
   "mimetype": "text/x-python",
   "name": "python",
   "nbconvert_exporter": "python",
   "pygments_lexer": "ipython3",
   "version": "3.7.5"
  }
 },
 "nbformat": 4,
 "nbformat_minor": 2
}
