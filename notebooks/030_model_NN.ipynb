{
 "cells": [
  {
   "cell_type": "markdown",
   "metadata": {},
   "source": [
    "# Notebook 024: Logistic Classifier Models using final predictor set\n",
    "\n",
    "This notebook contains a baseline crime-type classifier model using an initial set of property-related predictors.\n",
    "\n",
    "The response variable is:\n",
    "\n",
    "       'crime-type'\n",
    "\n",
    "Features used in this initial baseline model include:\n",
    "\n",
    "       'commercial-mix-ratio', 'industrial-mix-ratio', 'owner-occupied-ratio',\n",
    "       'residential-median-value', 'residential-gini-coef',\n",
    "       'industrial-mix-ratio-3yr-cagr', 'commercial-mix-ratio-3yr-cagr',\n",
    "       'owner-occupied-ratio-3yr-cagr', 'residential-median-value-3yr-cagr',\n",
    "       'residential-gini-coef-3yr-cagr', 'Tuesday', 'Wednesday', 'Thursday',\n",
    "       'Friday', 'Saturday', 'Sunday', 'Feb', 'Mar', 'Apr', 'May', 'Jun',\n",
    "       'Jul', 'Aug', 'Sep', 'Oct', 'Nov', 'Dec', 'night'\n",
    "\n",
    "The baseline models tested are Multi-class Logistic Regression Models with and without regularization."
   ]
  },
  {
   "cell_type": "code",
   "execution_count": 1,
   "metadata": {
    "ExecuteTime": {
     "end_time": "2019-12-08T20:40:03.776470Z",
     "start_time": "2019-12-08T20:39:58.948669Z"
    }
   },
   "outputs": [],
   "source": [
    "import urllib\n",
    "import os\n",
    "import operator\n",
    "import pathlib\n",
    "import requests\n",
    "from joblib import dump, load\n",
    "import pandas as pd\n",
    "import numpy as np\n",
    "import geopandas as gpd\n",
    "import matplotlib\n",
    "import matplotlib.pyplot as plt\n",
    "import seaborn as sns\n",
    "from shapely.geometry import Point\n",
    "\n",
    "from sklearn.linear_model import LogisticRegression\n",
    "from sklearn.linear_model import LogisticRegressionCV\n",
    "from sklearn.linear_model import LassoCV\n",
    "\n",
    "from sklearn.preprocessing import StandardScaler\n",
    "from sklearn.preprocessing import MinMaxScaler\n",
    "\n",
    "import statsmodels.api as sm\n",
    "\n",
    "from sklearn.model_selection import cross_val_score\n",
    "from sklearn.metrics import accuracy_score, confusion_matrix, roc_curve, auc, roc_auc_score\n",
    "from sklearn.model_selection import KFold\n",
    "from sklearn.preprocessing import MinMaxScaler\n",
    "from sklearn.model_selection import train_test_split\n",
    "\n",
    "%matplotlib inline"
   ]
  },
  {
   "cell_type": "code",
   "execution_count": 2,
   "metadata": {
    "ExecuteTime": {
     "end_time": "2019-12-08T20:40:03.803828Z",
     "start_time": "2019-12-08T20:40:03.785919Z"
    }
   },
   "outputs": [
    {
     "name": "stdout",
     "output_type": "stream",
     "text": [
      "readfile paths for datasets used in this notebook are:\n",
      "\t../data/processed/X_train.csv\n",
      "\t../data/raw/shapefile/census-tracts/Census_2010_Tracts.shp\n",
      "\t../figures/model-logistic\n",
      "\t../models/logistic\n",
      "\n"
     ]
    }
   ],
   "source": [
    "DATA_ROOT = '../data/'\n",
    "FIGURES_ROOT = '../figures/model-logistic'\n",
    "WRITEDIR_ROOT = '../models/logistic'\n",
    "\n",
    "READDIR_ROOT = os.path.join(DATA_ROOT, 'processed')\n",
    "SHAPEDIR_ROOT = os.path.join(DATA_ROOT, 'raw')\n",
    "\n",
    "readfile_model_X = os.path.join(READDIR_ROOT, 'X_train.csv')\n",
    "readfile_model_X_scaled = os.path.join(READDIR_ROOT, 'X_train_scaled.csv')\n",
    "readfile_model_y = os.path.join(READDIR_ROOT, 'y_train.csv')\n",
    "readfile_model_X_test = os.path.join(READDIR_ROOT, 'X_test.csv')\n",
    "readfile_model_X_test_scaled = os.path.join(READDIR_ROOT, 'X_test_scaled.csv')\n",
    "readfile_model_y_test = os.path.join(READDIR_ROOT, 'y_test.csv')\n",
    "readfile_model_X_scaler = os.path.join(READDIR_ROOT, 'X_scaler.csv')\n",
    "\n",
    "readfile_zipshapes = os.path.join(SHAPEDIR_ROOT, 'shapefile/zipcodes/ZIP_Codes.shp')\n",
    "readfile_cityshape = os.path.join(SHAPEDIR_ROOT, 'shapefile/city-boundary/City_of_Boston_Boundary.shp')\n",
    "readfile_streetshapes = os.path.join(SHAPEDIR_ROOT, 'shapefile/street-segments/Boston_Street_Segments.shp')\n",
    "readfile_tractshapes = os.path.join(SHAPEDIR_ROOT, 'shapefile/census-tracts/Census_2010_Tracts.shp')\n",
    "readfile_hoodshapes = os.path.join(SHAPEDIR_ROOT, 'shapefile/boston-neighborhoods/Boston_Neighborhoods.shp')\n",
    "readfile_zonesubshapes = os.path.join(SHAPEDIR_ROOT, 'shapefile/zoning-subdistricts/Zoning_Subdistricts.shp')\n",
    "readfile_openshapes = os.path.join(SHAPEDIR_ROOT, 'shapefile/open-spaces/Open_Space.shp')\n",
    "\n",
    "print(\n",
    "    'readfile paths for datasets used in this notebook are:\\n\\t{}\\n\\t{}\\n\\t{}\\n\\t{}\\n'.format(\n",
    "        readfile_model_X, readfile_tractshapes, FIGURES_ROOT, WRITEDIR_ROOT\n",
    "    )\n",
    ")"
   ]
  },
  {
   "cell_type": "code",
   "execution_count": 3,
   "metadata": {
    "ExecuteTime": {
     "end_time": "2019-12-08T20:40:03.817186Z",
     "start_time": "2019-12-08T20:40:03.811782Z"
    }
   },
   "outputs": [],
   "source": [
    "# mkdir for saving figures if it doesn't already exist\n",
    "if not os.path.exists(FIGURES_ROOT):\n",
    "    os.mkdir(FIGURES_ROOT)\n",
    "    \n",
    "# mkdir for saving output data if it doesn't already exist\n",
    "if not os.path.exists(WRITEDIR_ROOT):\n",
    "    os.mkdir(WRITEDIR_ROOT)"
   ]
  },
  {
   "cell_type": "markdown",
   "metadata": {},
   "source": [
    "## Read labeled training and TEST data and subset predictors and response variable"
   ]
  },
  {
   "cell_type": "code",
   "execution_count": 4,
   "metadata": {
    "ExecuteTime": {
     "end_time": "2019-12-08T20:40:10.006609Z",
     "start_time": "2019-12-08T20:40:03.824936Z"
    }
   },
   "outputs": [],
   "source": [
    "# read in labeled model data\n",
    "X_train_labels = pd.read_csv(readfile_model_X)\n",
    "X_train_scaled_labels = pd.read_csv(readfile_model_X_scaled)\n",
    "y_train_labels = pd.read_csv(readfile_model_y)\n",
    "\n",
    "X_test_labels = pd.read_csv(readfile_model_X_test)\n",
    "X_test_scaled_labels = pd.read_csv(readfile_model_X_test_scaled)\n",
    "y_test_labels = pd.read_csv(readfile_model_y_test)\n",
    "\n",
    "# read in scaled data scaling parameters to restore scaled values if needed\n",
    "X_scaler = pd.read_csv(readfile_model_X_scaler)"
   ]
  },
  {
   "cell_type": "code",
   "execution_count": 5,
   "metadata": {
    "ExecuteTime": {
     "end_time": "2019-12-08T20:40:10.273535Z",
     "start_time": "2019-12-08T20:40:10.009029Z"
    }
   },
   "outputs": [],
   "source": [
    "# subset X and Y data to include only the columns used for model training\n",
    "predictor_columns = list(X_train_labels.iloc[:,17:].columns)\n",
    "response_column = ['crime-type']\n",
    "\n",
    "X_train = X_train_labels[predictor_columns].copy()\n",
    "X_train_scaled = X_train_scaled_labels[predictor_columns].copy()\n",
    "y_train = y_train_labels[response_column].values.ravel()\n",
    "\n",
    "X_test = X_test_labels[predictor_columns].copy()\n",
    "X_test_scaled = X_test_scaled_labels[predictor_columns].copy()\n",
    "y_test = y_test_labels[response_column].values.ravel()"
   ]
  },
  {
   "cell_type": "code",
   "execution_count": 6,
   "metadata": {
    "ExecuteTime": {
     "end_time": "2019-12-08T20:40:10.414604Z",
     "start_time": "2019-12-08T20:40:10.282540Z"
    },
    "scrolled": false
   },
   "outputs": [
    {
     "name": "stdout",
     "output_type": "stream",
     "text": [
      "Y TRAIN DATA WITH ADDITIONAL LABELS\n",
      "\n",
      "<class 'pandas.core.frame.DataFrame'>\n",
      "RangeIndex: 128352 entries, 0 to 128351\n",
      "Data columns (total 4 columns):\n",
      "crime-type             128352 non-null int64\n",
      "crime-type-cat         128352 non-null object\n",
      "OFFENSE_DESCRIPTION    128352 non-null object\n",
      "INCIDENT_NUMBER        128352 non-null object\n",
      "dtypes: int64(1), object(3)\n",
      "memory usage: 3.9+ MB\n",
      "\n",
      "\n",
      "X TRAIN DATA WITH ADDITIONAL LABELS\n",
      "\n",
      "<class 'pandas.core.frame.DataFrame'>\n",
      "RangeIndex: 128352 entries, 0 to 128351\n",
      "Data columns (total 60 columns):\n",
      "date                                 128352 non-null object\n",
      "year                                 128352 non-null int64\n",
      "month                                128352 non-null int64\n",
      "hour                                 128352 non-null int64\n",
      "time                                 128352 non-null int64\n",
      "ZIP5                                 128352 non-null int64\n",
      "ZIP5_area                            128352 non-null float64\n",
      "Name                                 128352 non-null object\n",
      "Neighborhood_area                    128352 non-null float64\n",
      "Neighborhood_area_2                  128352 non-null float64\n",
      "TRACTCE10                            128352 non-null int64\n",
      "TRACTCE10_area                       128352 non-null float64\n",
      "TRACTCE10_area_2                     128352 non-null float64\n",
      "weathercodes                         62450 non-null object\n",
      "college-distance                     128352 non-null float64\n",
      "highschool-distance                  128352 non-null float64\n",
      "streetlights                         128352 non-null int64\n",
      "streetlights-night                   128352 non-null int64\n",
      "lat                                  128352 non-null float64\n",
      "lon                                  128352 non-null float64\n",
      "night                                128352 non-null int64\n",
      "tempavg                              128352 non-null float64\n",
      "windavg                              128352 non-null float64\n",
      "precip                               128352 non-null float64\n",
      "snowfall                             128352 non-null float64\n",
      "Tuesday                              128352 non-null int64\n",
      "Wednesday                            128352 non-null int64\n",
      "Thursday                             128352 non-null int64\n",
      "Friday                               128352 non-null int64\n",
      "Saturday                             128352 non-null int64\n",
      "Sunday                               128352 non-null int64\n",
      "Feb                                  128352 non-null int64\n",
      "Mar                                  128352 non-null int64\n",
      "Apr                                  128352 non-null int64\n",
      "May                                  128352 non-null int64\n",
      "Jun                                  128352 non-null int64\n",
      "Jul                                  128352 non-null int64\n",
      "Aug                                  128352 non-null int64\n",
      "Sep                                  128352 non-null int64\n",
      "Oct                                  128352 non-null int64\n",
      "Nov                                  128352 non-null int64\n",
      "Dec                                  128352 non-null int64\n",
      "college-near                         128352 non-null int64\n",
      "highschool-near                      128352 non-null int64\n",
      "median-age                           128352 non-null float64\n",
      "median-income                        128352 non-null float64\n",
      "poverty-rate                         128352 non-null float64\n",
      "less-than-high-school-perc           128352 non-null float64\n",
      "bachelor-degree-or-more-perc         128352 non-null float64\n",
      "enrolled-college-perc                128352 non-null float64\n",
      "commercial-mix-ratio                 128352 non-null float64\n",
      "industrial-mix-ratio                 128352 non-null float64\n",
      "owner-occupied-ratio                 128352 non-null float64\n",
      "residential-median-value             128352 non-null float64\n",
      "residential-gini-coef                128352 non-null float64\n",
      "commercial-mix-ratio-3yr-cagr        128352 non-null float64\n",
      "industrial-mix-ratio-3yr-cagr        128352 non-null float64\n",
      "owner-occupied-ratio-3yr-cagr        128352 non-null float64\n",
      "residential-gini-coef-3yr-cagr       128352 non-null float64\n",
      "residential-median-value-3yr-cagr    128352 non-null float64\n",
      "dtypes: float64(29), int64(28), object(3)\n",
      "memory usage: 58.8+ MB\n",
      "\n",
      "\n",
      "X TRAIN PREDICTORS (WITH LABEL COLUMNS EXCLUDED)\n",
      "\n",
      "['streetlights-night', 'lat', 'lon', 'night', 'tempavg', 'windavg', 'precip', 'snowfall', 'Tuesday', 'Wednesday', 'Thursday', 'Friday', 'Saturday', 'Sunday', 'Feb', 'Mar', 'Apr', 'May', 'Jun', 'Jul', 'Aug', 'Sep', 'Oct', 'Nov', 'Dec', 'college-near', 'highschool-near', 'median-age', 'median-income', 'poverty-rate', 'less-than-high-school-perc', 'bachelor-degree-or-more-perc', 'enrolled-college-perc', 'commercial-mix-ratio', 'industrial-mix-ratio', 'owner-occupied-ratio', 'residential-median-value', 'residential-gini-coef', 'commercial-mix-ratio-3yr-cagr', 'industrial-mix-ratio-3yr-cagr', 'owner-occupied-ratio-3yr-cagr', 'residential-gini-coef-3yr-cagr', 'residential-median-value-3yr-cagr']\n",
      "\n",
      "\n",
      "THE SHAPE OF THE X AND Y TRAIN FRAMES WITH PREDICTORS ONLY\n",
      "\n",
      "(128352, 43)\n",
      "(128352, 43)\n",
      "(128352,)\n",
      "\n",
      "\n",
      "X SCALER DATA INFO\n",
      "\n",
      "<class 'pandas.core.frame.DataFrame'>\n",
      "RangeIndex: 26 entries, 0 to 25\n",
      "Data columns (total 3 columns):\n",
      "scaled-feature    26 non-null object\n",
      "std               26 non-null float64\n",
      "mean              26 non-null float64\n",
      "dtypes: float64(2), object(1)\n",
      "memory usage: 752.0+ bytes\n",
      "\n",
      "\n",
      "THE X SCALER DATA CONTAINS MEANS AND STDS FOR THE FOLLOWING STANDARDIZED (i.e. SCALED) PREDICTORS\n",
      "\n",
      "['bachelor-degree-or-more-perc' 'college-distance' 'commercial-mix-ratio'\n",
      " 'commercial-mix-ratio-3yr-cagr' 'enrolled-college-perc'\n",
      " 'highschool-distance' 'industrial-mix-ratio'\n",
      " 'industrial-mix-ratio-3yr-cagr' 'lat' 'less-than-high-school-perc' 'lon'\n",
      " 'median-age' 'median-income' 'owner-occupied-ratio'\n",
      " 'owner-occupied-ratio-3yr-cagr' 'poverty-rate' 'precip'\n",
      " 'residential-gini-coef' 'residential-gini-coef-3yr-cagr'\n",
      " 'residential-median-value' 'residential-median-value-3yr-cagr' 'snowfall'\n",
      " 'streetlights' 'tempavg' 'windavg' 'streetlights-night']\n"
     ]
    }
   ],
   "source": [
    "# summarize dataframe info\n",
    "print('Y TRAIN DATA WITH ADDITIONAL LABELS\\n')\n",
    "y_train_labels.info()\n",
    "print('\\n\\nX TRAIN DATA WITH ADDITIONAL LABELS\\n')\n",
    "X_train_labels.info()\n",
    "print('\\n\\nX TRAIN PREDICTORS (WITH LABEL COLUMNS EXCLUDED)\\n')\n",
    "print(predictor_columns)\n",
    "print('\\n\\nTHE SHAPE OF THE X AND Y TRAIN FRAMES WITH PREDICTORS ONLY\\n')\n",
    "print(X_train.shape)\n",
    "print(X_train_scaled.shape)\n",
    "print(y_train.shape)\n",
    "print('\\n\\nX SCALER DATA INFO\\n')\n",
    "X_scaler.info()\n",
    "print(\n",
    "    '\\n\\nTHE X SCALER DATA CONTAINS MEANS AND STDS FOR THE FOLLOWING STANDARDIZED '\\\n",
    "    '(i.e. SCALED) PREDICTORS\\n\\n{}'.format(X_scaler['scaled-feature'].values)\n",
    ")"
   ]
  },
  {
   "cell_type": "code",
   "execution_count": 7,
   "metadata": {
    "ExecuteTime": {
     "end_time": "2019-12-08T20:40:10.437113Z",
     "start_time": "2019-12-08T20:40:10.420146Z"
    }
   },
   "outputs": [
    {
     "name": "stdout",
     "output_type": "stream",
     "text": [
      "Binary predictors in the X training data are:\n",
      "\n",
      "['night', 'Tuesday', 'Wednesday', 'Thursday', 'Friday', 'Saturday', 'Sunday', 'Feb', 'Mar', 'Apr', 'May', 'Jun', 'Jul', 'Aug', 'Sep', 'Oct', 'Nov', 'Dec', 'college-near', 'highschool-near']\n",
      "\n",
      "\n",
      "Non-binary predictors are:\n",
      "\n",
      "['streetlights-night', 'lat', 'lon', 'tempavg', 'windavg', 'precip', 'snowfall', 'median-age', 'median-income', 'poverty-rate', 'less-than-high-school-perc', 'bachelor-degree-or-more-perc', 'enrolled-college-perc', 'commercial-mix-ratio', 'industrial-mix-ratio', 'owner-occupied-ratio', 'residential-median-value', 'residential-gini-coef', 'commercial-mix-ratio-3yr-cagr', 'industrial-mix-ratio-3yr-cagr', 'owner-occupied-ratio-3yr-cagr', 'residential-gini-coef-3yr-cagr', 'residential-median-value-3yr-cagr']\n",
      "\n",
      "\n",
      "Of the non-binary, the following are discrete:\n",
      "\n",
      "['streetlights-night', 'median-age']\n",
      "\n",
      "\n",
      "And these remaining are continuous:\n",
      "\n",
      "['lat', 'lon', 'tempavg', 'windavg', 'precip', 'snowfall', 'median-income', 'poverty-rate', 'less-than-high-school-perc', 'bachelor-degree-or-more-perc', 'enrolled-college-perc', 'commercial-mix-ratio', 'industrial-mix-ratio', 'owner-occupied-ratio', 'residential-median-value', 'residential-gini-coef', 'commercial-mix-ratio-3yr-cagr', 'industrial-mix-ratio-3yr-cagr', 'owner-occupied-ratio-3yr-cagr', 'residential-gini-coef-3yr-cagr', 'residential-median-value-3yr-cagr']\n",
      "\n"
     ]
    }
   ],
   "source": [
    "# create lists of predictors based on numeric type for easier treatment of specific types\n",
    "predictors_binary = [\n",
    "    'night', 'Tuesday', 'Wednesday', 'Thursday', 'Friday', 'Saturday', 'Sunday',\n",
    "    'Feb', 'Mar', 'Apr', 'May', 'Jun', 'Jul', 'Aug', 'Sep', 'Oct', 'Nov', 'Dec', \n",
    "    'college-near', 'highschool-near'\n",
    "]\n",
    "predictors_nonbinary = [col for col in X_train.columns if col not in predictors_binary]\n",
    "predictors_discrete = [\n",
    "    'streetlights-night',\n",
    "    'median-age',\n",
    "]\n",
    "predictors_continuous = [col for col in predictors_nonbinary if col not in predictors_discrete]\n",
    "\n",
    "print(\n",
    "    'Binary predictors in the X training data are:\\n\\n{}\\n\\n\\n'\\\n",
    "    'Non-binary predictors are:\\n\\n{}\\n\\n\\n'\\\n",
    "    'Of the non-binary, the following are discrete:\\n\\n{}\\n\\n\\n'\\\n",
    "    'And these remaining are continuous:\\n\\n{}\\n'.format(\n",
    "        predictors_binary,\n",
    "        predictors_nonbinary,\n",
    "        predictors_discrete,\n",
    "        predictors_continuous\n",
    "    )\n",
    ")"
   ]
  },
  {
   "cell_type": "markdown",
   "metadata": {},
   "source": [
    "## Inspect multi-collinearity of predictors"
   ]
  },
  {
   "cell_type": "code",
   "execution_count": 8,
   "metadata": {
    "ExecuteTime": {
     "end_time": "2019-12-08T20:40:10.465910Z",
     "start_time": "2019-12-08T20:40:10.455675Z"
    }
   },
   "outputs": [],
   "source": [
    "def sort_pairwise_correlation(X_train):\n",
    "    \"\"\"\n",
    "    Calculates a correlation matrix of all input predictors and observations,\n",
    "    via the X_train dataframe, then returns a sorted dataframe of all\n",
    "    pairwise correlation values (duplicates and same-value pairings removed).\n",
    "    \n",
    "    The returned sorted correlation summary dataframe is sorted in descending\n",
    "    order, from highest to lowest correlation pairings.\n",
    "    \"\"\"\n",
    "    # calculate correlation among all predictors\n",
    "    correlation_matrix_df = X_train.corr()\n",
    "    correlation_abs_matrix_df = X_train.corr().abs()\n",
    "\n",
    "    # identify variables most heavily correlated in descending order\n",
    "    # and remove pairwise groupings of the same predictors\n",
    "    corr_unstack = correlation_abs_matrix_df.unstack()\n",
    "    corr_sorted = corr_unstack.sort_values(ascending=False)\n",
    "    corr_sorted = corr_sorted[corr_sorted < 1][::2]\n",
    "    \n",
    "    return corr_sorted\n"
   ]
  },
  {
   "cell_type": "code",
   "execution_count": 9,
   "metadata": {
    "ExecuteTime": {
     "end_time": "2019-12-08T20:40:11.910569Z",
     "start_time": "2019-12-08T20:40:10.472166Z"
    }
   },
   "outputs": [
    {
     "name": "stdout",
     "output_type": "stream",
     "text": [
      "\n",
      "The most strongly correlated predictors (corr > 0.50) in our baseline model predictor set and their corresponding correlation values are:\n",
      "\n",
      "poverty-rate                  median-income                   0.832140\n",
      "bachelor-degree-or-more-perc  less-than-high-school-perc      0.829621\n",
      "night                         streetlights-night              0.814221\n",
      "enrolled-college-perc         bachelor-degree-or-more-perc    0.775921\n",
      "owner-occupied-ratio          enrolled-college-perc           0.735861\n",
      "median-age                    owner-occupied-ratio            0.726905\n",
      "residential-gini-coef         residential-median-value        0.719481\n",
      "median-income                 less-than-high-school-perc      0.718383\n",
      "bachelor-degree-or-more-perc  median-income                   0.714370\n",
      "                              residential-gini-coef           0.672335\n",
      "college-near                  enrolled-college-perc           0.670402\n",
      "poverty-rate                  median-age                      0.668691\n",
      "enrolled-college-perc         residential-gini-coef           0.663297\n",
      "bachelor-degree-or-more-perc  residential-median-value        0.628928\n",
      "median-age                    enrolled-college-perc           0.623947\n",
      "lat                           enrolled-college-perc           0.620707\n",
      "college-near                  residential-gini-coef           0.611998\n",
      "owner-occupied-ratio          lat                             0.610437\n",
      "residential-median-value      commercial-mix-ratio            0.610041\n",
      "residential-gini-coef         commercial-mix-ratio            0.604891\n",
      "college-near                  bachelor-degree-or-more-perc    0.583419\n",
      "lat                           bachelor-degree-or-more-perc    0.562123\n",
      "residential-median-value      college-near                    0.556280\n",
      "lat                           residential-gini-coef           0.555159\n",
      "residential-median-value      enrolled-college-perc           0.554235\n",
      "enrolled-college-perc         commercial-mix-ratio            0.549602\n",
      "median-income                 residential-median-value        0.523196\n",
      "dtype: float64\n",
      "\n"
     ]
    }
   ],
   "source": [
    "#############################################\n",
    "## Calculate and report on pairwise correlations\n",
    "#############################################\n",
    "\n",
    "# generate sorted correlation dataframe\n",
    "corr_df = sort_pairwise_correlation(X_train)\n",
    "\n",
    "# set corr threshold for reporting\n",
    "corr_thresh = 0.50\n",
    "\n",
    "print(\n",
    "    '\\nThe most strongly correlated predictors (corr > {0:.2f}) in our baseline model '\\\n",
    "    'predictor set and their corresponding correlation values are:\\n\\n{1}\\n'.format(\n",
    "        corr_thresh,\n",
    "        corr_df[corr_df > corr_thresh],\n",
    "    )\n",
    ")"
   ]
  },
  {
   "cell_type": "markdown",
   "metadata": {},
   "source": [
    "## Create value count summary tables by crime-type for later reference"
   ]
  },
  {
   "cell_type": "code",
   "execution_count": 10,
   "metadata": {
    "ExecuteTime": {
     "end_time": "2019-12-08T20:40:12.250125Z",
     "start_time": "2019-12-08T20:40:11.930104Z"
    }
   },
   "outputs": [],
   "source": [
    "agg_dict = {'INCIDENT_NUMBER': 'count'}\n",
    "\n",
    "crime_types_train = y_train_labels.groupby(\n",
    "    ['crime-type', 'crime-type-cat']\n",
    ").agg(agg_dict).rename(columns=agg_dict)\n",
    "\n",
    "crime_types_train['proportion'] = crime_types_train / crime_types_train.sum()\n",
    "\n",
    "crime_types_test = y_test_labels.groupby(\n",
    "    ['crime-type', 'crime-type-cat']\n",
    ").agg(agg_dict).rename(columns=agg_dict)\n",
    "\n",
    "crime_types_test['proportion'] = crime_types_test / crime_types_test.sum()\n",
    "\n",
    "# create dictionary of crime types for later use\n",
    "class_dict = dict(\n",
    "    zip(crime_types_test.reset_index()['crime-type'], crime_types_test.reset_index()['crime-type-cat'])\n",
    ")"
   ]
  },
  {
   "cell_type": "code",
   "execution_count": 11,
   "metadata": {
    "ExecuteTime": {
     "end_time": "2019-12-08T20:40:12.302612Z",
     "start_time": "2019-12-08T20:40:12.253144Z"
    }
   },
   "outputs": [
    {
     "data": {
      "text/plain": [
       "{0: 'other',\n",
       " 1: 'burglary',\n",
       " 2: 'drugs-substances',\n",
       " 3: 'fraud',\n",
       " 4: 'harassment-disturbance',\n",
       " 5: 'robbery',\n",
       " 6: 'theft',\n",
       " 7: 'vandalism-property',\n",
       " 8: 'violence-aggression'}"
      ]
     },
     "execution_count": 11,
     "metadata": {},
     "output_type": "execute_result"
    }
   ],
   "source": [
    "class_dict"
   ]
  },
  {
   "cell_type": "code",
   "execution_count": 12,
   "metadata": {
    "ExecuteTime": {
     "end_time": "2019-12-08T20:40:12.374164Z",
     "start_time": "2019-12-08T20:40:12.312224Z"
    }
   },
   "outputs": [
    {
     "name": "stdout",
     "output_type": "stream",
     "text": [
      "The number of observed crime type classes in both the training and test set are:\n",
      "\n",
      "TRAINING\n",
      "                                   count  proportion\n",
      "crime-type crime-type-cat                           \n",
      "0          other                    6321    0.049247\n",
      "1          burglary                 5664    0.044129\n",
      "2          drugs-substances        13082    0.101923\n",
      "3          fraud                    9587    0.074693\n",
      "4          harassment-disturbance  20767    0.161797\n",
      "5          robbery                  3423    0.026669\n",
      "6          theft                   34555    0.269221\n",
      "7          vandalism-property      13710    0.106816\n",
      "8          violence-aggression     21243    0.165506\n",
      "\n",
      "\n",
      "TEST\n",
      "                                   count  proportion\n",
      "crime-type crime-type-cat                           \n",
      "0          other                    1580    0.049240\n",
      "1          burglary                 1416    0.044129\n",
      "2          drugs-substances         3271    0.101938\n",
      "3          fraud                    2397    0.074701\n",
      "4          harassment-disturbance   5192    0.161805\n",
      "5          robbery                   856    0.026677\n",
      "6          theft                    8639    0.269228\n",
      "7          vandalism-property       3427    0.106800\n",
      "8          violence-aggression      5310    0.165482\n",
      "\n"
     ]
    }
   ],
   "source": [
    "print(\n",
    "    'The number of observed crime type classes in both the training and test set are:\\n\\n'\\\n",
    "    'TRAINING\\n{}\\n\\n\\nTEST\\n{}\\n'.format(\n",
    "        crime_types_train,\n",
    "        crime_types_test\n",
    "    )\n",
    ")"
   ]
  },
  {
   "cell_type": "markdown",
   "metadata": {},
   "source": [
    "## Define functions used to generate and evaluate models"
   ]
  },
  {
   "cell_type": "code",
   "execution_count": 104,
   "metadata": {
    "ExecuteTime": {
     "end_time": "2019-12-09T00:06:35.592605Z",
     "start_time": "2019-12-09T00:06:35.551683Z"
    }
   },
   "outputs": [],
   "source": [
    "####################################################################\n",
    "# DEFINE FUNCTIONS THAT CONTRIBUTE TO GENERATING A FITTED MODEL DICT \n",
    "####################################################################\n",
    "\n",
    "def summarize_predictions(predictions_train, predictions_test):\n",
    "    \"\"\"\n",
    "    Generates a summary table of the training and test predictions, showing count\n",
    "    and proportion by class\n",
    "    \n",
    "    predictions_train: np.array, the predicted classes generated on the training data\n",
    "    predictions_test:np.array, the predicted classes generated on the test data\n",
    "    \n",
    "    returns: tuple of 2 pd.DataFrame objects, one summarizing the training predictions\n",
    "             the other summarizing the test predictions\n",
    "    \"\"\"\n",
    "    frame_name_list = ['pred_counts_train', 'pred_counts_test']\n",
    "    \n",
    "    for predictions, name in zip(\n",
    "        [predictions_train, predictions_test],\n",
    "        frame_name_list\n",
    "    ):\n",
    "        locals()[name] = np.array(np.unique(predictions, return_counts=True)).T\n",
    "        locals()[name] = np.hstack(\n",
    "            [locals()[name], locals()[name][:,1].reshape(-1,1)/np.sum(locals()[name][:,1])]\n",
    "        )\n",
    "        locals()[name] = pd.DataFrame(locals()[name], columns=['class', 'count', 'proportion'])\n",
    "        locals()[name][['class', 'count']] = locals()[name][['class', 'count']].astype(int)\n",
    "        locals()[name] = locals()[name].set_index('class')\n",
    "\n",
    "    return locals()[frame_name_list[0]], locals()[frame_name_list[1]]\n",
    "\n",
    "\n",
    "def make_conf_matrix(predictions, y_actual):\n",
    "    \"\"\"\n",
    "    Generates a confusion matrix of actual classes versus predicted classes\n",
    "    \n",
    "    predictions: np.array, predicted class values generated by the model\n",
    "    y_actual: np.array, actual class values\n",
    "    \n",
    "    returns: pd.DataFrame, the resulting confusion matrix with marginal totals included\n",
    "    \"\"\"\n",
    "    class_labels = sorted(list(set(y_actual)))\n",
    "    \n",
    "    conf_matrix = pd.DataFrame(confusion_matrix(predictions, y_actual), columns=class_labels)\n",
    "    conf_matrix.index.name = 'Predicted'\n",
    "    conf_matrix.columns.name = 'Actual'\n",
    "    conf_matrix.loc['Total'] = conf_matrix.sum(axis=0)\n",
    "    conf_matrix['Total'] = conf_matrix.sum(axis=1)\n",
    "    \n",
    "    return conf_matrix\n",
    "\n",
    "\n",
    "def generate_class_metrics(conf_matrix):\n",
    "    \"\"\"\n",
    "    Generates a dataframe of the various by-class classification metrics that\n",
    "    can be calculated directly from a confusion matrix, such as True Positive Rate,\n",
    "    False Negative Rate, etc.\n",
    "    \n",
    "    conf_matrix: pd.DataFrame, generated with the make_conf_matrix function\n",
    "    \n",
    "    returns: pd.DataFrame, each row representing a different class, each\n",
    "             column a different classification metric for each class\n",
    "    \"\"\"\n",
    "    # rename index\n",
    "    conf_matrix = conf_matrix.copy()\n",
    "    conf_matrix.index.name = 'class'\n",
    "    conf_matrix.columns.name = 'class'\n",
    "    results = dict()\n",
    "    \n",
    "    # True Pos, False Pos, False Neg, True Neg counts\n",
    "    results['TP'] = pd.Series(np.diag(conf_matrix.iloc[:-1,:-1]))\n",
    "    results['TP'].index.name = 'class'\n",
    "    results['FP'] = conf_matrix.iloc[:-1,:-1].sum(axis=1) - results['TP']  \n",
    "    results['FN'] = conf_matrix.iloc[:-1,:-1].sum(axis=0) - results['TP']\n",
    "    results['TN'] = conf_matrix.iloc[:-1,:-1].values.sum() -\\\n",
    "                    (results['FP'] + results['FN'] + results['TP'])\n",
    "\n",
    "    # true positive rate\n",
    "    results['TPR'] = results['TP']/(results['TP']+results['FN'])\n",
    "    # false negative rate\n",
    "    results['FNR'] = results['FN']/(results['TP']+results['FN'])\n",
    "    # false positive rate\n",
    "    results['FPR'] = results['FP']/(results['FP']+results['TN'])\n",
    "    # true negative rate\n",
    "    results['TNR'] = results['TN']/(results['TN']+results['FP']) \n",
    "    # positive predictive value\n",
    "    results['PPV'] = results['TP']/(results['TP']+results['FP'])\n",
    "    # negative predictive value\n",
    "    results['NPV'] = results['TN']/(results['TN']+results['FN'])\n",
    "    \n",
    "    # convert results dictionary to a dataframe \n",
    "    results_df = pd.concat(\n",
    "        [\n",
    "            # first separate the integer values so they format correctly\n",
    "            pd.DataFrame(\n",
    "                list(results.values())[:4],\n",
    "                index=list(results.keys())[:4]\n",
    "            ).T,\n",
    "            # followed by the float values\n",
    "            pd.DataFrame(\n",
    "                list(results.values())[4:],\n",
    "                index=list(results.keys())[4:]\n",
    "            ).T\n",
    "        ], axis=1\n",
    "    )\n",
    "    \n",
    "    return results_df\n",
    "\n",
    "\n",
    "def generate_roc_auc(y_values_actual, predicted_probabilities, class_dict):\n",
    "    \"\"\"\n",
    "    Creates a dictionary of ROC curve values generated using\n",
    "    sklearn.metrics.roc_curve for every outcome class in a multi-class\n",
    "    problem\n",
    "    \n",
    "    NOTE: multi-class AUC requires scikit-learn>=v0.22\n",
    "\n",
    "    y_values_actual: np.array, the 1-dimensional array containing the \n",
    "                     multi-classs true y values against which you are evaluating\n",
    "                     the predicted probabilities (i.e. y_test)\n",
    "    predicted_probabilities: np.array, the 2-dimensional array generated\n",
    "                             using sklearn's \"model.predict_proba()\" method\n",
    "                             (i.e. test set predicted probabilities)\n",
    "                     \n",
    "    returns: tuple(float, float, dict), (1) a float representing the average macro AUC\n",
    "             for all classes, (2) a float representing the average weighted AUC (weighted\n",
    "             by the number of true samples for each class to account for class imbalance)\n",
    "             and (3) a dictionary of dictionaries, where each top level key represents a\n",
    "             different y class, and the value for each y class key is a dictionary\n",
    "             containing the corresponding frp, tpr, threshold, and individual class AUC\n",
    "             values for that particular y class outcome. Example output format shown below:\n",
    "             \n",
    "             (\n",
    "                 auc_average,\n",
    "                 auc_weighted_average,\n",
    "                 output_dict = {\n",
    "                    0: {\n",
    "                        'frp': np.array of shape (n,)\n",
    "                        'tpr': np.array of shape (n,)\n",
    "                        'threshold': np.array of shape (n,)\n",
    "                        'auc': float of micro auc for individual class\n",
    "                        'name': str name of class\n",
    "                    }\n",
    "                    1: {\n",
    "                        'frp': ...\n",
    "                        ...\n",
    "                    }\n",
    "                    ...\n",
    "                 }\n",
    "            )\n",
    "    \"\"\"\n",
    "    # create sorted list of all class labels\n",
    "    class_labels = sorted(list(set(y_values_actual)))\n",
    "\n",
    "    # convert y_values to binary indicators for each class and store as 2D\n",
    "    # array of dimensions (n_classes, n_y_values), with each row containing one\n",
    "    # set of class indicators\n",
    "    y_class_array = np.vstack(\n",
    "        [\n",
    "            (y_values_actual==class_val).astype(int) for class_val in class_labels\n",
    "        ]\n",
    "    )\n",
    "\n",
    "    # create roc curve dictionary\n",
    "    roc_curve_dict = {\n",
    "        crime_class: {\n",
    "            key: value\n",
    "            for key, value in zip(\n",
    "                ['fpr', 'tpr', 'thresholds'],\n",
    "                roc_curve(y_class, predicted_probs_class)\n",
    "            )\n",
    "        } for (crime_class, predicted_probs_class), y_class in zip(\n",
    "            enumerate(predicted_probabilities.T),\n",
    "            y_class_array\n",
    "        )\n",
    "    }\n",
    "    \n",
    "    # add individual class auc's and class names to dictionary\n",
    "    for crime_class in class_labels:\n",
    "        roc_curve_dict[crime_class]['auc'] = roc_auc_score(\n",
    "            y_class_array[crime_class],\n",
    "            predicted_probabilities[:,crime_class]\n",
    "        )\n",
    "        roc_curve_dict[crime_class]['name'] = class_dict[crime_class]\n",
    "    \n",
    "    # generate overall average auc's for all classes, weighted and unweighted\n",
    "    auc_avg = roc_auc_score(\n",
    "        y_values_actual, predicted_probabilities, multi_class='ovr', average='macro'\n",
    "    )\n",
    "    auc_weighted_avg = roc_auc_score(\n",
    "        y_values_actual, predicted_probabilities, multi_class='ovr', average='weighted'\n",
    "    )\n",
    "    \n",
    "    return auc_avg, auc_weighted_avg, roc_curve_dict\n",
    "\n",
    "\n",
    "def generate_model_dict(classifier, X_train, X_test, y_train, y_test, class_dict,\n",
    "                    verbose=False, roc_auc=True, fitm=False, **kwargs):\n",
    "    \"\"\"\n",
    "    Fits the specified scikit-learn classifier type and generates a dictionary of results\n",
    "    \n",
    "    classifier: the uninitiated sklearn classification model object you wish\n",
    "           to use (e.g. LogisticRegression, KNeighborsClassifier)\n",
    "    X_train, X_test, y_train, y_test: the datasets on which to fit and\n",
    "                                      evaluate the model\n",
    "    class_dict: dict, key values must be the class number (i.e 0, 1, 2, ...) and\n",
    "                the corresponding values must be the class name string (i.e. 'other',\n",
    "                'burlary', ...) for each respective class number\n",
    "    verbose: if True prints resulting fitted model object\n",
    "    roc_auc: if True calculates and stores roc and auc dictionaries for both train and test\n",
    "    **kwargs: are optional classifier-specific arguments that pass directly to the model\n",
    "              while fitting\n",
    "\n",
    "    return: returns a dictionary object containing the resulting fitted model object,\n",
    "            resulting predictions, predicted probabilities, prediction count summary tables,\n",
    "            confusion matrices, accuracy scores, and (if roc_auc=True) the AUC, weighted AUC,\n",
    "            and ROC AUC dictionary for both the training and test sets\n",
    "    \"\"\"\n",
    "    if fitm:\n",
    "        FitModel = classifier\n",
    "    else:\n",
    "        # Fit model with parameters specified by kwargs\n",
    "        FitModel = classifier(**kwargs).fit(X_train, y_train)\n",
    "\n",
    "    # generate and save predictions on both train and test data\n",
    "    train_pred = FitModel.predict(X_train)\n",
    "    test_pred = FitModel.predict(X_test)\n",
    "    \n",
    "    if len(train_pred) > 1:\n",
    "        # convert back to categorical\n",
    "        train_pred = np.array([train_pred[i].argmax() for i in range(len(train_pred))])\n",
    "        test_pred = np.array([test_pred[i].argmax() for i in range(len(test_pred))])\n",
    "        \n",
    "    # generate and save prediction summary tables for both train and test predictions\n",
    "    pred_counts_train, pred_counts_test = summarize_predictions(\n",
    "        train_pred, test_pred\n",
    "    )\n",
    "    \n",
    "    # generate confusion matrices\n",
    "    conf_matrix_train = make_conf_matrix(train_pred, y_train)\n",
    "    conf_matrix_test = make_conf_matrix(test_pred, y_test)\n",
    "    \n",
    "    # store fitted model, predictions and accuracy scores to dict \n",
    "    model_dict = {\n",
    "        'model': FitModel,\n",
    "        'predictions': {\n",
    "            'train': train_pred,\n",
    "            'test': test_pred,\n",
    "        },\n",
    "        'probabilities': {\n",
    "            'train': FitModel.predict_proba(X_train),\n",
    "            'test': FitModel.predict_proba(X_test),\n",
    "        },\n",
    "        'pred_counts': {\n",
    "            'train': pred_counts_train,\n",
    "            'test': pred_counts_test,\n",
    "        },\n",
    "        'conf_matrix': {\n",
    "            'train': conf_matrix_train,\n",
    "            'test': conf_matrix_test,\n",
    "        },\n",
    "        'class_metrics': {\n",
    "            'train': generate_class_metrics(conf_matrix_train),\n",
    "            'test': generate_class_metrics(conf_matrix_test),\n",
    "        },\n",
    "        'accuracy': {\n",
    "            'train': accuracy_score(y_train, train_pred),\n",
    "            'test': accuracy_score(y_test, test_pred),\n",
    "        },\n",
    "    }\n",
    "    \n",
    "    # generate roc and auc metrics for both train and test data if True\n",
    "    if roc_auc:\n",
    "        roc_auc_metrics = ['auc', 'auc_weighted', 'roc_auc_dict']\n",
    "        roc_auc_train = generate_roc_auc(\n",
    "                y_train, model_dict['probabilities']['train'],\n",
    "                class_dict\n",
    "        )\n",
    "        roc_auc_test = generate_roc_auc(\n",
    "                y_test, model_dict['probabilities']['test'],\n",
    "                class_dict\n",
    "        )\n",
    "        # add roc and auc metrics to model_dict        \n",
    "        for name, train_object, test_object in zip(\n",
    "            roc_auc_metrics, roc_auc_train, roc_auc_test\n",
    "        ):\n",
    "            model_dict[name] = {\n",
    "                'train': train_object,\n",
    "                'test': test_object,\n",
    "            }\n",
    "    \n",
    "    if verbose:\n",
    "        print(\"\\t{}\".format(FitModel))\n",
    "\n",
    "    return model_dict"
   ]
  },
  {
   "cell_type": "code",
   "execution_count": 14,
   "metadata": {
    "ExecuteTime": {
     "end_time": "2019-12-08T20:40:12.486997Z",
     "start_time": "2019-12-08T20:40:12.449615Z"
    }
   },
   "outputs": [],
   "source": [
    "def generate_save_load_model_dict(model_dict_name, target_directory,\n",
    "                                  classifier, X_train, X_test, y_train, y_test,\n",
    "                                  class_dict, verbose=False, roc_auc=True, overwrite=False,\n",
    "                                  **kwargs):\n",
    "    \"\"\"\n",
    "    Prior to running the generate_model_dict() function, this first\n",
    "    checks to determine whether a saved copy of the specified model has\n",
    "    already been saved to the specified path. \n",
    "    \n",
    "    If no saved dict file is found the function calls generate_model_dict()\n",
    "    and saves the resulting dictionary to the specified filepath.\n",
    "    \n",
    "    If a saved dict file does exist, the function simply loads that file\n",
    "    instead of running the model again.\n",
    "    \n",
    "    NOTE: the resulting target filepath used for saving/checking for the resulting\n",
    "          model_dict is generated as:\n",
    "            \n",
    "            os.path.join(target_directory, ''.join([model_dict_name, '.joblib']))\n",
    "    \n",
    "    model_dict_name: str, specifies the desired name of the model dict object you wish\n",
    "                to generate\n",
    "    target_directory: str, the directory path in which you wish to save or check for\n",
    "                      the resulting model\n",
    "    classifier: the uninitiated sklearn classification model object you wish\n",
    "           to use (e.g. LogisticRegression, KNeighborsClassifier)\n",
    "    X_train, X_test, y_train, y_test: the datasets on which to fit and\n",
    "                                      evaluate the model\n",
    "    class_dict: dict, key values must be the class number (i.e 0, 1, 2, ...) and\n",
    "                the corresponding values must be the class name string (i.e. 'other',\n",
    "                'burlary', ...) for each respective class number\n",
    "    verbose: if True prints resulting fitted model object\n",
    "    roc_auc: if True calculates and stores roc and auc dictionaries for both train\n",
    "             and test\n",
    "    overwrite: bool, default=False, if True, generate_model_dict() will generate a new\n",
    "               dictionary regardless of whether or not the target filepath already\n",
    "               exists and overwrite any file that already exists at the specified\n",
    "               filepath\n",
    "    **kwargs: are optional classifier-specific arguments that pass directly to the model\n",
    "              while fitting\n",
    "\n",
    "    returns: dict, dictionary object containing the resulting fitted model object,\n",
    "             resulting predictions, predicted probabilities, prediction count summary tables,\n",
    "             confusion matrices, accuracy scores, and (if roc_auc=True) the AUC, weighted AUC,\n",
    "             and ROC AUC dictionary for both the training and test sets\n",
    "    \"\"\"\n",
    "    filepath = os.path.join(target_directory, ''.join([model_dict_name, '.joblib']))\n",
    "    \n",
    "    if os.path.exists(filepath) and not overwrite:\n",
    "        locals()[model_dict_name] = joblib.load(filepath)\n",
    "        print(\n",
    "            '\\nThe model dictionary already exists and has been LOADED from:'\\\n",
    "            '\\n\\n\\t{}\\n'.format(filepath)\n",
    "        )\n",
    "    else:\n",
    "        locals()[model_dict_name] = generate_model_dict(\n",
    "            classifier,\n",
    "            X_train,\n",
    "            X_test,\n",
    "            y_train,\n",
    "            y_test,\n",
    "            class_dict,\n",
    "            verbose,\n",
    "            roc_auc,\n",
    "            **kwargs\n",
    "        )\n",
    "        dump_loc = joblib.dump(locals()[model_dict_name], filepath)\n",
    "        print(\n",
    "            '\\nThe new model dictionary has been generated and SAVED to disk at:'\\\n",
    "            '\\n\\n\\t{}\\n'.format(dump_loc[0])\n",
    "        )\n",
    "    \n",
    "    return locals()[model_dict_name]"
   ]
  },
  {
   "cell_type": "code",
   "execution_count": 15,
   "metadata": {
    "ExecuteTime": {
     "end_time": "2019-12-08T20:40:12.528107Z",
     "start_time": "2019-12-08T20:40:12.500633Z"
    }
   },
   "outputs": [],
   "source": [
    "def print_model_results(model_dict, accuracy='both', auc='both',\n",
    "                        pred_counts='both', conf_matrix='both',\n",
    "                        class_metrics='both'):\n",
    "    \"\"\"\n",
    "    Prints a model results summary from the model dictionary generated\n",
    "    using the generate_model_dict() function\n",
    "    \n",
    "    model_dict: dict, output dictionary from generate_model_dict() function\n",
    "    accuracy: None, 'both', 'test', or 'train' parameters accepted,\n",
    "              identifies which results to print for this particular metric\n",
    "    auc: same parameters accepted\n",
    "    pred_counts: same parameters accepted\n",
    "    conf_matrix: same parameters accepted\n",
    "    class_metrics: same parameters accepted\n",
    "    \n",
    "    returns: nothing is returned, this function just prints summary output\n",
    "    \"\"\"\n",
    "    train_opt = ['train', 'both']\n",
    "    test_opt = ['test', 'both']\n",
    "    \n",
    "    print('\\nThe fitted model:\\n\\n{}\\n\\n'.format(model_dict['model']))\n",
    "    \n",
    "    if accuracy:\n",
    "        print('This model resulted in the following accuracy:\\n')\n",
    "        if accuracy in train_opt:\n",
    "            print('Training\\t{:.4f}'.format(model_dict['accuracy']['train']))\n",
    "        if accuracy in test_opt:\n",
    "            print('Test\\t\\t{:.4f}'.format(model_dict['accuracy']['test']))\n",
    "        print('\\n')\n",
    "            \n",
    "    if auc:\n",
    "        print('The model AUC is:\\n\\n\\t\\tweighted\\tunweighted')\n",
    "        if auc in train_opt:\n",
    "            print(\n",
    "                'Training\\t{:.4f}\\t\\t{:.4f}'.format(\n",
    "                    model_dict['auc_weighted']['train'],\n",
    "                    model_dict['auc']['train']\n",
    "                )\n",
    "            )\n",
    "        if auc in test_opt:\n",
    "            print(\n",
    "                'Test\\t\\t{:.4f}\\t\\t{:.4f}'.format(\n",
    "                    model_dict['auc_weighted']['test'],\n",
    "                    model_dict['auc']['test']\n",
    "                )\n",
    "            )\n",
    "        print('\\n')\n",
    "        \n",
    "    if pred_counts:\n",
    "        print('The number of classes predicted by class are:\\n')\n",
    "        if pred_counts in train_opt:\n",
    "            print('TRAINING\\n{}\\n'.format(model_dict['pred_counts']['train']))\n",
    "        if pred_counts in test_opt:\n",
    "            print('TEST\\n{}\\n'.format(model_dict['pred_counts']['test']))\n",
    "        print()\n",
    "    \n",
    "    if conf_matrix:\n",
    "        print('The resulting confusion matrix:\\n')\n",
    "        if conf_matrix in train_opt:\n",
    "            print('TRAINING\\n{}\\n'.format(model_dict['conf_matrix']['train']))\n",
    "        if conf_matrix in test_opt:\n",
    "            print('TEST\\n{}\\n'.format(model_dict['conf_matrix']['test']))\n",
    "        print()\n",
    "        \n",
    "    if class_metrics:\n",
    "        print('The classification metrics derived from the confusion matrix are:\\n')\n",
    "        if class_metrics in train_opt:\n",
    "            print('TRAINING\\n{}\\n'.format(model_dict['class_metrics']['train'].iloc[:,:8]))\n",
    "        if class_metrics in test_opt:\n",
    "            print('TEST\\n{}\\n'.format(model_dict['class_metrics']['test'].iloc[:,:8]))\n",
    "        print('\\n')\n",
    "        "
   ]
  },
  {
   "cell_type": "code",
   "execution_count": 16,
   "metadata": {
    "ExecuteTime": {
     "end_time": "2019-12-08T20:40:12.567216Z",
     "start_time": "2019-12-08T20:40:12.531583Z"
    }
   },
   "outputs": [],
   "source": [
    "##########################################\n",
    "# DEFINE FUNCTIONS FOR PLOTTING ROC CURVES\n",
    "##########################################\n",
    "\n",
    "def plot_roc_all_classes(overall_auc, overall_auc_weighted, roc_curve_dict,\n",
    "                         title='ROC plotted for all crime type TEST classes',\n",
    "                         savepath=None):\n",
    "    \"\"\"\n",
    "    Generates a plot of ROC curves for all responses classes\n",
    "    \n",
    "    overall_auc: float, an overall average auc generated using the\n",
    "                 'generate_roc_auc' function\n",
    "    overall_auc_weighted: float, an overall weighted auc generated using the\n",
    "                          'generate_roc_auc' function\n",
    "    roc_curve_dict: dict, an roc_curve dict generated using the 'generate_roc_auc' \n",
    "                    function\n",
    "    title: str, specifies the title used for the plot\n",
    "    savepath: None or str, if none, .png file is NOT saved, otherwise, input the \n",
    "              \"filepath.png\" string, indicating where you would like the image saved\n",
    "    \n",
    "    returns: A plotted image and saved .png file (if savepath is not None)\n",
    "    \"\"\"\n",
    "    fig, ax = plt.subplots(figsize=(12, 7))\n",
    "\n",
    "    plt.title(\n",
    "        ''.join(\n",
    "            [title, '\\n(overall AUC, avg.: {:.3f}; weighted avg.: {:.3})'.format(\n",
    "                overall_auc,\n",
    "                overall_auc_weighted\n",
    "            )\n",
    "            ]\n",
    "        ),\n",
    "        fontsize=20,\n",
    "    )\n",
    "\n",
    "    rate_values=np.arange(0,100)/100\n",
    "\n",
    "    ax.plot(rate_values, rate_values, ':', color='k', linewidth=2, alpha=1)\n",
    "\n",
    "    for key in roc_curve_dict.keys():\n",
    "        plt.plot(\n",
    "            roc_curve_dict[key]['fpr'],\n",
    "            roc_curve_dict[key]['tpr'],\n",
    "            label='{} : {:.3f}'.format(\n",
    "                key,\n",
    "                roc_curve_dict[key]['auc']\n",
    "            )\n",
    "        )\n",
    "        plt.legend(\n",
    "            fontsize=14,\n",
    "            title='class : AUC',\n",
    "            title_fontsize=14,\n",
    "            edgecolor='k',\n",
    "            framealpha=1,\n",
    "            loc=4\n",
    "        )\n",
    "\n",
    "    ax.tick_params(labelsize=16)\n",
    "    ax.set_ylabel(\"TRUE positive rate\", fontsize=18)\n",
    "    ax.set_xlabel(\"FALSE positive rate\", fontsize=18)\n",
    "    ax.grid(':', alpha=0.4)\n",
    "    plt.tight_layout()\n",
    "    if savepath:\n",
    "        plt.savefig(savepath)\n",
    "    plt.show();\n",
    "    \n",
    "\n",
    "def plot_roc_all_classes_individual(overall_auc, overall_auc_weighted, roc_curve_dict,\n",
    "                                    title='ROC plotted by crime type TEST class',\n",
    "                                    savepath=None, subplots=(5,2), fig_height=15,\n",
    "                                    suptitle_spacing=0.91):\n",
    "    \"\"\"\n",
    "    Generates a set of subplot of ROC curves for all responses classes, each plotted\n",
    "    individually\n",
    "    \n",
    "    overall_auc: float, an overall average auc generated using the\n",
    "                 'generate_roc_auc' function\n",
    "    overall_auc_weighted: float, an overall weighted auc generated using the\n",
    "                          'generate_roc_auc' function\n",
    "    roc_curve_dict: dict, an roc_curve dict generated using the 'generate_roc_auc' \n",
    "                    function\n",
    "    title: str, specifies the title used for the plot\n",
    "    savepath: None or str, if none, .png file is NOT saved, otherwise, input the \n",
    "              \"filepath.png\" string, indicating where you would like the image saved\n",
    "    subplots: tuple, default=(5,2) to plot each of the 9 crime classes,\n",
    "              provides the dimension of subplots for the figure (NOTE: currently this\n",
    "              function is only configured to plot 2 columns of subplots, therefore\n",
    "              no other value other than two is accepted for the subplots width dimension)\n",
    "    fig_height: int or float, default=15, this value is passed directly to the 'figsize'\n",
    "                parameter of plt.subplots() and determines the overall height of your plot\n",
    "    suptitle_spacing: float between 0 and 1, default=0.91,\n",
    "                      this value is passed to the 'rect' parameter for plt.tight_layout()\n",
    "                      to specify the proportion of the overall plot space to reserve for\n",
    "                      the plt.suptitle() text. If you change the fig_height parameter from\n",
    "                      the default, you may find that you need to adjust suptitle_spacing\n",
    "                      to adjust the position of your suptitle. The larger your fig_height\n",
    "                      value, the larger suptitle_spacing you will need and vice versa.\n",
    "    \n",
    "    returns: A plotted image and saved .png file (if savepath is not None)\n",
    "    \"\"\"\n",
    "    if type(subplots)!=tuple:\n",
    "        raise TypeError(\"'subplots' parameter must be entered as a tuple, e.g. subplots=(3,2)\")\n",
    "    if subplots[1]!=2:\n",
    "        raise ValueError(\n",
    "            \"'subplots' parameter columns dimension must be value=2, e.g. subplots=(5,2). \"\\\n",
    "            \"This function is not configured to handle more or less than 2 subplots.\"\n",
    "        )\n",
    "    \n",
    "    fig, axes = plt.subplots(*subplots, figsize=(12, fig_height))\n",
    "\n",
    "    plt.suptitle(\n",
    "        ''.join(\n",
    "            [title, '\\n(overall AUC, avg.: {:.3f}; weighted avg.: {:.3})'.format(\n",
    "                overall_auc,\n",
    "                overall_auc_weighted\n",
    "            )\n",
    "            ]\n",
    "        ),\n",
    "        fontsize=20,\n",
    "    )\n",
    "\n",
    "    rate_values=np.arange(0,100)/100\n",
    "    \n",
    "    for (i, ax), (j, key) in zip(enumerate(axes.flat), enumerate(roc_curve_dict.keys())):\n",
    "        ax.set_title('class {}: {}'.format(key, roc_curve_dict[key]['name']), fontsize=16)\n",
    "        ax.plot(rate_values, rate_values, ':', color='k', linewidth=2, alpha=.3)\n",
    "\n",
    "        ax.plot(\n",
    "            roc_curve_dict[key]['fpr'],\n",
    "            roc_curve_dict[key]['tpr'],\n",
    "            label='{} ({:.4f})'.format(\n",
    "                key,\n",
    "                roc_curve_dict[key]['auc']\n",
    "            ),\n",
    "            color='k'\n",
    "        )\n",
    "        ax.text(0.7, 0.1, 'AUC = {:.3f}'.format(roc_curve_dict[key]['auc']), fontsize=14)\n",
    "        ax.tick_params(labelsize=14)\n",
    "        ax.set_ylabel(\"TRUE positive rate\", fontsize=14)\n",
    "        ax.set_xlabel(\"FALSE positive rate\", fontsize=14)\n",
    "        ax.grid(':', alpha=0.4)\n",
    "    \n",
    "    # hide all markings for axes if there is no corresponding subplot\n",
    "    if i < np.product(subplots)-1:\n",
    "        for pos in ['right','top','bottom','left']:\n",
    "            axes[subplots[0]-1, 1].spines[pos].set_visible(False)\n",
    "        axes[subplots[0]-1, 1].tick_params(\n",
    "            axis='x', which='both', bottom=False, top=False, labelbottom=False\n",
    "        )\n",
    "        axes[subplots[0]-1, 1].tick_params(\n",
    "            axis='y', which='both', right=False, left=False, labelleft=False\n",
    "        )\n",
    "    \n",
    "    plt.tight_layout(rect=[0, 0.03, 1, suptitle_spacing])\n",
    "    if savepath:\n",
    "        plt.savefig(savepath)\n",
    "    plt.show();"
   ]
  },
  {
   "cell_type": "markdown",
   "metadata": {},
   "source": [
    "# NNs\n"
   ]
  },
  {
   "cell_type": "markdown",
   "metadata": {
    "heading_collapsed": true
   },
   "source": [
    "## SKLEARN - does not work"
   ]
  },
  {
   "cell_type": "code",
   "execution_count": 20,
   "metadata": {
    "ExecuteTime": {
     "end_time": "2019-12-08T20:42:31.422672Z",
     "start_time": "2019-12-08T20:42:31.415916Z"
    },
    "hidden": true
   },
   "outputs": [],
   "source": [
    "from sklearn.neural_network import MLPClassifier"
   ]
  },
  {
   "cell_type": "code",
   "execution_count": 67,
   "metadata": {
    "ExecuteTime": {
     "end_time": "2019-12-08T23:29:47.944217Z",
     "start_time": "2019-12-08T23:29:41.793008Z"
    },
    "hidden": true
   },
   "outputs": [
    {
     "name": "stderr",
     "output_type": "stream",
     "text": [
      "/Applications/miniconda3/lib/python3.7/site-packages/sklearn/neural_network/_multilayer_perceptron.py:571: ConvergenceWarning: Stochastic Optimizer: Maximum iterations (2) reached and the optimization hasn't converged yet.\n",
      "  % self.max_iter, ConvergenceWarning)\n"
     ]
    },
    {
     "ename": "ValueError",
     "evalue": "Target scores need to be probabilities for multiclass roc_auc, i.e. they should sum up to 1.0 over classes",
     "output_type": "error",
     "traceback": [
      "\u001b[0;31m---------------------------------------------------------------------------\u001b[0m",
      "\u001b[0;31mValueError\u001b[0m                                Traceback (most recent call last)",
      "\u001b[0;32m<ipython-input-67-e8b23df5a2dc>\u001b[0m in \u001b[0;36m<module>\u001b[0;34m\u001b[0m\n\u001b[1;32m      8\u001b[0m     \u001b[0mmax_iter\u001b[0m\u001b[0;34m=\u001b[0m\u001b[0;36m2\u001b[0m\u001b[0;34m,\u001b[0m\u001b[0;34m\u001b[0m\u001b[0;34m\u001b[0m\u001b[0m\n\u001b[1;32m      9\u001b[0m     \u001b[0mhidden_layer_sizes\u001b[0m\u001b[0;34m=\u001b[0m\u001b[0;34m(\u001b[0m\u001b[0;36m100\u001b[0m\u001b[0;34m,\u001b[0m \u001b[0;36m100\u001b[0m\u001b[0;34m,\u001b[0m \u001b[0;36m100\u001b[0m\u001b[0;34m,\u001b[0m\u001b[0;34m)\u001b[0m\u001b[0;34m,\u001b[0m\u001b[0;34m\u001b[0m\u001b[0;34m\u001b[0m\u001b[0m\n\u001b[0;32m---> 10\u001b[0;31m     \u001b[0mrandom_state\u001b[0m\u001b[0;34m=\u001b[0m\u001b[0;36m20\u001b[0m\u001b[0;34m\u001b[0m\u001b[0;34m\u001b[0m\u001b[0m\n\u001b[0m\u001b[1;32m     11\u001b[0m )\n\u001b[1;32m     12\u001b[0m \u001b[0;34m\u001b[0m\u001b[0m\n",
      "\u001b[0;32m<ipython-input-66-47cfdd867e9f>\u001b[0m in \u001b[0;36mgenerate_model_dict\u001b[0;34m(classifier, X_train, X_test, y_train, y_test, class_dict, verbose, roc_auc, fitm, **kwargs)\u001b[0m\n\u001b[1;32m    278\u001b[0m         roc_auc_train = generate_roc_auc(\n\u001b[1;32m    279\u001b[0m                 \u001b[0my_train\u001b[0m\u001b[0;34m,\u001b[0m \u001b[0mmodel_dict\u001b[0m\u001b[0;34m[\u001b[0m\u001b[0;34m'probabilities'\u001b[0m\u001b[0;34m]\u001b[0m\u001b[0;34m[\u001b[0m\u001b[0;34m'train'\u001b[0m\u001b[0;34m]\u001b[0m\u001b[0;34m,\u001b[0m\u001b[0;34m\u001b[0m\u001b[0;34m\u001b[0m\u001b[0m\n\u001b[0;32m--> 280\u001b[0;31m                 \u001b[0mclass_dict\u001b[0m\u001b[0;34m\u001b[0m\u001b[0;34m\u001b[0m\u001b[0m\n\u001b[0m\u001b[1;32m    281\u001b[0m         )\n\u001b[1;32m    282\u001b[0m         roc_auc_test = generate_roc_auc(\n",
      "\u001b[0;32m<ipython-input-66-47cfdd867e9f>\u001b[0m in \u001b[0;36mgenerate_roc_auc\u001b[0;34m(y_values_actual, predicted_probabilities, class_dict)\u001b[0m\n\u001b[1;32m    186\u001b[0m     \u001b[0;31m# generate overall average auc's for all classes, weighted and unweighted\u001b[0m\u001b[0;34m\u001b[0m\u001b[0;34m\u001b[0m\u001b[0;34m\u001b[0m\u001b[0m\n\u001b[1;32m    187\u001b[0m     auc_avg = roc_auc_score(\n\u001b[0;32m--> 188\u001b[0;31m         \u001b[0my_values_actual\u001b[0m\u001b[0;34m,\u001b[0m \u001b[0mpredicted_probabilities\u001b[0m\u001b[0;34m,\u001b[0m \u001b[0mmulti_class\u001b[0m\u001b[0;34m=\u001b[0m\u001b[0;34m'ovr'\u001b[0m\u001b[0;34m,\u001b[0m \u001b[0maverage\u001b[0m\u001b[0;34m=\u001b[0m\u001b[0;34m'macro'\u001b[0m\u001b[0;34m\u001b[0m\u001b[0;34m\u001b[0m\u001b[0m\n\u001b[0m\u001b[1;32m    189\u001b[0m     )\n\u001b[1;32m    190\u001b[0m     auc_weighted_avg = roc_auc_score(\n",
      "\u001b[0;32m/Applications/miniconda3/lib/python3.7/site-packages/sklearn/metrics/_ranking.py\u001b[0m in \u001b[0;36mroc_auc_score\u001b[0;34m(y_true, y_score, average, sample_weight, max_fpr, multi_class, labels)\u001b[0m\n\u001b[1;32m    361\u001b[0m             \u001b[0;32mraise\u001b[0m \u001b[0mValueError\u001b[0m\u001b[0;34m(\u001b[0m\u001b[0;34m\"multi_class must be in ('ovo', 'ovr')\"\u001b[0m\u001b[0;34m)\u001b[0m\u001b[0;34m\u001b[0m\u001b[0;34m\u001b[0m\u001b[0m\n\u001b[1;32m    362\u001b[0m         return _multiclass_roc_auc_score(y_true, y_score, labels,\n\u001b[0;32m--> 363\u001b[0;31m                                          multi_class, average, sample_weight)\n\u001b[0m\u001b[1;32m    364\u001b[0m     \u001b[0;32melif\u001b[0m \u001b[0my_type\u001b[0m \u001b[0;34m==\u001b[0m \u001b[0;34m\"binary\"\u001b[0m\u001b[0;34m:\u001b[0m\u001b[0;34m\u001b[0m\u001b[0;34m\u001b[0m\u001b[0m\n\u001b[1;32m    365\u001b[0m         \u001b[0mlabels\u001b[0m \u001b[0;34m=\u001b[0m \u001b[0mnp\u001b[0m\u001b[0;34m.\u001b[0m\u001b[0munique\u001b[0m\u001b[0;34m(\u001b[0m\u001b[0my_true\u001b[0m\u001b[0;34m)\u001b[0m\u001b[0;34m\u001b[0m\u001b[0;34m\u001b[0m\u001b[0m\n",
      "\u001b[0;32m/Applications/miniconda3/lib/python3.7/site-packages/sklearn/metrics/_ranking.py\u001b[0m in \u001b[0;36m_multiclass_roc_auc_score\u001b[0;34m(y_true, y_score, labels, multi_class, average, sample_weight)\u001b[0m\n\u001b[1;32m    420\u001b[0m     \u001b[0;32mif\u001b[0m \u001b[0;32mnot\u001b[0m \u001b[0mnp\u001b[0m\u001b[0;34m.\u001b[0m\u001b[0mallclose\u001b[0m\u001b[0;34m(\u001b[0m\u001b[0;36m1\u001b[0m\u001b[0;34m,\u001b[0m \u001b[0my_score\u001b[0m\u001b[0;34m.\u001b[0m\u001b[0msum\u001b[0m\u001b[0;34m(\u001b[0m\u001b[0maxis\u001b[0m\u001b[0;34m=\u001b[0m\u001b[0;36m1\u001b[0m\u001b[0;34m)\u001b[0m\u001b[0;34m)\u001b[0m\u001b[0;34m:\u001b[0m\u001b[0;34m\u001b[0m\u001b[0;34m\u001b[0m\u001b[0m\n\u001b[1;32m    421\u001b[0m         raise ValueError(\n\u001b[0;32m--> 422\u001b[0;31m             \u001b[0;34m\"Target scores need to be probabilities for multiclass \"\u001b[0m\u001b[0;34m\u001b[0m\u001b[0;34m\u001b[0m\u001b[0m\n\u001b[0m\u001b[1;32m    423\u001b[0m             \"roc_auc, i.e. they should sum up to 1.0 over classes\")\n\u001b[1;32m    424\u001b[0m \u001b[0;34m\u001b[0m\u001b[0m\n",
      "\u001b[0;31mValueError\u001b[0m: Target scores need to be probabilities for multiclass roc_auc, i.e. they should sum up to 1.0 over classes"
     ]
    }
   ],
   "source": [
    "\n",
    "mnlogloc_dict = generate_model_dict(\n",
    "    MLPClassifier,\n",
    "    X_train,\n",
    "    X_test,\n",
    "    y_train,\n",
    "    y_test,\n",
    "    class_dict,\n",
    "    max_iter=2,\n",
    "    hidden_layer_sizes=(100, 100, 100,),\n",
    "    random_state=20\n",
    ")\n",
    "\n",
    "print_model_results(mnlogloc_dict,accuracy='both', auc='both',\n",
    "                        pred_counts='both', conf_matrix='both',\n",
    "                        class_metrics='both')\n",
    "\n",
    "#auc_inputs = [mnlogloc_dict[key]['test'] for key in ['auc', 'auc_weighted', 'roc_auc_dict']]\n",
    "\n",
    "#title = 'ROC plotted for all crime type TEST classes, logistic regression\\n'\\\n",
    "#        'with only latitude and longitude as predictors'\n",
    "#savepath = os.path.join(FIGURES_ROOT, 'roc-lat-lon-only.png')\n",
    "\n",
    "#plot_roc_all_classes(*auc_inputs, title, savepath)\n",
    "\n",
    "#savepath = os.path.join(FIGURES_ROOT, 'roc-by-class-lat-lon-only.png')\n",
    "\n",
    "#plot_roc_all_classes_individual(*auc_inputs, title, savepath)"
   ]
  },
  {
   "cell_type": "markdown",
   "metadata": {
    "heading_collapsed": true
   },
   "source": [
    "## Keras - getting a base model to work"
   ]
  },
  {
   "cell_type": "code",
   "execution_count": 25,
   "metadata": {
    "ExecuteTime": {
     "end_time": "2019-12-08T20:49:55.418405Z",
     "start_time": "2019-12-08T20:49:55.400981Z"
    },
    "hidden": true
   },
   "outputs": [
    {
     "data": {
      "text/plain": [
       "(128352, 43)"
      ]
     },
     "execution_count": 25,
     "metadata": {},
     "output_type": "execute_result"
    }
   ],
   "source": [
    "X_train.shape"
   ]
  },
  {
   "cell_type": "code",
   "execution_count": 32,
   "metadata": {
    "ExecuteTime": {
     "end_time": "2019-12-08T23:18:16.056266Z",
     "start_time": "2019-12-08T23:18:16.052898Z"
    },
    "hidden": true
   },
   "outputs": [],
   "source": [
    "import tensorflow as tf"
   ]
  },
  {
   "cell_type": "code",
   "execution_count": 47,
   "metadata": {
    "ExecuteTime": {
     "end_time": "2019-12-08T23:23:41.653023Z",
     "start_time": "2019-12-08T23:23:41.565200Z"
    },
    "hidden": true
   },
   "outputs": [],
   "source": [
    "from sklearn.ensemble import RandomForestClassifier"
   ]
  },
  {
   "cell_type": "code",
   "execution_count": 51,
   "metadata": {
    "ExecuteTime": {
     "end_time": "2019-12-08T23:24:27.609621Z",
     "start_time": "2019-12-08T23:24:25.390562Z"
    },
    "hidden": true
   },
   "outputs": [
    {
     "data": {
      "text/plain": [
       "RandomForestClassifier(bootstrap=True, ccp_alpha=0.0, class_weight=None,\n",
       "                       criterion='gini', max_depth=None, max_features='auto',\n",
       "                       max_leaf_nodes=None, max_samples=None,\n",
       "                       min_impurity_decrease=0.0, min_impurity_split=None,\n",
       "                       min_samples_leaf=1, min_samples_split=2,\n",
       "                       min_weight_fraction_leaf=0.0, n_estimators=5,\n",
       "                       n_jobs=None, oob_score=False, random_state=None,\n",
       "                       verbose=0, warm_start=False)"
      ]
     },
     "execution_count": 51,
     "metadata": {},
     "output_type": "execute_result"
    }
   ],
   "source": [
    "RandomForestClassifier(n_estimators=5).fit(X_train, y_train)"
   ]
  },
  {
   "cell_type": "code",
   "execution_count": 52,
   "metadata": {
    "ExecuteTime": {
     "end_time": "2019-12-08T23:24:34.940872Z",
     "start_time": "2019-12-08T23:24:34.780985Z"
    },
    "hidden": true
   },
   "outputs": [
    {
     "data": {
      "text/plain": [
       "0.30497382198952877"
      ]
     },
     "execution_count": 52,
     "metadata": {},
     "output_type": "execute_result"
    }
   ],
   "source": [
    "# Benchmark to beat\n",
    "_.score(X_test, y_test)"
   ]
  },
  {
   "cell_type": "code",
   "execution_count": null,
   "metadata": {
    "hidden": true
   },
   "outputs": [],
   "source": []
  },
  {
   "cell_type": "markdown",
   "metadata": {
    "hidden": true
   },
   "source": [
    "### Lesson number 1: for unbalanced datasets, use class_weight"
   ]
  },
  {
   "cell_type": "code",
   "execution_count": 80,
   "metadata": {
    "ExecuteTime": {
     "end_time": "2019-12-08T23:38:18.737206Z",
     "start_time": "2019-12-08T23:38:18.696624Z"
    },
    "hidden": true
   },
   "outputs": [],
   "source": [
    "from sklearn.utils.class_weight import compute_class_weight\n",
    "\n",
    "class_weights =             compute_class_weight('balanced',\n",
    "                                                 np.unique(y_train),\n",
    "                                                 y_train)\n",
    "\n"
   ]
  },
  {
   "cell_type": "code",
   "execution_count": 81,
   "metadata": {
    "ExecuteTime": {
     "end_time": "2019-12-08T23:39:00.866562Z",
     "start_time": "2019-12-08T23:39:00.740323Z"
    },
    "hidden": true
   },
   "outputs": [],
   "source": [
    "from keras.models import Sequential\n",
    "from keras.layers import Dense, Activation, Dropout\n",
    "from keras.optimizers import SGD\n",
    "\n",
    "model = Sequential([\n",
    "    Dense(64, activation='relu', input_dim=43),\n",
    "    Dense(64, activation='relu'),\n",
    "    Dense(64, activation='relu'),\n",
    "    Dense(9, activation='softmax'),\n",
    "    ])\n",
    "\n",
    "sgd = SGD(lr=0.001, decay=1e-6, momentum=0.9, nesterov=True)\n",
    "\n",
    "model.compile(optimizer=sgd,\n",
    "              loss='sparse_categorical_crossentropy',\n",
    "              metrics=[tf.keras.metrics.sparse_categorical_accuracy])\n"
   ]
  },
  {
   "cell_type": "markdown",
   "metadata": {
    "hidden": true
   },
   "source": [
    "### Remember to scale your input"
   ]
  },
  {
   "cell_type": "code",
   "execution_count": 83,
   "metadata": {
    "ExecuteTime": {
     "end_time": "2019-12-08T23:43:30.888201Z",
     "start_time": "2019-12-08T23:40:05.533231Z"
    },
    "hidden": true
   },
   "outputs": [
    {
     "name": "stdout",
     "output_type": "stream",
     "text": [
      "Epoch 1/10\n",
      "128352/128352 [==============================] - 19s 147us/step - loss: 1.9612 - sparse_categorical_accuracy: 0.2837\n",
      "Epoch 2/10\n",
      "128352/128352 [==============================] - 19s 150us/step - loss: 1.9271 - sparse_categorical_accuracy: 0.2943\n",
      "Epoch 3/10\n",
      "128352/128352 [==============================] - 20s 160us/step - loss: 1.9145 - sparse_categorical_accuracy: 0.2978\n",
      "Epoch 4/10\n",
      "128352/128352 [==============================] - 20s 156us/step - loss: 1.9067 - sparse_categorical_accuracy: 0.3019\n",
      "Epoch 5/10\n",
      "128352/128352 [==============================] - 20s 157us/step - loss: 1.9011 - sparse_categorical_accuracy: 0.3041\n",
      "Epoch 6/10\n",
      "128352/128352 [==============================] - 29s 229us/step - loss: 1.8968 - sparse_categorical_accuracy: 0.3058\n",
      "Epoch 7/10\n",
      "128352/128352 [==============================] - 22s 173us/step - loss: 1.8932 - sparse_categorical_accuracy: 0.3073\n",
      "Epoch 8/10\n",
      "128352/128352 [==============================] - 18s 142us/step - loss: 1.8901 - sparse_categorical_accuracy: 0.3086\n",
      "Epoch 9/10\n",
      "128352/128352 [==============================] - 19s 144us/step - loss: 1.8872 - sparse_categorical_accuracy: 0.3107\n",
      "Epoch 10/10\n",
      "128352/128352 [==============================] - 18s 142us/step - loss: 1.8846 - sparse_categorical_accuracy: 0.3122\n"
     ]
    },
    {
     "data": {
      "text/plain": [
       "<keras.callbacks.History at 0x1c4b97bac8>"
      ]
     },
     "execution_count": 83,
     "metadata": {},
     "output_type": "execute_result"
    }
   ],
   "source": [
    "model.fit(X_train_scaled, y_train, epochs=10, batch_size=32, class_weight=class_weights)\n"
   ]
  },
  {
   "cell_type": "code",
   "execution_count": 93,
   "metadata": {
    "ExecuteTime": {
     "end_time": "2019-12-08T23:46:04.045325Z",
     "start_time": "2019-12-08T23:46:01.644553Z"
    },
    "hidden": true
   },
   "outputs": [
    {
     "name": "stdout",
     "output_type": "stream",
     "text": [
      "32088/32088 [==============================] - 2s 74us/step\n"
     ]
    },
    {
     "data": {
      "text/plain": [
       "[1.8954089697505196, 0.30662552980049923]"
      ]
     },
     "execution_count": 93,
     "metadata": {},
     "output_type": "execute_result"
    }
   ],
   "source": [
    "model.evaluate(X_test_scaled, y_test)"
   ]
  },
  {
   "cell_type": "code",
   "execution_count": 90,
   "metadata": {
    "ExecuteTime": {
     "end_time": "2019-12-08T23:45:45.709857Z",
     "start_time": "2019-12-08T23:45:30.217412Z"
    },
    "hidden": true
   },
   "outputs": [
    {
     "name": "stdout",
     "output_type": "stream",
     "text": [
      "\n",
      "The fitted model:\n",
      "\n",
      "<keras.engine.sequential.Sequential object at 0x1c4b382550>\n",
      "\n",
      "\n",
      "This model resulted in the following accuracy:\n",
      "\n",
      "Training\t1.0000\n",
      "Test\t\t1.0000\n",
      "\n",
      "\n",
      "The model AUC is:\n",
      "\n",
      "\t\tweighted\tunweighted\n",
      "Training\t0.6482\t\t0.6427\n",
      "Test\t\t0.4981\t\t0.4995\n",
      "\n",
      "\n",
      "The number of classes predicted by class are:\n",
      "\n",
      "TRAINING\n",
      "       count  proportion\n",
      "class                   \n",
      "0       6321    0.049247\n",
      "1       5664    0.044129\n",
      "2      13082    0.101923\n",
      "3       9587    0.074693\n",
      "4      20767    0.161797\n",
      "5       3423    0.026669\n",
      "6      34555    0.269221\n",
      "7      13710    0.106816\n",
      "8      21243    0.165506\n",
      "\n",
      "TEST\n",
      "       count  proportion\n",
      "class                   \n",
      "0       1638    0.051047\n",
      "1       1437    0.044783\n",
      "2       3199    0.099695\n",
      "3       2304    0.071803\n",
      "4       5206    0.162241\n",
      "5        823    0.025648\n",
      "6       8696    0.271005\n",
      "7       3369    0.104993\n",
      "8       5416    0.168786\n",
      "\n",
      "\n",
      "The resulting confusion matrix:\n",
      "\n",
      "TRAINING\n",
      "Actual        0     1      2     3      4     5      6      7      8   Total\n",
      "Predicted                                                                   \n",
      "0          6321     0      0     0      0     0      0      0      0    6321\n",
      "1             0  5664      0     0      0     0      0      0      0    5664\n",
      "2             0     0  13082     0      0     0      0      0      0   13082\n",
      "3             0     0      0  9587      0     0      0      0      0    9587\n",
      "4             0     0      0     0  20767     0      0      0      0   20767\n",
      "5             0     0      0     0      0  3423      0      0      0    3423\n",
      "6             0     0      0     0      0     0  34555      0      0   34555\n",
      "7             0     0      0     0      0     0      0  13710      0   13710\n",
      "8             0     0      0     0      0     0      0      0  21243   21243\n",
      "Total      6321  5664  13082  9587  20767  3423  34555  13710  21243  128352\n",
      "\n",
      "TEST\n",
      "Actual        0     1     2     3     4    5     6     7     8  Total\n",
      "Predicted                                                            \n",
      "0          1638     0     0     0     0    0     0     0     0   1638\n",
      "1             0  1437     0     0     0    0     0     0     0   1437\n",
      "2             0     0  3199     0     0    0     0     0     0   3199\n",
      "3             0     0     0  2304     0    0     0     0     0   2304\n",
      "4             0     0     0     0  5206    0     0     0     0   5206\n",
      "5             0     0     0     0     0  823     0     0     0    823\n",
      "6             0     0     0     0     0    0  8696     0     0   8696\n",
      "7             0     0     0     0     0    0     0  3369     0   3369\n",
      "8             0     0     0     0     0    0     0     0  5416   5416\n",
      "Total      1638  1437  3199  2304  5206  823  8696  3369  5416  32088\n",
      "\n",
      "\n",
      "The classification metrics derived from the confusion matrix are:\n",
      "\n",
      "TRAINING\n",
      "          TP  FP  FN      TN  TPR  FNR  FPR  TNR\n",
      "class                                           \n",
      "0       6321   0   0  122031  1.0  0.0  0.0  1.0\n",
      "1       5664   0   0  122688  1.0  0.0  0.0  1.0\n",
      "2      13082   0   0  115270  1.0  0.0  0.0  1.0\n",
      "3       9587   0   0  118765  1.0  0.0  0.0  1.0\n",
      "4      20767   0   0  107585  1.0  0.0  0.0  1.0\n",
      "5       3423   0   0  124929  1.0  0.0  0.0  1.0\n",
      "6      34555   0   0   93797  1.0  0.0  0.0  1.0\n",
      "7      13710   0   0  114642  1.0  0.0  0.0  1.0\n",
      "8      21243   0   0  107109  1.0  0.0  0.0  1.0\n",
      "\n",
      "TEST\n",
      "         TP  FP  FN     TN  TPR  FNR  FPR  TNR\n",
      "class                                         \n",
      "0      1638   0   0  30450  1.0  0.0  0.0  1.0\n",
      "1      1437   0   0  30651  1.0  0.0  0.0  1.0\n",
      "2      3199   0   0  28889  1.0  0.0  0.0  1.0\n",
      "3      2304   0   0  29784  1.0  0.0  0.0  1.0\n",
      "4      5206   0   0  26882  1.0  0.0  0.0  1.0\n",
      "5       823   0   0  31265  1.0  0.0  0.0  1.0\n",
      "6      8696   0   0  23392  1.0  0.0  0.0  1.0\n",
      "7      3369   0   0  28719  1.0  0.0  0.0  1.0\n",
      "8      5416   0   0  26672  1.0  0.0  0.0  1.0\n",
      "\n",
      "\n",
      "\n"
     ]
    }
   ],
   "source": [
    "mnlogloc_dict = generate_model_dict(\n",
    "    model,\n",
    "    X_train_scaled,\n",
    "    X_test_scaled,\n",
    "    y_train,\n",
    "    y_test,\n",
    "    class_dict,\n",
    "    max_iter=100,\n",
    "    hidden_layer_sizes=(100, 100, 100,),\n",
    "    random_state=20,\n",
    "    fitm=True #do not re-fit\n",
    ")\n",
    "\n",
    "print_model_results(mnlogloc_dict,accuracy='both', auc='both',\n",
    "                        pred_counts='both', conf_matrix='both',\n",
    "                        class_metrics='both')"
   ]
  },
  {
   "cell_type": "markdown",
   "metadata": {},
   "source": [
    "## First working model, auc: 0.645, acc: 0.315"
   ]
  },
  {
   "cell_type": "code",
   "execution_count": 96,
   "metadata": {
    "ExecuteTime": {
     "end_time": "2019-12-08T23:49:25.201473Z",
     "start_time": "2019-12-08T23:49:25.062121Z"
    }
   },
   "outputs": [],
   "source": [
    "from keras.models import Sequential\n",
    "from keras.layers import Dense, Activation, Dropout\n",
    "from keras.layers.advanced_activations import LeakyReLU\n",
    "from keras.optimizers import SGD\n",
    "\n",
    "model = Sequential([\n",
    "    Dense(256, input_dim=43),\n",
    "    LeakyReLU(),\n",
    "    Dense(256),\n",
    "    LeakyReLU(),\n",
    "    Dense(256),\n",
    "    LeakyReLU(),\n",
    "    Dense(256),\n",
    "    LeakyReLU(),\n",
    "    Dense(9, activation='softmax'),\n",
    "    ])\n",
    "\n",
    "model.compile(optimizer='adam',\n",
    "              loss='sparse_categorical_crossentropy',\n",
    "              metrics=[tf.keras.metrics.sparse_categorical_accuracy])\n"
   ]
  },
  {
   "cell_type": "code",
   "execution_count": 97,
   "metadata": {
    "ExecuteTime": {
     "end_time": "2019-12-09T00:00:53.997605Z",
     "start_time": "2019-12-08T23:49:29.334760Z"
    }
   },
   "outputs": [
    {
     "name": "stdout",
     "output_type": "stream",
     "text": [
      "Epoch 1/10\n",
      "128352/128352 [==============================] - 69s 541us/step - loss: 1.9275 - sparse_categorical_accuracy: 0.2943\n",
      "Epoch 2/10\n",
      "128352/128352 [==============================] - 61s 473us/step - loss: 1.9050 - sparse_categorical_accuracy: 0.3032\n",
      "Epoch 3/10\n",
      "128352/128352 [==============================] - 120s 936us/step - loss: 1.8969 - sparse_categorical_accuracy: 0.3078\n",
      "Epoch 4/10\n",
      "128352/128352 [==============================] - 121s 943us/step - loss: 1.8906 - sparse_categorical_accuracy: 0.3097\n",
      "Epoch 5/10\n",
      "128352/128352 [==============================] - 58s 452us/step - loss: 1.8861 - sparse_categorical_accuracy: 0.3121\n",
      "Epoch 6/10\n",
      "128352/128352 [==============================] - 49s 382us/step - loss: 1.8833 - sparse_categorical_accuracy: 0.3132\n",
      "Epoch 7/10\n",
      "128352/128352 [==============================] - 50s 389us/step - loss: 1.8794 - sparse_categorical_accuracy: 0.3153\n",
      "Epoch 8/10\n",
      "128352/128352 [==============================] - 52s 402us/step - loss: 1.8773 - sparse_categorical_accuracy: 0.3163\n",
      "Epoch 9/10\n",
      "128352/128352 [==============================] - 51s 396us/step - loss: 1.8750 - sparse_categorical_accuracy: 0.3162\n",
      "Epoch 10/10\n",
      "128352/128352 [==============================] - 53s 414us/step - loss: 1.8716 - sparse_categorical_accuracy: 0.3180\n"
     ]
    },
    {
     "data": {
      "text/plain": [
       "<keras.callbacks.History at 0x1c4b71ca20>"
      ]
     },
     "execution_count": 97,
     "metadata": {},
     "output_type": "execute_result"
    }
   ],
   "source": [
    "model.fit(X_train_scaled, y_train, epochs=10, batch_size=32, class_weight=class_weights)\n"
   ]
  },
  {
   "cell_type": "code",
   "execution_count": 105,
   "metadata": {
    "ExecuteTime": {
     "end_time": "2019-12-09T00:07:06.850976Z",
     "start_time": "2019-12-09T00:06:43.530108Z"
    }
   },
   "outputs": [
    {
     "name": "stdout",
     "output_type": "stream",
     "text": [
      "\n",
      "The fitted model:\n",
      "\n",
      "<keras.engine.sequential.Sequential object at 0x1c3e6d1160>\n",
      "\n",
      "\n",
      "This model resulted in the following accuracy:\n",
      "\n",
      "Training\t0.3212\n",
      "Test\t\t0.3151\n",
      "\n",
      "\n",
      "The model AUC is:\n",
      "\n",
      "\t\tweighted\tunweighted\n",
      "Training\t0.6596\t\t0.6577\n",
      "Test\t\t0.6455\t\t0.6387\n",
      "\n",
      "\n",
      "The number of classes predicted by class are:\n",
      "\n",
      "TRAINING\n",
      "       count  proportion\n",
      "class                   \n",
      "0        902    0.007028\n",
      "2       9509    0.074085\n",
      "3        156    0.001215\n",
      "4      45045    0.350949\n",
      "6      58629    0.456783\n",
      "7        613    0.004776\n",
      "8      13498    0.105164\n",
      "\n",
      "TEST\n",
      "       count  proportion\n",
      "class                   \n",
      "0        210    0.006545\n",
      "2       2395    0.074638\n",
      "3         37    0.001153\n",
      "4      11342    0.353465\n",
      "6      14720    0.458738\n",
      "7        142    0.004425\n",
      "8       3242    0.101035\n",
      "\n",
      "\n",
      "The resulting confusion matrix:\n",
      "\n",
      "TRAINING\n",
      "Actual        0     1      2     3      4     5      6      7      8   Total\n",
      "Predicted                                                                   \n",
      "0           335    80     19    40     93    24    166     69     76     902\n",
      "1             0     0      0     0      0     0      0      0      0       0\n",
      "2           624   211   3846   511    802   197   1642    568   1108    9509\n",
      "3             5    16      7    36     24     0     32     19     17     156\n",
      "4          1590  1979   3298  3054  11714  1205   8270   5544   8391   45045\n",
      "5             0     0      0     0      0     0      0      0      0       0\n",
      "6          2650  2870   4688  5203   5914  1441  21758   5938   8167   58629\n",
      "7            17    61     28    58     87    10    136    135     81     613\n",
      "8          1100   447   1196   685   2133   546   2551   1437   3403   13498\n",
      "Total      6321  5664  13082  9587  20767  3423  34555  13710  21243  128352\n",
      "\n",
      "TEST\n",
      "Actual        0     1     2     3     4    5     6     7     8  Total\n",
      "Predicted                                                            \n",
      "0            69    11     7    10    20    3    33    27    30    210\n",
      "1             0     0     0     0     0    0     0     0     0      0\n",
      "2           133    59   912   152   214   63   399   152   311   2395\n",
      "3             1     6     1     9     3    0    11     2     4     37\n",
      "4           436   500   838   754  2932  303  2131  1358  2090  11342\n",
      "5             0     0     0     0     0    0     0     0     0      0\n",
      "6           705   711  1195  1288  1470  365  5379  1538  2069  14720\n",
      "7             6     4     2    18    24    2    44    23    19    142\n",
      "8           230   125   316   166   529  120   642   327   787   3242\n",
      "Total      1580  1416  3271  2397  5192  856  8639  3427  5310  32088\n",
      "\n",
      "\n",
      "The classification metrics derived from the confusion matrix are:\n",
      "\n",
      "TRAINING\n",
      "          TP     FP     FN      TN       TPR       FNR       FPR       TNR\n",
      "class                                                                     \n",
      "0        335    567   5986  121464  0.052998  0.947002  0.004646  0.995354\n",
      "1          0      0   5664  122688  0.000000  1.000000  0.000000  1.000000\n",
      "2       3846   5663   9236  109607  0.293992  0.706008  0.049128  0.950872\n",
      "3         36    120   9551  118645  0.003755  0.996245  0.001010  0.998990\n",
      "4      11714  33331   9053   74254  0.564068  0.435932  0.309811  0.690189\n",
      "5          0      0   3423  124929  0.000000  1.000000  0.000000  1.000000\n",
      "6      21758  36871  12797   56926  0.629663  0.370337  0.393094  0.606906\n",
      "7        135    478  13575  114164  0.009847  0.990153  0.004170  0.995830\n",
      "8       3403  10095  17840   97014  0.160194  0.839806  0.094250  0.905750\n",
      "\n",
      "TEST\n",
      "         TP    FP    FN     TN       TPR       FNR       FPR       TNR\n",
      "class                                                                 \n",
      "0        69   141  1511  30367  0.043671  0.956329  0.004622  0.995378\n",
      "1         0     0  1416  30672  0.000000  1.000000  0.000000  1.000000\n",
      "2       912  1483  2359  27334  0.278814  0.721186  0.051463  0.948537\n",
      "3         9    28  2388  29663  0.003755  0.996245  0.000943  0.999057\n",
      "4      2932  8410  2260  18486  0.564715  0.435285  0.312686  0.687314\n",
      "5         0     0   856  31232  0.000000  1.000000  0.000000  1.000000\n",
      "6      5379  9341  3260  14108  0.622642  0.377358  0.398354  0.601646\n",
      "7        23   119  3404  28542  0.006711  0.993289  0.004152  0.995848\n",
      "8       787  2455  4523  24323  0.148211  0.851789  0.091680  0.908320\n",
      "\n",
      "\n",
      "\n"
     ]
    }
   ],
   "source": [
    "nn_dict = generate_model_dict(\n",
    "    model,\n",
    "    X_train_scaled,\n",
    "    X_test_scaled,\n",
    "    y_train,\n",
    "    y_test,\n",
    "    class_dict,\n",
    "    random_state=20,\n",
    "    fitm=True #do not re-fit\n",
    ")\n",
    "\n",
    "print_model_results(nn_dict,accuracy='both', auc='both',\n",
    "                        pred_counts='both', conf_matrix='both',\n",
    "                        class_metrics='both')"
   ]
  },
  {
   "cell_type": "code",
   "execution_count": 106,
   "metadata": {
    "ExecuteTime": {
     "end_time": "2019-12-09T00:08:52.986608Z",
     "start_time": "2019-12-09T00:08:52.405445Z"
    },
    "scrolled": true
   },
   "outputs": [
    {
     "data": {
      "image/png": "[encoded data removed]",
      "text/plain": [
       "<Figure size 864x504 with 1 Axes>"
      ]
     },
     "metadata": {
      "needs_background": "light"
     },
     "output_type": "display_data"
    }
   ],
   "source": [
    "title = 'ROC plotted for all crime type TEST classes, NN with Keras\\n'\\\n",
    "        '4 layers, no regularization, 10 epochs'\n",
    "savepath = os.path.join(FIGURES_ROOT, 'roc-basic-nn.png')\n",
    "\n",
    "plot_roc_all_classes(*auc_inputs, title, savepath)\n"
   ]
  },
  {
   "cell_type": "code",
   "execution_count": null,
   "metadata": {},
   "outputs": [],
   "source": []
  }
 ],
 "metadata": {
  "kernelspec": {
   "display_name": "Python 3",
   "language": "python",
   "name": "python3"
  },
  "language_info": {
   "codemirror_mode": {
    "name": "ipython",
    "version": 3
   },
   "file_extension": ".py",
   "mimetype": "text/x-python",
   "name": "python",
   "nbconvert_exporter": "python",
   "pygments_lexer": "ipython3",
   "version": "3.7.3"
  },
  "toc": {
   "base_numbering": 1,
   "nav_menu": {},
   "number_sections": true,
   "sideBar": true,
   "skip_h1_title": false,
   "title_cell": "Table of Contents",
   "title_sidebar": "Contents",
   "toc_cell": false,
   "toc_position": {},
   "toc_section_display": true,
   "toc_window_display": false
  }
 },
 "nbformat": 4,
 "nbformat_minor": 2
}
