{
 "cells": [
  {
   "cell_type": "markdown",
   "metadata": {},
   "source": [
    "### Summary\n",
    "This notebook will plot lat/lon coordinates of Boston area establishments with a liquor license.\n",
    "\n",
    "\n",
    "### Notebook output\n",
    "All plots saved from this notebook will be located at `../figures/liquor/`"
   ]
  },
  {
   "cell_type": "code",
   "execution_count": 14,
   "metadata": {},
   "outputs": [],
   "source": [
    "import itertools\n",
    "import os\n",
    "import pandas as pd\n",
    "import numpy as np\n",
    "import geopandas as gpd\n",
    "import matplotlib.pyplot as plt\n",
    "import matplotlib.patches as mpatches\n",
    "%matplotlib inline"
   ]
  },
  {
   "cell_type": "code",
   "execution_count": 15,
   "metadata": {},
   "outputs": [],
   "source": [
    "DATA_ROOT = '../data/'\n",
    "DATA_DIR = os.path.join(DATA_ROOT, 'processed')\n",
    "readfile_liquor = os.path.join(DATA_DIR, 'liquor_processed.csv')"
   ]
  },
  {
   "cell_type": "code",
   "execution_count": 16,
   "metadata": {},
   "outputs": [
    {
     "data": {
      "text/html": [
       "<div>\n",
       "<style scoped>\n",
       "    .dataframe tbody tr th:only-of-type {\n",
       "        vertical-align: middle;\n",
       "    }\n",
       "\n",
       "    .dataframe tbody tr th {\n",
       "        vertical-align: top;\n",
       "    }\n",
       "\n",
       "    .dataframe thead th {\n",
       "        text-align: right;\n",
       "    }\n",
       "</style>\n",
       "<table border=\"1\" class=\"dataframe\">\n",
       "  <thead>\n",
       "    <tr style=\"text-align: right;\">\n",
       "      <th></th>\n",
       "      <th>Unnamed: 0</th>\n",
       "      <th>LICENSENO</th>\n",
       "      <th>LICSTATUS</th>\n",
       "      <th>LICCAT</th>\n",
       "      <th>LICCATDESC</th>\n",
       "      <th>Address_Complete</th>\n",
       "      <th>Location_Complete</th>\n",
       "    </tr>\n",
       "  </thead>\n",
       "  <tbody>\n",
       "    <tr>\n",
       "      <th>0</th>\n",
       "      <td>0</td>\n",
       "      <td>LB-101572</td>\n",
       "      <td>Active</td>\n",
       "      <td>GOPAL</td>\n",
       "      <td>GOP All Alc.</td>\n",
       "      <td>Central Wharf Boston MA</td>\n",
       "      <td>(42.35909945, -71.0495668203563)</td>\n",
       "    </tr>\n",
       "    <tr>\n",
       "      <th>1</th>\n",
       "      <td>1</td>\n",
       "      <td>LB-101576</td>\n",
       "      <td>Active</td>\n",
       "      <td>GOPAL</td>\n",
       "      <td>GOP All Alc.</td>\n",
       "      <td>Boylston PL Boston MA</td>\n",
       "      <td>(42.316157, -71.102592)</td>\n",
       "    </tr>\n",
       "    <tr>\n",
       "      <th>2</th>\n",
       "      <td>2</td>\n",
       "      <td>LB-101577</td>\n",
       "      <td>Active</td>\n",
       "      <td>GOPAL</td>\n",
       "      <td>GOP All Alc.</td>\n",
       "      <td>State ST Boston MA</td>\n",
       "      <td>(42.3588444, -71.0572152)</td>\n",
       "    </tr>\n",
       "  </tbody>\n",
       "</table>\n",
       "</div>"
      ],
      "text/plain": [
       "   Unnamed: 0  LICENSENO LICSTATUS LICCAT    LICCATDESC  \\\n",
       "0           0  LB-101572    Active  GOPAL  GOP All Alc.   \n",
       "1           1  LB-101576    Active  GOPAL  GOP All Alc.   \n",
       "2           2  LB-101577    Active  GOPAL  GOP All Alc.   \n",
       "\n",
       "          Address_Complete                 Location_Complete  \n",
       "0  Central Wharf Boston MA  (42.35909945, -71.0495668203563)  \n",
       "1    Boylston PL Boston MA           (42.316157, -71.102592)  \n",
       "2       State ST Boston MA         (42.3588444, -71.0572152)  "
      ]
     },
     "execution_count": 16,
     "metadata": {},
     "output_type": "execute_result"
    }
   ],
   "source": [
    "df_liquor_eda = pd.read_csv(readfile_liquor)\n",
    "df_liquor_eda.head(3)"
   ]
  },
  {
   "cell_type": "code",
   "execution_count": 22,
   "metadata": {},
   "outputs": [],
   "source": [
    "#Format Location_Complete to separate lat/lon columns\n",
    "coordinates_format = df_liquor_eda['Location_Complete'].str.strip('()')               \\\n",
    "                   .str.split(', ', expand=True)                \\\n",
    "                   .rename(columns={0:'Latitude', 1:'Longitude'}) \n"
   ]
  },
  {
   "cell_type": "code",
   "execution_count": 30,
   "metadata": {},
   "outputs": [
    {
     "data": {
      "text/html": [
       "<div>\n",
       "<style scoped>\n",
       "    .dataframe tbody tr th:only-of-type {\n",
       "        vertical-align: middle;\n",
       "    }\n",
       "\n",
       "    .dataframe tbody tr th {\n",
       "        vertical-align: top;\n",
       "    }\n",
       "\n",
       "    .dataframe thead th {\n",
       "        text-align: right;\n",
       "    }\n",
       "</style>\n",
       "<table border=\"1\" class=\"dataframe\">\n",
       "  <thead>\n",
       "    <tr style=\"text-align: right;\">\n",
       "      <th></th>\n",
       "      <th>Unnamed: 0</th>\n",
       "      <th>LICENSENO</th>\n",
       "      <th>LICSTATUS</th>\n",
       "      <th>LICCAT</th>\n",
       "      <th>LICCATDESC</th>\n",
       "      <th>Address_Complete</th>\n",
       "      <th>Location_Complete</th>\n",
       "      <th>Latitude</th>\n",
       "      <th>Longitude</th>\n",
       "    </tr>\n",
       "  </thead>\n",
       "  <tbody>\n",
       "    <tr>\n",
       "      <th>0</th>\n",
       "      <td>0</td>\n",
       "      <td>LB-101572</td>\n",
       "      <td>Active</td>\n",
       "      <td>GOPAL</td>\n",
       "      <td>GOP All Alc.</td>\n",
       "      <td>Central Wharf Boston MA</td>\n",
       "      <td>(42.35909945, -71.0495668203563)</td>\n",
       "      <td>42.359099</td>\n",
       "      <td>-71.049567</td>\n",
       "    </tr>\n",
       "    <tr>\n",
       "      <th>1</th>\n",
       "      <td>1</td>\n",
       "      <td>LB-101576</td>\n",
       "      <td>Active</td>\n",
       "      <td>GOPAL</td>\n",
       "      <td>GOP All Alc.</td>\n",
       "      <td>Boylston PL Boston MA</td>\n",
       "      <td>(42.316157, -71.102592)</td>\n",
       "      <td>42.316157</td>\n",
       "      <td>-71.102592</td>\n",
       "    </tr>\n",
       "    <tr>\n",
       "      <th>2</th>\n",
       "      <td>2</td>\n",
       "      <td>LB-101577</td>\n",
       "      <td>Active</td>\n",
       "      <td>GOPAL</td>\n",
       "      <td>GOP All Alc.</td>\n",
       "      <td>State ST Boston MA</td>\n",
       "      <td>(42.3588444, -71.0572152)</td>\n",
       "      <td>42.358844</td>\n",
       "      <td>-71.057215</td>\n",
       "    </tr>\n",
       "  </tbody>\n",
       "</table>\n",
       "</div>"
      ],
      "text/plain": [
       "   Unnamed: 0  LICENSENO LICSTATUS LICCAT    LICCATDESC  \\\n",
       "0           0  LB-101572    Active  GOPAL  GOP All Alc.   \n",
       "1           1  LB-101576    Active  GOPAL  GOP All Alc.   \n",
       "2           2  LB-101577    Active  GOPAL  GOP All Alc.   \n",
       "\n",
       "          Address_Complete                 Location_Complete   Latitude  \\\n",
       "0  Central Wharf Boston MA  (42.35909945, -71.0495668203563)  42.359099   \n",
       "1    Boylston PL Boston MA           (42.316157, -71.102592)  42.316157   \n",
       "2       State ST Boston MA         (42.3588444, -71.0572152)  42.358844   \n",
       "\n",
       "   Longitude  \n",
       "0 -71.049567  \n",
       "1 -71.102592  \n",
       "2 -71.057215  "
      ]
     },
     "execution_count": 30,
     "metadata": {},
     "output_type": "execute_result"
    }
   ],
   "source": [
    "df_liquor_eda['Latitude'] = coordinates_format['Latitude']\n",
    "df_liquor_eda['Longitude'] = coordinates_format['Longitude']\n",
    "\n",
    "df_liquor_eda['Latitude'] = df_liquor_eda['Latitude'].astype(float)\n",
    "df_liquor_eda['Longitude'] = df_liquor_eda['Longitude'].astype(float)\n",
    "\n",
    "df_liquor_eda.head(3)"
   ]
  },
  {
   "cell_type": "code",
   "execution_count": null,
   "metadata": {},
   "outputs": [],
   "source": []
  },
  {
   "cell_type": "code",
   "execution_count": null,
   "metadata": {},
   "outputs": [],
   "source": []
  },
  {
   "cell_type": "code",
   "execution_count": null,
   "metadata": {},
   "outputs": [],
   "source": []
  },
  {
   "cell_type": "code",
   "execution_count": null,
   "metadata": {},
   "outputs": [],
   "source": []
  },
  {
   "cell_type": "code",
   "execution_count": null,
   "metadata": {},
   "outputs": [],
   "source": []
  }
 ],
 "metadata": {
  "kernelspec": {
   "display_name": "Python 3",
   "language": "python",
   "name": "python3"
  },
  "language_info": {
   "codemirror_mode": {
    "name": "ipython",
    "version": 3
   },
   "file_extension": ".py",
   "mimetype": "text/x-python",
   "name": "python",
   "nbconvert_exporter": "python",
   "pygments_lexer": "ipython3",
   "version": "3.7.5"
  }
 },
 "nbformat": 4,
 "nbformat_minor": 2
}
