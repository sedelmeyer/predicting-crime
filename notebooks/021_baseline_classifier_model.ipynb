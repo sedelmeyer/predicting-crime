{
 "cells": [
  {
   "cell_type": "markdown",
   "metadata": {},
   "source": [
    "# Notebook 021: Baseline Classifier Model\n",
    "\n",
    "This notebook contains a baseline crime-type classifier model using an initial set of property-related predictors"
   ]
  },
  {
   "cell_type": "code",
   "execution_count": 1,
   "metadata": {},
   "outputs": [],
   "source": [
    "import urllib\n",
    "import os\n",
    "import operator\n",
    "import pathlib\n",
    "import requests\n",
    "import pandas as pd\n",
    "import numpy as np\n",
    "import geopandas as gpd\n",
    "import matplotlib.pyplot as plt\n",
    "from shapely.geometry import Point\n",
    "%matplotlib inline"
   ]
  },
  {
   "cell_type": "code",
   "execution_count": 7,
   "metadata": {},
   "outputs": [
    {
     "name": "stdout",
     "output_type": "stream",
     "text": [
      "readfile paths for datasets used in this notebook are:\n",
      "\t../data/processed/crime-model-data-v1.csv\n",
      "\t../data/processed/property-assessment-features-2013-2019.csv\n",
      "\t../data/raw/shapefile/census-tracts/Census_2010_Tracts.shp\n",
      "\t../models/baseline\n"
     ]
    }
   ],
   "source": [
    "DATA_ROOT = '../data/'\n",
    "MODEL_ROOT = '../models'\n",
    "FIGURES_ROOT = '../figures/model-baseline'\n",
    "WRITEDIR_ROOT = '../models/baseline'\n",
    "\n",
    "READDIR_ROOT = os.path.join(DATA_ROOT, 'processed')\n",
    "SHAPEDIR_ROOT = os.path.join(DATA_ROOT, 'raw')\n",
    "FEATURES_ROOT = os.path.join(DATA_ROOT, 'processed')\n",
    "\n",
    "readfile_model = os.path.join(READDIR_ROOT, 'crime-model-data-v1.csv')\n",
    "\n",
    "readfile_zipshapes = os.path.join(SHAPEDIR_ROOT, 'shapefile/zipcodes/ZIP_Codes.shp')\n",
    "readfile_cityshape = os.path.join(SHAPEDIR_ROOT, 'shapefile/city-boundary/City_of_Boston_Boundary.shp')\n",
    "readfile_streetshapes = os.path.join(SHAPEDIR_ROOT, 'shapefile/street-segments/Boston_Street_Segments.shp')\n",
    "readfile_tractshapes = os.path.join(SHAPEDIR_ROOT, 'shapefile/census-tracts/Census_2010_Tracts.shp')\n",
    "readfile_hoodshapes = os.path.join(SHAPEDIR_ROOT, 'shapefile/boston-neighborhoods/Boston_Neighborhoods.shp')\n",
    "readfile_zonesubshapes = os.path.join(SHAPEDIR_ROOT, 'shapefile/zoning-subdistricts/Zoning_Subdistricts.shp')\n",
    "readfile_openshapes = os.path.join(SHAPEDIR_ROOT, 'shapefile/open-spaces/Open_Space.shp')\n",
    "\n",
    "readfile_feat_property = os.path.join(FEATURES_ROOT, 'property-assessment-features-2013-2019.csv')\n",
    "\n",
    "print(\n",
    "    'readfile paths for datasets used in this notebook are:\\n\\t{}\\n\\t{}\\n\\t{}\\n\\t{}'.format(\n",
    "        readfile_model, readfile_feat_property, readfile_tractshapes, WRITEDIR_ROOT\n",
    "    )\n",
    ")"
   ]
  },
  {
   "cell_type": "code",
   "execution_count": 8,
   "metadata": {},
   "outputs": [],
   "source": [
    "# mkdir for saving figures if it doesn't already exist\n",
    "if not os.path.exists(FIGURES_ROOT):\n",
    "    os.mkdir(FIGURES_ROOT)\n",
    "    \n",
    "# mkdir for saving figures if it doesn't already exist\n",
    "if not os.path.exists(WRITEDIR_ROOT):\n",
    "    os.mkdir(WRITEDIR_ROOT)"
   ]
  },
  {
   "cell_type": "code",
   "execution_count": null,
   "metadata": {},
   "outputs": [],
   "source": [
    "# read in required data and related shapefiles\n",
    "# df_crime = pd.read_csv(readfile_crime, dtype=str)\n",
    "# df_offense_mapkey = pd.read_csv(readfile_crime_match_key)\n",
    "# df_offense_mapkey_2 = pd.read_csv(readfile_crime_match_key_2)\n",
    "# df_sam = pd.read_csv(readfile_sam, dtype=str)\n",
    "# gdf_zips = gpd.read_file(readfile_zipshapes)\n",
    "# gdf_boston = gpd.read_file(readfile_cityshape)\n",
    "# gdf_streets = gpd.read_file(readfile_streetshapes)\n",
    "# gdf_tracts = gpd.read_file(readfile_tractshapes)\n",
    "# gdf_hoods = gpd.read_file(readfile_hoodshapes)\n",
    "# gdf_zonesubs = gpd.read_file(readfile_zonesubshapes)\n",
    "# gdf_openspace = gpd.read_file(readfile_openshapes)\n",
    "\n",
    "# df_feat_prop = pd.read_csv(readfile_feat_property, dtype={'shape-id': str, 'fiscal-year': int})\n",
    "\n",
    "# # convert SAM data lat/lon values to floats\n",
    "# df_sam[['X', 'Y']] = df_sam[['X', 'Y']].astype(float)\n",
    "# # convert crime data lat/lon values to floats\n",
    "# df_crime[['Lat', 'Long']] = df_crime[['Lat', 'Long']].astype(float)"
   ]
  }
 ],
 "metadata": {
  "kernelspec": {
   "display_name": "Python 3",
   "language": "python",
   "name": "python3"
  },
  "language_info": {
   "codemirror_mode": {
    "name": "ipython",
    "version": 3
   },
   "file_extension": ".py",
   "mimetype": "text/x-python",
   "name": "python",
   "nbconvert_exporter": "python",
   "pygments_lexer": "ipython3",
   "version": "3.7.5"
  }
 },
 "nbformat": 4,
 "nbformat_minor": 2
}
