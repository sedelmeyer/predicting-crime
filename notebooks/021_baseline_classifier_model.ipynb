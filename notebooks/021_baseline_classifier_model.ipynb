{
 "cells": [
  {
   "cell_type": "markdown",
   "metadata": {},
   "source": [
    "# Notebook 021: Baseline Classifier Model\n",
    "\n",
    "This notebook contains a baseline crime-type classifier model using an initial set of property-related predictors"
   ]
  },
  {
   "cell_type": "code",
   "execution_count": 32,
   "metadata": {},
   "outputs": [],
   "source": [
    "import urllib\n",
    "import os\n",
    "import operator\n",
    "import pathlib\n",
    "import requests\n",
    "import pandas as pd\n",
    "import numpy as np\n",
    "import geopandas as gpd\n",
    "import matplotlib.pyplot as plt\n",
    "from shapely.geometry import Point\n",
    "\n",
    "from sklearn.linear_model import LogisticRegression\n",
    "from sklearn.linear_model import LogisticRegressionCV\n",
    "from sklearn.linear_model import LassoCV\n",
    "\n",
    "from sklearn.preprocessing import StandardScaler\n",
    "from sklearn.preprocessing import MinMaxScaler\n",
    "\n",
    "import statsmodels.api as sm\n",
    "\n",
    "from sklearn.model_selection import cross_val_score\n",
    "from sklearn.metrics import accuracy_score\n",
    "from sklearn.model_selection import KFold\n",
    "from sklearn.preprocessing import MinMaxScaler\n",
    "from sklearn.model_selection import train_test_split\n",
    "\n",
    "%matplotlib inline"
   ]
  },
  {
   "cell_type": "code",
   "execution_count": 2,
   "metadata": {},
   "outputs": [
    {
     "name": "stdout",
     "output_type": "stream",
     "text": [
      "readfile paths for datasets used in this notebook are:\n",
      "\t../data/processed/crime-model-data-v1.csv\n",
      "\t../data/processed/property-assessment-features-2013-2019.csv\n",
      "\t../data/raw/shapefile/census-tracts/Census_2010_Tracts.shp\n",
      "\t../models/baseline\n"
     ]
    }
   ],
   "source": [
    "DATA_ROOT = '../data/'\n",
    "MODEL_ROOT = '../models'\n",
    "FIGURES_ROOT = '../figures/model-baseline'\n",
    "WRITEDIR_ROOT = '../models/baseline'\n",
    "\n",
    "READDIR_ROOT = os.path.join(DATA_ROOT, 'processed')\n",
    "SHAPEDIR_ROOT = os.path.join(DATA_ROOT, 'raw')\n",
    "FEATURES_ROOT = os.path.join(DATA_ROOT, 'processed')\n",
    "\n",
    "readfile_model = os.path.join(READDIR_ROOT, 'crime-model-data-v1.csv')\n",
    "\n",
    "readfile_zipshapes = os.path.join(SHAPEDIR_ROOT, 'shapefile/zipcodes/ZIP_Codes.shp')\n",
    "readfile_cityshape = os.path.join(SHAPEDIR_ROOT, 'shapefile/city-boundary/City_of_Boston_Boundary.shp')\n",
    "readfile_streetshapes = os.path.join(SHAPEDIR_ROOT, 'shapefile/street-segments/Boston_Street_Segments.shp')\n",
    "readfile_tractshapes = os.path.join(SHAPEDIR_ROOT, 'shapefile/census-tracts/Census_2010_Tracts.shp')\n",
    "readfile_hoodshapes = os.path.join(SHAPEDIR_ROOT, 'shapefile/boston-neighborhoods/Boston_Neighborhoods.shp')\n",
    "readfile_zonesubshapes = os.path.join(SHAPEDIR_ROOT, 'shapefile/zoning-subdistricts/Zoning_Subdistricts.shp')\n",
    "readfile_openshapes = os.path.join(SHAPEDIR_ROOT, 'shapefile/open-spaces/Open_Space.shp')\n",
    "\n",
    "readfile_feat_property = os.path.join(FEATURES_ROOT, 'property-assessment-features-2013-2019.csv')\n",
    "\n",
    "print(\n",
    "    'readfile paths for datasets used in this notebook are:\\n\\t{}\\n\\t{}\\n\\t{}\\n\\t{}'.format(\n",
    "        readfile_model, readfile_feat_property, readfile_tractshapes, WRITEDIR_ROOT\n",
    "    )\n",
    ")"
   ]
  },
  {
   "cell_type": "code",
   "execution_count": 3,
   "metadata": {},
   "outputs": [],
   "source": [
    "# mkdir for saving figures if it doesn't already exist\n",
    "if not os.path.exists(FIGURES_ROOT):\n",
    "    os.mkdir(FIGURES_ROOT)\n",
    "    \n",
    "# mkdir for saving figures if it doesn't already exist\n",
    "if not os.path.exists(WRITEDIR_ROOT):\n",
    "    os.mkdir(WRITEDIR_ROOT)"
   ]
  },
  {
   "cell_type": "code",
   "execution_count": 4,
   "metadata": {},
   "outputs": [],
   "source": [
    "df = pd.read_csv(readfile_model)"
   ]
  },
  {
   "cell_type": "code",
   "execution_count": 5,
   "metadata": {},
   "outputs": [],
   "source": [
    "dropna_cols = [\n",
    "    'commercial-mix-ratio',\n",
    "    'industrial-mix-ratio',\n",
    "    'owner-occupied-ratio',\n",
    "    'residential-median-value',\n",
    "    'residential-gini-coef',\n",
    "    'industrial-mix-ratio-3yr-cagr',\n",
    "    'commercial-mix-ratio-3yr-cagr',\n",
    "    'owner-occupied-ratio-3yr-cagr',\n",
    "    'residential-median-value-3yr-cagr',\n",
    "    'residential-gini-coef-3yr-cagr',\n",
    "]"
   ]
  },
  {
   "cell_type": "code",
   "execution_count": 6,
   "metadata": {},
   "outputs": [],
   "source": [
    "df = df.dropna(subset=dropna_cols)"
   ]
  },
  {
   "cell_type": "code",
   "execution_count": 7,
   "metadata": {},
   "outputs": [
    {
     "name": "stdout",
     "output_type": "stream",
     "text": [
      "<class 'pandas.core.frame.DataFrame'>\n",
      "Int64Index: 149203 entries, 0 to 151071\n",
      "Data columns (total 29 columns):\n",
      "crime-type                           149203 non-null object\n",
      "INCIDENT_NUMBER                      149203 non-null object\n",
      "OFFENSE_DESCRIPTION                  149203 non-null object\n",
      "timestamp                            149203 non-null object\n",
      "lat                                  149203 non-null float64\n",
      "lon                                  149203 non-null float64\n",
      "year                                 149203 non-null int64\n",
      "month                                149203 non-null int64\n",
      "day-of-week                          149203 non-null object\n",
      "hour                                 149203 non-null int64\n",
      "ZIP5                                 149177 non-null float64\n",
      "ZIP5_area                            149177 non-null float64\n",
      "Name                                 149135 non-null object\n",
      "Neighborhood_area                    149135 non-null float64\n",
      "Neighborhood_area_2                  149135 non-null float64\n",
      "TRACTCE10                            149203 non-null int64\n",
      "TRACTCE10_area                       149203 non-null float64\n",
      "TRACTCE10_area_2                     149203 non-null float64\n",
      "tract-match-key                      149203 non-null int64\n",
      "commercial-mix-ratio                 149203 non-null float64\n",
      "industrial-mix-ratio                 149203 non-null float64\n",
      "owner-occupied-ratio                 149203 non-null float64\n",
      "residential-median-value             149203 non-null float64\n",
      "residential-gini-coef                149203 non-null float64\n",
      "industrial-mix-ratio-3yr-cagr        149203 non-null float64\n",
      "commercial-mix-ratio-3yr-cagr        149203 non-null float64\n",
      "owner-occupied-ratio-3yr-cagr        149203 non-null float64\n",
      "residential-median-value-3yr-cagr    149203 non-null float64\n",
      "residential-gini-coef-3yr-cagr       149203 non-null float64\n",
      "dtypes: float64(18), int64(5), object(6)\n",
      "memory usage: 34.1+ MB\n",
      "None\n"
     ]
    },
    {
     "data": {
      "text/html": [
       "<div>\n",
       "<style scoped>\n",
       "    .dataframe tbody tr th:only-of-type {\n",
       "        vertical-align: middle;\n",
       "    }\n",
       "\n",
       "    .dataframe tbody tr th {\n",
       "        vertical-align: top;\n",
       "    }\n",
       "\n",
       "    .dataframe thead th {\n",
       "        text-align: right;\n",
       "    }\n",
       "</style>\n",
       "<table border=\"1\" class=\"dataframe\">\n",
       "  <thead>\n",
       "    <tr style=\"text-align: right;\">\n",
       "      <th></th>\n",
       "      <th>crime-type</th>\n",
       "      <th>INCIDENT_NUMBER</th>\n",
       "      <th>OFFENSE_DESCRIPTION</th>\n",
       "      <th>timestamp</th>\n",
       "      <th>lat</th>\n",
       "      <th>lon</th>\n",
       "      <th>year</th>\n",
       "      <th>month</th>\n",
       "      <th>day-of-week</th>\n",
       "      <th>hour</th>\n",
       "      <th>...</th>\n",
       "      <th>commercial-mix-ratio</th>\n",
       "      <th>industrial-mix-ratio</th>\n",
       "      <th>owner-occupied-ratio</th>\n",
       "      <th>residential-median-value</th>\n",
       "      <th>residential-gini-coef</th>\n",
       "      <th>industrial-mix-ratio-3yr-cagr</th>\n",
       "      <th>commercial-mix-ratio-3yr-cagr</th>\n",
       "      <th>owner-occupied-ratio-3yr-cagr</th>\n",
       "      <th>residential-median-value-3yr-cagr</th>\n",
       "      <th>residential-gini-coef-3yr-cagr</th>\n",
       "    </tr>\n",
       "  </thead>\n",
       "  <tbody>\n",
       "    <tr>\n",
       "      <th>0</th>\n",
       "      <td>fraud</td>\n",
       "      <td>I192078177</td>\n",
       "      <td>forgery / counterfeiting</td>\n",
       "      <td>2019-08-01 17:46:00</td>\n",
       "      <td>42.304922</td>\n",
       "      <td>-71.102981</td>\n",
       "      <td>2019</td>\n",
       "      <td>8</td>\n",
       "      <td>Thursday</td>\n",
       "      <td>17</td>\n",
       "      <td>...</td>\n",
       "      <td>0.000000</td>\n",
       "      <td>0.000294</td>\n",
       "      <td>0.000000</td>\n",
       "      <td>756500.0</td>\n",
       "      <td>0.000000</td>\n",
       "      <td>-0.034814</td>\n",
       "      <td>0.000000</td>\n",
       "      <td>0.000000</td>\n",
       "      <td>0.024264</td>\n",
       "      <td>0.000000</td>\n",
       "    </tr>\n",
       "    <tr>\n",
       "      <th>1</th>\n",
       "      <td>harassment-disturbance</td>\n",
       "      <td>I192078061</td>\n",
       "      <td>harassment</td>\n",
       "      <td>2019-06-12 21:00:00</td>\n",
       "      <td>42.355553</td>\n",
       "      <td>-71.152747</td>\n",
       "      <td>2019</td>\n",
       "      <td>6</td>\n",
       "      <td>Wednesday</td>\n",
       "      <td>21</td>\n",
       "      <td>...</td>\n",
       "      <td>0.069416</td>\n",
       "      <td>0.000000</td>\n",
       "      <td>0.550355</td>\n",
       "      <td>745950.0</td>\n",
       "      <td>0.199606</td>\n",
       "      <td>0.000000</td>\n",
       "      <td>-0.010424</td>\n",
       "      <td>-0.028224</td>\n",
       "      <td>0.068142</td>\n",
       "      <td>0.011166</td>\n",
       "    </tr>\n",
       "    <tr>\n",
       "      <th>2</th>\n",
       "      <td>theft</td>\n",
       "      <td>I192078038</td>\n",
       "      <td>larceny theft of mv parts &amp; accessories</td>\n",
       "      <td>2019-03-10 08:00:00</td>\n",
       "      <td>42.345625</td>\n",
       "      <td>-71.041291</td>\n",
       "      <td>2019</td>\n",
       "      <td>3</td>\n",
       "      <td>Sunday</td>\n",
       "      <td>8</td>\n",
       "      <td>...</td>\n",
       "      <td>0.478130</td>\n",
       "      <td>0.000938</td>\n",
       "      <td>0.456287</td>\n",
       "      <td>538500.0</td>\n",
       "      <td>0.228793</td>\n",
       "      <td>-0.084828</td>\n",
       "      <td>0.010549</td>\n",
       "      <td>-0.014131</td>\n",
       "      <td>0.060340</td>\n",
       "      <td>0.018436</td>\n",
       "    </tr>\n",
       "    <tr>\n",
       "      <th>4</th>\n",
       "      <td>theft</td>\n",
       "      <td>I192077997</td>\n",
       "      <td>auto theft - leased/rented vehicle</td>\n",
       "      <td>2019-04-13 08:00:00</td>\n",
       "      <td>42.328564</td>\n",
       "      <td>-71.068353</td>\n",
       "      <td>2019</td>\n",
       "      <td>4</td>\n",
       "      <td>Saturday</td>\n",
       "      <td>8</td>\n",
       "      <td>...</td>\n",
       "      <td>0.375058</td>\n",
       "      <td>0.076862</td>\n",
       "      <td>0.460751</td>\n",
       "      <td>355500.0</td>\n",
       "      <td>0.172898</td>\n",
       "      <td>0.060168</td>\n",
       "      <td>-0.007779</td>\n",
       "      <td>-0.023444</td>\n",
       "      <td>0.082123</td>\n",
       "      <td>0.025972</td>\n",
       "    </tr>\n",
       "    <tr>\n",
       "      <th>5</th>\n",
       "      <td>theft</td>\n",
       "      <td>I192077992</td>\n",
       "      <td>auto theft - leased/rented vehicle</td>\n",
       "      <td>2019-07-16 08:00:00</td>\n",
       "      <td>42.328564</td>\n",
       "      <td>-71.068353</td>\n",
       "      <td>2019</td>\n",
       "      <td>7</td>\n",
       "      <td>Tuesday</td>\n",
       "      <td>8</td>\n",
       "      <td>...</td>\n",
       "      <td>0.375058</td>\n",
       "      <td>0.076862</td>\n",
       "      <td>0.460751</td>\n",
       "      <td>355500.0</td>\n",
       "      <td>0.172898</td>\n",
       "      <td>0.060168</td>\n",
       "      <td>-0.007779</td>\n",
       "      <td>-0.023444</td>\n",
       "      <td>0.082123</td>\n",
       "      <td>0.025972</td>\n",
       "    </tr>\n",
       "  </tbody>\n",
       "</table>\n",
       "<p>5 rows × 29 columns</p>\n",
       "</div>"
      ],
      "text/plain": [
       "               crime-type INCIDENT_NUMBER  \\\n",
       "0                   fraud      I192078177   \n",
       "1  harassment-disturbance      I192078061   \n",
       "2                   theft      I192078038   \n",
       "4                   theft      I192077997   \n",
       "5                   theft      I192077992   \n",
       "\n",
       "                       OFFENSE_DESCRIPTION            timestamp        lat  \\\n",
       "0                 forgery / counterfeiting  2019-08-01 17:46:00  42.304922   \n",
       "1                               harassment  2019-06-12 21:00:00  42.355553   \n",
       "2  larceny theft of mv parts & accessories  2019-03-10 08:00:00  42.345625   \n",
       "4       auto theft - leased/rented vehicle  2019-04-13 08:00:00  42.328564   \n",
       "5       auto theft - leased/rented vehicle  2019-07-16 08:00:00  42.328564   \n",
       "\n",
       "         lon  year  month day-of-week  hour  ...  commercial-mix-ratio  \\\n",
       "0 -71.102981  2019      8    Thursday    17  ...              0.000000   \n",
       "1 -71.152747  2019      6   Wednesday    21  ...              0.069416   \n",
       "2 -71.041291  2019      3      Sunday     8  ...              0.478130   \n",
       "4 -71.068353  2019      4    Saturday     8  ...              0.375058   \n",
       "5 -71.068353  2019      7     Tuesday     8  ...              0.375058   \n",
       "\n",
       "   industrial-mix-ratio owner-occupied-ratio  residential-median-value  \\\n",
       "0              0.000294             0.000000                  756500.0   \n",
       "1              0.000000             0.550355                  745950.0   \n",
       "2              0.000938             0.456287                  538500.0   \n",
       "4              0.076862             0.460751                  355500.0   \n",
       "5              0.076862             0.460751                  355500.0   \n",
       "\n",
       "   residential-gini-coef  industrial-mix-ratio-3yr-cagr  \\\n",
       "0               0.000000                      -0.034814   \n",
       "1               0.199606                       0.000000   \n",
       "2               0.228793                      -0.084828   \n",
       "4               0.172898                       0.060168   \n",
       "5               0.172898                       0.060168   \n",
       "\n",
       "   commercial-mix-ratio-3yr-cagr  owner-occupied-ratio-3yr-cagr  \\\n",
       "0                       0.000000                       0.000000   \n",
       "1                      -0.010424                      -0.028224   \n",
       "2                       0.010549                      -0.014131   \n",
       "4                      -0.007779                      -0.023444   \n",
       "5                      -0.007779                      -0.023444   \n",
       "\n",
       "   residential-median-value-3yr-cagr  residential-gini-coef-3yr-cagr  \n",
       "0                           0.024264                        0.000000  \n",
       "1                           0.068142                        0.011166  \n",
       "2                           0.060340                        0.018436  \n",
       "4                           0.082123                        0.025972  \n",
       "5                           0.082123                        0.025972  \n",
       "\n",
       "[5 rows x 29 columns]"
      ]
     },
     "execution_count": 7,
     "metadata": {},
     "output_type": "execute_result"
    }
   ],
   "source": [
    "print(df.info())\n",
    "df.head()"
   ]
  },
  {
   "cell_type": "markdown",
   "metadata": {},
   "source": [
    "## Preprocess observations model dataframe "
   ]
  },
  {
   "cell_type": "code",
   "execution_count": 8,
   "metadata": {},
   "outputs": [
    {
     "name": "stdout",
     "output_type": "stream",
     "text": [
      "Friday       22445\n",
      "Wednesday    21864\n",
      "Thursday     21671\n",
      "Saturday     21402\n",
      "Monday       21350\n",
      "Tuesday      21211\n",
      "Sunday       19260\n",
      "Name: day-of-week, dtype: int64\n",
      "\n",
      "1     13250\n",
      "2     11704\n",
      "3     12878\n",
      "4     13195\n",
      "5     14246\n",
      "6     14370\n",
      "7     14637\n",
      "8     14823\n",
      "9     10451\n",
      "10    10509\n",
      "11     9654\n",
      "12     9486\n",
      "Name: month, dtype: int64\n",
      "\n",
      "burglary                   6583\n",
      "drugs-substances          15134\n",
      "fraud                     11163\n",
      "harassment-disturbance    24084\n",
      "other                      7385\n",
      "robbery                    3949\n",
      "theft                     40204\n",
      "vandalism-property        15956\n",
      "violence-aggression       24745\n",
      "Name: crime-type, dtype: int64\n",
      "\n"
     ]
    }
   ],
   "source": [
    "print(df['day-of-week'].value_counts(dropna=False))\n",
    "print()\n",
    "print(df['month'].value_counts(dropna=False).sort_index())\n",
    "print()\n",
    "print(df['crime-type'].value_counts(dropna=False).sort_index())\n",
    "print()"
   ]
  },
  {
   "cell_type": "code",
   "execution_count": 9,
   "metadata": {},
   "outputs": [
    {
     "name": "stdout",
     "output_type": "stream",
     "text": [
      "Friday       22445\n",
      "Wednesday    21864\n",
      "Thursday     21671\n",
      "Saturday     21402\n",
      "Monday       21350\n",
      "Tuesday      21211\n",
      "Sunday       19260\n",
      "Name: day-of-week, dtype: int64\n",
      "\n",
      "Aug    14823\n",
      "Jul    14637\n",
      "Jun    14370\n",
      "May    14246\n",
      "Jan    13250\n",
      "Apr    13195\n",
      "Mar    12878\n",
      "Feb    11704\n",
      "Oct    10509\n",
      "Sep    10451\n",
      "Nov     9654\n",
      "Dec     9486\n",
      "Name: month, dtype: int64\n",
      "\n",
      "6    40204\n",
      "8    24745\n",
      "4    24084\n",
      "7    15956\n",
      "2    15134\n",
      "3    11163\n",
      "0     7385\n",
      "1     6583\n",
      "5     3949\n",
      "Name: crime-type, dtype: int64\n",
      "\n"
     ]
    }
   ],
   "source": [
    "weekdays_list = [\n",
    "    'Tuesday',\n",
    "    'Wednesday',\n",
    "    'Thursday',\n",
    "    'Friday',\n",
    "    'Saturday',\n",
    "    'Sunday',\n",
    "]\n",
    "\n",
    "months_dict = {\n",
    "    1: 'Jan',\n",
    "    2: 'Feb',\n",
    "    3: 'Mar',\n",
    "    4: 'Apr',\n",
    "    5: 'May',\n",
    "    6: 'Jun',\n",
    "    7: 'Jul',\n",
    "    8: 'Aug',\n",
    "    9: 'Sep',\n",
    "    10: 'Oct',\n",
    "    11: 'Nov',\n",
    "    12: 'Dec',\n",
    "}\n",
    "\n",
    "crime_type_dict = {\n",
    "    'other': 0,\n",
    "    'burglary': 1,\n",
    "    'drugs-substances': 2,\n",
    "    'fraud': 3,\n",
    "    'harassment-disturbance': 4,\n",
    "    'robbery': 5,\n",
    "    'theft': 6,\n",
    "    'vandalism-property': 7,\n",
    "    'violence-aggression': 8,\n",
    "}\n",
    "\n",
    "\n",
    "df['month'] = df['month'].copy().map(months_dict)\n",
    "df['crime-type'] = df['crime-type'].copy().map(crime_type_dict)\n",
    "\n",
    "print(df['day-of-week'].value_counts(dropna=False))\n",
    "print()\n",
    "print(df['month'].value_counts(dropna=False))\n",
    "print()\n",
    "print(df['crime-type'].value_counts(dropna=False))\n",
    "print()"
   ]
  },
  {
   "cell_type": "code",
   "execution_count": 10,
   "metadata": {},
   "outputs": [],
   "source": [
    "months_col_order = list(months_dict.values())[1:]"
   ]
  },
  {
   "cell_type": "code",
   "execution_count": 11,
   "metadata": {},
   "outputs": [],
   "source": [
    "# one-hot-encode categorical predictors\n",
    "weekday_dummies_df = pd.get_dummies(df['day-of-week']).drop(columns='Monday')[weekdays_list]\n",
    "month_dummies_df = pd.get_dummies(df['month']).drop(columns='Jan')[months_col_order]\n",
    "\n",
    "\n",
    "# append dummy columns to df\n",
    "df[weekdays_list] = weekday_dummies_df[weekdays_list]\n",
    "df[months_col_order] = month_dummies_df[months_col_order]"
   ]
  },
  {
   "cell_type": "code",
   "execution_count": 12,
   "metadata": {},
   "outputs": [],
   "source": [
    "df['night'] = ((df['hour'] <4) | (df['hour']>20)).values.astype(int)"
   ]
  },
  {
   "cell_type": "code",
   "execution_count": 13,
   "metadata": {},
   "outputs": [
    {
     "name": "stdout",
     "output_type": "stream",
     "text": [
      "0      8122\n",
      "1      4308\n",
      "2      3555\n",
      "3      2060\n",
      "4      1544\n",
      "5      1379\n",
      "6      1927\n",
      "7      3308\n",
      "8      5020\n",
      "9      5725\n",
      "10     6850\n",
      "11     7237\n",
      "12     8879\n",
      "13     7841\n",
      "14     8168\n",
      "15     8045\n",
      "16     9549\n",
      "17    10076\n",
      "18    10177\n",
      "19     8850\n",
      "20     7924\n",
      "21     6991\n",
      "22     6315\n",
      "23     5353\n",
      "Name: hour, dtype: int64\n",
      "\n",
      "0    112499\n",
      "1     36704\n",
      "Name: night, dtype: int64\n"
     ]
    }
   ],
   "source": [
    "print(df['hour'].value_counts().sort_index())\n",
    "print()\n",
    "print(df['night'].value_counts().sort_index())"
   ]
  },
  {
   "cell_type": "code",
   "execution_count": 14,
   "metadata": {},
   "outputs": [
    {
     "data": {
      "text/html": [
       "<div>\n",
       "<style scoped>\n",
       "    .dataframe tbody tr th:only-of-type {\n",
       "        vertical-align: middle;\n",
       "    }\n",
       "\n",
       "    .dataframe tbody tr th {\n",
       "        vertical-align: top;\n",
       "    }\n",
       "\n",
       "    .dataframe thead th {\n",
       "        text-align: right;\n",
       "    }\n",
       "</style>\n",
       "<table border=\"1\" class=\"dataframe\">\n",
       "  <thead>\n",
       "    <tr style=\"text-align: right;\">\n",
       "      <th></th>\n",
       "      <th>crime-type</th>\n",
       "      <th>INCIDENT_NUMBER</th>\n",
       "      <th>OFFENSE_DESCRIPTION</th>\n",
       "      <th>timestamp</th>\n",
       "      <th>lat</th>\n",
       "      <th>lon</th>\n",
       "      <th>year</th>\n",
       "      <th>month</th>\n",
       "      <th>day-of-week</th>\n",
       "      <th>hour</th>\n",
       "      <th>...</th>\n",
       "      <th>Apr</th>\n",
       "      <th>May</th>\n",
       "      <th>Jun</th>\n",
       "      <th>Jul</th>\n",
       "      <th>Aug</th>\n",
       "      <th>Sep</th>\n",
       "      <th>Oct</th>\n",
       "      <th>Nov</th>\n",
       "      <th>Dec</th>\n",
       "      <th>night</th>\n",
       "    </tr>\n",
       "  </thead>\n",
       "  <tbody>\n",
       "    <tr>\n",
       "      <th>0</th>\n",
       "      <td>3</td>\n",
       "      <td>I192078177</td>\n",
       "      <td>forgery / counterfeiting</td>\n",
       "      <td>2019-08-01 17:46:00</td>\n",
       "      <td>42.304922</td>\n",
       "      <td>-71.102981</td>\n",
       "      <td>2019</td>\n",
       "      <td>Aug</td>\n",
       "      <td>Thursday</td>\n",
       "      <td>17</td>\n",
       "      <td>...</td>\n",
       "      <td>0</td>\n",
       "      <td>0</td>\n",
       "      <td>0</td>\n",
       "      <td>0</td>\n",
       "      <td>1</td>\n",
       "      <td>0</td>\n",
       "      <td>0</td>\n",
       "      <td>0</td>\n",
       "      <td>0</td>\n",
       "      <td>0</td>\n",
       "    </tr>\n",
       "    <tr>\n",
       "      <th>1</th>\n",
       "      <td>4</td>\n",
       "      <td>I192078061</td>\n",
       "      <td>harassment</td>\n",
       "      <td>2019-06-12 21:00:00</td>\n",
       "      <td>42.355553</td>\n",
       "      <td>-71.152747</td>\n",
       "      <td>2019</td>\n",
       "      <td>Jun</td>\n",
       "      <td>Wednesday</td>\n",
       "      <td>21</td>\n",
       "      <td>...</td>\n",
       "      <td>0</td>\n",
       "      <td>0</td>\n",
       "      <td>1</td>\n",
       "      <td>0</td>\n",
       "      <td>0</td>\n",
       "      <td>0</td>\n",
       "      <td>0</td>\n",
       "      <td>0</td>\n",
       "      <td>0</td>\n",
       "      <td>1</td>\n",
       "    </tr>\n",
       "    <tr>\n",
       "      <th>2</th>\n",
       "      <td>6</td>\n",
       "      <td>I192078038</td>\n",
       "      <td>larceny theft of mv parts &amp; accessories</td>\n",
       "      <td>2019-03-10 08:00:00</td>\n",
       "      <td>42.345625</td>\n",
       "      <td>-71.041291</td>\n",
       "      <td>2019</td>\n",
       "      <td>Mar</td>\n",
       "      <td>Sunday</td>\n",
       "      <td>8</td>\n",
       "      <td>...</td>\n",
       "      <td>0</td>\n",
       "      <td>0</td>\n",
       "      <td>0</td>\n",
       "      <td>0</td>\n",
       "      <td>0</td>\n",
       "      <td>0</td>\n",
       "      <td>0</td>\n",
       "      <td>0</td>\n",
       "      <td>0</td>\n",
       "      <td>0</td>\n",
       "    </tr>\n",
       "    <tr>\n",
       "      <th>4</th>\n",
       "      <td>6</td>\n",
       "      <td>I192077997</td>\n",
       "      <td>auto theft - leased/rented vehicle</td>\n",
       "      <td>2019-04-13 08:00:00</td>\n",
       "      <td>42.328564</td>\n",
       "      <td>-71.068353</td>\n",
       "      <td>2019</td>\n",
       "      <td>Apr</td>\n",
       "      <td>Saturday</td>\n",
       "      <td>8</td>\n",
       "      <td>...</td>\n",
       "      <td>1</td>\n",
       "      <td>0</td>\n",
       "      <td>0</td>\n",
       "      <td>0</td>\n",
       "      <td>0</td>\n",
       "      <td>0</td>\n",
       "      <td>0</td>\n",
       "      <td>0</td>\n",
       "      <td>0</td>\n",
       "      <td>0</td>\n",
       "    </tr>\n",
       "    <tr>\n",
       "      <th>5</th>\n",
       "      <td>6</td>\n",
       "      <td>I192077992</td>\n",
       "      <td>auto theft - leased/rented vehicle</td>\n",
       "      <td>2019-07-16 08:00:00</td>\n",
       "      <td>42.328564</td>\n",
       "      <td>-71.068353</td>\n",
       "      <td>2019</td>\n",
       "      <td>Jul</td>\n",
       "      <td>Tuesday</td>\n",
       "      <td>8</td>\n",
       "      <td>...</td>\n",
       "      <td>0</td>\n",
       "      <td>0</td>\n",
       "      <td>0</td>\n",
       "      <td>1</td>\n",
       "      <td>0</td>\n",
       "      <td>0</td>\n",
       "      <td>0</td>\n",
       "      <td>0</td>\n",
       "      <td>0</td>\n",
       "      <td>0</td>\n",
       "    </tr>\n",
       "  </tbody>\n",
       "</table>\n",
       "<p>5 rows × 47 columns</p>\n",
       "</div>"
      ],
      "text/plain": [
       "   crime-type INCIDENT_NUMBER                      OFFENSE_DESCRIPTION  \\\n",
       "0           3      I192078177                 forgery / counterfeiting   \n",
       "1           4      I192078061                               harassment   \n",
       "2           6      I192078038  larceny theft of mv parts & accessories   \n",
       "4           6      I192077997       auto theft - leased/rented vehicle   \n",
       "5           6      I192077992       auto theft - leased/rented vehicle   \n",
       "\n",
       "             timestamp        lat        lon  year month day-of-week  hour  \\\n",
       "0  2019-08-01 17:46:00  42.304922 -71.102981  2019   Aug    Thursday    17   \n",
       "1  2019-06-12 21:00:00  42.355553 -71.152747  2019   Jun   Wednesday    21   \n",
       "2  2019-03-10 08:00:00  42.345625 -71.041291  2019   Mar      Sunday     8   \n",
       "4  2019-04-13 08:00:00  42.328564 -71.068353  2019   Apr    Saturday     8   \n",
       "5  2019-07-16 08:00:00  42.328564 -71.068353  2019   Jul     Tuesday     8   \n",
       "\n",
       "   ...  Apr  May Jun  Jul  Aug  Sep  Oct  Nov  Dec  night  \n",
       "0  ...    0    0   0    0    1    0    0    0    0      0  \n",
       "1  ...    0    0   1    0    0    0    0    0    0      1  \n",
       "2  ...    0    0   0    0    0    0    0    0    0      0  \n",
       "4  ...    1    0   0    0    0    0    0    0    0      0  \n",
       "5  ...    0    0   0    1    0    0    0    0    0      0  \n",
       "\n",
       "[5 rows x 47 columns]"
      ]
     },
     "execution_count": 14,
     "metadata": {},
     "output_type": "execute_result"
    }
   ],
   "source": [
    "df.head()"
   ]
  },
  {
   "cell_type": "markdown",
   "metadata": {},
   "source": [
    "## Execute train-test-split"
   ]
  },
  {
   "cell_type": "code",
   "execution_count": 15,
   "metadata": {},
   "outputs": [
    {
     "name": "stdout",
     "output_type": "stream",
     "text": [
      "(119362, 46)\n",
      "(29841, 46)\n",
      "(119362,)\n",
      "(29841,)\n"
     ]
    }
   ],
   "source": [
    "np.random.seed(10)\n",
    "\n",
    "X_train_labels, X_test_labels, y_train, y_test = train_test_split(\n",
    "    df.loc[:, df.columns != 'crime-type'], \n",
    "    df['crime-type'],\n",
    "    test_size=0.2,\n",
    "    random_state = 109, \n",
    "    stratify = df['crime-type']\n",
    ")\n",
    "\n",
    "print(X_train_labels.shape)\n",
    "print(X_test_labels.shape)\n",
    "print(y_train.shape)\n",
    "print(y_test.shape)"
   ]
  },
  {
   "cell_type": "code",
   "execution_count": 16,
   "metadata": {},
   "outputs": [],
   "source": [
    "# specify label columns to drop before running model\n",
    "drop_cols = [\n",
    "    'INCIDENT_NUMBER',\n",
    "    'OFFENSE_DESCRIPTION',\n",
    "    'timestamp',\n",
    "    'lat',\n",
    "    'lon',\n",
    "    'year',\n",
    "    'hour',\n",
    "    'month',\n",
    "    'day-of-week',\n",
    "    'ZIP5',\n",
    "    'ZIP5_area',\n",
    "    'Name',\n",
    "    'Neighborhood_area',\n",
    "    'Neighborhood_area_2',\n",
    "    'TRACTCE10',\n",
    "    'TRACTCE10_area',\n",
    "    'TRACTCE10_area_2',\n",
    "    'tract-match-key',\n",
    "]"
   ]
  },
  {
   "cell_type": "code",
   "execution_count": 17,
   "metadata": {},
   "outputs": [
    {
     "name": "stdout",
     "output_type": "stream",
     "text": [
      "(119362, 28)\n",
      "(29841, 28)\n",
      "(119362,)\n",
      "(29841,)\n"
     ]
    }
   ],
   "source": [
    "X_train = X_train_labels.drop(columns=drop_cols)\n",
    "X_test = X_test_labels.drop(columns=drop_cols)\n",
    "\n",
    "print(X_train.shape)\n",
    "print(X_test.shape)\n",
    "print(y_train.shape)\n",
    "print(y_test.shape)"
   ]
  },
  {
   "cell_type": "code",
   "execution_count": 18,
   "metadata": {},
   "outputs": [
    {
     "name": "stdout",
     "output_type": "stream",
     "text": [
      "<class 'pandas.core.frame.DataFrame'>\n",
      "Int64Index: 119362 entries, 131812 to 94612\n",
      "Data columns (total 28 columns):\n",
      "commercial-mix-ratio                 119362 non-null float64\n",
      "industrial-mix-ratio                 119362 non-null float64\n",
      "owner-occupied-ratio                 119362 non-null float64\n",
      "residential-median-value             119362 non-null float64\n",
      "residential-gini-coef                119362 non-null float64\n",
      "industrial-mix-ratio-3yr-cagr        119362 non-null float64\n",
      "commercial-mix-ratio-3yr-cagr        119362 non-null float64\n",
      "owner-occupied-ratio-3yr-cagr        119362 non-null float64\n",
      "residential-median-value-3yr-cagr    119362 non-null float64\n",
      "residential-gini-coef-3yr-cagr       119362 non-null float64\n",
      "Tuesday                              119362 non-null uint8\n",
      "Wednesday                            119362 non-null uint8\n",
      "Thursday                             119362 non-null uint8\n",
      "Friday                               119362 non-null uint8\n",
      "Saturday                             119362 non-null uint8\n",
      "Sunday                               119362 non-null uint8\n",
      "Feb                                  119362 non-null uint8\n",
      "Mar                                  119362 non-null uint8\n",
      "Apr                                  119362 non-null uint8\n",
      "May                                  119362 non-null uint8\n",
      "Jun                                  119362 non-null uint8\n",
      "Jul                                  119362 non-null uint8\n",
      "Aug                                  119362 non-null uint8\n",
      "Sep                                  119362 non-null uint8\n",
      "Oct                                  119362 non-null uint8\n",
      "Nov                                  119362 non-null uint8\n",
      "Dec                                  119362 non-null uint8\n",
      "night                                119362 non-null int64\n",
      "dtypes: float64(10), int64(1), uint8(17)\n",
      "memory usage: 12.9 MB\n"
     ]
    }
   ],
   "source": [
    "X_train.info()"
   ]
  },
  {
   "cell_type": "code",
   "execution_count": 19,
   "metadata": {},
   "outputs": [
    {
     "name": "stdout",
     "output_type": "stream",
     "text": [
      "CPU times: user 5.18 s, sys: 112 ms, total: 5.29 s\n",
      "Wall time: 1.33 s\n"
     ]
    }
   ],
   "source": [
    "%%time\n",
    "\n",
    "solver = 'lbfgs'\n",
    "C = 100000\n",
    "max_iter = 1000\n",
    "\n",
    "# fit OVR model without polynomial features\n",
    "multi_class='ovr'\n",
    "\n",
    "OVRLogModel = LogisticRegression(\n",
    "    C=C,\n",
    "    solver=solver,\n",
    "    max_iter=max_iter,\n",
    "    multi_class=multi_class,\n",
    "    random_state=20\n",
    ").fit(X_train, y_train)\n",
    "\n",
    "# # fit a model again as multinomial for comparison of results\n",
    "# multi_class='multinomial'\n",
    "\n",
    "# MNLogModel = LogisticRegression(\n",
    "#     C=C,\n",
    "#     solver=solver,\n",
    "#     max_iter=max_iter,\n",
    "#     multi_class=multi_class,\n",
    "#     random_state=20\n",
    "# ).fit(X_train, y_train)"
   ]
  },
  {
   "cell_type": "code",
   "execution_count": 20,
   "metadata": {},
   "outputs": [
    {
     "data": {
      "text/plain": [
       "LogisticRegression(C=100000, class_weight=None, dual=False, fit_intercept=True,\n",
       "                   intercept_scaling=1, l1_ratio=None, max_iter=1000,\n",
       "                   multi_class='ovr', n_jobs=None, penalty='l2',\n",
       "                   random_state=20, solver='lbfgs', tol=0.0001, verbose=0,\n",
       "                   warm_start=False)"
      ]
     },
     "execution_count": 20,
     "metadata": {},
     "output_type": "execute_result"
    }
   ],
   "source": [
    "OVRLogModel"
   ]
  },
  {
   "cell_type": "code",
   "execution_count": 21,
   "metadata": {},
   "outputs": [
    {
     "data": {
      "text/plain": [
       "0.26946147917295"
      ]
     },
     "execution_count": 21,
     "metadata": {},
     "output_type": "execute_result"
    }
   ],
   "source": [
    "OVRLogModel.score(X_test, y_test)"
   ]
  },
  {
   "cell_type": "code",
   "execution_count": 22,
   "metadata": {},
   "outputs": [
    {
     "name": "stdout",
     "output_type": "stream",
     "text": [
      "CPU times: user 3.32 s, sys: 43.3 ms, total: 3.36 s\n",
      "Wall time: 843 ms\n"
     ]
    }
   ],
   "source": [
    "%%time\n",
    "\n",
    "# fit a model again as multinomial for comparison of results\n",
    "multi_class='multinomial'\n",
    "\n",
    "MNLogModel = LogisticRegression(\n",
    "    C=C,\n",
    "    solver=solver,\n",
    "    max_iter=max_iter,\n",
    "    multi_class=multi_class,\n",
    "    random_state=20\n",
    ").fit(X_train, y_train)"
   ]
  },
  {
   "cell_type": "code",
   "execution_count": 23,
   "metadata": {},
   "outputs": [
    {
     "data": {
      "text/plain": [
       "LogisticRegression(C=100000, class_weight=None, dual=False, fit_intercept=True,\n",
       "                   intercept_scaling=1, l1_ratio=None, max_iter=1000,\n",
       "                   multi_class='multinomial', n_jobs=None, penalty='l2',\n",
       "                   random_state=20, solver='lbfgs', tol=0.0001, verbose=0,\n",
       "                   warm_start=False)"
      ]
     },
     "execution_count": 23,
     "metadata": {},
     "output_type": "execute_result"
    }
   ],
   "source": [
    "MNLogModel"
   ]
  },
  {
   "cell_type": "code",
   "execution_count": 24,
   "metadata": {},
   "outputs": [
    {
     "data": {
      "text/plain": [
       "0.26946147917295"
      ]
     },
     "execution_count": 24,
     "metadata": {},
     "output_type": "execute_result"
    }
   ],
   "source": [
    "MNLogModel.score(X_test, y_test)"
   ]
  },
  {
   "cell_type": "code",
   "execution_count": 25,
   "metadata": {},
   "outputs": [],
   "source": [
    "def standardize_features(train_df, val_df, exclude_scale_cols):\n",
    "    \"\"\"\n",
    "    Scales val_df features based on train_df mean and std for each feature\n",
    "    and returns the scaled dataframe. To specify features not to scale,\n",
    "    use the exclude_scale_cols parameter\n",
    "    \n",
    "    :param train_df: The training data\n",
    "    :param val_df: Your test/validation data\n",
    "    :param exclude_scale_cols: Optional list containing names of columns we\n",
    "                               do not wish to scale\n",
    "    :return: a feature-scaled version of the val_df dataframe\n",
    "    \"\"\"\n",
    "    # create list of non-binary column names for scaling\n",
    "    scaled_columns = train_df.columns.difference(exclude_scale_cols)\n",
    "    \n",
    "    # create StandardScaler instance fitted on non-binary train data\n",
    "    Scaler = StandardScaler().fit(\n",
    "        train_df[scaled_columns]\n",
    "    )\n",
    "    \n",
    "    # scale val_df and convert to dataframe with column names\n",
    "    scaled_df = pd.DataFrame(\n",
    "        Scaler.transform(val_df[scaled_columns]),\n",
    "        columns=scaled_columns,\n",
    "    )\n",
    "    \n",
    "    # return full dataframe containing scaled_df merged with\n",
    "    # original unscaled binary columns\n",
    "    return pd.concat(\n",
    "        [\n",
    "            val_df.drop(scaled_columns, axis=1).reset_index(drop=True),\n",
    "            scaled_df\n",
    "        ],\n",
    "        axis=1,\n",
    "    )"
   ]
  },
  {
   "cell_type": "code",
   "execution_count": 28,
   "metadata": {},
   "outputs": [],
   "source": [
    "binary_cols = [\n",
    "    *weekdays_list,\n",
    "    *months_col_order,\n",
    "    'night'\n",
    "]\n",
    "\n",
    "X_train_scaled = standardize_features(\n",
    "    X_train, X_train,\n",
    "    exclude_scale_cols=binary_cols)\n",
    "\n",
    "X_test_scaled = standardize_features(\n",
    "    X_train, X_test,\n",
    "    exclude_scale_cols=binary_cols)"
   ]
  },
  {
   "cell_type": "code",
   "execution_count": 31,
   "metadata": {},
   "outputs": [
    {
     "name": "stdout",
     "output_type": "stream",
     "text": [
      "LogisticRegression(C=100000, class_weight=None, dual=False, fit_intercept=True,\n",
      "                   intercept_scaling=1, l1_ratio=None, max_iter=1000,\n",
      "                   multi_class='ovr', n_jobs=None, penalty='l2',\n",
      "                   random_state=20, solver='lbfgs', tol=0.0001, verbose=0,\n",
      "                   warm_start=False)\n",
      "\n",
      "0.2725444857746054\n",
      "CPU times: user 13.6 s, sys: 184 ms, total: 13.8 s\n",
      "Wall time: 3.46 s\n"
     ]
    }
   ],
   "source": [
    "%%time\n",
    "\n",
    "solver = 'lbfgs'\n",
    "C = 100000\n",
    "max_iter = 1000\n",
    "\n",
    "# fit OVR model without polynomial features\n",
    "multi_class='ovr'\n",
    "\n",
    "ScaledOVRLogModel = LogisticRegression(\n",
    "    C=C,\n",
    "    solver=solver,\n",
    "    max_iter=max_iter,\n",
    "    multi_class=multi_class,\n",
    "    random_state=20\n",
    ").fit(X_train_scaled, y_train)\n",
    "\n",
    "print(ScaledOVRLogModel)\n",
    "print()\n",
    "print(\n",
    "    ScaledOVRLogModel.score(X_test_scaled, y_test)\n",
    ")"
   ]
  },
  {
   "cell_type": "code",
   "execution_count": 33,
   "metadata": {},
   "outputs": [],
   "source": [
    "# Normalize the values contained in X_train and X_test\n",
    "scaler_fit = MinMaxScaler([0,1]).fit(X_train)\n",
    "\n",
    "X_train_norm = pd.DataFrame(scaler_fit.transform(X_train), columns=list(X_train.columns))\n",
    "X_test_norm = pd.DataFrame(scaler_fit.transform(X_test), columns=list(X_test.columns))"
   ]
  },
  {
   "cell_type": "code",
   "execution_count": 34,
   "metadata": {
    "scrolled": true
   },
   "outputs": [
    {
     "name": "stdout",
     "output_type": "stream",
     "text": [
      "LogisticRegression(C=100000, class_weight=None, dual=False, fit_intercept=True,\n",
      "                   intercept_scaling=1, l1_ratio=None, max_iter=1000,\n",
      "                   multi_class='ovr', n_jobs=None, penalty='l2',\n",
      "                   random_state=20, solver='lbfgs', tol=0.0001, verbose=0,\n",
      "                   warm_start=False)\n",
      "\n",
      "0.2725444857746054\n",
      "CPU times: user 33.2 s, sys: 379 ms, total: 33.6 s\n",
      "Wall time: 8.45 s\n"
     ]
    }
   ],
   "source": [
    "%%time\n",
    "\n",
    "solver = 'lbfgs'\n",
    "C = 100000\n",
    "max_iter = 1000\n",
    "\n",
    "# fit OVR model without polynomial features\n",
    "multi_class='ovr'\n",
    "\n",
    "NormOVRLogModel = LogisticRegression(\n",
    "    C=C,\n",
    "    solver=solver,\n",
    "    max_iter=max_iter,\n",
    "    multi_class=multi_class,\n",
    "    random_state=20\n",
    ").fit(X_train_norm, y_train)\n",
    "\n",
    "print(NormOVRLogModel)\n",
    "print()\n",
    "print(\n",
    "    NormOVRLogModel.score(X_test_norm, y_test)\n",
    ")"
   ]
  },
  {
   "cell_type": "code",
   "execution_count": 35,
   "metadata": {},
   "outputs": [
    {
     "name": "stdout",
     "output_type": "stream",
     "text": [
      "CPU times: user 6.96 s, sys: 20.1 ms, total: 6.98 s\n",
      "Wall time: 6.38 s\n"
     ]
    }
   ],
   "source": [
    "%%time\n",
    "\n",
    "solver = 'liblinear'\n",
    "C = 1\n",
    "max_iter = 10000\n",
    "penalty = 'l1'\n",
    "\n",
    "# fit OVR model without L1 regularization\n",
    "multi_class='ovr'\n",
    "\n",
    "LassoScaledOVRLogModel = LogisticRegression(\n",
    "    C=C,\n",
    "    solver=solver,\n",
    "    max_iter=max_iter,\n",
    "    multi_class=multi_class,\n",
    "    random_state=20,\n",
    "    penalty=penalty\n",
    ").fit(X_train_scaled, y_train)"
   ]
  },
  {
   "cell_type": "code",
   "execution_count": 36,
   "metadata": {},
   "outputs": [
    {
     "data": {
      "text/plain": [
       "LogisticRegression(C=1, class_weight=None, dual=False, fit_intercept=True,\n",
       "                   intercept_scaling=1, l1_ratio=None, max_iter=10000,\n",
       "                   multi_class='ovr', n_jobs=None, penalty='l1',\n",
       "                   random_state=20, solver='liblinear', tol=0.0001, verbose=0,\n",
       "                   warm_start=False)"
      ]
     },
     "execution_count": 36,
     "metadata": {},
     "output_type": "execute_result"
    }
   ],
   "source": [
    "LassoScaledOVRLogModel"
   ]
  },
  {
   "cell_type": "code",
   "execution_count": 37,
   "metadata": {},
   "outputs": [
    {
     "data": {
      "text/plain": [
       "0.27257799671592775"
      ]
     },
     "execution_count": 37,
     "metadata": {},
     "output_type": "execute_result"
    }
   ],
   "source": [
    "LassoScaledOVRLogModel.score(X_test_scaled, y_test)"
   ]
  },
  {
   "cell_type": "code",
   "execution_count": 38,
   "metadata": {},
   "outputs": [
    {
     "data": {
      "text/plain": [
       "array([[-5.71533410e-02,  1.29521051e-01,  2.01398100e-01,\n",
       "         1.63485492e-01,  1.68726982e-01,  6.43088766e-02,\n",
       "         1.38074711e-01,  2.19824976e-01,  1.37258424e-01,\n",
       "        -1.49169207e-03, -1.20432383e-02,  4.74923532e-02,\n",
       "        -7.85223214e-02,  1.19224123e-02,  4.04188888e-02,\n",
       "        -1.13628520e-01, -1.18608392e-01,  6.82036922e-01,\n",
       "         1.96687853e-02, -2.67704684e-02, -9.99710754e-03,\n",
       "        -2.19832770e-02,  2.41560722e-03,  5.03031102e-03,\n",
       "         4.09759536e-02,  5.36620972e-03, -6.35182727e-02,\n",
       "        -1.73046569e-02],\n",
       "       [-8.61319880e-02, -4.55801364e-02, -1.19811106e-01,\n",
       "         1.96380431e-02, -1.46078083e-01, -1.63880484e-01,\n",
       "        -1.96026815e-02, -9.28340420e-02, -1.04679097e-01,\n",
       "        -4.15742338e-02, -2.68463638e-02, -6.51325034e-02,\n",
       "        -1.01453063e-01,  5.05181960e-02,  0.00000000e+00,\n",
       "        -6.48272900e-02,  0.00000000e+00, -3.66089963e-03,\n",
       "         4.33481430e-02, -7.84866771e-03,  9.67676038e-03,\n",
       "        -1.45548581e-02,  5.47982211e-03, -1.75270652e-02,\n",
       "         3.04910033e-02,  1.20347648e-03, -5.80530294e-02,\n",
       "         6.60273962e-02],\n",
       "       [ 2.56898176e-02,  1.17719594e-01,  1.45176529e-01,\n",
       "         5.98913928e-02, -1.53948830e-01, -5.98145921e-01,\n",
       "         9.30349541e-02,  2.10758445e-01,  3.02349547e-02,\n",
       "         4.64581297e-02,  2.71599794e-02, -8.34658525e-02,\n",
       "        -1.44160594e-01, -9.66670831e-02, -2.03541853e-01,\n",
       "        -9.33589466e-02, -2.96476719e-01, -8.73377316e-01,\n",
       "         1.39308471e-02,  4.07658827e-03,  2.68550962e-02,\n",
       "        -8.03574956e-03, -9.14220594e-03, -1.28015962e-02,\n",
       "         9.35581583e-03,  3.76973158e-03,  7.56712879e-03,\n",
       "        -2.09143224e-02],\n",
       "       [-4.83233555e-02, -4.33325819e-02, -1.12795173e-01,\n",
       "        -3.30265771e-02, -3.96224336e-01, -6.23333884e-01,\n",
       "         1.18092259e-01,  1.36254764e-02,  0.00000000e+00,\n",
       "        -2.94779882e-02, -9.97221813e-02, -3.29792957e-02,\n",
       "        -6.42437019e-02,  3.38165622e-02, -7.09328662e-02,\n",
       "        -1.42176627e-02,  9.17681460e-03, -2.97397947e-01,\n",
       "         1.34976415e-02,  2.24044125e-02, -4.58829789e-03,\n",
       "        -7.05313914e-03,  2.80525214e-02, -2.17848631e-02,\n",
       "         1.40067227e-02, -4.29271901e-03, -2.77471881e-02,\n",
       "        -3.78292352e-03],\n",
       "       [-4.36486339e-02, -5.81708587e-02, -4.71936857e-02,\n",
       "        -1.21296322e-01, -6.89385384e-02,  6.00293209e-02,\n",
       "        -2.46672210e-02, -6.86313472e-02, -1.72334004e-02,\n",
       "        -4.61893402e-02, -5.45323115e-02, -2.27774374e-02,\n",
       "        -6.24028010e-03,  2.26579369e-02, -2.57547027e-02,\n",
       "        -6.50368523e-02, -1.25069468e-02,  9.14864712e-02,\n",
       "        -6.77975439e-03, -1.74756265e-02, -3.57718661e-03,\n",
       "         9.02120366e-03,  6.96408406e-03, -4.71988004e-03,\n",
       "        -1.40611028e-02,  3.04920348e-03,  1.97375619e-02,\n",
       "         3.78412676e-03],\n",
       "       [ 1.34304419e-01,  3.11453043e-02,  1.10531432e-01,\n",
       "        -4.18749535e-02, -1.32278302e-02,  1.43929456e-01,\n",
       "        -1.31804292e-01, -1.86447595e-01, -1.91016986e-01,\n",
       "        -1.20384661e-01, -1.41275497e-01, -1.27992832e-01,\n",
       "        -2.28449141e-01, -5.62180680e-03,  1.16741259e-02,\n",
       "        -9.14159783e-03,  1.90601641e-01,  7.67640652e-01,\n",
       "         3.32975289e-02,  7.73824864e-03, -1.34396667e-03,\n",
       "         3.09465818e-02,  1.25580176e-02,  2.85148619e-02,\n",
       "         2.69985626e-02,  5.78958752e-03, -2.84767663e-02,\n",
       "         5.36552695e-02],\n",
       "       [ 3.06899166e-02, -2.92180527e-02, -4.76170991e-03,\n",
       "         2.21806514e-02,  5.21272560e-02,  4.96203700e-02,\n",
       "        -1.12368007e-01, -1.17883586e-01, -7.80054745e-02,\n",
       "        -6.31916131e-02,  1.54454290e-02,  4.69828029e-02,\n",
       "         8.03538828e-02,  3.71246944e-02,  5.20341849e-02,\n",
       "         7.42005913e-02,  7.70378816e-02, -3.85252387e-01,\n",
       "        -2.18025688e-03,  4.67015658e-03, -1.31104979e-03,\n",
       "         6.64114231e-04, -3.97508330e-03,  8.88193742e-03,\n",
       "         1.49351497e-02, -4.30161080e-03, -2.97378387e-05,\n",
       "        -1.27389781e-03],\n",
       "       [-3.23395594e-02, -3.66993538e-02, -9.71122087e-02,\n",
       "        -3.16452660e-02,  1.02001947e-01,  1.93361764e-01,\n",
       "         3.59376106e-02,  3.70164489e-02,  4.96888018e-02,\n",
       "        -2.05080983e-02, -6.70316562e-02, -4.42566105e-02,\n",
       "         1.19662832e-01, -4.50212793e-02,  2.10504666e-02,\n",
       "         4.57331139e-02, -4.74821676e-02,  1.93855750e-01,\n",
       "         2.30831068e-03,  9.94748349e-03, -7.63281672e-03,\n",
       "         1.65505751e-02, -2.01341191e-02,  1.92263397e-03,\n",
       "        -1.19396684e-02, -5.12157106e-03, -2.90417150e-02,\n",
       "         6.38108003e-05],\n",
       "       [ 4.59068085e-02,  2.60355296e-02,  2.09454924e-02,\n",
       "         2.81984739e-02,  1.90317525e-01,  2.80475858e-01,\n",
       "         8.35671995e-03,  2.33418911e-02,  8.82717812e-02,\n",
       "         1.67414511e-01,  1.45676848e-01,  8.78540799e-02,\n",
       "         2.76003927e-02, -2.35804859e-02,  7.48220399e-02,\n",
       "         5.20584928e-02,  9.91841463e-02,  4.22850415e-01,\n",
       "        -3.36545500e-02,  0.00000000e+00, -5.02143741e-03,\n",
       "        -5.65478947e-03,  5.43604811e-04,  1.29348356e-02,\n",
       "        -3.78105790e-02,  2.60283316e-03,  5.18574025e-02,\n",
       "        -9.79070243e-03]])"
      ]
     },
     "execution_count": 38,
     "metadata": {},
     "output_type": "execute_result"
    }
   ],
   "source": [
    "LassoScaledOVRLogModel.coef_"
   ]
  },
  {
   "cell_type": "code",
   "execution_count": 41,
   "metadata": {},
   "outputs": [
    {
     "name": "stdout",
     "output_type": "stream",
     "text": [
      "CPU times: user 1min 12s, sys: 16.1 ms, total: 1min 12s\n",
      "Wall time: 1min 11s\n"
     ]
    }
   ],
   "source": [
    "%%time\n",
    "\n",
    "solver = 'saga'\n",
    "C = 1\n",
    "max_iter = 10000\n",
    "penalty = 'l1'\n",
    "\n",
    "# fit OVR model without L1 regularization\n",
    "multi_class='multinomial'\n",
    "\n",
    "LassoScaledMNLogModel = LogisticRegression(\n",
    "    C=C,\n",
    "    solver=solver,\n",
    "    max_iter=max_iter,\n",
    "    multi_class=multi_class,\n",
    "    random_state=20,\n",
    "    penalty=penalty\n",
    ").fit(X_train_scaled, y_train)"
   ]
  },
  {
   "cell_type": "code",
   "execution_count": 42,
   "metadata": {},
   "outputs": [
    {
     "data": {
      "text/plain": [
       "LogisticRegression(C=1, class_weight=None, dual=False, fit_intercept=True,\n",
       "                   intercept_scaling=1, l1_ratio=None, max_iter=10000,\n",
       "                   multi_class='multinomial', n_jobs=None, penalty='l1',\n",
       "                   random_state=20, solver='saga', tol=0.0001, verbose=0,\n",
       "                   warm_start=False)"
      ]
     },
     "execution_count": 42,
     "metadata": {},
     "output_type": "execute_result"
    }
   ],
   "source": [
    "LassoScaledMNLogModel"
   ]
  },
  {
   "cell_type": "code",
   "execution_count": 43,
   "metadata": {},
   "outputs": [
    {
     "data": {
      "text/plain": [
       "0.2730136389531182"
      ]
     },
     "execution_count": 43,
     "metadata": {},
     "output_type": "execute_result"
    }
   ],
   "source": [
    "LassoScaledMNLogModel.score(X_test_scaled, y_test)"
   ]
  },
  {
   "cell_type": "code",
   "execution_count": 44,
   "metadata": {},
   "outputs": [
    {
     "data": {
      "text/plain": [
       "array([[-2.33277067e-02,  1.46111974e-01,  1.96147046e-01,\n",
       "         1.39877092e-01,  1.74604969e-01,  1.99034694e-02,\n",
       "         1.17744635e-01,  1.90031516e-01,  1.28190748e-01,\n",
       "         2.25816609e-02,  6.62964401e-03,  7.56100717e-02,\n",
       "        -1.53606465e-02,  0.00000000e+00,  1.83041360e-02,\n",
       "        -9.46410284e-02, -1.15526858e-01,  5.64598915e-01,\n",
       "         5.78523352e-03, -2.90467589e-02, -6.67892101e-03,\n",
       "        -1.60602787e-02,  0.00000000e+00,  3.20476223e-03,\n",
       "         2.74644434e-02,  2.96931394e-03, -3.41215681e-02,\n",
       "        -1.51932215e-02],\n",
       "       [-5.11250034e-02, -2.06773292e-02, -1.09378499e-01,\n",
       "         3.65852156e-03, -1.28692131e-01, -2.06577021e-01,\n",
       "        -2.46507783e-02, -9.88230146e-02, -9.62718693e-02,\n",
       "        -6.63255451e-03,  0.00000000e+00, -2.59551469e-02,\n",
       "        -3.18350425e-02,  4.05919151e-02, -1.18711228e-02,\n",
       "        -4.23975171e-02,  0.00000000e+00, -8.15400514e-02,\n",
       "         2.88208126e-02, -1.09824590e-02,  1.23804797e-02,\n",
       "        -9.27272524e-03,  2.77386473e-03, -1.88184997e-02,\n",
       "         1.81269008e-02, -6.17109638e-04, -2.95661037e-02,\n",
       "         6.40641319e-02],\n",
       "       [ 5.26770644e-02,  1.25458155e-01,  1.31734950e-01,\n",
       "         3.71525718e-02, -1.31899881e-01, -6.07222698e-01,\n",
       "         7.44338037e-02,  1.72740218e-01,  2.75321759e-02,\n",
       "         7.13061021e-02,  4.93984302e-02, -4.05146039e-02,\n",
       "        -6.56929507e-02, -9.55589503e-02, -2.02897019e-01,\n",
       "        -6.56667552e-02, -2.70110983e-01, -8.82331443e-01,\n",
       "         0.00000000e+00,  4.04866276e-04,  2.71014623e-02,\n",
       "        -2.52067712e-03, -1.06433014e-02, -1.36048641e-02,\n",
       "        -2.03712854e-03,  1.10333179e-03,  3.23275264e-02,\n",
       "        -1.77541200e-02],\n",
       "       [-1.40353998e-02, -1.76468287e-02, -9.92028260e-02,\n",
       "        -4.60329291e-02, -3.58763159e-01, -6.36504170e-01,\n",
       "         9.83620648e-02,  0.00000000e+00,  0.00000000e+00,\n",
       "         0.00000000e+00, -6.91545590e-02,  0.00000000e+00,\n",
       "         0.00000000e+00,  1.92872424e-02, -8.74063079e-02,\n",
       "         0.00000000e+00,  3.65365052e-03, -3.57680414e-01,\n",
       "         8.31640040e-05,  1.72936004e-02, -9.06237497e-04,\n",
       "        -1.89526171e-03,  2.33674400e-02, -2.22476572e-02,\n",
       "         2.33206528e-03, -6.20821696e-03,  0.00000000e+00,\n",
       "        -2.54611773e-03],\n",
       "       [-6.31189897e-03, -2.67219296e-02, -3.53033451e-02,\n",
       "        -1.18009650e-01, -4.73197998e-02,  0.00000000e+00,\n",
       "        -3.11451524e-02, -7.23122103e-02, -1.47351281e-02,\n",
       "        -9.69435113e-03, -2.22662202e-02,  1.20317801e-02,\n",
       "         5.49438326e-02,  7.11231844e-03, -4.12834960e-02,\n",
       "        -3.90936504e-02, -1.30124696e-02,  0.00000000e+00,\n",
       "        -1.83960718e-02, -1.81898920e-02,  0.00000000e+00,\n",
       "         1.23221649e-02,  3.24187712e-03, -5.85453109e-03,\n",
       "        -2.30027211e-02,  3.55758454e-04,  4.25886720e-02,\n",
       "         4.17844771e-03],\n",
       "       [ 1.60735137e-01,  5.22140609e-02,  1.11585753e-01,\n",
       "        -5.67831215e-02,  0.00000000e+00,  9.90880026e-02,\n",
       "        -1.36073944e-01, -1.93828950e-01, -1.82175955e-01,\n",
       "        -8.47055686e-02, -1.11070828e-01, -8.90479389e-02,\n",
       "        -1.58355645e-01, -1.48980712e-02,  0.00000000e+00,\n",
       "         0.00000000e+00,  1.85758402e-01,  6.66920444e-01,\n",
       "         1.95152611e-02,  3.70700718e-03,  7.08387739e-04,\n",
       "         3.50434652e-02,  9.60006014e-03,  2.66459995e-02,\n",
       "         1.48961058e-02,  3.53759087e-03, -1.83460258e-03,\n",
       "         5.34484229e-02],\n",
       "       [ 5.21169934e-02,  0.00000000e+00,  0.00000000e+00,\n",
       "         0.00000000e+00,  4.60723535e-02, -1.78600060e-02,\n",
       "        -9.16175302e-02, -9.96712157e-02, -5.64153569e-02,\n",
       "        -1.60359385e-02,  3.62627852e-02,  6.74747671e-02,\n",
       "         1.20552032e-01,  1.66483669e-02,  1.83698026e-02,\n",
       "         7.04265992e-02,  5.32236016e-02, -3.65131756e-01,\n",
       "        -1.41894588e-02,  0.00000000e+00,  2.18975844e-03,\n",
       "         5.17090198e-03, -5.52498576e-03,  4.62844731e-03,\n",
       "         0.00000000e+00, -5.35349992e-03,  2.57989919e-02,\n",
       "         0.00000000e+00],\n",
       "       [ 0.00000000e+00, -1.15638465e-02, -8.37271695e-02,\n",
       "        -4.50380039e-02,  1.00771878e-01,  1.21187600e-01,\n",
       "         2.18296770e-02,  1.85126894e-02,  4.46147764e-02,\n",
       "         9.63503330e-03, -3.59171029e-02, -6.65686848e-03,\n",
       "         1.68056606e-01, -5.14601877e-02,  9.99468767e-05,\n",
       "         5.68287121e-02, -4.39360257e-02,  9.61954948e-02,\n",
       "        -1.04601064e-02,  5.25716612e-03, -3.88120341e-03,\n",
       "         1.95689798e-02, -2.05487706e-02,  0.00000000e+00,\n",
       "        -2.19642351e-02, -6.72879638e-03,  0.00000000e+00,\n",
       "         1.14202373e-03],\n",
       "       [ 6.86907304e-02,  4.36869326e-02,  2.17864122e-02,\n",
       "         7.59707446e-03,  1.69293440e-01,  1.83180601e-01,\n",
       "         0.00000000e+00,  7.32476867e-03,  7.66229260e-02,\n",
       "         1.70705528e-01,  1.47006191e-01,  1.08668229e-01,\n",
       "         8.75760248e-02, -2.84712173e-02,  4.67236818e-02,\n",
       "         6.19200281e-02,  8.40136422e-02,  2.69729605e-01,\n",
       "        -4.07414281e-02, -3.62252610e-03, -1.25891849e-03,\n",
       "         0.00000000e+00, -1.90962632e-03,  9.09187847e-03,\n",
       "        -4.24740153e-02,  0.00000000e+00,  6.89275598e-02,\n",
       "        -6.92829422e-03]])"
      ]
     },
     "execution_count": 44,
     "metadata": {},
     "output_type": "execute_result"
    }
   ],
   "source": [
    "LassoScaledMNLogModel.coef_"
   ]
  },
  {
   "cell_type": "code",
   "execution_count": null,
   "metadata": {},
   "outputs": [],
   "source": [
    "%%time\n",
    "# report processing time for reference\n",
    "\n",
    "# set parameters for logistic regression with cross-validation\n",
    "# I have choosen l1 penaly because it gives me far better decision boundaries\n",
    "solver = 'saga'\n",
    "cv = 5\n",
    "max_iter = 10000\n",
    "penalty = 'l1'\n",
    "\n",
    "# fit CV OVR model with L1\n",
    "multi_class='ovr'\n",
    "\n",
    "CVOVRLogModel = LogisticRegressionCV(\n",
    "    cv=cv,\n",
    "    solver=solver,\n",
    "    max_iter=max_iter,\n",
    "    penalty=penalty,\n",
    "    multi_class=multi_class,\n",
    "    random_state=20\n",
    ").fit(X_train, y_train)\n",
    "\n",
    "\n",
    "# print resulting model object for confirmation\n",
    "print(\"OVR model:\\n{}\\n\".format(CVOVRLogModel))"
   ]
  },
  {
   "cell_type": "code",
   "execution_count": null,
   "metadata": {},
   "outputs": [],
   "source": [
    "# fit a model again as multinomial for comparison of results\n",
    "multi_class='multinomial'\n",
    "\n",
    "CVMCLogModel = LogisticRegressionCV(\n",
    "    cv=cv,\n",
    "    solver=solver,\n",
    "    max_iter=max_iter,\n",
    "    penalty=penalty,\n",
    "    multi_class=multi_class,\n",
    "    random_state=20\n",
    ").fit(X_mc_train[model_predictors], y_mc_train)\n",
    "\n",
    "# print resulting model object for confirmation\n",
    "print(\"Multinomial model:\\n{}\\n\".format(CVMCLogModel))\n"
   ]
  },
  {
   "cell_type": "code",
   "execution_count": null,
   "metadata": {},
   "outputs": [],
   "source": [
    "# read in required data and related shapefiles\n",
    "# df_crime = pd.read_csv(readfile_crime, dtype=str)\n",
    "# df_offense_mapkey = pd.read_csv(readfile_crime_match_key)\n",
    "# df_offense_mapkey_2 = pd.read_csv(readfile_crime_match_key_2)\n",
    "# df_sam = pd.read_csv(readfile_sam, dtype=str)\n",
    "# gdf_zips = gpd.read_file(readfile_zipshapes)\n",
    "# gdf_boston = gpd.read_file(readfile_cityshape)\n",
    "# gdf_streets = gpd.read_file(readfile_streetshapes)\n",
    "# gdf_tracts = gpd.read_file(readfile_tractshapes)\n",
    "# gdf_hoods = gpd.read_file(readfile_hoodshapes)\n",
    "# gdf_zonesubs = gpd.read_file(readfile_zonesubshapes)\n",
    "# gdf_openspace = gpd.read_file(readfile_openshapes)\n",
    "\n",
    "# df_feat_prop = pd.read_csv(readfile_feat_property, dtype={'shape-id': str, 'fiscal-year': int})\n",
    "\n",
    "# # convert SAM data lat/lon values to floats\n",
    "# df_sam[['X', 'Y']] = df_sam[['X', 'Y']].astype(float)\n",
    "# # convert crime data lat/lon values to floats\n",
    "# df_crime[['Lat', 'Long']] = df_crime[['Lat', 'Long']].astype(float)"
   ]
  }
 ],
 "metadata": {
  "kernelspec": {
   "display_name": "Python 3",
   "language": "python",
   "name": "python3"
  },
  "language_info": {
   "codemirror_mode": {
    "name": "ipython",
    "version": 3
   },
   "file_extension": ".py",
   "mimetype": "text/x-python",
   "name": "python",
   "nbconvert_exporter": "python",
   "pygments_lexer": "ipython3",
   "version": "3.7.5"
  }
 },
 "nbformat": 4,
 "nbformat_minor": 2
}
